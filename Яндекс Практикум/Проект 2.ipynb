{
 "cells": [
  {
   "cell_type": "markdown",
   "id": "b6bf88b1",
   "metadata": {},
   "source": [
    "<font color='DarkBlue' size=+2><b>Комментарий ревьюера</b></font><br>\n",
    "<font color='DarkBlue'>Привет, Александра! <br>Меня зовут Олег Мазуренко, и я буду проверять этот проект. Спасибо за проделанную работу! <br>Ко мне можно обращаться на «ты». Как мне обращаться, напиши.</font><br>\n",
    "<font color='DarkBlue'>Я буду использовать различные цвета, чтобы было удобнее воспринимать мои комментарии:</font><br>\n",
    "<font color='DarkBlue'>Синий текст &mdash; просто текст комментария.</font><br>\n",
    "<font color='DarkGreen'>👌 Зеленый текст &mdash; все отлично.</font><br>\n",
    "<font color='DarkMagenta'>👉 Фиолетовый текст &mdash; сделано все правильно, однако есть рекомендации, на что стоит обратить внимание. Реализованные рекомендации позволят нам наработать опыт решения задачи разными способами или посмотреть на задачу под иным углом.</font><br>\n",
    "<font color='Red'>🛠 Красный текст &mdash; есть недочеты, они иногда бывают. </font><br><font color='DarkBlue'>Любая ошибка это возможность посмотреть на задачу с другой стороны и освоить новые знания, по этому не надо расстраиваться, если они есть.</font><br>\n",
    "<font color='DarkBlue'>Обращаю внимание, что комментарии ревьюера после проверки удалять нельзя они помогают отследить логику исправления или изменения проекта. Это дополнительный навык при обучении. Свой исправляемый код лучше тоже не удалять, а ремить #, это позволит акцентировать изменения в ходе подготовки окончательного варианта проекта.<br>\n",
    "Ответы на мои комментарии лучше тоже помечать. \n",
    "Например: </font><font color='Blue'><b>Комментарий студента</b></font><br>\n",
    "<font color='DarkBlue'><b>Теперь посмотрим, что у нас получилось!</b></font>"
   ]
  },
  {
   "cell_type": "markdown",
   "id": "386f2ae7",
   "metadata": {
    "deletable": false,
    "editable": false,
    "id": "386f2ae7"
   },
   "source": [
    "# Исследование надежности заемщиков\n"
   ]
  },
  {
   "cell_type": "markdown",
   "id": "a661c113",
   "metadata": {},
   "source": [
    "<font color='DarkBlue'><b>Комментарий ревьюера</b></font><br>\n",
    "<font color='DarkMagenta'>👉 Хочу обратить внимание, что во всех следующих проектах необходимо будет делать описание проекта. Где отразить какая цель исследования, какой контекст (особенности отрасли и данных), что планируем делать (план исследования). <br>В реальном проекте не будет инструкции и задач, которые необходимо выполнить, по этому будем учиться делать описание проекта самостоятельно.</font>\n",
    "\n",
    "</font><font color='Blue'><b>Комментарий студента</b></font><br>\n",
    "</font><font color='Green'>Спасибо за обратную связь, Олег! Постаралась учесть все комментарии. Добавила цели и описание исследования, финальный вывод и исправила ошибки</font><br> "
   ]
  },
  {
   "cell_type": "markdown",
   "id": "4559ea3c",
   "metadata": {},
   "source": [
    "<font color='DarkBlue'><b>Комментарий ревьюера 2</b></font><br>\n",
    "<font color='DarkGreen'>👌 Привет! Хорошо, пошел смотреть обновленный проект.</font>"
   ]
  },
  {
   "cell_type": "markdown",
   "id": "ffe86f65",
   "metadata": {
    "deletable": false,
    "editable": false,
    "id": "ffe86f65"
   },
   "source": [
    "Во второй части проекта вы выполните шаги 3 и 4. Их вручную проверит ревьюер.\n",
    "Чтобы вам не пришлось писать код заново для шагов 1 и 2, мы добавили авторские решения в ячейки с кодом. \n",
    "\n"
   ]
  },
  {
   "cell_type": "markdown",
   "id": "5e6044ca",
   "metadata": {},
   "source": [
    "**Цель исследования:** изучить, какие факторы влияют на возврат кредитов в срок\n",
    "\n",
    "В рамках выполнения цели предполагается получить ответы на следующие **вопросы**:  \n",
    "- есть ли зависимость между количеством детей и возвратом кредита в срок;\n",
    "- есть ли зависимость между семейным положением и возвратом кредита в срок;\n",
    "- есть ли зависимость между уровнем дохода и возвратом кредита в срок;\n",
    "- как разные цели кредита влияют на его возврат в срок.\n",
    "\n",
    "Чтобы ответить на вопросы данные предварительно будут предобработаны: очищены от пропусков, дубликатов, сгруппированы для более удобного анализа.\n",
    "\n",
    "**Описание данных**\n",
    "\n",
    "- children — количество детей в семье\n",
    "- days_employed — общий трудовой стаж в днях\n",
    "- dob_years — возраст клиента в годах\n",
    "- education — уровень образования клиента\n",
    "- education_id — идентификатор уровня образования\n",
    "- family_status — семейное положение\n",
    "- family_status_id — идентификатор семейного положения\n",
    "- gender — пол клиента\n",
    "- income_type — тип занятости\n",
    "- debt — имел ли задолженность по возврату кредитов\n",
    "- total_income — ежемесячный доход\n",
    "- purpose — цель получения кредита"
   ]
  },
  {
   "cell_type": "markdown",
   "id": "3052e7d7",
   "metadata": {},
   "source": [
    "<font color='DarkBlue'><b>Комментарий ревьюера 2</b></font><br>\n",
    "<font color='DarkGreen'>👌 Все проекты, это как часть реального исследования, за которое деньги заплатят или не заплатят. <br>А отчет читают: сначала описание, о чем идет речь и что делаем, потом выводы: что в итоге получили. А когда у заказчика в голове все сложилось, то смотрят как это делалось. То есть, в описании необходимо отразить какая цель исследования, какой контекст (особенности отрасли и данных), что мы планируем делать (план исследования). <br>И в реальном проекте не будет инструкции и задач, которые необходимо выполнить, по этому следует научиться делать описание проекта самостоятельно.</font>"
   ]
  },
  {
   "cell_type": "markdown",
   "id": "26613308",
   "metadata": {
    "deletable": false,
    "editable": false,
    "id": "26613308"
   },
   "source": [
    "## Откройте таблицу и изучите общую информацию о данных"
   ]
  },
  {
   "cell_type": "markdown",
   "id": "3c9f838e",
   "metadata": {
    "deletable": false,
    "editable": false,
    "id": "3c9f838e"
   },
   "source": [
    "**Задание 1. Импортируйте библиотеку pandas. Считайте данные из csv-файла в датафрейм и сохраните в переменную `data`. Путь к файлу:**\n",
    "\n",
    "`/datasets/data.csv`"
   ]
  },
  {
   "cell_type": "code",
   "execution_count": 1,
   "id": "77a68a90",
   "metadata": {
    "deletable": false,
    "id": "77a68a90"
   },
   "outputs": [],
   "source": [
    "import pandas as pd\n",
    "\n",
    "try:\n",
    "    data = pd.read_csv('/datasets/data.csv')\n",
    "except:\n",
    "    data = pd.read_csv('https://code.s3.yandex.net/datasets/data.csv')"
   ]
  },
  {
   "cell_type": "markdown",
   "id": "45365635",
   "metadata": {
    "deletable": false,
    "editable": false,
    "id": "45365635"
   },
   "source": [
    "**Задание 2. Выведите первые 20 строчек датафрейма `data` на экран.**"
   ]
  },
  {
   "cell_type": "code",
   "execution_count": 2,
   "id": "b0451a9a",
   "metadata": {
    "deletable": false,
    "id": "b0451a9a",
    "outputId": "1a8f3ef2-d323-4ec2-ddf7-89670b5944c4"
   },
   "outputs": [
    {
     "data": {
      "text/html": [
       "<div>\n",
       "<style scoped>\n",
       "    .dataframe tbody tr th:only-of-type {\n",
       "        vertical-align: middle;\n",
       "    }\n",
       "\n",
       "    .dataframe tbody tr th {\n",
       "        vertical-align: top;\n",
       "    }\n",
       "\n",
       "    .dataframe thead th {\n",
       "        text-align: right;\n",
       "    }\n",
       "</style>\n",
       "<table border=\"1\" class=\"dataframe\">\n",
       "  <thead>\n",
       "    <tr style=\"text-align: right;\">\n",
       "      <th></th>\n",
       "      <th>children</th>\n",
       "      <th>days_employed</th>\n",
       "      <th>dob_years</th>\n",
       "      <th>education</th>\n",
       "      <th>education_id</th>\n",
       "      <th>family_status</th>\n",
       "      <th>family_status_id</th>\n",
       "      <th>gender</th>\n",
       "      <th>income_type</th>\n",
       "      <th>debt</th>\n",
       "      <th>total_income</th>\n",
       "      <th>purpose</th>\n",
       "    </tr>\n",
       "  </thead>\n",
       "  <tbody>\n",
       "    <tr>\n",
       "      <th>0</th>\n",
       "      <td>1</td>\n",
       "      <td>-8437.673028</td>\n",
       "      <td>42</td>\n",
       "      <td>высшее</td>\n",
       "      <td>0</td>\n",
       "      <td>женат / замужем</td>\n",
       "      <td>0</td>\n",
       "      <td>F</td>\n",
       "      <td>сотрудник</td>\n",
       "      <td>0</td>\n",
       "      <td>253875.639453</td>\n",
       "      <td>покупка жилья</td>\n",
       "    </tr>\n",
       "    <tr>\n",
       "      <th>1</th>\n",
       "      <td>1</td>\n",
       "      <td>-4024.803754</td>\n",
       "      <td>36</td>\n",
       "      <td>среднее</td>\n",
       "      <td>1</td>\n",
       "      <td>женат / замужем</td>\n",
       "      <td>0</td>\n",
       "      <td>F</td>\n",
       "      <td>сотрудник</td>\n",
       "      <td>0</td>\n",
       "      <td>112080.014102</td>\n",
       "      <td>приобретение автомобиля</td>\n",
       "    </tr>\n",
       "    <tr>\n",
       "      <th>2</th>\n",
       "      <td>0</td>\n",
       "      <td>-5623.422610</td>\n",
       "      <td>33</td>\n",
       "      <td>Среднее</td>\n",
       "      <td>1</td>\n",
       "      <td>женат / замужем</td>\n",
       "      <td>0</td>\n",
       "      <td>M</td>\n",
       "      <td>сотрудник</td>\n",
       "      <td>0</td>\n",
       "      <td>145885.952297</td>\n",
       "      <td>покупка жилья</td>\n",
       "    </tr>\n",
       "    <tr>\n",
       "      <th>3</th>\n",
       "      <td>3</td>\n",
       "      <td>-4124.747207</td>\n",
       "      <td>32</td>\n",
       "      <td>среднее</td>\n",
       "      <td>1</td>\n",
       "      <td>женат / замужем</td>\n",
       "      <td>0</td>\n",
       "      <td>M</td>\n",
       "      <td>сотрудник</td>\n",
       "      <td>0</td>\n",
       "      <td>267628.550329</td>\n",
       "      <td>дополнительное образование</td>\n",
       "    </tr>\n",
       "    <tr>\n",
       "      <th>4</th>\n",
       "      <td>0</td>\n",
       "      <td>340266.072047</td>\n",
       "      <td>53</td>\n",
       "      <td>среднее</td>\n",
       "      <td>1</td>\n",
       "      <td>гражданский брак</td>\n",
       "      <td>1</td>\n",
       "      <td>F</td>\n",
       "      <td>пенсионер</td>\n",
       "      <td>0</td>\n",
       "      <td>158616.077870</td>\n",
       "      <td>сыграть свадьбу</td>\n",
       "    </tr>\n",
       "    <tr>\n",
       "      <th>5</th>\n",
       "      <td>0</td>\n",
       "      <td>-926.185831</td>\n",
       "      <td>27</td>\n",
       "      <td>высшее</td>\n",
       "      <td>0</td>\n",
       "      <td>гражданский брак</td>\n",
       "      <td>1</td>\n",
       "      <td>M</td>\n",
       "      <td>компаньон</td>\n",
       "      <td>0</td>\n",
       "      <td>255763.565419</td>\n",
       "      <td>покупка жилья</td>\n",
       "    </tr>\n",
       "    <tr>\n",
       "      <th>6</th>\n",
       "      <td>0</td>\n",
       "      <td>-2879.202052</td>\n",
       "      <td>43</td>\n",
       "      <td>высшее</td>\n",
       "      <td>0</td>\n",
       "      <td>женат / замужем</td>\n",
       "      <td>0</td>\n",
       "      <td>F</td>\n",
       "      <td>компаньон</td>\n",
       "      <td>0</td>\n",
       "      <td>240525.971920</td>\n",
       "      <td>операции с жильем</td>\n",
       "    </tr>\n",
       "    <tr>\n",
       "      <th>7</th>\n",
       "      <td>0</td>\n",
       "      <td>-152.779569</td>\n",
       "      <td>50</td>\n",
       "      <td>СРЕДНЕЕ</td>\n",
       "      <td>1</td>\n",
       "      <td>женат / замужем</td>\n",
       "      <td>0</td>\n",
       "      <td>M</td>\n",
       "      <td>сотрудник</td>\n",
       "      <td>0</td>\n",
       "      <td>135823.934197</td>\n",
       "      <td>образование</td>\n",
       "    </tr>\n",
       "    <tr>\n",
       "      <th>8</th>\n",
       "      <td>2</td>\n",
       "      <td>-6929.865299</td>\n",
       "      <td>35</td>\n",
       "      <td>ВЫСШЕЕ</td>\n",
       "      <td>0</td>\n",
       "      <td>гражданский брак</td>\n",
       "      <td>1</td>\n",
       "      <td>F</td>\n",
       "      <td>сотрудник</td>\n",
       "      <td>0</td>\n",
       "      <td>95856.832424</td>\n",
       "      <td>на проведение свадьбы</td>\n",
       "    </tr>\n",
       "    <tr>\n",
       "      <th>9</th>\n",
       "      <td>0</td>\n",
       "      <td>-2188.756445</td>\n",
       "      <td>41</td>\n",
       "      <td>среднее</td>\n",
       "      <td>1</td>\n",
       "      <td>женат / замужем</td>\n",
       "      <td>0</td>\n",
       "      <td>M</td>\n",
       "      <td>сотрудник</td>\n",
       "      <td>0</td>\n",
       "      <td>144425.938277</td>\n",
       "      <td>покупка жилья для семьи</td>\n",
       "    </tr>\n",
       "    <tr>\n",
       "      <th>10</th>\n",
       "      <td>2</td>\n",
       "      <td>-4171.483647</td>\n",
       "      <td>36</td>\n",
       "      <td>высшее</td>\n",
       "      <td>0</td>\n",
       "      <td>женат / замужем</td>\n",
       "      <td>0</td>\n",
       "      <td>M</td>\n",
       "      <td>компаньон</td>\n",
       "      <td>0</td>\n",
       "      <td>113943.491460</td>\n",
       "      <td>покупка недвижимости</td>\n",
       "    </tr>\n",
       "    <tr>\n",
       "      <th>11</th>\n",
       "      <td>0</td>\n",
       "      <td>-792.701887</td>\n",
       "      <td>40</td>\n",
       "      <td>среднее</td>\n",
       "      <td>1</td>\n",
       "      <td>женат / замужем</td>\n",
       "      <td>0</td>\n",
       "      <td>F</td>\n",
       "      <td>сотрудник</td>\n",
       "      <td>0</td>\n",
       "      <td>77069.234271</td>\n",
       "      <td>покупка коммерческой недвижимости</td>\n",
       "    </tr>\n",
       "    <tr>\n",
       "      <th>12</th>\n",
       "      <td>0</td>\n",
       "      <td>NaN</td>\n",
       "      <td>65</td>\n",
       "      <td>среднее</td>\n",
       "      <td>1</td>\n",
       "      <td>гражданский брак</td>\n",
       "      <td>1</td>\n",
       "      <td>M</td>\n",
       "      <td>пенсионер</td>\n",
       "      <td>0</td>\n",
       "      <td>NaN</td>\n",
       "      <td>сыграть свадьбу</td>\n",
       "    </tr>\n",
       "    <tr>\n",
       "      <th>13</th>\n",
       "      <td>0</td>\n",
       "      <td>-1846.641941</td>\n",
       "      <td>54</td>\n",
       "      <td>неоконченное высшее</td>\n",
       "      <td>2</td>\n",
       "      <td>женат / замужем</td>\n",
       "      <td>0</td>\n",
       "      <td>F</td>\n",
       "      <td>сотрудник</td>\n",
       "      <td>0</td>\n",
       "      <td>130458.228857</td>\n",
       "      <td>приобретение автомобиля</td>\n",
       "    </tr>\n",
       "    <tr>\n",
       "      <th>14</th>\n",
       "      <td>0</td>\n",
       "      <td>-1844.956182</td>\n",
       "      <td>56</td>\n",
       "      <td>высшее</td>\n",
       "      <td>0</td>\n",
       "      <td>гражданский брак</td>\n",
       "      <td>1</td>\n",
       "      <td>F</td>\n",
       "      <td>компаньон</td>\n",
       "      <td>1</td>\n",
       "      <td>165127.911772</td>\n",
       "      <td>покупка жилой недвижимости</td>\n",
       "    </tr>\n",
       "    <tr>\n",
       "      <th>15</th>\n",
       "      <td>1</td>\n",
       "      <td>-972.364419</td>\n",
       "      <td>26</td>\n",
       "      <td>среднее</td>\n",
       "      <td>1</td>\n",
       "      <td>женат / замужем</td>\n",
       "      <td>0</td>\n",
       "      <td>F</td>\n",
       "      <td>сотрудник</td>\n",
       "      <td>0</td>\n",
       "      <td>116820.904450</td>\n",
       "      <td>строительство собственной недвижимости</td>\n",
       "    </tr>\n",
       "    <tr>\n",
       "      <th>16</th>\n",
       "      <td>0</td>\n",
       "      <td>-1719.934226</td>\n",
       "      <td>35</td>\n",
       "      <td>среднее</td>\n",
       "      <td>1</td>\n",
       "      <td>женат / замужем</td>\n",
       "      <td>0</td>\n",
       "      <td>F</td>\n",
       "      <td>сотрудник</td>\n",
       "      <td>0</td>\n",
       "      <td>289202.704229</td>\n",
       "      <td>недвижимость</td>\n",
       "    </tr>\n",
       "    <tr>\n",
       "      <th>17</th>\n",
       "      <td>0</td>\n",
       "      <td>-2369.999720</td>\n",
       "      <td>33</td>\n",
       "      <td>высшее</td>\n",
       "      <td>0</td>\n",
       "      <td>гражданский брак</td>\n",
       "      <td>1</td>\n",
       "      <td>M</td>\n",
       "      <td>сотрудник</td>\n",
       "      <td>0</td>\n",
       "      <td>90410.586745</td>\n",
       "      <td>строительство недвижимости</td>\n",
       "    </tr>\n",
       "    <tr>\n",
       "      <th>18</th>\n",
       "      <td>0</td>\n",
       "      <td>400281.136913</td>\n",
       "      <td>53</td>\n",
       "      <td>среднее</td>\n",
       "      <td>1</td>\n",
       "      <td>вдовец / вдова</td>\n",
       "      <td>2</td>\n",
       "      <td>F</td>\n",
       "      <td>пенсионер</td>\n",
       "      <td>0</td>\n",
       "      <td>56823.777243</td>\n",
       "      <td>на покупку подержанного автомобиля</td>\n",
       "    </tr>\n",
       "    <tr>\n",
       "      <th>19</th>\n",
       "      <td>0</td>\n",
       "      <td>-10038.818549</td>\n",
       "      <td>48</td>\n",
       "      <td>СРЕДНЕЕ</td>\n",
       "      <td>1</td>\n",
       "      <td>в разводе</td>\n",
       "      <td>3</td>\n",
       "      <td>F</td>\n",
       "      <td>сотрудник</td>\n",
       "      <td>0</td>\n",
       "      <td>242831.107982</td>\n",
       "      <td>на покупку своего автомобиля</td>\n",
       "    </tr>\n",
       "  </tbody>\n",
       "</table>\n",
       "</div>"
      ],
      "text/plain": [
       "    children  days_employed  dob_years            education  education_id  \\\n",
       "0          1   -8437.673028         42               высшее             0   \n",
       "1          1   -4024.803754         36              среднее             1   \n",
       "2          0   -5623.422610         33              Среднее             1   \n",
       "3          3   -4124.747207         32              среднее             1   \n",
       "4          0  340266.072047         53              среднее             1   \n",
       "5          0    -926.185831         27               высшее             0   \n",
       "6          0   -2879.202052         43               высшее             0   \n",
       "7          0    -152.779569         50              СРЕДНЕЕ             1   \n",
       "8          2   -6929.865299         35               ВЫСШЕЕ             0   \n",
       "9          0   -2188.756445         41              среднее             1   \n",
       "10         2   -4171.483647         36               высшее             0   \n",
       "11         0    -792.701887         40              среднее             1   \n",
       "12         0            NaN         65              среднее             1   \n",
       "13         0   -1846.641941         54  неоконченное высшее             2   \n",
       "14         0   -1844.956182         56               высшее             0   \n",
       "15         1    -972.364419         26              среднее             1   \n",
       "16         0   -1719.934226         35              среднее             1   \n",
       "17         0   -2369.999720         33               высшее             0   \n",
       "18         0  400281.136913         53              среднее             1   \n",
       "19         0  -10038.818549         48              СРЕДНЕЕ             1   \n",
       "\n",
       "       family_status  family_status_id gender income_type  debt  \\\n",
       "0    женат / замужем                 0      F   сотрудник     0   \n",
       "1    женат / замужем                 0      F   сотрудник     0   \n",
       "2    женат / замужем                 0      M   сотрудник     0   \n",
       "3    женат / замужем                 0      M   сотрудник     0   \n",
       "4   гражданский брак                 1      F   пенсионер     0   \n",
       "5   гражданский брак                 1      M   компаньон     0   \n",
       "6    женат / замужем                 0      F   компаньон     0   \n",
       "7    женат / замужем                 0      M   сотрудник     0   \n",
       "8   гражданский брак                 1      F   сотрудник     0   \n",
       "9    женат / замужем                 0      M   сотрудник     0   \n",
       "10   женат / замужем                 0      M   компаньон     0   \n",
       "11   женат / замужем                 0      F   сотрудник     0   \n",
       "12  гражданский брак                 1      M   пенсионер     0   \n",
       "13   женат / замужем                 0      F   сотрудник     0   \n",
       "14  гражданский брак                 1      F   компаньон     1   \n",
       "15   женат / замужем                 0      F   сотрудник     0   \n",
       "16   женат / замужем                 0      F   сотрудник     0   \n",
       "17  гражданский брак                 1      M   сотрудник     0   \n",
       "18    вдовец / вдова                 2      F   пенсионер     0   \n",
       "19         в разводе                 3      F   сотрудник     0   \n",
       "\n",
       "     total_income                                 purpose  \n",
       "0   253875.639453                           покупка жилья  \n",
       "1   112080.014102                 приобретение автомобиля  \n",
       "2   145885.952297                           покупка жилья  \n",
       "3   267628.550329              дополнительное образование  \n",
       "4   158616.077870                         сыграть свадьбу  \n",
       "5   255763.565419                           покупка жилья  \n",
       "6   240525.971920                       операции с жильем  \n",
       "7   135823.934197                             образование  \n",
       "8    95856.832424                   на проведение свадьбы  \n",
       "9   144425.938277                 покупка жилья для семьи  \n",
       "10  113943.491460                    покупка недвижимости  \n",
       "11   77069.234271       покупка коммерческой недвижимости  \n",
       "12            NaN                         сыграть свадьбу  \n",
       "13  130458.228857                 приобретение автомобиля  \n",
       "14  165127.911772              покупка жилой недвижимости  \n",
       "15  116820.904450  строительство собственной недвижимости  \n",
       "16  289202.704229                            недвижимость  \n",
       "17   90410.586745              строительство недвижимости  \n",
       "18   56823.777243      на покупку подержанного автомобиля  \n",
       "19  242831.107982            на покупку своего автомобиля  "
      ]
     },
     "execution_count": 2,
     "metadata": {},
     "output_type": "execute_result"
    }
   ],
   "source": [
    "data.head(20)"
   ]
  },
  {
   "cell_type": "markdown",
   "id": "0ed8f27f",
   "metadata": {
    "deletable": false,
    "editable": false,
    "id": "0ed8f27f"
   },
   "source": [
    "**Задание 3. Выведите основную информацию о датафрейме с помощью метода `info()`.**"
   ]
  },
  {
   "cell_type": "code",
   "execution_count": 3,
   "id": "ab3f863b",
   "metadata": {
    "deletable": false,
    "id": "ab3f863b",
    "outputId": "15376089-8dad-46c9-b520-c05248d43158",
    "scrolled": true
   },
   "outputs": [
    {
     "name": "stdout",
     "output_type": "stream",
     "text": [
      "<class 'pandas.core.frame.DataFrame'>\n",
      "RangeIndex: 21525 entries, 0 to 21524\n",
      "Data columns (total 12 columns):\n",
      " #   Column            Non-Null Count  Dtype  \n",
      "---  ------            --------------  -----  \n",
      " 0   children          21525 non-null  int64  \n",
      " 1   days_employed     19351 non-null  float64\n",
      " 2   dob_years         21525 non-null  int64  \n",
      " 3   education         21525 non-null  object \n",
      " 4   education_id      21525 non-null  int64  \n",
      " 5   family_status     21525 non-null  object \n",
      " 6   family_status_id  21525 non-null  int64  \n",
      " 7   gender            21525 non-null  object \n",
      " 8   income_type       21525 non-null  object \n",
      " 9   debt              21525 non-null  int64  \n",
      " 10  total_income      19351 non-null  float64\n",
      " 11  purpose           21525 non-null  object \n",
      "dtypes: float64(2), int64(5), object(5)\n",
      "memory usage: 2.0+ MB\n"
     ]
    }
   ],
   "source": [
    "data.info()"
   ]
  },
  {
   "cell_type": "markdown",
   "id": "60e3e22d",
   "metadata": {
    "deletable": false,
    "editable": false,
    "id": "60e3e22d"
   },
   "source": [
    "## Предобработка данных"
   ]
  },
  {
   "cell_type": "markdown",
   "id": "03dc170c",
   "metadata": {
    "deletable": false,
    "editable": false,
    "id": "03dc170c"
   },
   "source": [
    "### Удаление пропусков"
   ]
  },
  {
   "cell_type": "markdown",
   "id": "a4f54eef",
   "metadata": {
    "deletable": false,
    "editable": false,
    "id": "a4f54eef"
   },
   "source": [
    "**Задание 4. Выведите количество пропущенных значений для каждого столбца. Используйте комбинацию двух методов.**"
   ]
  },
  {
   "cell_type": "code",
   "execution_count": 4,
   "id": "2dc372b2",
   "metadata": {
    "deletable": false,
    "id": "2dc372b2",
    "outputId": "81f4d817-781c-465c-ed15-91ce4446810d"
   },
   "outputs": [
    {
     "data": {
      "text/plain": [
       "children               0\n",
       "days_employed       2174\n",
       "dob_years              0\n",
       "education              0\n",
       "education_id           0\n",
       "family_status          0\n",
       "family_status_id       0\n",
       "gender                 0\n",
       "income_type            0\n",
       "debt                   0\n",
       "total_income        2174\n",
       "purpose                0\n",
       "dtype: int64"
      ]
     },
     "execution_count": 4,
     "metadata": {},
     "output_type": "execute_result"
    }
   ],
   "source": [
    "data.isna().sum()"
   ]
  },
  {
   "cell_type": "markdown",
   "id": "14f011b1",
   "metadata": {
    "deletable": false,
    "editable": false,
    "id": "14f011b1"
   },
   "source": [
    "**Задание 5. В двух столбцах есть пропущенные значения. Один из них — `days_employed`. Пропуски в этом столбце вы обработаете на следующем этапе. Другой столбец с пропущенными значениями — `total_income` — хранит данные о доходах. На сумму дохода сильнее всего влияет тип занятости, поэтому заполнить пропуски в этом столбце нужно медианным значением по каждому типу из столбца `income_type`. Например, у человека с типом занятости `сотрудник` пропуск в столбце `total_income` должен быть заполнен медианным доходом среди всех записей с тем же типом.**"
   ]
  },
  {
   "cell_type": "code",
   "execution_count": 5,
   "id": "bdabfb6e",
   "metadata": {
    "deletable": false,
    "id": "bdabfb6e"
   },
   "outputs": [],
   "source": [
    "for t in data['income_type'].unique():\n",
    "    data.loc[(data['income_type'] == t) & (data['total_income'].isna()), 'total_income'] = \\\n",
    "    data.loc[(data['income_type'] == t), 'total_income'].median()"
   ]
  },
  {
   "cell_type": "markdown",
   "id": "5be34059",
   "metadata": {
    "deletable": false,
    "editable": false,
    "id": "5be34059"
   },
   "source": [
    "### Обработка аномальных значений"
   ]
  },
  {
   "cell_type": "markdown",
   "id": "a87606cb",
   "metadata": {
    "deletable": false,
    "editable": false,
    "id": "a87606cb"
   },
   "source": [
    "**Задание 6. В данных могут встречаться артефакты (аномалии) — значения, которые не отражают действительность и появились по какой-то ошибке. таким артефактом будет отрицательное количество дней трудового стажа в столбце `days_employed`. Для реальных данных это нормально. Обработайте значения в этом столбце: замените все отрицательные значения положительными с помощью метода `abs()`.**"
   ]
  },
  {
   "cell_type": "code",
   "execution_count": 6,
   "id": "020c46cc",
   "metadata": {
    "deletable": false,
    "id": "020c46cc"
   },
   "outputs": [],
   "source": [
    "data['days_employed'] = data['days_employed'].abs()"
   ]
  },
  {
   "cell_type": "markdown",
   "id": "45538a3a",
   "metadata": {
    "deletable": false,
    "editable": false,
    "id": "45538a3a"
   },
   "source": [
    "**Задание 7. Для каждого типа занятости выведите медианное значение трудового стажа `days_employed` в днях.**"
   ]
  },
  {
   "cell_type": "code",
   "execution_count": 7,
   "id": "cd3e6328",
   "metadata": {
    "deletable": false,
    "id": "cd3e6328",
    "outputId": "801ef80e-522b-4668-f34e-565af7432bcf"
   },
   "outputs": [
    {
     "data": {
      "text/plain": [
       "income_type\n",
       "безработный        366413.652744\n",
       "в декрете            3296.759962\n",
       "госслужащий          2689.368353\n",
       "компаньон            1547.382223\n",
       "пенсионер          365213.306266\n",
       "предприниматель       520.848083\n",
       "сотрудник            1574.202821\n",
       "студент               578.751554\n",
       "Name: days_employed, dtype: float64"
      ]
     },
     "execution_count": 7,
     "metadata": {},
     "output_type": "execute_result"
    }
   ],
   "source": [
    "data.groupby('income_type')['days_employed'].agg('median')"
   ]
  },
  {
   "cell_type": "markdown",
   "id": "90c5f058",
   "metadata": {
    "deletable": false,
    "editable": false,
    "id": "90c5f058"
   },
   "source": [
    "У двух типов (безработные и пенсионеры) получатся аномально большие значения. Исправить такие значения сложно, поэтому оставьте их как есть."
   ]
  },
  {
   "cell_type": "markdown",
   "id": "9652e50d",
   "metadata": {
    "deletable": false,
    "editable": false,
    "id": "9652e50d"
   },
   "source": [
    "**Задание 8. Выведите перечень уникальных значений столбца `children`.**"
   ]
  },
  {
   "cell_type": "code",
   "execution_count": 8,
   "id": "dbb37b8e",
   "metadata": {
    "deletable": false,
    "id": "dbb37b8e",
    "outputId": "6975b15c-7f95-4697-d16d-a0c79b657b03"
   },
   "outputs": [
    {
     "data": {
      "text/plain": [
       "array([ 1,  0,  3,  2, -1,  4, 20,  5])"
      ]
     },
     "execution_count": 8,
     "metadata": {},
     "output_type": "execute_result"
    }
   ],
   "source": [
    "data['children'].unique()"
   ]
  },
  {
   "cell_type": "markdown",
   "id": "2b8b0715",
   "metadata": {
    "deletable": false,
    "editable": false,
    "id": "2b8b0715"
   },
   "source": [
    "**Задание 9. В столбце `children` есть два аномальных значения. Удалите строки, в которых встречаются такие аномальные значения из датафрейма `data`.**"
   ]
  },
  {
   "cell_type": "code",
   "execution_count": 9,
   "id": "20009df8",
   "metadata": {
    "deletable": false,
    "id": "20009df8"
   },
   "outputs": [],
   "source": [
    "data = data[(data['children'] != -1) & (data['children'] != 20)]"
   ]
  },
  {
   "cell_type": "markdown",
   "id": "8c6ac9f1",
   "metadata": {
    "deletable": false,
    "editable": false,
    "id": "8c6ac9f1"
   },
   "source": [
    "**Задание 10. Ещё раз выведите перечень уникальных значений столбца `children`, чтобы убедиться, что артефакты удалены.**"
   ]
  },
  {
   "cell_type": "code",
   "execution_count": 10,
   "id": "07337b81",
   "metadata": {
    "deletable": false,
    "id": "07337b81",
    "outputId": "b2097101-d49d-44d9-901b-32a65c9463d1"
   },
   "outputs": [
    {
     "data": {
      "text/plain": [
       "array([1, 0, 3, 2, 4, 5])"
      ]
     },
     "execution_count": 10,
     "metadata": {},
     "output_type": "execute_result"
    }
   ],
   "source": [
    "data['children'].unique()"
   ]
  },
  {
   "cell_type": "markdown",
   "id": "ee3f52d4",
   "metadata": {
    "deletable": false,
    "editable": false,
    "id": "ee3f52d4"
   },
   "source": [
    "### Удаление пропусков (продолжение)"
   ]
  },
  {
   "cell_type": "markdown",
   "id": "a700b0e4",
   "metadata": {
    "deletable": false,
    "editable": false,
    "id": "a700b0e4"
   },
   "source": [
    "**Задание 11. Заполните пропуски в столбце `days_employed` медианными значениями по каждого типа занятости `income_type`.**"
   ]
  },
  {
   "cell_type": "code",
   "execution_count": 11,
   "id": "61946b83",
   "metadata": {
    "deletable": false,
    "id": "61946b83"
   },
   "outputs": [],
   "source": [
    "for t in data['income_type'].unique():\n",
    "    data.loc[(data['income_type'] == t) & (data['days_employed'].isna()), 'days_employed'] = \\\n",
    "    data.loc[(data['income_type'] == t), 'days_employed'].median()"
   ]
  },
  {
   "cell_type": "markdown",
   "id": "550dcd9b",
   "metadata": {
    "deletable": false,
    "editable": false,
    "id": "550dcd9b"
   },
   "source": [
    "**Задание 12. Убедитесь, что все пропуски заполнены. Проверьте себя и ещё раз выведите количество пропущенных значений для каждого столбца с помощью двух методов.**"
   ]
  },
  {
   "cell_type": "code",
   "execution_count": 12,
   "id": "937c7014",
   "metadata": {
    "deletable": false,
    "id": "937c7014",
    "outputId": "8da1e4e1-358e-4e87-98c9-f261bce0a7b2"
   },
   "outputs": [
    {
     "data": {
      "text/plain": [
       "children            0\n",
       "days_employed       0\n",
       "dob_years           0\n",
       "education           0\n",
       "education_id        0\n",
       "family_status       0\n",
       "family_status_id    0\n",
       "gender              0\n",
       "income_type         0\n",
       "debt                0\n",
       "total_income        0\n",
       "purpose             0\n",
       "dtype: int64"
      ]
     },
     "execution_count": 12,
     "metadata": {},
     "output_type": "execute_result"
    }
   ],
   "source": [
    "data.isna().sum()"
   ]
  },
  {
   "cell_type": "markdown",
   "id": "d522e295",
   "metadata": {
    "deletable": false,
    "editable": false,
    "id": "d522e295"
   },
   "source": [
    "### Изменение типов данных"
   ]
  },
  {
   "cell_type": "markdown",
   "id": "c229c581",
   "metadata": {
    "deletable": false,
    "editable": false,
    "id": "c229c581"
   },
   "source": [
    "**Задание 13. Замените вещественный тип данных в столбце `total_income` на целочисленный с помощью метода `astype()`.**"
   ]
  },
  {
   "cell_type": "code",
   "execution_count": 13,
   "id": "31036462",
   "metadata": {
    "deletable": false,
    "id": "31036462"
   },
   "outputs": [],
   "source": [
    "data['total_income'] = data['total_income'].astype(int)"
   ]
  },
  {
   "cell_type": "markdown",
   "id": "b8e3d1d9",
   "metadata": {
    "deletable": false,
    "editable": false,
    "id": "b8e3d1d9"
   },
   "source": [
    "### Обработка дубликатов"
   ]
  },
  {
   "cell_type": "markdown",
   "id": "9be53c49",
   "metadata": {
    "deletable": false,
    "editable": false,
    "id": "9be53c49"
   },
   "source": [
    "**Задание 14. Обработайте неявные дубликаты в столбце `education`. В этом столбце есть одни и те же значения, но записанные по-разному: с использованием заглавных и строчных букв. Приведите их к нижнему регистру.**"
   ]
  },
  {
   "cell_type": "code",
   "execution_count": 14,
   "id": "d89e73e1",
   "metadata": {
    "deletable": false,
    "id": "d89e73e1"
   },
   "outputs": [],
   "source": [
    "data['education'] = data['education'].str.lower()"
   ]
  },
  {
   "cell_type": "markdown",
   "id": "01d4500e",
   "metadata": {
    "deletable": false,
    "editable": false,
    "id": "01d4500e"
   },
   "source": [
    "**Задание 15. Выведите на экран количество строк-дубликатов в данных. Если такие строки присутствуют, удалите их.**"
   ]
  },
  {
   "cell_type": "code",
   "execution_count": 15,
   "id": "e10efb23",
   "metadata": {
    "deletable": false,
    "id": "e10efb23",
    "outputId": "9684deba-1934-42d1-99e1-cda61740f822"
   },
   "outputs": [
    {
     "data": {
      "text/plain": [
       "71"
      ]
     },
     "execution_count": 15,
     "metadata": {},
     "output_type": "execute_result"
    }
   ],
   "source": [
    "data.duplicated().sum()"
   ]
  },
  {
   "cell_type": "code",
   "execution_count": 16,
   "id": "df853f20",
   "metadata": {
    "deletable": false,
    "id": "df853f20"
   },
   "outputs": [],
   "source": [
    "data = data.drop_duplicates()"
   ]
  },
  {
   "cell_type": "markdown",
   "id": "627be38f",
   "metadata": {
    "deletable": false,
    "editable": false,
    "id": "627be38f"
   },
   "source": [
    "### Категоризация данных"
   ]
  },
  {
   "cell_type": "markdown",
   "id": "4684c3e0",
   "metadata": {
    "deletable": false,
    "editable": false,
    "id": "4684c3e0"
   },
   "source": [
    "**Задание 16. На основании диапазонов, указанных ниже, создайте в датафрейме `data` столбец `total_income_category` с категориями:**\n",
    "\n",
    "- 0–30000 — `'E'`;\n",
    "- 30001–50000 — `'D'`;\n",
    "- 50001–200000 — `'C'`;\n",
    "- 200001–1000000 — `'B'`;\n",
    "- 1000001 и выше — `'A'`.\n",
    "\n",
    "\n",
    "**Например, кредитополучателю с доходом 25000 нужно назначить категорию `'E'`, а клиенту, получающему 235000, — `'B'`. Используйте собственную функцию с именем `categorize_income()` и метод `apply()`.**"
   ]
  },
  {
   "cell_type": "code",
   "execution_count": 17,
   "id": "78965238",
   "metadata": {
    "deletable": false,
    "id": "78965238"
   },
   "outputs": [],
   "source": [
    "def categorize_income(income):\n",
    "    try:\n",
    "        if 0 <= income <= 30000:\n",
    "            return 'E'\n",
    "        elif 30001 <= income <= 50000:\n",
    "            return 'D'\n",
    "        elif 50001 <= income <= 200000:\n",
    "            return 'C'\n",
    "        elif 200001 <= income <= 1000000:\n",
    "            return 'B'\n",
    "        elif income >= 1000001:\n",
    "            return 'A'\n",
    "    except:\n",
    "        pass"
   ]
  },
  {
   "cell_type": "code",
   "execution_count": 18,
   "id": "0980ada1",
   "metadata": {
    "deletable": false,
    "id": "0980ada1"
   },
   "outputs": [],
   "source": [
    "data['total_income_category'] = data['total_income'].apply(categorize_income)"
   ]
  },
  {
   "cell_type": "markdown",
   "id": "9917bba0",
   "metadata": {
    "deletable": false,
    "editable": false,
    "id": "9917bba0"
   },
   "source": [
    "**Задание 17. Выведите на экран перечень уникальных целей взятия кредита из столбца `purpose`.**"
   ]
  },
  {
   "cell_type": "code",
   "execution_count": 19,
   "id": "ee07b65e",
   "metadata": {
    "deletable": false,
    "id": "ee07b65e",
    "outputId": "673c12d9-7d7e-4ae0-9812-c622c89dd244"
   },
   "outputs": [
    {
     "data": {
      "text/plain": [
       "array(['покупка жилья', 'приобретение автомобиля',\n",
       "       'дополнительное образование', 'сыграть свадьбу',\n",
       "       'операции с жильем', 'образование', 'на проведение свадьбы',\n",
       "       'покупка жилья для семьи', 'покупка недвижимости',\n",
       "       'покупка коммерческой недвижимости', 'покупка жилой недвижимости',\n",
       "       'строительство собственной недвижимости', 'недвижимость',\n",
       "       'строительство недвижимости', 'на покупку подержанного автомобиля',\n",
       "       'на покупку своего автомобиля',\n",
       "       'операции с коммерческой недвижимостью',\n",
       "       'строительство жилой недвижимости', 'жилье',\n",
       "       'операции со своей недвижимостью', 'автомобили',\n",
       "       'заняться образованием', 'сделка с подержанным автомобилем',\n",
       "       'получение образования', 'автомобиль', 'свадьба',\n",
       "       'получение дополнительного образования', 'покупка своего жилья',\n",
       "       'операции с недвижимостью', 'получение высшего образования',\n",
       "       'свой автомобиль', 'сделка с автомобилем',\n",
       "       'профильное образование', 'высшее образование',\n",
       "       'покупка жилья для сдачи', 'на покупку автомобиля', 'ремонт жилью',\n",
       "       'заняться высшим образованием'], dtype=object)"
      ]
     },
     "execution_count": 19,
     "metadata": {},
     "output_type": "execute_result"
    }
   ],
   "source": [
    "data['purpose'].unique()"
   ]
  },
  {
   "cell_type": "markdown",
   "id": "52b79d56",
   "metadata": {
    "deletable": false,
    "editable": false,
    "id": "52b79d56"
   },
   "source": [
    "**Задание 18. Создайте функцию, которая на основании данных из столбца `purpose` сформирует новый столбец `purpose_category`, в который войдут следующие категории:**\n",
    "\n",
    "- `'операции с автомобилем'`,\n",
    "- `'операции с недвижимостью'`,\n",
    "- `'проведение свадьбы'`,\n",
    "- `'получение образования'`.\n",
    "\n",
    "**Например, если в столбце `purpose` находится подстрока `'на покупку автомобиля'`, то в столбце `purpose_category` должна появиться строка `'операции с автомобилем'`.**\n",
    "\n",
    "**Используйте собственную функцию с именем `categorize_purpose()` и метод `apply()`. Изучите данные в столбце `purpose` и определите, какие подстроки помогут вам правильно определить категорию.**"
   ]
  },
  {
   "cell_type": "code",
   "execution_count": 20,
   "id": "be41da5d",
   "metadata": {
    "deletable": false,
    "id": "be41da5d"
   },
   "outputs": [],
   "source": [
    "def categorize_purpose(row):\n",
    "    try:\n",
    "        if 'автом' in row:\n",
    "            return 'операции с автомобилем'\n",
    "        elif 'жил' in row or 'недвиж' in row:\n",
    "            return 'операции с недвижимостью'\n",
    "        elif 'свад' in row:\n",
    "            return 'проведение свадьбы'\n",
    "        elif 'образов' in row:\n",
    "            return 'получение образования'\n",
    "    except:\n",
    "        return 'нет категории'"
   ]
  },
  {
   "cell_type": "code",
   "execution_count": 21,
   "id": "94c4a19a",
   "metadata": {
    "deletable": false,
    "id": "94c4a19a"
   },
   "outputs": [],
   "source": [
    "data['purpose_category'] = data['purpose'].apply(categorize_purpose)"
   ]
  },
  {
   "cell_type": "markdown",
   "id": "3d596c34",
   "metadata": {
    "deletable": false,
    "editable": false,
    "id": "3d596c34"
   },
   "source": [
    "### Шаг 3. Исследуйте данные и ответьте на вопросы"
   ]
  },
  {
   "cell_type": "markdown",
   "id": "648db036",
   "metadata": {
    "deletable": false,
    "editable": false,
    "id": "648db036"
   },
   "source": [
    "#### 3.1 Есть ли зависимость между количеством детей и возвратом кредита в срок?"
   ]
  },
  {
   "cell_type": "code",
   "execution_count": 22,
   "id": "7fcff25e",
   "metadata": {
    "deletable": false,
    "id": "7fcff25e"
   },
   "outputs": [],
   "source": [
    "#from scipy. stats import pearsonr\n",
    "#pearsonr(data['children'], data['debt'])"
   ]
  },
  {
   "cell_type": "code",
   "execution_count": 23,
   "id": "a3150484",
   "metadata": {
    "scrolled": true
   },
   "outputs": [
    {
     "data": {
      "text/html": [
       "<div>\n",
       "<style scoped>\n",
       "    .dataframe tbody tr th:only-of-type {\n",
       "        vertical-align: middle;\n",
       "    }\n",
       "\n",
       "    .dataframe tbody tr th {\n",
       "        vertical-align: top;\n",
       "    }\n",
       "\n",
       "    .dataframe thead th {\n",
       "        text-align: right;\n",
       "    }\n",
       "</style>\n",
       "<table border=\"1\" class=\"dataframe\">\n",
       "  <thead>\n",
       "    <tr style=\"text-align: right;\">\n",
       "      <th></th>\n",
       "      <th>sum</th>\n",
       "      <th>count</th>\n",
       "      <th>result</th>\n",
       "    </tr>\n",
       "    <tr>\n",
       "      <th>children</th>\n",
       "      <th></th>\n",
       "      <th></th>\n",
       "      <th></th>\n",
       "    </tr>\n",
       "  </thead>\n",
       "  <tbody>\n",
       "    <tr>\n",
       "      <th>4</th>\n",
       "      <td>4</td>\n",
       "      <td>41</td>\n",
       "      <td>9.76%</td>\n",
       "    </tr>\n",
       "    <tr>\n",
       "      <th>2</th>\n",
       "      <td>194</td>\n",
       "      <td>2052</td>\n",
       "      <td>9.45%</td>\n",
       "    </tr>\n",
       "    <tr>\n",
       "      <th>1</th>\n",
       "      <td>444</td>\n",
       "      <td>4808</td>\n",
       "      <td>9.23%</td>\n",
       "    </tr>\n",
       "    <tr>\n",
       "      <th>3</th>\n",
       "      <td>27</td>\n",
       "      <td>330</td>\n",
       "      <td>8.18%</td>\n",
       "    </tr>\n",
       "    <tr>\n",
       "      <th>0</th>\n",
       "      <td>1063</td>\n",
       "      <td>14091</td>\n",
       "      <td>7.54%</td>\n",
       "    </tr>\n",
       "    <tr>\n",
       "      <th>5</th>\n",
       "      <td>0</td>\n",
       "      <td>9</td>\n",
       "      <td>0.00%</td>\n",
       "    </tr>\n",
       "  </tbody>\n",
       "</table>\n",
       "</div>"
      ],
      "text/plain": [
       "           sum  count result\n",
       "children                    \n",
       "4            4     41  9.76%\n",
       "2          194   2052  9.45%\n",
       "1          444   4808  9.23%\n",
       "3           27    330  8.18%\n",
       "0         1063  14091  7.54%\n",
       "5            0      9  0.00%"
      ]
     },
     "execution_count": 23,
     "metadata": {},
     "output_type": "execute_result"
    }
   ],
   "source": [
    "corr_children_debt = pd.DataFrame()\n",
    "corr_children_debt['sum'] = data.groupby('children')['debt'].sum()\n",
    "corr_children_debt['count'] = data.groupby('children')['debt'].count()\n",
    "corr_children_debt['result'] = corr_children_debt['sum'] / corr_children_debt['count'] \n",
    "corr_children_debt['result'] = corr_children_debt['result'].map('{:.2%}'.format) #добавила строку, чтобы визуально было более читабельно\n",
    "corr_children_debt.sort_values('result', ascending = False)"
   ]
  },
  {
   "cell_type": "markdown",
   "id": "d0b0d2e2",
   "metadata": {},
   "source": [
    "<font color='DarkBlue'><b>Комментарий ревьюера 2</b></font><br>\n",
    "<font color='DarkMagenta'>👉 Можно сделать вот так, через функцию.</font>"
   ]
  },
  {
   "cell_type": "code",
   "execution_count": 28,
   "id": "4f7da972",
   "metadata": {},
   "outputs": [
    {
     "data": {
      "text/html": [
       "<style  type=\"text/css\" >\n",
       "#T_e1592_row0_col0,#T_e1592_row0_col1,#T_e1592_row4_col2{\n",
       "            background-color:  #08306b;\n",
       "            color:  #f1f1f1;\n",
       "        }#T_e1592_row0_col2{\n",
       "            background-color:  #1c6bb0;\n",
       "            color:  #f1f1f1;\n",
       "        }#T_e1592_row1_col0{\n",
       "            background-color:  #a9cfe5;\n",
       "            color:  #000000;\n",
       "        }#T_e1592_row1_col1{\n",
       "            background-color:  #8dc1dd;\n",
       "            color:  #000000;\n",
       "        }#T_e1592_row1_col2{\n",
       "            background-color:  #083d7f;\n",
       "            color:  #f1f1f1;\n",
       "        }#T_e1592_row2_col0{\n",
       "            background-color:  #dae8f6;\n",
       "            color:  #000000;\n",
       "        }#T_e1592_row2_col1{\n",
       "            background-color:  #d3e4f3;\n",
       "            color:  #000000;\n",
       "        }#T_e1592_row2_col2{\n",
       "            background-color:  #083776;\n",
       "            color:  #f1f1f1;\n",
       "        }#T_e1592_row3_col0{\n",
       "            background-color:  #f3f8fe;\n",
       "            color:  #000000;\n",
       "        }#T_e1592_row3_col1{\n",
       "            background-color:  #f2f8fd;\n",
       "            color:  #000000;\n",
       "        }#T_e1592_row3_col2{\n",
       "            background-color:  #0f5aa3;\n",
       "            color:  #f1f1f1;\n",
       "        }#T_e1592_row4_col0,#T_e1592_row4_col1,#T_e1592_row5_col0,#T_e1592_row5_col1,#T_e1592_row5_col2{\n",
       "            background-color:  #f7fbff;\n",
       "            color:  #000000;\n",
       "        }</style><table id=\"T_e1592_\" ><thead>    <tr>        <th class=\"blank level0\" ></th>        <th class=\"col_heading level0 col0\" >Всего кредитополучателей</th>        <th class=\"col_heading level0 col1\" >Всего должников</th>        <th class=\"col_heading level0 col2\" >Доля должников</th>    </tr>    <tr>        <th class=\"index_name level0\" >children</th>        <th class=\"blank\" ></th>        <th class=\"blank\" ></th>        <th class=\"blank\" ></th>    </tr></thead><tbody>\n",
       "                <tr>\n",
       "                        <th id=\"T_e1592_level0_row0\" class=\"row_heading level0 row0\" >0</th>\n",
       "                        <td id=\"T_e1592_row0_col0\" class=\"data row0 col0\" >14091.000</td>\n",
       "                        <td id=\"T_e1592_row0_col1\" class=\"data row0 col1\" >1063.000</td>\n",
       "                        <td id=\"T_e1592_row0_col2\" class=\"data row0 col2\" >0.075</td>\n",
       "            </tr>\n",
       "            <tr>\n",
       "                        <th id=\"T_e1592_level0_row1\" class=\"row_heading level0 row1\" >1</th>\n",
       "                        <td id=\"T_e1592_row1_col0\" class=\"data row1 col0\" >4808.000</td>\n",
       "                        <td id=\"T_e1592_row1_col1\" class=\"data row1 col1\" >444.000</td>\n",
       "                        <td id=\"T_e1592_row1_col2\" class=\"data row1 col2\" >0.092</td>\n",
       "            </tr>\n",
       "            <tr>\n",
       "                        <th id=\"T_e1592_level0_row2\" class=\"row_heading level0 row2\" >2</th>\n",
       "                        <td id=\"T_e1592_row2_col0\" class=\"data row2 col0\" >2052.000</td>\n",
       "                        <td id=\"T_e1592_row2_col1\" class=\"data row2 col1\" >194.000</td>\n",
       "                        <td id=\"T_e1592_row2_col2\" class=\"data row2 col2\" >0.095</td>\n",
       "            </tr>\n",
       "            <tr>\n",
       "                        <th id=\"T_e1592_level0_row3\" class=\"row_heading level0 row3\" >3</th>\n",
       "                        <td id=\"T_e1592_row3_col0\" class=\"data row3 col0\" >330.000</td>\n",
       "                        <td id=\"T_e1592_row3_col1\" class=\"data row3 col1\" >27.000</td>\n",
       "                        <td id=\"T_e1592_row3_col2\" class=\"data row3 col2\" >0.082</td>\n",
       "            </tr>\n",
       "            <tr>\n",
       "                        <th id=\"T_e1592_level0_row4\" class=\"row_heading level0 row4\" >4</th>\n",
       "                        <td id=\"T_e1592_row4_col0\" class=\"data row4 col0\" >41.000</td>\n",
       "                        <td id=\"T_e1592_row4_col1\" class=\"data row4 col1\" >4.000</td>\n",
       "                        <td id=\"T_e1592_row4_col2\" class=\"data row4 col2\" >0.098</td>\n",
       "            </tr>\n",
       "            <tr>\n",
       "                        <th id=\"T_e1592_level0_row5\" class=\"row_heading level0 row5\" >5</th>\n",
       "                        <td id=\"T_e1592_row5_col0\" class=\"data row5 col0\" >9.000</td>\n",
       "                        <td id=\"T_e1592_row5_col1\" class=\"data row5 col1\" >0.000</td>\n",
       "                        <td id=\"T_e1592_row5_col2\" class=\"data row5 col2\" >0.000</td>\n",
       "            </tr>\n",
       "    </tbody></table>"
      ],
      "text/plain": [
       "<pandas.io.formats.style.Styler at 0x7f1dd492f1f0>"
      ]
     },
     "metadata": {},
     "output_type": "display_data"
    }
   ],
   "source": [
    "# Комментарий ревьюера 2\n",
    "# Создаем копию датасета, что бы не работать с исходным\n",
    "temp = data.copy()\n",
    "# Напишем функцию, так как все задачи аналогичны\n",
    "def que(category):\n",
    "    data_temp = temp.pivot_table(index=category, values='debt', aggfunc=['count', 'sum', 'mean'])\n",
    "    data_temp.columns = ['Всего кредитополучателей', 'Всего должников', 'Доля должников']\n",
    "    # Оформим таблицу цветным градиентом, но можно ее вывести и просто display(data_temp)\n",
    "    display(data_temp.style.format(\"{:.3f}\").background_gradient(cmap='Blues', axis=0))\n",
    "    \n",
    "que('children')"
   ]
  },
  {
   "cell_type": "markdown",
   "id": "2eb9088e",
   "metadata": {
    "deletable": false,
    "id": "2eb9088e"
   },
   "source": [
    "**Вывод:** \n",
    "\n",
    "По полученным данным мы видим, что существует зависимость между количеством детей и возвратом кредита в срок. Клиенты без детей чаще возвращают кредит в срок, что объясняется меньшим количеством финансовых обязательств, лежащих на клиенте.\n",
    "\n",
    "Клиенты с 1, 2 детьмя чаще склонны к просрочке по платежам. Группы клиентов с количеством детей 3, 4, 5 сравнить будет некорректно из-за меньшей выборки клиентов.\n"
   ]
  },
  {
   "cell_type": "markdown",
   "id": "311a84a3",
   "metadata": {},
   "source": [
    "<font color='DarkBlue'><b>Комментарий ревьюера 2</b></font><br>\n",
    "<font color='DarkGreen'>👌 Правильный вывод, действительно семьи без детей не несут дополнительных расходов и своевременно обслуживают свой кредит. У клиентов с детьми более высокая расходная часть семейного бюджета, поэтому и возникают сложности со своевременной выплатой по кредитным обязательствам.<br>Хорошо, что было обращено внимание на несбалансированность выборок, при малой выборке нельзя делать обоснованные выводы.</font>"
   ]
  },
  {
   "attachments": {
    "image.png": {
     "image/png": "[encoded data removed]"
    }
   },
   "cell_type": "markdown",
   "id": "267dacc4",
   "metadata": {},
   "source": [
    "<font color='DarkBlue'><b>Комментарий ревьюера</b></font><br>\n",
    "<font color='Red'>🛠 Не правильный анализ. Корреляция Пирсона не предназначена для оценки категориальных данных, полтора ребенка в семье не бывает.</font><br>\n",
    "<font color='DarkMagenta'>👉 Для анализа следует строить сводную таблицу со следующими колонками: 'Всего кредитополучателей', 'Всего должников', 'Доля должников'. В этом случае таблица строится со следующими параметрами: `aggfunc=['count', 'sum', 'mean']`. Примерно вот так:</font>\n",
    "![image.png](attachment:image.png)"
   ]
  },
  {
   "cell_type": "markdown",
   "id": "74c9b3a7",
   "metadata": {
    "deletable": false,
    "editable": false,
    "id": "74c9b3a7"
   },
   "source": [
    "#### 3.2 Есть ли зависимость между семейным положением и возвратом кредита в срок?"
   ]
  },
  {
   "cell_type": "code",
   "execution_count": 24,
   "id": "8098ab3b",
   "metadata": {
    "deletable": false,
    "id": "8098ab3b"
   },
   "outputs": [
    {
     "data": {
      "text/html": [
       "<div>\n",
       "<style scoped>\n",
       "    .dataframe tbody tr th:only-of-type {\n",
       "        vertical-align: middle;\n",
       "    }\n",
       "\n",
       "    .dataframe tbody tr th {\n",
       "        vertical-align: top;\n",
       "    }\n",
       "\n",
       "    .dataframe thead th {\n",
       "        text-align: right;\n",
       "    }\n",
       "</style>\n",
       "<table border=\"1\" class=\"dataframe\">\n",
       "  <thead>\n",
       "    <tr style=\"text-align: right;\">\n",
       "      <th></th>\n",
       "      <th>sum</th>\n",
       "      <th>count</th>\n",
       "      <th>result</th>\n",
       "    </tr>\n",
       "    <tr>\n",
       "      <th>family_status</th>\n",
       "      <th></th>\n",
       "      <th></th>\n",
       "      <th></th>\n",
       "    </tr>\n",
       "  </thead>\n",
       "  <tbody>\n",
       "    <tr>\n",
       "      <th>Не женат / не замужем</th>\n",
       "      <td>273</td>\n",
       "      <td>2796</td>\n",
       "      <td>9.76%</td>\n",
       "    </tr>\n",
       "    <tr>\n",
       "      <th>гражданский брак</th>\n",
       "      <td>385</td>\n",
       "      <td>4134</td>\n",
       "      <td>9.31%</td>\n",
       "    </tr>\n",
       "    <tr>\n",
       "      <th>женат / замужем</th>\n",
       "      <td>927</td>\n",
       "      <td>12261</td>\n",
       "      <td>7.56%</td>\n",
       "    </tr>\n",
       "    <tr>\n",
       "      <th>в разводе</th>\n",
       "      <td>84</td>\n",
       "      <td>1189</td>\n",
       "      <td>7.06%</td>\n",
       "    </tr>\n",
       "    <tr>\n",
       "      <th>вдовец / вдова</th>\n",
       "      <td>63</td>\n",
       "      <td>951</td>\n",
       "      <td>6.62%</td>\n",
       "    </tr>\n",
       "  </tbody>\n",
       "</table>\n",
       "</div>"
      ],
      "text/plain": [
       "                       sum  count result\n",
       "family_status                           \n",
       "Не женат / не замужем  273   2796  9.76%\n",
       "гражданский брак       385   4134  9.31%\n",
       "женат / замужем        927  12261  7.56%\n",
       "в разводе               84   1189  7.06%\n",
       "вдовец / вдова          63    951  6.62%"
      ]
     },
     "execution_count": 24,
     "metadata": {},
     "output_type": "execute_result"
    }
   ],
   "source": [
    "corr_family_status_debt = pd.DataFrame()\n",
    "corr_family_status_debt['sum'] = data.groupby('family_status')['debt'].sum()\n",
    "corr_family_status_debt['count'] = data.groupby('family_status')['debt'].count()\n",
    "corr_family_status_debt['result'] = corr_family_status_debt['sum'] / corr_family_status_debt['count'] \n",
    "corr_family_status_debt['result'] = corr_family_status_debt['result'].map('{:.2%}'.format)\n",
    "corr_family_status_debt.sort_values('result', ascending = False)"
   ]
  },
  {
   "cell_type": "markdown",
   "id": "c389ca63",
   "metadata": {
    "deletable": false,
    "id": "c389ca63"
   },
   "source": [
    "**Вывод:** \n",
    "\n",
    "Т.к. в сравниваемых показателях есть как *количественные*, так и *категориальные* переменные, был вычислен удельный вес клиентов в разрезе категорий семейного положения, имевших задолженность по кредиту, среди всех клиентов.\n",
    "\n",
    "Анализ показывает, что клиенты со статусом \"вдвовец/вдова\" имеют наименьший риск просрочки. Но также важно обратить внимание, что это самая малочисленная группа среди всех клиентов из-за чего выводы не могут отражать всей действительности.\n",
    "\n",
    "Наибольший риск представляют категории \"не женат/не замужем\" и \"гражданский брак\". Можно предположить, что люди этих категорий чувствуют меньше ответственности, т.к. не состоят в официальных отношениях, оформленных по закону.\n"
   ]
  },
  {
   "cell_type": "markdown",
   "id": "a2d8eb0e",
   "metadata": {},
   "source": [
    "<font color='DarkBlue'><b>Комментарий ревьюера</b></font><br>\n",
    "<font color='DarkGreen'>👌 Действительно, оформленные семейные отношения или их прошлый опыт налагают определенную ответственность и приучают к финансовой дисциплине.</font>"
   ]
  },
  {
   "cell_type": "markdown",
   "id": "9529de68",
   "metadata": {
    "deletable": false,
    "editable": false,
    "id": "9529de68"
   },
   "source": [
    "#### 3.3 Есть ли зависимость между уровнем дохода и возвратом кредита в срок?"
   ]
  },
  {
   "cell_type": "code",
   "execution_count": 25,
   "id": "1266d765",
   "metadata": {},
   "outputs": [],
   "source": [
    "# Способ 1\n",
    "#import pandas as pd -- удалить (дубль)\n",
    "#from scipy. stats import pearsonr\n",
    "#pearsonr(data['total_income'], data['debt'])"
   ]
  },
  {
   "cell_type": "markdown",
   "id": "c50cfbc5",
   "metadata": {},
   "source": [
    "<font color='DarkBlue'><b>Комментарий ревьюера</b></font><br>\n",
    "<font color='DarkMagenta'>👉 Зачем каждый раз импортировать одни и те же библиотеки.</font>"
   ]
  },
  {
   "cell_type": "code",
   "execution_count": 26,
   "id": "8787f44a",
   "metadata": {
    "deletable": false,
    "id": "8787f44a"
   },
   "outputs": [
    {
     "data": {
      "text/html": [
       "<div>\n",
       "<style scoped>\n",
       "    .dataframe tbody tr th:only-of-type {\n",
       "        vertical-align: middle;\n",
       "    }\n",
       "\n",
       "    .dataframe tbody tr th {\n",
       "        vertical-align: top;\n",
       "    }\n",
       "\n",
       "    .dataframe thead th {\n",
       "        text-align: right;\n",
       "    }\n",
       "</style>\n",
       "<table border=\"1\" class=\"dataframe\">\n",
       "  <thead>\n",
       "    <tr style=\"text-align: right;\">\n",
       "      <th></th>\n",
       "      <th>sum</th>\n",
       "      <th>count</th>\n",
       "      <th>result</th>\n",
       "    </tr>\n",
       "    <tr>\n",
       "      <th>total_income_category</th>\n",
       "      <th></th>\n",
       "      <th></th>\n",
       "      <th></th>\n",
       "    </tr>\n",
       "  </thead>\n",
       "  <tbody>\n",
       "    <tr>\n",
       "      <th>E</th>\n",
       "      <td>2</td>\n",
       "      <td>22</td>\n",
       "      <td>9.09%</td>\n",
       "    </tr>\n",
       "    <tr>\n",
       "      <th>C</th>\n",
       "      <td>1353</td>\n",
       "      <td>15921</td>\n",
       "      <td>8.50%</td>\n",
       "    </tr>\n",
       "    <tr>\n",
       "      <th>A</th>\n",
       "      <td>2</td>\n",
       "      <td>25</td>\n",
       "      <td>8.00%</td>\n",
       "    </tr>\n",
       "    <tr>\n",
       "      <th>B</th>\n",
       "      <td>354</td>\n",
       "      <td>5014</td>\n",
       "      <td>7.06%</td>\n",
       "    </tr>\n",
       "    <tr>\n",
       "      <th>D</th>\n",
       "      <td>21</td>\n",
       "      <td>349</td>\n",
       "      <td>6.02%</td>\n",
       "    </tr>\n",
       "  </tbody>\n",
       "</table>\n",
       "</div>"
      ],
      "text/plain": [
       "                        sum  count result\n",
       "total_income_category                    \n",
       "E                         2     22  9.09%\n",
       "C                      1353  15921  8.50%\n",
       "A                         2     25  8.00%\n",
       "B                       354   5014  7.06%\n",
       "D                        21    349  6.02%"
      ]
     },
     "execution_count": 26,
     "metadata": {},
     "output_type": "execute_result"
    }
   ],
   "source": [
    "corr_income_debt = pd.DataFrame()\n",
    "corr_income_debt['sum'] = data.groupby('total_income_category')['debt'].sum()\n",
    "corr_income_debt['count'] = data.groupby('total_income_category')['debt'].count()\n",
    "corr_income_debt['result'] = corr_income_debt['sum'] / corr_income_debt['count'] \n",
    "corr_income_debt['result'] = corr_income_debt['result'].map('{:.2%}'.format)\n",
    "corr_income_debt.sort_values('result', ascending = False)"
   ]
  },
  {
   "cell_type": "markdown",
   "id": "6dd14b57",
   "metadata": {
    "deletable": false,
    "id": "6dd14b57"
   },
   "source": [
    "**Вывод:** \n",
    "\n",
    "Продублируем обозначение категорий доходов:\n",
    "- A - 1 000 001 и выше \n",
    "- **B - 200 001–1 000 000**\n",
    "- **C - 50 001–200 000**\n",
    "- D - 30 001–50 000\n",
    "- E - 0–30 000\n",
    "\n",
    "Анализ удельных величин показал, что количество клиентов в группах с категорями дохода A, D, E является гораздо меньшим по сравнению с категориями B, C. Из чего нельзя сделать общие выводы по всей выборке из-за недостаточности данных. \n",
    "\n",
    "Но если сравнить наиболее полные категорию B и C, то видим, что клиенты с большим доходом чаще возвращают кредит в срок.\n"
   ]
  },
  {
   "cell_type": "markdown",
   "id": "7923c547",
   "metadata": {},
   "source": [
    "<font color='DarkBlue'><b>Комментарий ревьюера 2</b></font><br>\n",
    "<font color='DarkGreen'>👌 Хорошо, что обратили внимание на то, что представленные выборки несбалансированы и какой-то вывод можно делать только по двум категориям с достаточным размером выборок.</font>\n",
    "<br><font color='DarkMagenta'>👉 В задачах, где требуется анализировать несбалансированные выборки можно, делать дополнительный анализ, разбив данные на равные выборки методом `.qcut`. Подробнее можно прочитать тут: <br>https://dfedorov.spb.ru/pandas/Разделение%20данных%20в%20Pandas%20с%20помощью%20qcut%20и%20cut.html.</font>"
   ]
  },
  {
   "cell_type": "markdown",
   "id": "43783261",
   "metadata": {},
   "source": [
    "<font color='DarkBlue'><b>Комментарий ревьюера</b></font><br>\n",
    "<font color='Red'>🛠 Тут аналогичная ошибка, корреляция Пирсона не применима.</font>"
   ]
  },
  {
   "cell_type": "markdown",
   "id": "1dcc9b12",
   "metadata": {
    "deletable": false,
    "editable": false,
    "id": "1dcc9b12"
   },
   "source": [
    "#### 3.4 Как разные цели кредита влияют на его возврат в срок?"
   ]
  },
  {
   "cell_type": "code",
   "execution_count": 27,
   "id": "c602bc8b",
   "metadata": {
    "deletable": false,
    "id": "c602bc8b"
   },
   "outputs": [
    {
     "data": {
      "text/html": [
       "<div>\n",
       "<style scoped>\n",
       "    .dataframe tbody tr th:only-of-type {\n",
       "        vertical-align: middle;\n",
       "    }\n",
       "\n",
       "    .dataframe tbody tr th {\n",
       "        vertical-align: top;\n",
       "    }\n",
       "\n",
       "    .dataframe thead th {\n",
       "        text-align: right;\n",
       "    }\n",
       "</style>\n",
       "<table border=\"1\" class=\"dataframe\">\n",
       "  <thead>\n",
       "    <tr style=\"text-align: right;\">\n",
       "      <th></th>\n",
       "      <th>sum</th>\n",
       "      <th>count</th>\n",
       "      <th>result</th>\n",
       "    </tr>\n",
       "    <tr>\n",
       "      <th>purpose_category</th>\n",
       "      <th></th>\n",
       "      <th></th>\n",
       "      <th></th>\n",
       "    </tr>\n",
       "  </thead>\n",
       "  <tbody>\n",
       "    <tr>\n",
       "      <th>операции с автомобилем</th>\n",
       "      <td>400</td>\n",
       "      <td>4279</td>\n",
       "      <td>9.35%</td>\n",
       "    </tr>\n",
       "    <tr>\n",
       "      <th>получение образования</th>\n",
       "      <td>369</td>\n",
       "      <td>3988</td>\n",
       "      <td>9.25%</td>\n",
       "    </tr>\n",
       "    <tr>\n",
       "      <th>проведение свадьбы</th>\n",
       "      <td>183</td>\n",
       "      <td>2313</td>\n",
       "      <td>7.91%</td>\n",
       "    </tr>\n",
       "    <tr>\n",
       "      <th>операции с недвижимостью</th>\n",
       "      <td>780</td>\n",
       "      <td>10751</td>\n",
       "      <td>7.26%</td>\n",
       "    </tr>\n",
       "  </tbody>\n",
       "</table>\n",
       "</div>"
      ],
      "text/plain": [
       "                          sum  count result\n",
       "purpose_category                           \n",
       "операции с автомобилем    400   4279  9.35%\n",
       "получение образования     369   3988  9.25%\n",
       "проведение свадьбы        183   2313  7.91%\n",
       "операции с недвижимостью  780  10751  7.26%"
      ]
     },
     "execution_count": 27,
     "metadata": {},
     "output_type": "execute_result"
    }
   ],
   "source": [
    "corr_purpose_debt = pd.DataFrame()\n",
    "corr_purpose_debt['sum'] = data.groupby('purpose_category')['debt'].sum()\n",
    "corr_purpose_debt['count'] = data.groupby('purpose_category')['debt'].count()\n",
    "corr_purpose_debt['result'] = corr_purpose_debt['sum'] / corr_purpose_debt['count'] \n",
    "corr_purpose_debt['result'] = corr_purpose_debt['result'].map('{:.2%}'.format)\n",
    "corr_purpose_debt.sort_values('result', ascending = False)"
   ]
  },
  {
   "cell_type": "markdown",
   "id": "cf05ed63",
   "metadata": {
    "deletable": false,
    "id": "cf05ed63"
   },
   "source": [
    "**Вывод:** \n",
    "\n",
    "Наиболее рисковыми являются цели на операции с автомобилем и получение образования. Чаще возвращают деньги в срок клиенты, берущие кредит на операции с недвижимостью и проведение свадьбы."
   ]
  },
  {
   "cell_type": "markdown",
   "id": "4ccea56d",
   "metadata": {},
   "source": [
    "<font color='DarkBlue'><b>Комментарий ревьюера</b></font><br>\n",
    "<font color='DarkGreen'>👌 Видимо, кредиты на автомобиль и обучение несут дополнительные риски связанные или с возможной аварией, или с проблемами трудоустройства после обучения.</font>"
   ]
  },
  {
   "cell_type": "markdown",
   "id": "46c1f10b",
   "metadata": {
    "deletable": false,
    "editable": false,
    "id": "46c1f10b"
   },
   "source": [
    "#### 3.5 Приведите возможные причины появления пропусков в исходных данных."
   ]
  },
  {
   "cell_type": "markdown",
   "id": "3697d2a9",
   "metadata": {
    "deletable": false,
    "id": "3697d2a9"
   },
   "source": [
    "*Ответ:* \n",
    "\n",
    "1. Человеческий фактор. Сотрудник офиса, заполняющий сведения о клиенте, забыл внести необходимую информацию/ не сохранил внесенные данные / внес инфо в другое поле / внес некорректную информацию по формату или значению;\n",
    "2. Клиент отказался раскрывать личную информацию о себе;\n",
    "3. Технический фактор. Система, в которую вносятся данные дала сбой."
   ]
  },
  {
   "cell_type": "markdown",
   "id": "8efa8111",
   "metadata": {},
   "source": [
    "<font color='DarkBlue'><b>Комментарий ревьюера</b></font><br>\n",
    "<font color='DarkMagenta'>👉 Существует несколько причин отсутствия данных в датасетах, в том числе:<br>\n",
    "- Человеческий фактор: Ошибки ввода данных, не желание отвечать на определенные вопросы.\n",
    "- Технические проблемы: Возможны сбои с оборудованием или программным обеспечением для сбора данных. Отсутствующие данные могут быть удалены в процессе обработки или очистки данных.\n",
    "- Организационные: Конфиденциальность, могут отсутствовать данные, идентифицирующие отдельных лиц или компании.</font>"
   ]
  },
  {
   "cell_type": "markdown",
   "id": "3137d257",
   "metadata": {
    "deletable": false,
    "editable": false,
    "id": "3137d257"
   },
   "source": [
    "#### 3.6 Объясните, почему заполнить пропуски медианным значением — лучшее решение для количественных переменных."
   ]
  },
  {
   "cell_type": "markdown",
   "id": "cf40012a",
   "metadata": {
    "deletable": false,
    "id": "cf40012a"
   },
   "source": [
    "*Ответ:* \n",
    "\n",
    "Пропуски можно заполнить средним арифметическим показателем, однако он не учитывает разброс в данных. Чтобы нивелировать сильные колебания значений лучше использовать медианный показатель, который лучше всего отразит выборку в целом."
   ]
  },
  {
   "cell_type": "markdown",
   "id": "1a212f81",
   "metadata": {},
   "source": [
    "<font color='DarkBlue'><b>Комментарий ревьюера</b></font><br>\n",
    "<font color='DarkGreen'>👌 Правильно, у средних более высокая чувствительность к выбросам, чем у медиан.<br>Можно попробовать посчитать и сравнить среднюю и медиану для колонки с выбросами, например `days_employed`.</font>"
   ]
  },
  {
   "cell_type": "markdown",
   "id": "57bc304e",
   "metadata": {
    "deletable": false,
    "editable": false,
    "id": "57bc304e"
   },
   "source": [
    "### Шаг 4: общий вывод."
   ]
  },
  {
   "cell_type": "markdown",
   "id": "1ab75d1c",
   "metadata": {
    "deletable": false,
    "id": "1ab75d1c"
   },
   "source": [
    "В процессе проведенного исследования были проделаны следующие итерации с данными:\n",
    "\n",
    "1. Найдены пропуски в поле ежемесячный доход клиента и заменены медианнымы значениеми;\n",
    "2. Найдены и удалены аномальные значения в столбце дети (удалены строки со значением 20 и -1);\n",
    "3. Обработаны неявные дубликаты в столбце education - изменен регистр;\n",
    "4. Для удобства анализа были сгруппированы и категоризированы столбы ежемесячный доход и цели кредита.\n",
    "\n",
    "По итогам исследования было выявлено, что на вероятность возврата кредита в срок клиентом влияют следующие факторы:\n",
    "\n",
    "- семейное положение: у людей состоящих в браке в настоящий момент или в прошлом ниже риск невозврата кредита в срок;\n",
    "- количество детей: чем меньше детей, тем больше вероятность возврата кредита в срок;\n",
    "- цель кредита: чаще возвращают деньги в срок клиенты, берущие кредит на операции с недвижимостью и проведение свадьбы;\n",
    "- уровень доходов: чем выше категория доходов, тем больше вероятность возврата кредита в срок.\n",
    "\n",
    "Итого идеальный клиент: человек в браке (либо в прошлом был в браке) без детей, имеющий доход от 50 тыс. руб. \n",
    "\n",
    "Чтобы предсказать вероятность возврата кредита в срок по клиентам необходимо учесть каждый из факторов в совокупности. Для практического применения необходимо каждому фактору присвоить удельный вес и построить скор-балл по каждому клиенту"
   ]
  },
  {
   "cell_type": "markdown",
   "id": "be8b0f1f",
   "metadata": {},
   "source": [
    "<font color='DarkBlue'><b>Комментарий ревьюера 2</b></font><br>\n",
    "<font color='DarkGreen'>👌 Хорошо, исправили.</font>"
   ]
  },
  {
   "cell_type": "markdown",
   "id": "7394f7fa",
   "metadata": {},
   "source": [
    "<font color='DarkBlue'><b>Комментарий ревьюера</b></font><br>\n",
    "<font color='Red'>🛠 Общий вывод относится ко всему проекту, а не только к исследовательскому анализу.<br>Он должен содержать развернутое резюме по всем разделам проекта: описание данных, порядок обработки аномалий, пропусков и дубликатов, предобработка данных для анализа и проведенный анализ.<br>В реальных проектах сначала читают цель исследования, затем полученные выводы, затем уже сам анализ.</font>\n",
    "<br>\n",
    "<font color='DarkMagenta'>👉 В общем выводе можно дать рекомендации по улучшению сбора данных на основе обнаруженных ошибок. А так же  составить портрет добросовестного заемщика.</font>"
   ]
  },
  {
   "cell_type": "markdown",
   "id": "257bb384",
   "metadata": {},
   "source": [
    "<font color='DarkBlue'><b>Заключительный комментарий ревьюера</b></font><br><br>\n",
    "<font color='DarkGreen'>👌 Александра, проект хорошо проработан.<br>Так держать и дальше!<br></font>\n",
    "<font color='Red'>🛠 Что нужно, что бы сделать проект лучше:</font><br>\n",
    "<font color='Red'>🛠 Переделать анализ зависимости между количеством детей, доходом и возвратом кредита в срок. Сделать развернутый общий вывод проекта.<br>\n",
    "<font color='DarkMagenta'>👉 При исправлении ошибок и недочетов будут приобретены дополнительный опыт и навыки!</font><br>\n",
    "<font color='DarkGreen'>👌 Жду окончательный вариант! Успехов.</font>"
   ]
  },
  {
   "attachments": {
    "image.png": {
     "image/png": "[encoded data removed]"
    }
   },
   "cell_type": "markdown",
   "id": "06a7fb06",
   "metadata": {},
   "source": [
    "<font color='DarkBlue'><b>Заключительный комментарий ревьюера 2</b></font><br><br>\n",
    "<font color='DarkGreen'>👌 Александра! Справились со всеми заданиями в проекте. Молодец!<br>\n",
    "Входе выполнения проекта научились анализировать первичные данные и проводить обработку датасета. Провели самостоятельный исследовательский анализ.<br></font>\n",
    "<font color='DarkGreen'>👌 Теперь, вперед за новыми знаниями и навыками! Удачи! 😉</font>\n",
    "![image.png](attachment:image.png)"
   ]
  }
 ],
 "metadata": {
  "ExecuteTimeLog": [
   {
    "duration": 832,
    "start_time": "2023-09-12T10:10:03.727Z"
   },
   {
    "duration": 101,
    "start_time": "2023-09-12T10:10:05.334Z"
   },
   {
    "duration": 28,
    "start_time": "2023-09-12T10:10:09.229Z"
   },
   {
    "duration": 23,
    "start_time": "2023-09-12T10:10:10.750Z"
   },
   {
    "duration": 18,
    "start_time": "2023-09-12T10:10:12.697Z"
   },
   {
    "duration": 65,
    "start_time": "2023-09-12T10:10:15.762Z"
   },
   {
    "duration": 5,
    "start_time": "2023-09-12T10:10:17.827Z"
   },
   {
    "duration": 8,
    "start_time": "2023-09-12T10:10:19.632Z"
   },
   {
    "duration": 5,
    "start_time": "2023-09-12T10:10:21.576Z"
   },
   {
    "duration": 9,
    "start_time": "2023-09-12T10:10:25.162Z"
   },
   {
    "duration": 5,
    "start_time": "2023-09-12T10:10:28.290Z"
   },
   {
    "duration": 69,
    "start_time": "2023-09-12T10:10:39.964Z"
   },
   {
    "duration": 18,
    "start_time": "2023-09-12T10:10:42.945Z"
   },
   {
    "duration": 5,
    "start_time": "2023-09-12T10:10:45.935Z"
   },
   {
    "duration": 13,
    "start_time": "2023-09-12T10:10:48.192Z"
   },
   {
    "duration": 22,
    "start_time": "2023-09-12T10:10:50.462Z"
   },
   {
    "duration": 4,
    "start_time": "2023-09-12T10:10:53.000Z"
   },
   {
    "duration": 20,
    "start_time": "2023-09-12T10:10:55.833Z"
   },
   {
    "duration": 10,
    "start_time": "2023-09-12T10:10:58.311Z"
   },
   {
    "duration": 4,
    "start_time": "2023-09-12T10:10:59.848Z"
   },
   {
    "duration": 10,
    "start_time": "2023-09-12T10:11:01.976Z"
   },
   {
    "duration": 25,
    "start_time": "2023-09-12T12:47:55.828Z"
   },
   {
    "duration": 3,
    "start_time": "2023-09-13T06:38:31.723Z"
   },
   {
    "duration": 4,
    "start_time": "2023-09-13T06:38:38.157Z"
   },
   {
    "duration": 78,
    "start_time": "2023-09-13T06:38:46.634Z"
   },
   {
    "duration": 16,
    "start_time": "2023-09-13T06:38:47.296Z"
   },
   {
    "duration": 16,
    "start_time": "2023-09-13T06:38:47.928Z"
   },
   {
    "duration": 11,
    "start_time": "2023-09-13T06:38:48.940Z"
   },
   {
    "duration": 39,
    "start_time": "2023-09-13T06:38:49.409Z"
   },
   {
    "duration": 4,
    "start_time": "2023-09-13T06:38:50.024Z"
   },
   {
    "duration": 9,
    "start_time": "2023-09-13T06:38:50.528Z"
   },
   {
    "duration": 5,
    "start_time": "2023-09-13T06:38:51.770Z"
   },
   {
    "duration": 6,
    "start_time": "2023-09-13T06:38:52.242Z"
   },
   {
    "duration": 5,
    "start_time": "2023-09-13T06:38:52.689Z"
   },
   {
    "duration": 40,
    "start_time": "2023-09-13T06:38:53.992Z"
   },
   {
    "duration": 12,
    "start_time": "2023-09-13T06:38:54.656Z"
   },
   {
    "duration": 4,
    "start_time": "2023-09-13T06:38:56.059Z"
   },
   {
    "duration": 13,
    "start_time": "2023-09-13T06:38:56.785Z"
   },
   {
    "duration": 21,
    "start_time": "2023-09-13T06:38:57.464Z"
   },
   {
    "duration": 19,
    "start_time": "2023-09-13T06:38:57.969Z"
   },
   {
    "duration": 3,
    "start_time": "2023-09-13T06:38:59.068Z"
   },
   {
    "duration": 11,
    "start_time": "2023-09-13T06:38:59.570Z"
   },
   {
    "duration": 6,
    "start_time": "2023-09-13T06:39:01.372Z"
   },
   {
    "duration": 4,
    "start_time": "2023-09-13T06:39:02.361Z"
   },
   {
    "duration": 14,
    "start_time": "2023-09-13T06:39:02.770Z"
   },
   {
    "duration": 5,
    "start_time": "2023-09-13T06:39:04.426Z"
   },
   {
    "duration": 7,
    "start_time": "2023-09-13T06:39:12.219Z"
   },
   {
    "duration": 1216,
    "start_time": "2023-09-13T06:49:53.812Z"
   },
   {
    "duration": 5,
    "start_time": "2023-09-13T06:50:18.907Z"
   },
   {
    "duration": 8,
    "start_time": "2023-09-13T06:52:05.874Z"
   },
   {
    "duration": 507,
    "start_time": "2023-09-13T06:52:35.645Z"
   },
   {
    "duration": 7,
    "start_time": "2023-09-13T07:03:34.251Z"
   },
   {
    "duration": 6,
    "start_time": "2023-09-13T07:03:43.979Z"
   },
   {
    "duration": 105,
    "start_time": "2023-09-13T07:05:42.652Z"
   },
   {
    "duration": 85,
    "start_time": "2023-09-13T07:05:57.887Z"
   },
   {
    "duration": 8,
    "start_time": "2023-09-13T07:06:45.367Z"
   },
   {
    "duration": 7,
    "start_time": "2023-09-13T07:07:05.303Z"
   },
   {
    "duration": 25,
    "start_time": "2023-09-13T07:07:14.494Z"
   },
   {
    "duration": 10,
    "start_time": "2023-09-13T07:07:46.286Z"
   },
   {
    "duration": 50,
    "start_time": "2023-09-13T07:08:12.610Z"
   },
   {
    "duration": 8,
    "start_time": "2023-09-13T07:08:23.865Z"
   },
   {
    "duration": 5,
    "start_time": "2023-09-13T07:08:28.495Z"
   },
   {
    "duration": 11,
    "start_time": "2023-09-13T07:08:29.486Z"
   },
   {
    "duration": 8,
    "start_time": "2023-09-13T07:08:48.755Z"
   },
   {
    "duration": 8,
    "start_time": "2023-09-13T07:08:58.000Z"
   },
   {
    "duration": 10,
    "start_time": "2023-09-13T07:09:24.927Z"
   },
   {
    "duration": 718,
    "start_time": "2023-09-25T09:55:00.127Z"
   },
   {
    "duration": 25,
    "start_time": "2023-09-25T09:55:00.847Z"
   },
   {
    "duration": 17,
    "start_time": "2023-09-25T09:55:00.895Z"
   },
   {
    "duration": 10,
    "start_time": "2023-09-25T09:55:01.825Z"
   },
   {
    "duration": 39,
    "start_time": "2023-09-25T09:55:02.239Z"
   },
   {
    "duration": 3,
    "start_time": "2023-09-25T09:55:02.809Z"
   },
   {
    "duration": 8,
    "start_time": "2023-09-25T09:55:03.438Z"
   },
   {
    "duration": 4,
    "start_time": "2023-09-25T09:55:04.242Z"
   },
   {
    "duration": 6,
    "start_time": "2023-09-25T09:55:04.623Z"
   },
   {
    "duration": 4,
    "start_time": "2023-09-25T09:55:05.003Z"
   },
   {
    "duration": 57,
    "start_time": "2023-09-25T09:55:05.566Z"
   },
   {
    "duration": 17,
    "start_time": "2023-09-25T09:55:05.949Z"
   },
   {
    "duration": 7,
    "start_time": "2023-09-25T09:55:06.606Z"
   },
   {
    "duration": 12,
    "start_time": "2023-09-25T09:55:07.313Z"
   },
   {
    "duration": 21,
    "start_time": "2023-09-25T09:55:07.838Z"
   },
   {
    "duration": 18,
    "start_time": "2023-09-25T09:55:08.060Z"
   },
   {
    "duration": 4,
    "start_time": "2023-09-25T09:55:09.000Z"
   },
   {
    "duration": 12,
    "start_time": "2023-09-25T09:55:09.703Z"
   },
   {
    "duration": 7,
    "start_time": "2023-09-25T09:55:10.934Z"
   },
   {
    "duration": 3,
    "start_time": "2023-09-25T09:55:12.368Z"
   },
   {
    "duration": 11,
    "start_time": "2023-09-25T09:55:12.959Z"
   },
   {
    "duration": 5,
    "start_time": "2023-09-25T09:55:37.631Z"
   },
   {
    "duration": 489,
    "start_time": "2023-09-25T09:55:38.753Z"
   },
   {
    "duration": 11,
    "start_time": "2023-09-25T10:27:21.909Z"
   },
   {
    "duration": 8,
    "start_time": "2023-09-25T10:27:29.788Z"
   },
   {
    "duration": 99,
    "start_time": "2023-09-25T10:53:03.975Z"
   },
   {
    "duration": 6,
    "start_time": "2023-09-25T10:54:44.177Z"
   },
   {
    "duration": 13,
    "start_time": "2023-09-25T10:55:32.537Z"
   },
   {
    "duration": 670,
    "start_time": "2023-09-26T17:05:48.891Z"
   },
   {
    "duration": 22,
    "start_time": "2023-09-26T17:05:49.563Z"
   },
   {
    "duration": 56,
    "start_time": "2023-09-26T17:05:49.586Z"
   },
   {
    "duration": 11,
    "start_time": "2023-09-26T17:05:50.657Z"
   },
   {
    "duration": 55,
    "start_time": "2023-09-26T17:05:51.075Z"
   },
   {
    "duration": 3,
    "start_time": "2023-09-26T17:05:51.663Z"
   },
   {
    "duration": 7,
    "start_time": "2023-09-26T17:05:52.033Z"
   },
   {
    "duration": 5,
    "start_time": "2023-09-26T17:05:52.558Z"
   },
   {
    "duration": 7,
    "start_time": "2023-09-26T17:05:52.939Z"
   },
   {
    "duration": 5,
    "start_time": "2023-09-26T17:05:53.278Z"
   },
   {
    "duration": 42,
    "start_time": "2023-09-26T17:05:53.831Z"
   },
   {
    "duration": 10,
    "start_time": "2023-09-26T17:05:54.217Z"
   },
   {
    "duration": 4,
    "start_time": "2023-09-26T17:05:54.794Z"
   },
   {
    "duration": 12,
    "start_time": "2023-09-26T17:05:55.313Z"
   },
   {
    "duration": 21,
    "start_time": "2023-09-26T17:05:55.682Z"
   },
   {
    "duration": 17,
    "start_time": "2023-09-26T17:05:55.860Z"
   },
   {
    "duration": 4,
    "start_time": "2023-09-26T17:05:56.474Z"
   },
   {
    "duration": 11,
    "start_time": "2023-09-26T17:05:56.940Z"
   },
   {
    "duration": 6,
    "start_time": "2023-09-26T17:05:57.924Z"
   },
   {
    "duration": 4,
    "start_time": "2023-09-26T17:05:59.405Z"
   },
   {
    "duration": 9,
    "start_time": "2023-09-26T17:06:00.021Z"
   },
   {
    "duration": 8,
    "start_time": "2023-09-26T17:06:03.286Z"
   },
   {
    "duration": 20,
    "start_time": "2023-09-26T17:06:40.255Z"
   },
   {
    "duration": 60,
    "start_time": "2023-09-26T17:21:05.939Z"
   },
   {
    "duration": 25,
    "start_time": "2023-09-26T17:21:17.079Z"
   },
   {
    "duration": 22,
    "start_time": "2023-09-26T17:22:32.501Z"
   },
   {
    "duration": 18,
    "start_time": "2023-09-26T17:22:44.360Z"
   },
   {
    "duration": 27,
    "start_time": "2023-09-26T17:22:54.224Z"
   },
   {
    "duration": 7,
    "start_time": "2023-09-26T17:23:20.486Z"
   },
   {
    "duration": 21,
    "start_time": "2023-09-26T17:24:41.544Z"
   },
   {
    "duration": 579,
    "start_time": "2023-09-26T17:25:51.464Z"
   },
   {
    "duration": 10,
    "start_time": "2023-09-26T17:27:04.910Z"
   },
   {
    "duration": 12,
    "start_time": "2023-09-26T17:27:12.011Z"
   },
   {
    "duration": 10,
    "start_time": "2023-09-26T17:27:25.841Z"
   },
   {
    "duration": 11,
    "start_time": "2023-09-26T17:27:36.153Z"
   },
   {
    "duration": 12,
    "start_time": "2023-09-26T17:27:59.089Z"
   },
   {
    "duration": 12,
    "start_time": "2023-09-26T17:28:47.202Z"
   },
   {
    "duration": 38,
    "start_time": "2023-09-26T17:29:41.631Z"
   },
   {
    "duration": 14,
    "start_time": "2023-09-26T17:29:49.764Z"
   },
   {
    "duration": 12,
    "start_time": "2023-09-26T17:29:55.422Z"
   },
   {
    "duration": 15,
    "start_time": "2023-09-26T17:32:00.881Z"
   },
   {
    "duration": 7,
    "start_time": "2023-09-26T17:45:07.833Z"
   },
   {
    "duration": 19,
    "start_time": "2023-09-26T17:47:52.673Z"
   },
   {
    "duration": 10,
    "start_time": "2023-09-26T17:50:13.070Z"
   },
   {
    "duration": 13,
    "start_time": "2023-09-26T17:52:59.903Z"
   },
   {
    "duration": 12,
    "start_time": "2023-09-26T17:53:12.979Z"
   },
   {
    "duration": 15,
    "start_time": "2023-09-26T17:53:29.761Z"
   },
   {
    "duration": 20,
    "start_time": "2023-09-26T18:12:57.579Z"
   },
   {
    "duration": 12,
    "start_time": "2023-09-26T18:13:56.973Z"
   },
   {
    "duration": 11,
    "start_time": "2023-09-26T18:15:35.086Z"
   },
   {
    "duration": 11,
    "start_time": "2023-09-26T18:15:42.576Z"
   },
   {
    "duration": 5,
    "start_time": "2023-09-26T18:17:31.811Z"
   },
   {
    "duration": 5,
    "start_time": "2023-09-26T18:17:33.100Z"
   },
   {
    "duration": 7,
    "start_time": "2023-09-26T18:17:48.622Z"
   },
   {
    "duration": 7,
    "start_time": "2023-09-26T18:17:52.124Z"
   },
   {
    "duration": 5,
    "start_time": "2023-09-26T18:17:58.518Z"
   },
   {
    "duration": 776,
    "start_time": "2023-09-27T16:52:28.745Z"
   },
   {
    "duration": 19,
    "start_time": "2023-09-27T16:52:29.523Z"
   },
   {
    "duration": 14,
    "start_time": "2023-09-27T16:52:29.681Z"
   },
   {
    "duration": 10,
    "start_time": "2023-09-27T16:52:30.715Z"
   },
   {
    "duration": 34,
    "start_time": "2023-09-27T16:52:31.189Z"
   },
   {
    "duration": 3,
    "start_time": "2023-09-27T16:52:31.843Z"
   },
   {
    "duration": 9,
    "start_time": "2023-09-27T16:52:32.363Z"
   },
   {
    "duration": 4,
    "start_time": "2023-09-27T16:52:33.139Z"
   },
   {
    "duration": 6,
    "start_time": "2023-09-27T16:52:33.566Z"
   },
   {
    "duration": 4,
    "start_time": "2023-09-27T16:52:34.133Z"
   },
   {
    "duration": 35,
    "start_time": "2023-09-27T16:52:35.018Z"
   },
   {
    "duration": 13,
    "start_time": "2023-09-27T16:52:35.789Z"
   },
   {
    "duration": 3,
    "start_time": "2023-09-27T16:52:37.314Z"
   },
   {
    "duration": 14,
    "start_time": "2023-09-27T16:52:38.434Z"
   },
   {
    "duration": 18,
    "start_time": "2023-09-27T16:52:39.198Z"
   },
   {
    "duration": 16,
    "start_time": "2023-09-27T16:52:39.534Z"
   },
   {
    "duration": 4,
    "start_time": "2023-09-27T16:52:40.798Z"
   },
   {
    "duration": 9,
    "start_time": "2023-09-27T16:52:41.242Z"
   },
   {
    "duration": 5,
    "start_time": "2023-09-27T16:52:42.109Z"
   },
   {
    "duration": 3,
    "start_time": "2023-09-27T16:52:42.911Z"
   },
   {
    "duration": 8,
    "start_time": "2023-09-27T16:52:44.028Z"
   },
   {
    "duration": 599,
    "start_time": "2023-09-27T16:52:45.551Z"
   },
   {
    "duration": 89,
    "start_time": "2023-09-27T16:53:58.349Z"
   },
   {
    "duration": 23,
    "start_time": "2023-09-27T16:54:16.836Z"
   },
   {
    "duration": 1954,
    "start_time": "2023-09-27T16:54:43.014Z"
   },
   {
    "duration": 22,
    "start_time": "2023-09-27T16:55:07.893Z"
   },
   {
    "duration": 17,
    "start_time": "2023-09-27T16:55:15.523Z"
   },
   {
    "duration": 725,
    "start_time": "2023-09-27T16:56:15.770Z"
   },
   {
    "duration": 1103,
    "start_time": "2023-09-27T16:57:06.431Z"
   },
   {
    "duration": 15,
    "start_time": "2023-09-27T16:57:30.768Z"
   },
   {
    "duration": 15,
    "start_time": "2023-09-27T16:59:32.133Z"
   },
   {
    "duration": 23,
    "start_time": "2023-09-27T16:59:43.115Z"
   },
   {
    "duration": 21,
    "start_time": "2023-09-27T17:06:27.863Z"
   },
   {
    "duration": 13,
    "start_time": "2023-09-27T17:06:42.362Z"
   },
   {
    "duration": 21,
    "start_time": "2023-09-27T17:12:42.132Z"
   },
   {
    "duration": 70,
    "start_time": "2023-09-27T17:13:45.078Z"
   },
   {
    "duration": 84,
    "start_time": "2023-09-27T17:13:54.814Z"
   },
   {
    "duration": 15,
    "start_time": "2023-09-27T17:14:02.904Z"
   },
   {
    "duration": 17,
    "start_time": "2023-09-27T17:30:33.450Z"
   },
   {
    "duration": 489,
    "start_time": "2023-09-27T18:29:37.518Z"
   },
   {
    "duration": 21,
    "start_time": "2023-09-27T18:29:38.009Z"
   },
   {
    "duration": 21,
    "start_time": "2023-09-27T18:29:38.032Z"
   },
   {
    "duration": 9,
    "start_time": "2023-09-27T18:29:38.055Z"
   },
   {
    "duration": 36,
    "start_time": "2023-09-27T18:29:38.066Z"
   },
   {
    "duration": 3,
    "start_time": "2023-09-27T18:29:38.103Z"
   },
   {
    "duration": 38,
    "start_time": "2023-09-27T18:29:38.108Z"
   },
   {
    "duration": 5,
    "start_time": "2023-09-27T18:29:38.148Z"
   },
   {
    "duration": 8,
    "start_time": "2023-09-27T18:29:38.155Z"
   },
   {
    "duration": 5,
    "start_time": "2023-09-27T18:29:38.166Z"
   },
   {
    "duration": 36,
    "start_time": "2023-09-27T18:29:38.172Z"
   },
   {
    "duration": 40,
    "start_time": "2023-09-27T18:29:38.209Z"
   },
   {
    "duration": 3,
    "start_time": "2023-09-27T18:29:38.251Z"
   },
   {
    "duration": 30,
    "start_time": "2023-09-27T18:29:38.256Z"
   },
   {
    "duration": 20,
    "start_time": "2023-09-27T18:29:38.288Z"
   },
   {
    "duration": 45,
    "start_time": "2023-09-27T18:29:38.310Z"
   },
   {
    "duration": 5,
    "start_time": "2023-09-27T18:29:38.357Z"
   },
   {
    "duration": 23,
    "start_time": "2023-09-27T18:29:38.364Z"
   },
   {
    "duration": 28,
    "start_time": "2023-09-27T18:29:38.389Z"
   },
   {
    "duration": 7,
    "start_time": "2023-09-27T18:29:38.419Z"
   },
   {
    "duration": 15,
    "start_time": "2023-09-27T18:29:38.428Z"
   },
   {
    "duration": 462,
    "start_time": "2023-09-27T18:29:38.445Z"
   },
   {
    "duration": 143,
    "start_time": "2023-09-27T18:29:38.909Z"
   },
   {
    "duration": 11,
    "start_time": "2023-09-27T18:29:39.054Z"
   },
   {
    "duration": 182,
    "start_time": "2023-09-27T18:29:39.067Z"
   },
   {
    "duration": 20,
    "start_time": "2023-09-27T18:29:39.251Z"
   },
   {
    "duration": 708,
    "start_time": "2023-09-28T07:58:09.518Z"
   },
   {
    "duration": 483,
    "start_time": "2023-09-28T07:58:21.738Z"
   },
   {
    "duration": 23,
    "start_time": "2023-09-28T07:58:22.223Z"
   },
   {
    "duration": 16,
    "start_time": "2023-09-28T07:58:22.553Z"
   },
   {
    "duration": 10,
    "start_time": "2023-09-28T07:58:23.311Z"
   },
   {
    "duration": 39,
    "start_time": "2023-09-28T07:58:23.686Z"
   },
   {
    "duration": 3,
    "start_time": "2023-09-28T07:58:24.282Z"
   },
   {
    "duration": 7,
    "start_time": "2023-09-28T07:58:24.679Z"
   },
   {
    "duration": 4,
    "start_time": "2023-09-28T07:58:25.409Z"
   },
   {
    "duration": 7,
    "start_time": "2023-09-28T07:58:25.880Z"
   },
   {
    "duration": 4,
    "start_time": "2023-09-28T07:58:26.903Z"
   },
   {
    "duration": 34,
    "start_time": "2023-09-28T07:58:27.942Z"
   },
   {
    "duration": 11,
    "start_time": "2023-09-28T07:58:28.436Z"
   },
   {
    "duration": 3,
    "start_time": "2023-09-28T07:58:30.067Z"
   },
   {
    "duration": 12,
    "start_time": "2023-09-28T07:58:31.567Z"
   },
   {
    "duration": 20,
    "start_time": "2023-09-28T07:58:32.530Z"
   },
   {
    "duration": 18,
    "start_time": "2023-09-28T07:58:33.140Z"
   },
   {
    "duration": 4,
    "start_time": "2023-09-28T07:58:34.857Z"
   },
   {
    "duration": 17,
    "start_time": "2023-09-28T07:58:35.562Z"
   },
   {
    "duration": 6,
    "start_time": "2023-09-28T07:58:36.729Z"
   },
   {
    "duration": 3,
    "start_time": "2023-09-28T07:58:39.647Z"
   },
   {
    "duration": 9,
    "start_time": "2023-09-28T07:58:40.122Z"
   },
   {
    "duration": 7,
    "start_time": "2023-09-28T07:58:42.450Z"
   },
   {
    "duration": 58,
    "start_time": "2023-09-28T09:30:11.177Z"
   },
   {
    "duration": 540,
    "start_time": "2023-09-28T09:30:27.516Z"
   },
   {
    "duration": 28,
    "start_time": "2023-09-28T09:30:28.059Z"
   },
   {
    "duration": 18,
    "start_time": "2023-09-28T09:30:28.387Z"
   },
   {
    "duration": 12,
    "start_time": "2023-09-28T09:30:29.255Z"
   },
   {
    "duration": 37,
    "start_time": "2023-09-28T09:30:29.750Z"
   },
   {
    "duration": 5,
    "start_time": "2023-09-28T09:30:30.633Z"
   },
   {
    "duration": 9,
    "start_time": "2023-09-28T09:30:31.095Z"
   },
   {
    "duration": 5,
    "start_time": "2023-09-28T09:30:31.918Z"
   },
   {
    "duration": 8,
    "start_time": "2023-09-28T09:30:32.701Z"
   },
   {
    "duration": 5,
    "start_time": "2023-09-28T09:30:33.559Z"
   },
   {
    "duration": 37,
    "start_time": "2023-09-28T09:30:39.796Z"
   },
   {
    "duration": 11,
    "start_time": "2023-09-28T09:30:40.742Z"
   },
   {
    "duration": 5,
    "start_time": "2023-09-28T09:30:42.084Z"
   },
   {
    "duration": 13,
    "start_time": "2023-09-28T09:30:43.240Z"
   },
   {
    "duration": 21,
    "start_time": "2023-09-28T09:30:43.902Z"
   },
   {
    "duration": 20,
    "start_time": "2023-09-28T09:30:44.285Z"
   },
   {
    "duration": 4,
    "start_time": "2023-09-28T09:30:45.176Z"
   },
   {
    "duration": 11,
    "start_time": "2023-09-28T09:30:45.638Z"
   },
   {
    "duration": 7,
    "start_time": "2023-09-28T09:30:46.118Z"
   },
   {
    "duration": 4,
    "start_time": "2023-09-28T09:30:46.723Z"
   },
   {
    "duration": 10,
    "start_time": "2023-09-28T09:30:47.094Z"
   },
   {
    "duration": 3,
    "start_time": "2023-09-28T09:30:48.310Z"
   },
   {
    "duration": 23,
    "start_time": "2023-09-28T09:30:48.968Z"
   },
   {
    "duration": 234,
    "start_time": "2023-09-28T09:50:08.097Z"
   },
   {
    "duration": 44,
    "start_time": "2023-09-28T09:50:22.014Z"
   },
   {
    "duration": 16,
    "start_time": "2023-09-28T09:51:12.779Z"
   },
   {
    "duration": 20,
    "start_time": "2023-09-28T10:05:29.149Z"
   },
   {
    "duration": 14,
    "start_time": "2023-09-28T10:08:48.546Z"
   },
   {
    "duration": 16,
    "start_time": "2023-09-28T10:09:02.865Z"
   },
   {
    "duration": 16,
    "start_time": "2023-09-28T10:09:37.205Z"
   },
   {
    "duration": 17,
    "start_time": "2023-09-28T10:10:47.420Z"
   },
   {
    "duration": 22,
    "start_time": "2023-09-28T10:15:59.820Z"
   },
   {
    "duration": 25,
    "start_time": "2023-09-28T10:16:10.592Z"
   },
   {
    "duration": 20,
    "start_time": "2023-09-28T10:16:51.539Z"
   },
   {
    "duration": 19,
    "start_time": "2023-09-28T10:17:23.372Z"
   },
   {
    "duration": 18,
    "start_time": "2023-09-28T10:17:33.174Z"
   },
   {
    "duration": 19,
    "start_time": "2023-09-28T10:17:40.418Z"
   },
   {
    "duration": 18,
    "start_time": "2023-09-28T10:18:02.368Z"
   },
   {
    "duration": 19,
    "start_time": "2023-09-28T10:31:37.261Z"
   },
   {
    "duration": 1229,
    "start_time": "2023-09-28T10:32:16.534Z"
   },
   {
    "duration": 16,
    "start_time": "2023-09-28T10:32:34.365Z"
   },
   {
    "duration": 15,
    "start_time": "2023-09-28T10:33:04.436Z"
   },
   {
    "duration": 87,
    "start_time": "2023-09-28T11:48:54.413Z"
   },
   {
    "duration": 34,
    "start_time": "2023-09-28T11:48:54.756Z"
   },
   {
    "duration": 19,
    "start_time": "2023-09-28T11:48:55.137Z"
   },
   {
    "duration": 19,
    "start_time": "2023-09-28T11:48:56.763Z"
   },
   {
    "duration": 65,
    "start_time": "2023-09-28T11:48:57.241Z"
   },
   {
    "duration": 6,
    "start_time": "2023-09-28T11:48:57.899Z"
   },
   {
    "duration": 12,
    "start_time": "2023-09-28T11:48:58.343Z"
   },
   {
    "duration": 7,
    "start_time": "2023-09-28T11:48:58.983Z"
   },
   {
    "duration": 7,
    "start_time": "2023-09-28T11:48:59.381Z"
   },
   {
    "duration": 5,
    "start_time": "2023-09-28T11:48:59.768Z"
   },
   {
    "duration": 44,
    "start_time": "2023-09-28T11:49:00.378Z"
   },
   {
    "duration": 15,
    "start_time": "2023-09-28T11:49:00.794Z"
   },
   {
    "duration": 6,
    "start_time": "2023-09-28T11:49:01.444Z"
   },
   {
    "duration": 24,
    "start_time": "2023-09-28T11:49:02.106Z"
   },
   {
    "duration": 23,
    "start_time": "2023-09-28T11:49:02.512Z"
   },
   {
    "duration": 20,
    "start_time": "2023-09-28T11:49:02.727Z"
   },
   {
    "duration": 4,
    "start_time": "2023-09-28T11:49:03.406Z"
   },
   {
    "duration": 13,
    "start_time": "2023-09-28T11:49:03.618Z"
   },
   {
    "duration": 7,
    "start_time": "2023-09-28T11:49:04.095Z"
   },
   {
    "duration": 4,
    "start_time": "2023-09-28T11:49:04.529Z"
   },
   {
    "duration": 15,
    "start_time": "2023-09-28T11:49:04.756Z"
   },
   {
    "duration": 3,
    "start_time": "2023-09-28T11:49:06.143Z"
   },
   {
    "duration": 39,
    "start_time": "2023-09-28T11:49:06.149Z"
   },
   {
    "duration": 31,
    "start_time": "2023-09-28T11:49:07.877Z"
   },
   {
    "duration": 6,
    "start_time": "2023-09-28T11:49:09.344Z"
   },
   {
    "duration": 25,
    "start_time": "2023-09-28T11:49:09.995Z"
   },
   {
    "duration": 36,
    "start_time": "2023-09-28T11:49:11.145Z"
   },
   {
    "duration": 17,
    "start_time": "2023-09-28T11:50:02.225Z"
   },
   {
    "duration": 1171,
    "start_time": "2023-09-28T19:15:44.173Z"
   },
   {
    "duration": 34,
    "start_time": "2023-09-28T19:15:45.347Z"
   },
   {
    "duration": 26,
    "start_time": "2023-09-28T19:15:45.383Z"
   },
   {
    "duration": 18,
    "start_time": "2023-09-28T19:15:45.413Z"
   },
   {
    "duration": 45,
    "start_time": "2023-09-28T19:15:45.432Z"
   },
   {
    "duration": 4,
    "start_time": "2023-09-28T19:15:45.479Z"
   },
   {
    "duration": 38,
    "start_time": "2023-09-28T19:15:45.485Z"
   },
   {
    "duration": 5,
    "start_time": "2023-09-28T19:15:45.525Z"
   },
   {
    "duration": 13,
    "start_time": "2023-09-28T19:15:45.532Z"
   },
   {
    "duration": 5,
    "start_time": "2023-09-28T19:15:45.551Z"
   },
   {
    "duration": 67,
    "start_time": "2023-09-28T19:15:45.558Z"
   },
   {
    "duration": 18,
    "start_time": "2023-09-28T19:15:45.627Z"
   },
   {
    "duration": 5,
    "start_time": "2023-09-28T19:15:45.647Z"
   },
   {
    "duration": 13,
    "start_time": "2023-09-28T19:15:45.654Z"
   },
   {
    "duration": 51,
    "start_time": "2023-09-28T19:15:45.669Z"
   },
   {
    "duration": 19,
    "start_time": "2023-09-28T19:15:45.722Z"
   },
   {
    "duration": 4,
    "start_time": "2023-09-28T19:15:45.743Z"
   },
   {
    "duration": 26,
    "start_time": "2023-09-28T19:15:45.749Z"
   },
   {
    "duration": 12,
    "start_time": "2023-09-28T19:15:45.777Z"
   },
   {
    "duration": 20,
    "start_time": "2023-09-28T19:15:45.791Z"
   },
   {
    "duration": 16,
    "start_time": "2023-09-28T19:15:45.813Z"
   },
   {
    "duration": 4,
    "start_time": "2023-09-28T19:15:45.831Z"
   },
   {
    "duration": 19,
    "start_time": "2023-09-28T19:15:45.836Z"
   },
   {
    "duration": 53,
    "start_time": "2023-09-28T19:15:45.857Z"
   },
   {
    "duration": 3,
    "start_time": "2023-09-28T19:15:45.912Z"
   },
   {
    "duration": 21,
    "start_time": "2023-09-28T19:15:45.917Z"
   },
   {
    "duration": 20,
    "start_time": "2023-09-28T19:15:45.940Z"
   },
   {
    "duration": 773,
    "start_time": "2023-09-28T19:21:54.454Z"
   }
  ],
  "colab": {
   "provenance": []
  },
  "kernelspec": {
   "display_name": "Python 3 (ipykernel)",
   "language": "python",
   "name": "python3"
  },
  "language_info": {
   "codemirror_mode": {
    "name": "ipython",
    "version": 3
   },
   "file_extension": ".py",
   "mimetype": "text/x-python",
   "name": "python",
   "nbconvert_exporter": "python",
   "pygments_lexer": "ipython3",
   "version": "3.9.5"
  },
  "toc": {
   "base_numbering": 1,
   "nav_menu": {},
   "number_sections": true,
   "sideBar": true,
   "skip_h1_title": true,
   "title_cell": "Table of Contents",
   "title_sidebar": "Contents",
   "toc_cell": false,
   "toc_position": {
    "height": "calc(100% - 180px)",
    "left": "10px",
    "top": "150px",
    "width": "224.931px"
   },
   "toc_section_display": true,
   "toc_window_display": true
  }
 },
 "nbformat": 4,
 "nbformat_minor": 5
}
