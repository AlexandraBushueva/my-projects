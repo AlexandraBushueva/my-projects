{
  "cells": [
    {
      "cell_type": "markdown",
      "metadata": {
        "id": "view-in-github",
        "colab_type": "text"
      },
      "source": [
        "<a href=\"https://colab.research.google.com/github/AlexandraBushueva/my-projects/blob/main/%D0%9F%D1%80%D0%BE%D0%B5%D0%BA%D1%82_3_%D0%A1%D1%82%D0%B0%D1%82%D0%B8%D1%81%D1%82%D0%B8%D1%87%D0%B5%D1%81%D0%BA%D0%B8%D0%B9_%D0%B0%D0%BD%D0%B0%D0%BB%D0%B8%D0%B7_%D0%B4%D0%B0%D0%BD%D0%BD%D1%8B%D1%85_%D1%81%D0%B5%D1%80%D0%B2%D0%B8%D1%81%D0%B0_%D0%B0%D1%80%D0%B5%D0%BD%D0%B4%D1%8B_%D1%81%D0%B0%D0%BC%D0%BE%D0%BA%D0%B0%D1%82%D0%BE%D0%B2_GoFast.ipynb\" target=\"_parent\"><img src=\"https://colab.research.google.com/assets/colab-badge.svg\" alt=\"Open In Colab\"/></a>"
      ]
    },
    {
      "cell_type": "markdown",
      "id": "93397058",
      "metadata": {
        "id": "93397058"
      },
      "source": [
        "# Статистический анализ данных сервиса аренды самокатов GoFast\n",
        "\n",
        "Cервис аренды самокатов GoFast предоставил данные о некоторых пользователях из нескольких городов, а также об их поездках.\n",
        "\n",
        "**Цель исследования**: найти точки роста путем проведения анализа данных и проверки гипотез.\n",
        "\n",
        "\n",
        "**Задачи исследования:**\n",
        "1. Изучение общей информации о данных:\n",
        "- импорт бибилиотек\n",
        "- импорт данных из csv-файлов\n",
        "- изучение полей и их типов\n",
        "2. Предобработка данных:\n",
        "- изменение типов данных\n",
        "- удаление дубликатов\n",
        "3. Исследовательский анализ данных\n",
        "4. Объединение данных\n",
        "5. Подсчёт выручки\n",
        "6. Проверка гипотез\n",
        "7. Формирование общего вывода по исследованию\n",
        "\n",
        "Необходимо проверить следующие **гипотезы**:\n",
        "1. Важно понять, тратят ли пользователи с подпиской больше времени на поездки? Если да, то пользователи с подпиской могут быть «выгоднее» для компании.\n",
        "2. Среднее расстояние, которое проезжают пользователи с подпиской за одну поездку, не превышает 3130 метров.\n",
        "3. Помесячная выручка от пользователей с подпиской по месяцам выше, чем выручка от пользователей без подписки.\n",
        "4. Техническая команда сервиса обновила сервера, с которыми взаимодействует мобильное приложение. Она надеется, что из-за этого количество обращений в техподдержку значимо снизилось. Некоторый файл содержит для каждого пользователя данные о количестве обращений до обновления и после него. Какой тест вам понадобился бы для проверки этой гипотезы?\n",
        "   \n",
        "**Описание данных**\n",
        "В основных данных есть информация о пользователях, их поездках и подписках.\n",
        "\n",
        "*Пользователи — users_go.csv*\n",
        "- user_id - уникальный идентификатор пользователя\n",
        "- name - имя пользователя\n",
        "- age - возраст\n",
        "- city - город\n",
        "- subscription_type\t- тип подписки (free, ultra)\n",
        "\n",
        "*Поездки — rides_go.csv*\n",
        "- user_id\t- уникальный идентификатор пользователя\n",
        "- distance\t- расстояние, которое пользователь проехал в текущей сессии (в метрах)\n",
        "- duration\t- продолжительность сессии (в минутах) — время с того момента, как пользователь нажал кнопку «Начать поездку» до момента, как он нажал кнопку «Завершить поездку»\n",
        "- date - дата совершения поездки\n",
        "\n",
        "*Подписки — subscriptions_go.csv*\n",
        "- subscription_type\t- тип подписки\n",
        "- minute_price\t- стоимость одной минуты поездки по данной подписке\n",
        "- start_ride_price\t- стоимость начала поездки\n",
        "- subscription_fee\t- стоимость ежемесячного платежа\n",
        "\n",
        "Чтобы совершать поездки по городу, пользователи сервиса GoFast пользуются мобильным приложением. Сервисом можно пользоваться:\n",
        "- без подписки\n",
        "   -  абонентская плата отсутствует;\n",
        "   - стоимость одной минуты поездки — 8 рублей;\n",
        "   - стоимость старта (начала поездки) — 50 рублей;\n",
        "- с подпиской Ultra\n",
        "   - абонентская плата — 199 рублей в месяц;\n",
        "   - стоимость одной минуты поездки — 6 рублей;\n",
        "   - стоимость старта — бесплатно."
      ]
    },
    {
      "cell_type": "code",
      "execution_count": null,
      "id": "bf6aa77a",
      "metadata": {
        "id": "bf6aa77a"
      },
      "outputs": [],
      "source": [
        "import pandas as pd\n",
        "import matplotlib.pyplot as plt\n",
        "import numpy as np\n",
        "from scipy import stats as st"
      ]
    },
    {
      "cell_type": "markdown",
      "id": "c42cbe00",
      "metadata": {
        "id": "c42cbe00"
      },
      "source": [
        "#### Шаг 1. Загрузка данных: импорт бибилиотек, импорт данных из csv-файлов, изучение полей и их типов"
      ]
    },
    {
      "cell_type": "code",
      "execution_count": null,
      "id": "eff9f206",
      "metadata": {
        "id": "eff9f206"
      },
      "outputs": [],
      "source": [
        "users = pd.read_csv('/datasets/users_go.csv')\n",
        "rides = pd.read_csv('/datasets/rides_go.csv')\n",
        "subscriptions = pd.read_csv('/datasets/subscriptions_go.csv')"
      ]
    },
    {
      "cell_type": "code",
      "execution_count": null,
      "id": "248a8054",
      "metadata": {
        "id": "248a8054",
        "outputId": "9e358460-0c1c-49c1-f886-408fa335f7d7"
      },
      "outputs": [
        {
          "data": {
            "text/html": [
              "<div>\n",
              "<style scoped>\n",
              "    .dataframe tbody tr th:only-of-type {\n",
              "        vertical-align: middle;\n",
              "    }\n",
              "\n",
              "    .dataframe tbody tr th {\n",
              "        vertical-align: top;\n",
              "    }\n",
              "\n",
              "    .dataframe thead th {\n",
              "        text-align: right;\n",
              "    }\n",
              "</style>\n",
              "<table border=\"1\" class=\"dataframe\">\n",
              "  <thead>\n",
              "    <tr style=\"text-align: right;\">\n",
              "      <th></th>\n",
              "      <th>user_id</th>\n",
              "      <th>name</th>\n",
              "      <th>age</th>\n",
              "      <th>city</th>\n",
              "      <th>subscription_type</th>\n",
              "    </tr>\n",
              "  </thead>\n",
              "  <tbody>\n",
              "    <tr>\n",
              "      <th>0</th>\n",
              "      <td>1</td>\n",
              "      <td>Кира</td>\n",
              "      <td>22</td>\n",
              "      <td>Тюмень</td>\n",
              "      <td>ultra</td>\n",
              "    </tr>\n",
              "    <tr>\n",
              "      <th>1</th>\n",
              "      <td>2</td>\n",
              "      <td>Станислав</td>\n",
              "      <td>31</td>\n",
              "      <td>Омск</td>\n",
              "      <td>ultra</td>\n",
              "    </tr>\n",
              "    <tr>\n",
              "      <th>2</th>\n",
              "      <td>3</td>\n",
              "      <td>Алексей</td>\n",
              "      <td>20</td>\n",
              "      <td>Москва</td>\n",
              "      <td>ultra</td>\n",
              "    </tr>\n",
              "    <tr>\n",
              "      <th>3</th>\n",
              "      <td>4</td>\n",
              "      <td>Константин</td>\n",
              "      <td>26</td>\n",
              "      <td>Ростов-на-Дону</td>\n",
              "      <td>ultra</td>\n",
              "    </tr>\n",
              "    <tr>\n",
              "      <th>4</th>\n",
              "      <td>5</td>\n",
              "      <td>Адель</td>\n",
              "      <td>28</td>\n",
              "      <td>Омск</td>\n",
              "      <td>ultra</td>\n",
              "    </tr>\n",
              "    <tr>\n",
              "      <th>5</th>\n",
              "      <td>6</td>\n",
              "      <td>Регина</td>\n",
              "      <td>25</td>\n",
              "      <td>Краснодар</td>\n",
              "      <td>ultra</td>\n",
              "    </tr>\n",
              "    <tr>\n",
              "      <th>6</th>\n",
              "      <td>7</td>\n",
              "      <td>Игорь</td>\n",
              "      <td>23</td>\n",
              "      <td>Омск</td>\n",
              "      <td>ultra</td>\n",
              "    </tr>\n",
              "    <tr>\n",
              "      <th>7</th>\n",
              "      <td>8</td>\n",
              "      <td>Юрий</td>\n",
              "      <td>23</td>\n",
              "      <td>Краснодар</td>\n",
              "      <td>ultra</td>\n",
              "    </tr>\n",
              "    <tr>\n",
              "      <th>8</th>\n",
              "      <td>9</td>\n",
              "      <td>Ян</td>\n",
              "      <td>21</td>\n",
              "      <td>Пятигорск</td>\n",
              "      <td>ultra</td>\n",
              "    </tr>\n",
              "    <tr>\n",
              "      <th>9</th>\n",
              "      <td>10</td>\n",
              "      <td>Валерий</td>\n",
              "      <td>18</td>\n",
              "      <td>Екатеринбург</td>\n",
              "      <td>ultra</td>\n",
              "    </tr>\n",
              "  </tbody>\n",
              "</table>\n",
              "</div>"
            ],
            "text/plain": [
              "   user_id        name  age            city subscription_type\n",
              "0        1        Кира   22          Тюмень             ultra\n",
              "1        2   Станислав   31            Омск             ultra\n",
              "2        3     Алексей   20          Москва             ultra\n",
              "3        4  Константин   26  Ростов-на-Дону             ultra\n",
              "4        5       Адель   28            Омск             ultra\n",
              "5        6      Регина   25       Краснодар             ultra\n",
              "6        7       Игорь   23            Омск             ultra\n",
              "7        8        Юрий   23       Краснодар             ultra\n",
              "8        9          Ян   21       Пятигорск             ultra\n",
              "9       10     Валерий   18    Екатеринбург             ultra"
            ]
          },
          "execution_count": 3,
          "metadata": {},
          "output_type": "execute_result"
        }
      ],
      "source": [
        "users.head(10)"
      ]
    },
    {
      "cell_type": "code",
      "execution_count": null,
      "id": "2755287f",
      "metadata": {
        "id": "2755287f",
        "outputId": "c2543afa-663b-4ef5-96f9-55b51e6e5399"
      },
      "outputs": [
        {
          "name": "stdout",
          "output_type": "stream",
          "text": [
            "<class 'pandas.core.frame.DataFrame'>\n",
            "RangeIndex: 1565 entries, 0 to 1564\n",
            "Data columns (total 5 columns):\n",
            " #   Column             Non-Null Count  Dtype \n",
            "---  ------             --------------  ----- \n",
            " 0   user_id            1565 non-null   int64 \n",
            " 1   name               1565 non-null   object\n",
            " 2   age                1565 non-null   int64 \n",
            " 3   city               1565 non-null   object\n",
            " 4   subscription_type  1565 non-null   object\n",
            "dtypes: int64(2), object(3)\n",
            "memory usage: 61.3+ KB\n"
          ]
        }
      ],
      "source": [
        "users.info()"
      ]
    },
    {
      "cell_type": "markdown",
      "id": "346a81c4",
      "metadata": {
        "id": "346a81c4"
      },
      "source": [
        "Пропущенных значений в полях нет, типы данных указаны корректно"
      ]
    },
    {
      "cell_type": "code",
      "execution_count": null,
      "id": "b23977e9",
      "metadata": {
        "id": "b23977e9",
        "outputId": "4a5ab355-a439-4722-b927-bcc0122bdd93"
      },
      "outputs": [
        {
          "data": {
            "text/html": [
              "<div>\n",
              "<style scoped>\n",
              "    .dataframe tbody tr th:only-of-type {\n",
              "        vertical-align: middle;\n",
              "    }\n",
              "\n",
              "    .dataframe tbody tr th {\n",
              "        vertical-align: top;\n",
              "    }\n",
              "\n",
              "    .dataframe thead th {\n",
              "        text-align: right;\n",
              "    }\n",
              "</style>\n",
              "<table border=\"1\" class=\"dataframe\">\n",
              "  <thead>\n",
              "    <tr style=\"text-align: right;\">\n",
              "      <th></th>\n",
              "      <th>user_id</th>\n",
              "      <th>distance</th>\n",
              "      <th>duration</th>\n",
              "      <th>date</th>\n",
              "    </tr>\n",
              "  </thead>\n",
              "  <tbody>\n",
              "    <tr>\n",
              "      <th>0</th>\n",
              "      <td>1</td>\n",
              "      <td>4409.919140</td>\n",
              "      <td>25.599769</td>\n",
              "      <td>2021-01-01</td>\n",
              "    </tr>\n",
              "    <tr>\n",
              "      <th>1</th>\n",
              "      <td>1</td>\n",
              "      <td>2617.592153</td>\n",
              "      <td>15.816871</td>\n",
              "      <td>2021-01-18</td>\n",
              "    </tr>\n",
              "    <tr>\n",
              "      <th>2</th>\n",
              "      <td>1</td>\n",
              "      <td>754.159807</td>\n",
              "      <td>6.232113</td>\n",
              "      <td>2021-04-20</td>\n",
              "    </tr>\n",
              "    <tr>\n",
              "      <th>3</th>\n",
              "      <td>1</td>\n",
              "      <td>2694.783254</td>\n",
              "      <td>18.511000</td>\n",
              "      <td>2021-08-11</td>\n",
              "    </tr>\n",
              "    <tr>\n",
              "      <th>4</th>\n",
              "      <td>1</td>\n",
              "      <td>4028.687306</td>\n",
              "      <td>26.265803</td>\n",
              "      <td>2021-08-28</td>\n",
              "    </tr>\n",
              "    <tr>\n",
              "      <th>5</th>\n",
              "      <td>1</td>\n",
              "      <td>2770.890808</td>\n",
              "      <td>16.650138</td>\n",
              "      <td>2021-10-09</td>\n",
              "    </tr>\n",
              "    <tr>\n",
              "      <th>6</th>\n",
              "      <td>1</td>\n",
              "      <td>3039.020292</td>\n",
              "      <td>14.927879</td>\n",
              "      <td>2021-10-19</td>\n",
              "    </tr>\n",
              "    <tr>\n",
              "      <th>7</th>\n",
              "      <td>1</td>\n",
              "      <td>2842.118050</td>\n",
              "      <td>23.117468</td>\n",
              "      <td>2021-11-06</td>\n",
              "    </tr>\n",
              "    <tr>\n",
              "      <th>8</th>\n",
              "      <td>1</td>\n",
              "      <td>3412.690668</td>\n",
              "      <td>15.238072</td>\n",
              "      <td>2021-11-14</td>\n",
              "    </tr>\n",
              "    <tr>\n",
              "      <th>9</th>\n",
              "      <td>1</td>\n",
              "      <td>748.690645</td>\n",
              "      <td>15.041884</td>\n",
              "      <td>2021-11-22</td>\n",
              "    </tr>\n",
              "  </tbody>\n",
              "</table>\n",
              "</div>"
            ],
            "text/plain": [
              "   user_id     distance   duration        date\n",
              "0        1  4409.919140  25.599769  2021-01-01\n",
              "1        1  2617.592153  15.816871  2021-01-18\n",
              "2        1   754.159807   6.232113  2021-04-20\n",
              "3        1  2694.783254  18.511000  2021-08-11\n",
              "4        1  4028.687306  26.265803  2021-08-28\n",
              "5        1  2770.890808  16.650138  2021-10-09\n",
              "6        1  3039.020292  14.927879  2021-10-19\n",
              "7        1  2842.118050  23.117468  2021-11-06\n",
              "8        1  3412.690668  15.238072  2021-11-14\n",
              "9        1   748.690645  15.041884  2021-11-22"
            ]
          },
          "execution_count": 5,
          "metadata": {},
          "output_type": "execute_result"
        }
      ],
      "source": [
        "rides.head(10)"
      ]
    },
    {
      "cell_type": "code",
      "execution_count": null,
      "id": "02157dae",
      "metadata": {
        "id": "02157dae",
        "outputId": "ddad7cf1-5f70-4ab5-c782-856582db0b30"
      },
      "outputs": [
        {
          "name": "stdout",
          "output_type": "stream",
          "text": [
            "<class 'pandas.core.frame.DataFrame'>\n",
            "RangeIndex: 18068 entries, 0 to 18067\n",
            "Data columns (total 4 columns):\n",
            " #   Column    Non-Null Count  Dtype  \n",
            "---  ------    --------------  -----  \n",
            " 0   user_id   18068 non-null  int64  \n",
            " 1   distance  18068 non-null  float64\n",
            " 2   duration  18068 non-null  float64\n",
            " 3   date      18068 non-null  object \n",
            "dtypes: float64(2), int64(1), object(1)\n",
            "memory usage: 564.8+ KB\n"
          ]
        }
      ],
      "source": [
        "rides.info()"
      ]
    },
    {
      "cell_type": "markdown",
      "id": "e312a8b5",
      "metadata": {
        "id": "e312a8b5"
      },
      "source": [
        "Пропущенных значений нет.\n",
        "Необходимо изменить тип данных в столбце: **date:** object → datetime. Необходимо перевести поле в формат даты."
      ]
    },
    {
      "cell_type": "code",
      "execution_count": null,
      "id": "94f64228",
      "metadata": {
        "id": "94f64228",
        "outputId": "5d1446f9-7107-4246-a2d3-54e4f76eaba6"
      },
      "outputs": [
        {
          "data": {
            "text/html": [
              "<div>\n",
              "<style scoped>\n",
              "    .dataframe tbody tr th:only-of-type {\n",
              "        vertical-align: middle;\n",
              "    }\n",
              "\n",
              "    .dataframe tbody tr th {\n",
              "        vertical-align: top;\n",
              "    }\n",
              "\n",
              "    .dataframe thead th {\n",
              "        text-align: right;\n",
              "    }\n",
              "</style>\n",
              "<table border=\"1\" class=\"dataframe\">\n",
              "  <thead>\n",
              "    <tr style=\"text-align: right;\">\n",
              "      <th></th>\n",
              "      <th>subscription_type</th>\n",
              "      <th>minute_price</th>\n",
              "      <th>start_ride_price</th>\n",
              "      <th>subscription_fee</th>\n",
              "    </tr>\n",
              "  </thead>\n",
              "  <tbody>\n",
              "    <tr>\n",
              "      <th>0</th>\n",
              "      <td>free</td>\n",
              "      <td>8</td>\n",
              "      <td>50</td>\n",
              "      <td>0</td>\n",
              "    </tr>\n",
              "    <tr>\n",
              "      <th>1</th>\n",
              "      <td>ultra</td>\n",
              "      <td>6</td>\n",
              "      <td>0</td>\n",
              "      <td>199</td>\n",
              "    </tr>\n",
              "  </tbody>\n",
              "</table>\n",
              "</div>"
            ],
            "text/plain": [
              "  subscription_type  minute_price  start_ride_price  subscription_fee\n",
              "0              free             8                50                 0\n",
              "1             ultra             6                 0               199"
            ]
          },
          "execution_count": 7,
          "metadata": {},
          "output_type": "execute_result"
        }
      ],
      "source": [
        "subscriptions"
      ]
    },
    {
      "cell_type": "code",
      "execution_count": null,
      "id": "a285e6bd",
      "metadata": {
        "id": "a285e6bd",
        "outputId": "97f42278-c62f-451d-fbf4-293391897310"
      },
      "outputs": [
        {
          "name": "stdout",
          "output_type": "stream",
          "text": [
            "<class 'pandas.core.frame.DataFrame'>\n",
            "RangeIndex: 2 entries, 0 to 1\n",
            "Data columns (total 4 columns):\n",
            " #   Column             Non-Null Count  Dtype \n",
            "---  ------             --------------  ----- \n",
            " 0   subscription_type  2 non-null      object\n",
            " 1   minute_price       2 non-null      int64 \n",
            " 2   start_ride_price   2 non-null      int64 \n",
            " 3   subscription_fee   2 non-null      int64 \n",
            "dtypes: int64(3), object(1)\n",
            "memory usage: 192.0+ bytes\n"
          ]
        }
      ],
      "source": [
        "subscriptions.info()"
      ]
    },
    {
      "cell_type": "markdown",
      "id": "3dd0a72c",
      "metadata": {
        "id": "3dd0a72c"
      },
      "source": [
        "Пропущенных значений в полях нет, типы данных указаны корректно"
      ]
    },
    {
      "cell_type": "markdown",
      "id": "e95ebca7",
      "metadata": {
        "id": "e95ebca7"
      },
      "source": [
        "#### Шаг 2. Предобработка данных"
      ]
    },
    {
      "cell_type": "markdown",
      "id": "91959c09",
      "metadata": {
        "id": "91959c09"
      },
      "source": [
        "**2.1 Приведем столбец date к типу даты pandas**"
      ]
    },
    {
      "cell_type": "code",
      "execution_count": null,
      "id": "af6d202c",
      "metadata": {
        "id": "af6d202c",
        "outputId": "f561ae1f-aff4-4bd1-b265-0fd1fc103d25"
      },
      "outputs": [
        {
          "name": "stdout",
          "output_type": "stream",
          "text": [
            "<class 'pandas.core.frame.DataFrame'>\n",
            "RangeIndex: 18068 entries, 0 to 18067\n",
            "Data columns (total 4 columns):\n",
            " #   Column    Non-Null Count  Dtype         \n",
            "---  ------    --------------  -----         \n",
            " 0   user_id   18068 non-null  int64         \n",
            " 1   distance  18068 non-null  float64       \n",
            " 2   duration  18068 non-null  float64       \n",
            " 3   date      18068 non-null  datetime64[ns]\n",
            "dtypes: datetime64[ns](1), float64(2), int64(1)\n",
            "memory usage: 564.8 KB\n"
          ]
        }
      ],
      "source": [
        "#Меняем тип данных на datetime\n",
        "rides['date'] = pd.to_datetime(rides['date'], format='%Y-%m-%dT%H:%M:%S')\n",
        "\n",
        "#Проверяем\n",
        "rides.info()"
      ]
    },
    {
      "cell_type": "markdown",
      "id": "4f0549c9",
      "metadata": {
        "id": "4f0549c9"
      },
      "source": [
        "**2.2  Создадим новый столбец с номером месяца на основе столбца date**"
      ]
    },
    {
      "cell_type": "code",
      "execution_count": null,
      "id": "2ac9a1b2",
      "metadata": {
        "id": "2ac9a1b2",
        "outputId": "2f70522f-fc5a-4325-b100-47e43c50a6d4"
      },
      "outputs": [
        {
          "data": {
            "text/html": [
              "<div>\n",
              "<style scoped>\n",
              "    .dataframe tbody tr th:only-of-type {\n",
              "        vertical-align: middle;\n",
              "    }\n",
              "\n",
              "    .dataframe tbody tr th {\n",
              "        vertical-align: top;\n",
              "    }\n",
              "\n",
              "    .dataframe thead th {\n",
              "        text-align: right;\n",
              "    }\n",
              "</style>\n",
              "<table border=\"1\" class=\"dataframe\">\n",
              "  <thead>\n",
              "    <tr style=\"text-align: right;\">\n",
              "      <th></th>\n",
              "      <th>user_id</th>\n",
              "      <th>distance</th>\n",
              "      <th>duration</th>\n",
              "      <th>date</th>\n",
              "      <th>month_exposition</th>\n",
              "    </tr>\n",
              "  </thead>\n",
              "  <tbody>\n",
              "    <tr>\n",
              "      <th>0</th>\n",
              "      <td>1</td>\n",
              "      <td>4409.919140</td>\n",
              "      <td>25.599769</td>\n",
              "      <td>2021-01-01</td>\n",
              "      <td>1</td>\n",
              "    </tr>\n",
              "    <tr>\n",
              "      <th>1</th>\n",
              "      <td>1</td>\n",
              "      <td>2617.592153</td>\n",
              "      <td>15.816871</td>\n",
              "      <td>2021-01-18</td>\n",
              "      <td>1</td>\n",
              "    </tr>\n",
              "    <tr>\n",
              "      <th>2</th>\n",
              "      <td>1</td>\n",
              "      <td>754.159807</td>\n",
              "      <td>6.232113</td>\n",
              "      <td>2021-04-20</td>\n",
              "      <td>4</td>\n",
              "    </tr>\n",
              "    <tr>\n",
              "      <th>3</th>\n",
              "      <td>1</td>\n",
              "      <td>2694.783254</td>\n",
              "      <td>18.511000</td>\n",
              "      <td>2021-08-11</td>\n",
              "      <td>8</td>\n",
              "    </tr>\n",
              "    <tr>\n",
              "      <th>4</th>\n",
              "      <td>1</td>\n",
              "      <td>4028.687306</td>\n",
              "      <td>26.265803</td>\n",
              "      <td>2021-08-28</td>\n",
              "      <td>8</td>\n",
              "    </tr>\n",
              "    <tr>\n",
              "      <th>...</th>\n",
              "      <td>...</td>\n",
              "      <td>...</td>\n",
              "      <td>...</td>\n",
              "      <td>...</td>\n",
              "      <td>...</td>\n",
              "    </tr>\n",
              "    <tr>\n",
              "      <th>18063</th>\n",
              "      <td>1534</td>\n",
              "      <td>3781.098080</td>\n",
              "      <td>19.822962</td>\n",
              "      <td>2021-11-04</td>\n",
              "      <td>11</td>\n",
              "    </tr>\n",
              "    <tr>\n",
              "      <th>18064</th>\n",
              "      <td>1534</td>\n",
              "      <td>2840.423057</td>\n",
              "      <td>21.409799</td>\n",
              "      <td>2021-11-16</td>\n",
              "      <td>11</td>\n",
              "    </tr>\n",
              "    <tr>\n",
              "      <th>18065</th>\n",
              "      <td>1534</td>\n",
              "      <td>3826.185507</td>\n",
              "      <td>18.435051</td>\n",
              "      <td>2021-11-18</td>\n",
              "      <td>11</td>\n",
              "    </tr>\n",
              "    <tr>\n",
              "      <th>18066</th>\n",
              "      <td>1534</td>\n",
              "      <td>2902.308661</td>\n",
              "      <td>16.674362</td>\n",
              "      <td>2021-11-27</td>\n",
              "      <td>11</td>\n",
              "    </tr>\n",
              "    <tr>\n",
              "      <th>18067</th>\n",
              "      <td>1534</td>\n",
              "      <td>2371.711192</td>\n",
              "      <td>15.893917</td>\n",
              "      <td>2021-12-29</td>\n",
              "      <td>12</td>\n",
              "    </tr>\n",
              "  </tbody>\n",
              "</table>\n",
              "<p>18068 rows × 5 columns</p>\n",
              "</div>"
            ],
            "text/plain": [
              "       user_id     distance   duration       date  month_exposition\n",
              "0            1  4409.919140  25.599769 2021-01-01                 1\n",
              "1            1  2617.592153  15.816871 2021-01-18                 1\n",
              "2            1   754.159807   6.232113 2021-04-20                 4\n",
              "3            1  2694.783254  18.511000 2021-08-11                 8\n",
              "4            1  4028.687306  26.265803 2021-08-28                 8\n",
              "...        ...          ...        ...        ...               ...\n",
              "18063     1534  3781.098080  19.822962 2021-11-04                11\n",
              "18064     1534  2840.423057  21.409799 2021-11-16                11\n",
              "18065     1534  3826.185507  18.435051 2021-11-18                11\n",
              "18066     1534  2902.308661  16.674362 2021-11-27                11\n",
              "18067     1534  2371.711192  15.893917 2021-12-29                12\n",
              "\n",
              "[18068 rows x 5 columns]"
            ]
          },
          "execution_count": 10,
          "metadata": {},
          "output_type": "execute_result"
        }
      ],
      "source": [
        "#Добавляем столбец месяца\n",
        "rides['month_exposition'] = rides['date'].dt.month\n",
        "\n",
        "#Проверяем вывод\n",
        "rides"
      ]
    },
    {
      "cell_type": "markdown",
      "id": "260e5edc",
      "metadata": {
        "id": "260e5edc"
      },
      "source": [
        "**2.3 Проверим наличие дубликатов в датафреймах и обработаем их**"
      ]
    },
    {
      "cell_type": "code",
      "execution_count": null,
      "id": "84ad3839",
      "metadata": {
        "id": "84ad3839",
        "outputId": "a567f8d7-d690-4edb-89cf-5d7d7a5e6371"
      },
      "outputs": [
        {
          "data": {
            "text/plain": [
              "31"
            ]
          },
          "execution_count": 11,
          "metadata": {},
          "output_type": "execute_result"
        }
      ],
      "source": [
        "#Проверяем наличие дубликатов\n",
        "users.duplicated().sum()"
      ]
    },
    {
      "cell_type": "code",
      "execution_count": null,
      "id": "a129bc8a",
      "metadata": {
        "id": "a129bc8a",
        "outputId": "542047d2-3b4d-4c49-9043-06a23fc08174"
      },
      "outputs": [
        {
          "data": {
            "text/plain": [
              "0"
            ]
          },
          "execution_count": 12,
          "metadata": {},
          "output_type": "execute_result"
        }
      ],
      "source": [
        "#удялем дубликаты\n",
        "users = users.drop_duplicates()\n",
        "\n",
        "#Проверяем, что дубликаты удалены\n",
        "users.duplicated().sum()"
      ]
    },
    {
      "cell_type": "code",
      "execution_count": null,
      "id": "69bff834",
      "metadata": {
        "id": "69bff834",
        "outputId": "501c07a3-ce62-47fe-a4ac-6ac3cff09a11"
      },
      "outputs": [
        {
          "data": {
            "text/plain": [
              "0"
            ]
          },
          "execution_count": 13,
          "metadata": {},
          "output_type": "execute_result"
        }
      ],
      "source": [
        "#Проверяем наличие дубликатов\n",
        "rides.duplicated().sum()"
      ]
    },
    {
      "cell_type": "markdown",
      "id": "dad7aa37",
      "metadata": {
        "id": "dad7aa37"
      },
      "source": [
        "Дубликатов в таблице rides нет"
      ]
    },
    {
      "cell_type": "markdown",
      "id": "212593c7",
      "metadata": {
        "id": "212593c7"
      },
      "source": [
        "#### Шаг 3. Исследовательский анализ данных"
      ]
    },
    {
      "cell_type": "markdown",
      "id": "38eb69cf",
      "metadata": {
        "id": "38eb69cf"
      },
      "source": [
        "**3.1 Частота встречаемости городов**"
      ]
    },
    {
      "cell_type": "code",
      "execution_count": null,
      "id": "e38aada4",
      "metadata": {
        "id": "e38aada4",
        "outputId": "56eb6cfb-18c7-460c-e05b-0d497ea1549c"
      },
      "outputs": [
        {
          "data": {
            "text/html": [
              "<div>\n",
              "<style scoped>\n",
              "    .dataframe tbody tr th:only-of-type {\n",
              "        vertical-align: middle;\n",
              "    }\n",
              "\n",
              "    .dataframe tbody tr th {\n",
              "        vertical-align: top;\n",
              "    }\n",
              "\n",
              "    .dataframe thead th {\n",
              "        text-align: right;\n",
              "    }\n",
              "</style>\n",
              "<table border=\"1\" class=\"dataframe\">\n",
              "  <thead>\n",
              "    <tr style=\"text-align: right;\">\n",
              "      <th></th>\n",
              "      <th>Кол-во пользователей</th>\n",
              "      <th>Доля пользователей</th>\n",
              "    </tr>\n",
              "    <tr>\n",
              "      <th>city</th>\n",
              "      <th></th>\n",
              "      <th></th>\n",
              "    </tr>\n",
              "  </thead>\n",
              "  <tbody>\n",
              "    <tr>\n",
              "      <th>Пятигорск</th>\n",
              "      <td>219</td>\n",
              "      <td>14.3%</td>\n",
              "    </tr>\n",
              "    <tr>\n",
              "      <th>Екатеринбург</th>\n",
              "      <td>204</td>\n",
              "      <td>13.3%</td>\n",
              "    </tr>\n",
              "    <tr>\n",
              "      <th>Ростов-на-Дону</th>\n",
              "      <td>198</td>\n",
              "      <td>12.9%</td>\n",
              "    </tr>\n",
              "    <tr>\n",
              "      <th>Краснодар</th>\n",
              "      <td>193</td>\n",
              "      <td>12.6%</td>\n",
              "    </tr>\n",
              "    <tr>\n",
              "      <th>Сочи</th>\n",
              "      <td>189</td>\n",
              "      <td>12.3%</td>\n",
              "    </tr>\n",
              "    <tr>\n",
              "      <th>Омск</th>\n",
              "      <td>183</td>\n",
              "      <td>11.9%</td>\n",
              "    </tr>\n",
              "    <tr>\n",
              "      <th>Тюмень</th>\n",
              "      <td>180</td>\n",
              "      <td>11.7%</td>\n",
              "    </tr>\n",
              "    <tr>\n",
              "      <th>Москва</th>\n",
              "      <td>168</td>\n",
              "      <td>11.0%</td>\n",
              "    </tr>\n",
              "  </tbody>\n",
              "</table>\n",
              "</div>"
            ],
            "text/plain": [
              "                Кол-во пользователей Доля пользователей\n",
              "city                                                   \n",
              "Пятигорск                        219              14.3%\n",
              "Екатеринбург                     204              13.3%\n",
              "Ростов-на-Дону                   198              12.9%\n",
              "Краснодар                        193              12.6%\n",
              "Сочи                             189              12.3%\n",
              "Омск                             183              11.9%\n",
              "Тюмень                           180              11.7%\n",
              "Москва                           168              11.0%"
            ]
          },
          "execution_count": 14,
          "metadata": {},
          "output_type": "execute_result"
        }
      ],
      "source": [
        "# Группируем по типу подписки и считаем количество пользователей\n",
        "users_count = users.groupby('city')['user_id'].count()\n",
        "\n",
        "# Рассчитываем процент пользователей в каждом типе подписки относительно общего числа пользователей\n",
        "users_percent = (users_count / users['user_id'].count()).map('{:.1%}'.format)\n",
        "\n",
        "# Объединяем оба результата в одну таблицу\n",
        "users_city = pd.concat([users_count, users_percent], axis=1)\n",
        "users_city.columns = ['Кол-во пользователей', 'Доля пользователей']\n",
        "\n",
        "# Сортируем данные и выводим на экран\n",
        "users_city.sort_values('Доля пользователей', ascending = False)"
      ]
    },
    {
      "cell_type": "code",
      "execution_count": null,
      "id": "012c7c6e",
      "metadata": {
        "id": "012c7c6e",
        "outputId": "6f2f8940-7fba-48f2-a839-9ff8e70cf560"
      },
      "outputs": [
        {
          "data": {
            "image/png": "[encoded data removed]",
            "text/plain": [
              "<Figure size 720x432 with 1 Axes>"
            ]
          },
          "metadata": {
            "needs_background": "light"
          },
          "output_type": "display_data"
        }
      ],
      "source": [
        "# Сортируем данные по доле пользователей в убывающем порядке\n",
        "users_city = users_city.sort_values('Доля пользователей', ascending=True)\n",
        "\n",
        "# Создаем столбчатую диаграмму\n",
        "plt.figure(figsize=(10, 6))\n",
        "plt.bar(users_city.index, users_city['Доля пользователей'])\n",
        "plt.xlabel('Город')\n",
        "plt.ylabel('Доля пользователей')\n",
        "plt.title('Доля пользователей по городам')\n",
        "plt.xticks(rotation=45);"
      ]
    },
    {
      "cell_type": "code",
      "execution_count": null,
      "id": "fd3508a2",
      "metadata": {
        "id": "fd3508a2",
        "outputId": "da92a7fb-dd7b-46bb-e031-433ae352ec26"
      },
      "outputs": [
        {
          "data": {
            "image/png": "[encoded data removed]",
            "text/plain": [
              "<Figure size 432x432 with 1 Axes>"
            ]
          },
          "metadata": {},
          "output_type": "display_data"
        }
      ],
      "source": [
        "# Создаем круговую диаграмму\n",
        "plt.figure(figsize=(6, 6))\n",
        "plt.pie(users_count, labels=users_count.index, autopct='%1.1f%%', startangle=140)\n",
        "plt.title('Доля пользователей по городам')\n",
        "\n",
        "# Выводим на экран\n",
        "plt.show()"
      ]
    },
    {
      "cell_type": "markdown",
      "id": "56a73d80",
      "metadata": {
        "id": "56a73d80"
      },
      "source": [
        "<div class=\"alert alert-danger\">\n",
        "<b>Комментарий ревьюера:</b>☁️\n",
        "\n",
        "В работе ожидалось больше  визуализаций, прошу добавить здесь и для визуализации распределений тарифов какие-нибудь графики\n",
        "</div>"
      ]
    },
    {
      "cell_type": "markdown",
      "id": "1c4d090c",
      "metadata": {
        "id": "1c4d090c"
      },
      "source": [
        "Основная доля пользователей сервиса находится в Пятигорске, Екатеренбруге, Ростове-на-Дону.\n",
        "\n",
        "Интересно, что сервис реже используется в Москве, скорее всего из-за конкуренции с другими схожими сервисами. И нет пользоватеелй из второго самого крупного города в России - Санкт-Петербурга."
      ]
    },
    {
      "cell_type": "markdown",
      "id": "f6a9582b",
      "metadata": {
        "id": "f6a9582b"
      },
      "source": [
        "<div class=\"alert alert-success\">\n",
        "<b>Комментарий ревьюера v2:</b>☀️\n",
        "   \n",
        "Спасибо, когда секторов многовато рекомендовал бы столбчатую диаграмму использовать\n",
        "\n",
        "</div>"
      ]
    },
    {
      "cell_type": "markdown",
      "id": "aa9008b2",
      "metadata": {
        "id": "aa9008b2"
      },
      "source": [
        "**3.2 Соотношение пользователей с подпиской и без подписки**"
      ]
    },
    {
      "cell_type": "code",
      "execution_count": null,
      "id": "04f20a5c",
      "metadata": {
        "id": "04f20a5c",
        "outputId": "69f423cf-0498-4511-de9e-9e5d9f9b6612"
      },
      "outputs": [
        {
          "data": {
            "text/html": [
              "<div>\n",
              "<style scoped>\n",
              "    .dataframe tbody tr th:only-of-type {\n",
              "        vertical-align: middle;\n",
              "    }\n",
              "\n",
              "    .dataframe tbody tr th {\n",
              "        vertical-align: top;\n",
              "    }\n",
              "\n",
              "    .dataframe thead th {\n",
              "        text-align: right;\n",
              "    }\n",
              "</style>\n",
              "<table border=\"1\" class=\"dataframe\">\n",
              "  <thead>\n",
              "    <tr style=\"text-align: right;\">\n",
              "      <th></th>\n",
              "      <th>Кол-во пользователей</th>\n",
              "      <th>Доля пользователей</th>\n",
              "    </tr>\n",
              "    <tr>\n",
              "      <th>subscription_type</th>\n",
              "      <th></th>\n",
              "      <th></th>\n",
              "    </tr>\n",
              "  </thead>\n",
              "  <tbody>\n",
              "    <tr>\n",
              "      <th>free</th>\n",
              "      <td>835</td>\n",
              "      <td>54.4%</td>\n",
              "    </tr>\n",
              "    <tr>\n",
              "      <th>ultra</th>\n",
              "      <td>699</td>\n",
              "      <td>45.6%</td>\n",
              "    </tr>\n",
              "  </tbody>\n",
              "</table>\n",
              "</div>"
            ],
            "text/plain": [
              "                   Кол-во пользователей Доля пользователей\n",
              "subscription_type                                         \n",
              "free                                835              54.4%\n",
              "ultra                               699              45.6%"
            ]
          },
          "execution_count": 17,
          "metadata": {},
          "output_type": "execute_result"
        }
      ],
      "source": [
        "# Группируем по типу подписки и считаем количество пользователей\n",
        "subscription_count = users.groupby('subscription_type')['user_id'].count()\n",
        "\n",
        "# Рассчитываем процент пользователей в каждом типе подписки относительно общего числа пользователей\n",
        "subscription_percent = (subscription_count / users['user_id'].count()).map('{:.1%}'.format)\n",
        "\n",
        "# Объединяем оба результата в одну таблицу\n",
        "subscription_city = pd.concat([subscription_count, subscription_percent], axis=1)\n",
        "subscription_city.columns = ['Кол-во пользователей', 'Доля пользователей']\n",
        "\n",
        "# Сортируем данные и выводим на экран\n",
        "subscription_city.sort_values('Доля пользователей', ascending = False)\n"
      ]
    },
    {
      "cell_type": "code",
      "execution_count": null,
      "id": "4b1c0636",
      "metadata": {
        "id": "4b1c0636",
        "outputId": "358b61cd-5461-4f69-9a5b-126090c041f1"
      },
      "outputs": [
        {
          "data": {
            "image/png": "[encoded data removed]",
            "text/plain": [
              "<Figure size 432x432 with 1 Axes>"
            ]
          },
          "metadata": {},
          "output_type": "display_data"
        }
      ],
      "source": [
        "# Создаем круговую диаграмму\n",
        "plt.figure(figsize=(6, 6))\n",
        "plt.pie(subscription_count, labels=subscription_count.index, autopct='%1.1f%%', startangle=140)\n",
        "plt.title('Доля пользователей по типу подписки')\n",
        "\n",
        "# Выводим на экран\n",
        "plt.show()"
      ]
    },
    {
      "cell_type": "markdown",
      "id": "1e20bb78",
      "metadata": {
        "id": "1e20bb78"
      },
      "source": [
        "Чуть больше половины пользователей пользуются сервисом без подписки - 55%, остальная доля пользователей оплачивает подписку Ultra."
      ]
    },
    {
      "cell_type": "markdown",
      "id": "f96b72de",
      "metadata": {
        "id": "f96b72de"
      },
      "source": [
        "**3.3 Возраст пользователей**"
      ]
    },
    {
      "cell_type": "code",
      "execution_count": null,
      "id": "994eaea9",
      "metadata": {
        "id": "994eaea9",
        "outputId": "a768a29e-2616-4d64-e88b-913ad889c215"
      },
      "outputs": [
        {
          "data": {
            "text/plain": [
              "count    1534.000000\n",
              "mean       24.903520\n",
              "std         4.572367\n",
              "min        12.000000\n",
              "25%        22.000000\n",
              "50%        25.000000\n",
              "75%        28.000000\n",
              "max        43.000000\n",
              "Name: age, dtype: float64"
            ]
          },
          "execution_count": 19,
          "metadata": {},
          "output_type": "execute_result"
        }
      ],
      "source": [
        "#Выведем описательную статистику по столбцу age\n",
        "users['age'].describe()"
      ]
    },
    {
      "cell_type": "markdown",
      "id": "5a94ee6d",
      "metadata": {
        "id": "5a94ee6d"
      },
      "source": [
        "Средний возраст пользователей сервиса 25 лет (как по среднему, так и по медиане при округлении). Пользователь с максимальным возрастом из выборки достиг 43-х лет, младший - 12-ти лет."
      ]
    },
    {
      "cell_type": "code",
      "execution_count": null,
      "id": "5ccc9c41",
      "metadata": {
        "id": "5ccc9c41",
        "outputId": "f04fa81e-c6cf-4ba6-bfd8-a21e376d4ae4"
      },
      "outputs": [
        {
          "data": {
            "image/png": "[encoded data removed]",
            "text/plain": [
              "<Figure size 720x432 with 1 Axes>"
            ]
          },
          "metadata": {
            "needs_background": "light"
          },
          "output_type": "display_data"
        }
      ],
      "source": [
        "#Построим гистограмму по полю age\n",
        "users.plot(y = 'age', kind = 'hist', bins = 20, grid=True, ec='black', legend=True, figsize = (10,6), range = (5,50))\n",
        "plt.title('Возраст пользователей')\n",
        "plt.xlabel('Возраст')\n",
        "plt.ylabel('Количество пользователей')\n",
        "plt.grid()\n",
        "plt.show()"
      ]
    },
    {
      "cell_type": "markdown",
      "id": "b3a25fc8",
      "metadata": {
        "id": "b3a25fc8"
      },
      "source": [
        "<div class=\"alert alert-success\">\n",
        "<b>Комментарий ревьюера:</b>☀️\n",
        "    \n",
        "Хочу обратить внимание на то, что имеются пользователи до 18 лет, что любопытно"
      ]
    },
    {
      "cell_type": "markdown",
      "id": "54b2a181",
      "metadata": {
        "id": "54b2a181"
      },
      "source": [
        "По гистограмме видим, что основная доля пользователей находится в возрасте 20-30 лет. Чаще всего сервисом пользуются люди 25 лет."
      ]
    },
    {
      "cell_type": "markdown",
      "id": "1ea13064",
      "metadata": {
        "id": "1ea13064"
      },
      "source": [
        "**3.4 Расстояние, которое пользователь преодолел за одну поездку**"
      ]
    },
    {
      "cell_type": "code",
      "execution_count": null,
      "id": "73379a82",
      "metadata": {
        "id": "73379a82",
        "outputId": "258d71db-1b6e-4ec5-eac6-4a50b2317547"
      },
      "outputs": [
        {
          "data": {
            "text/plain": [
              "count    18068.000000\n",
              "mean      3070.659976\n",
              "std       1116.831209\n",
              "min          0.855683\n",
              "25%       2543.226360\n",
              "50%       3133.609994\n",
              "75%       3776.222735\n",
              "max       7211.007745\n",
              "Name: distance, dtype: float64"
            ]
          },
          "execution_count": 21,
          "metadata": {},
          "output_type": "execute_result"
        }
      ],
      "source": [
        "#Выведем описательную статистику по столбцу distance\n",
        "rides['distance'].describe()"
      ]
    },
    {
      "cell_type": "markdown",
      "id": "f86d4a9b",
      "metadata": {
        "id": "f86d4a9b"
      },
      "source": [
        "Минимальное расстояние, которое преодолели пользователи за одну поездку - 0,85 м. Похоже на выброс в значениях. Возможно пользователь передумал ехать, сломался самокат и т.д., лиюо ошибка в данных.\n",
        "Максимальное расстояние - 7 211 м. В среднем пользователи проезжают около 3 тыс. м."
      ]
    },
    {
      "cell_type": "code",
      "execution_count": null,
      "id": "d723f326",
      "metadata": {
        "id": "d723f326",
        "outputId": "f2be3641-e0b5-4320-a3a9-2cdc78c4906b"
      },
      "outputs": [
        {
          "data": {
            "image/png": "[encoded data removed]",
            "text/plain": [
              "<Figure size 576x432 with 1 Axes>"
            ]
          },
          "metadata": {
            "needs_background": "light"
          },
          "output_type": "display_data"
        }
      ],
      "source": [
        "# Построим диаграму размаха для определения выбросов в значениях\n",
        "rides.boxplot(column='distance', figsize=(8, 6))\n",
        "plt.title('Размах расстояния поездок')\n",
        "plt.ylim(-100, 8000)\n",
        "plt.ylabel('Расстояние, м')\n",
        "plt.show()"
      ]
    },
    {
      "cell_type": "markdown",
      "id": "809a9a2d",
      "metadata": {
        "id": "809a9a2d"
      },
      "source": [
        "В выбросы попадают поездки менее 800 м. и более 5500 м."
      ]
    },
    {
      "cell_type": "code",
      "execution_count": null,
      "id": "0d221310",
      "metadata": {
        "id": "0d221310",
        "outputId": "0e2c3465-1ce2-4b8c-d5e1-c014c639a35e"
      },
      "outputs": [
        {
          "data": {
            "image/png": "[encoded data removed]",
            "text/plain": [
              "<Figure size 720x432 with 1 Axes>"
            ]
          },
          "metadata": {
            "needs_background": "light"
          },
          "output_type": "display_data"
        }
      ],
      "source": [
        "#Построим гистограмму по полю distance\n",
        "rides.plot(y = 'distance', kind = 'hist', bins = 20, grid=True, ec='black', legend=True, figsize = (10,6), range = (0,8000))\n",
        "plt.title('Расстояние, которое пользователь преодолел за одну поездку')\n",
        "plt.xlabel('Расстояние, м.')\n",
        "plt.ylabel('Количество пользователей')\n",
        "plt.grid()\n",
        "plt.show()"
      ]
    },
    {
      "cell_type": "markdown",
      "id": "50288fdb",
      "metadata": {
        "id": "50288fdb"
      },
      "source": [
        "<div class=\"alert alert-success\">\n",
        "<b>Комментарий ревьюера:</b>☀️\n",
        "    \n",
        "Наличие пары пиков дистанций наталкивает на мысль, что может быть несколько сценариев пользования приложением и с этими категориями стоит отдельно работать"
      ]
    },
    {
      "cell_type": "markdown",
      "id": "4e1b999b",
      "metadata": {
        "id": "4e1b999b"
      },
      "source": [
        "Чаще всего пользователи совершают поездки на расстояние 2-4,5 км. Реже пользователи совершают на самокате дальние поездки на расстояние более 4,5 км."
      ]
    },
    {
      "cell_type": "markdown",
      "id": "9ed9b275",
      "metadata": {
        "id": "9ed9b275"
      },
      "source": [
        "**3.5 Продолжительность поездок**"
      ]
    },
    {
      "cell_type": "code",
      "execution_count": null,
      "id": "8fac312c",
      "metadata": {
        "id": "8fac312c",
        "outputId": "b973f2f7-c9cd-4907-b3bd-f400e5096019"
      },
      "outputs": [
        {
          "data": {
            "text/plain": [
              "count    18068.000000\n",
              "mean        17.805011\n",
              "std          6.091051\n",
              "min          0.500000\n",
              "25%         13.597563\n",
              "50%         17.678395\n",
              "75%         21.724800\n",
              "max         40.823963\n",
              "Name: duration, dtype: float64"
            ]
          },
          "execution_count": 24,
          "metadata": {},
          "output_type": "execute_result"
        }
      ],
      "source": [
        "#Выведем описательную статистику по столбцу distance\n",
        "rides['duration'].describe()"
      ]
    },
    {
      "cell_type": "markdown",
      "id": "cac562fd",
      "metadata": {
        "id": "cac562fd"
      },
      "source": [
        "В среднем пользователи тратят на поездку около 17 минут. Самая быстрая поездка составила 0,5 секунд. Скорее всего поездка не состоялась. Причинами могут быть технические неисправности, пользователь решил не ехать на самокате. Самая длинная поездка заняла у пользователей 40 минут."
      ]
    },
    {
      "cell_type": "code",
      "execution_count": null,
      "id": "980c0703",
      "metadata": {
        "id": "980c0703",
        "outputId": "2bc0f63d-9eb2-4ec4-e7bb-692b4bc7221e"
      },
      "outputs": [
        {
          "data": {
            "image/png": "[encoded data removed]",
            "text/plain": [
              "<Figure size 720x432 with 1 Axes>"
            ]
          },
          "metadata": {
            "needs_background": "light"
          },
          "output_type": "display_data"
        }
      ],
      "source": [
        "#Построим гистограмму по полю duration\n",
        "rides.plot(y = 'duration', kind = 'hist', bins = 25, grid=True, ec='black', legend=True, figsize = (10,6), range = (0,40))\n",
        "plt.title('Время, которое пользователь тратит за одну поездку')\n",
        "plt.xlabel('Время, мин.')\n",
        "plt.ylabel('Количество пользователей')\n",
        "plt.grid()\n",
        "plt.show()"
      ]
    },
    {
      "cell_type": "markdown",
      "id": "e32ffcf2",
      "metadata": {
        "id": "e32ffcf2"
      },
      "source": [
        "<div class=\"alert alert-warning\">\n",
        "<b>Комментарий ревьюера:</b>⛅️\n",
        "\n",
        "Рекомендовал бы внимательнее рассмотреть поездки, которые длились до минуты, это похоже на аномалии и стоит убедиться, короткие ли это поездки или какие-то сбои логирования\n",
        "</div>"
      ]
    },
    {
      "cell_type": "markdown",
      "id": "46460b5f",
      "metadata": {
        "id": "46460b5f"
      },
      "source": [
        "<div class=\"alert alert-info\"> <b>Комментарий студента:</b> Да, обратила на это внимание. Ниже в анализе данных предположила, что это отмененные пользователями поездки (возможно они передумаи или случился технический сбой с самокатом.</div>"
      ]
    },
    {
      "cell_type": "markdown",
      "id": "a96a533c",
      "metadata": {
        "id": "a96a533c"
      },
      "source": [
        "<div class=\"alert alert-success\">\n",
        "<b>Комментарий ревьюера v2:</b>☀️\n",
        "   \n",
        "\n",
        "Поездки довольно длинные на самом деле\n",
        "</div>"
      ]
    },
    {
      "cell_type": "markdown",
      "id": "3fbbba53",
      "metadata": {
        "id": "3fbbba53"
      },
      "source": [
        "Основная доля пользователей тратит на поездку 10-25 минут."
      ]
    },
    {
      "cell_type": "code",
      "execution_count": null,
      "id": "fafe9da7",
      "metadata": {
        "id": "fafe9da7",
        "outputId": "5fcf00a3-7523-4feb-f091-bfadb05b17d7"
      },
      "outputs": [
        {
          "data": {
            "image/png": "[encoded data removed]",
            "text/plain": [
              "<Figure size 864x432 with 1 Axes>"
            ]
          },
          "metadata": {
            "needs_background": "light"
          },
          "output_type": "display_data"
        }
      ],
      "source": [
        "# Проверим гипотезу о зависимости времени поездки от месяца поездки\n",
        "# Вычисляем медианное время поездки для каждого месяца\n",
        "median_duration_by_month = rides.groupby('month_exposition')['duration'].median()\n",
        "\n",
        "# Построение гистограммы\n",
        "plt.figure(figsize=(12, 6))\n",
        "median_duration_by_month.plot(kind='bar')\n",
        "plt.xlabel('Месяц поездки')\n",
        "plt.ylabel('Медианное время поездки')\n",
        "plt.title('Зависимость времени поездки от месяца поездки')\n",
        "plt.show()"
      ]
    },
    {
      "cell_type": "markdown",
      "id": "a93e5b89",
      "metadata": {
        "id": "a93e5b89"
      },
      "source": [
        "Гипотеза не подтвердилась. Пользователи в разные месяца примерно одинаково используют самокаты по времени."
      ]
    },
    {
      "cell_type": "markdown",
      "id": "4ef51331",
      "metadata": {
        "id": "4ef51331"
      },
      "source": [
        "#### Шаг 4. Объединение данных"
      ]
    },
    {
      "cell_type": "markdown",
      "id": "f0354aaf",
      "metadata": {
        "id": "f0354aaf"
      },
      "source": [
        "**4.1 Объединим данные о пользователях, поездках и подписках в один датафрейм**"
      ]
    },
    {
      "cell_type": "code",
      "execution_count": null,
      "id": "6bf288b5",
      "metadata": {
        "id": "6bf288b5",
        "outputId": "2ff31075-4b36-4612-93ac-50bbcb8b6ed9"
      },
      "outputs": [
        {
          "data": {
            "text/html": [
              "<div>\n",
              "<style scoped>\n",
              "    .dataframe tbody tr th:only-of-type {\n",
              "        vertical-align: middle;\n",
              "    }\n",
              "\n",
              "    .dataframe tbody tr th {\n",
              "        vertical-align: top;\n",
              "    }\n",
              "\n",
              "    .dataframe thead th {\n",
              "        text-align: right;\n",
              "    }\n",
              "</style>\n",
              "<table border=\"1\" class=\"dataframe\">\n",
              "  <thead>\n",
              "    <tr style=\"text-align: right;\">\n",
              "      <th></th>\n",
              "      <th>user_id</th>\n",
              "      <th>distance</th>\n",
              "      <th>duration</th>\n",
              "      <th>date</th>\n",
              "      <th>month_exposition</th>\n",
              "      <th>name</th>\n",
              "      <th>age</th>\n",
              "      <th>city</th>\n",
              "      <th>subscription_type</th>\n",
              "      <th>minute_price</th>\n",
              "      <th>start_ride_price</th>\n",
              "      <th>subscription_fee</th>\n",
              "    </tr>\n",
              "  </thead>\n",
              "  <tbody>\n",
              "    <tr>\n",
              "      <th>0</th>\n",
              "      <td>1</td>\n",
              "      <td>4409.919140</td>\n",
              "      <td>25.599769</td>\n",
              "      <td>2021-01-01</td>\n",
              "      <td>1</td>\n",
              "      <td>Кира</td>\n",
              "      <td>22</td>\n",
              "      <td>Тюмень</td>\n",
              "      <td>ultra</td>\n",
              "      <td>6</td>\n",
              "      <td>0</td>\n",
              "      <td>199</td>\n",
              "    </tr>\n",
              "    <tr>\n",
              "      <th>1</th>\n",
              "      <td>1</td>\n",
              "      <td>2617.592153</td>\n",
              "      <td>15.816871</td>\n",
              "      <td>2021-01-18</td>\n",
              "      <td>1</td>\n",
              "      <td>Кира</td>\n",
              "      <td>22</td>\n",
              "      <td>Тюмень</td>\n",
              "      <td>ultra</td>\n",
              "      <td>6</td>\n",
              "      <td>0</td>\n",
              "      <td>199</td>\n",
              "    </tr>\n",
              "    <tr>\n",
              "      <th>2</th>\n",
              "      <td>1</td>\n",
              "      <td>754.159807</td>\n",
              "      <td>6.232113</td>\n",
              "      <td>2021-04-20</td>\n",
              "      <td>4</td>\n",
              "      <td>Кира</td>\n",
              "      <td>22</td>\n",
              "      <td>Тюмень</td>\n",
              "      <td>ultra</td>\n",
              "      <td>6</td>\n",
              "      <td>0</td>\n",
              "      <td>199</td>\n",
              "    </tr>\n",
              "    <tr>\n",
              "      <th>3</th>\n",
              "      <td>1</td>\n",
              "      <td>2694.783254</td>\n",
              "      <td>18.511000</td>\n",
              "      <td>2021-08-11</td>\n",
              "      <td>8</td>\n",
              "      <td>Кира</td>\n",
              "      <td>22</td>\n",
              "      <td>Тюмень</td>\n",
              "      <td>ultra</td>\n",
              "      <td>6</td>\n",
              "      <td>0</td>\n",
              "      <td>199</td>\n",
              "    </tr>\n",
              "    <tr>\n",
              "      <th>4</th>\n",
              "      <td>1</td>\n",
              "      <td>4028.687306</td>\n",
              "      <td>26.265803</td>\n",
              "      <td>2021-08-28</td>\n",
              "      <td>8</td>\n",
              "      <td>Кира</td>\n",
              "      <td>22</td>\n",
              "      <td>Тюмень</td>\n",
              "      <td>ultra</td>\n",
              "      <td>6</td>\n",
              "      <td>0</td>\n",
              "      <td>199</td>\n",
              "    </tr>\n",
              "    <tr>\n",
              "      <th>...</th>\n",
              "      <td>...</td>\n",
              "      <td>...</td>\n",
              "      <td>...</td>\n",
              "      <td>...</td>\n",
              "      <td>...</td>\n",
              "      <td>...</td>\n",
              "      <td>...</td>\n",
              "      <td>...</td>\n",
              "      <td>...</td>\n",
              "      <td>...</td>\n",
              "      <td>...</td>\n",
              "      <td>...</td>\n",
              "    </tr>\n",
              "    <tr>\n",
              "      <th>18063</th>\n",
              "      <td>1534</td>\n",
              "      <td>3781.098080</td>\n",
              "      <td>19.822962</td>\n",
              "      <td>2021-11-04</td>\n",
              "      <td>11</td>\n",
              "      <td>Альберт</td>\n",
              "      <td>25</td>\n",
              "      <td>Краснодар</td>\n",
              "      <td>free</td>\n",
              "      <td>8</td>\n",
              "      <td>50</td>\n",
              "      <td>0</td>\n",
              "    </tr>\n",
              "    <tr>\n",
              "      <th>18064</th>\n",
              "      <td>1534</td>\n",
              "      <td>2840.423057</td>\n",
              "      <td>21.409799</td>\n",
              "      <td>2021-11-16</td>\n",
              "      <td>11</td>\n",
              "      <td>Альберт</td>\n",
              "      <td>25</td>\n",
              "      <td>Краснодар</td>\n",
              "      <td>free</td>\n",
              "      <td>8</td>\n",
              "      <td>50</td>\n",
              "      <td>0</td>\n",
              "    </tr>\n",
              "    <tr>\n",
              "      <th>18065</th>\n",
              "      <td>1534</td>\n",
              "      <td>3826.185507</td>\n",
              "      <td>18.435051</td>\n",
              "      <td>2021-11-18</td>\n",
              "      <td>11</td>\n",
              "      <td>Альберт</td>\n",
              "      <td>25</td>\n",
              "      <td>Краснодар</td>\n",
              "      <td>free</td>\n",
              "      <td>8</td>\n",
              "      <td>50</td>\n",
              "      <td>0</td>\n",
              "    </tr>\n",
              "    <tr>\n",
              "      <th>18066</th>\n",
              "      <td>1534</td>\n",
              "      <td>2902.308661</td>\n",
              "      <td>16.674362</td>\n",
              "      <td>2021-11-27</td>\n",
              "      <td>11</td>\n",
              "      <td>Альберт</td>\n",
              "      <td>25</td>\n",
              "      <td>Краснодар</td>\n",
              "      <td>free</td>\n",
              "      <td>8</td>\n",
              "      <td>50</td>\n",
              "      <td>0</td>\n",
              "    </tr>\n",
              "    <tr>\n",
              "      <th>18067</th>\n",
              "      <td>1534</td>\n",
              "      <td>2371.711192</td>\n",
              "      <td>15.893917</td>\n",
              "      <td>2021-12-29</td>\n",
              "      <td>12</td>\n",
              "      <td>Альберт</td>\n",
              "      <td>25</td>\n",
              "      <td>Краснодар</td>\n",
              "      <td>free</td>\n",
              "      <td>8</td>\n",
              "      <td>50</td>\n",
              "      <td>0</td>\n",
              "    </tr>\n",
              "  </tbody>\n",
              "</table>\n",
              "<p>18068 rows × 12 columns</p>\n",
              "</div>"
            ],
            "text/plain": [
              "       user_id     distance   duration       date  month_exposition     name  \\\n",
              "0            1  4409.919140  25.599769 2021-01-01                 1     Кира   \n",
              "1            1  2617.592153  15.816871 2021-01-18                 1     Кира   \n",
              "2            1   754.159807   6.232113 2021-04-20                 4     Кира   \n",
              "3            1  2694.783254  18.511000 2021-08-11                 8     Кира   \n",
              "4            1  4028.687306  26.265803 2021-08-28                 8     Кира   \n",
              "...        ...          ...        ...        ...               ...      ...   \n",
              "18063     1534  3781.098080  19.822962 2021-11-04                11  Альберт   \n",
              "18064     1534  2840.423057  21.409799 2021-11-16                11  Альберт   \n",
              "18065     1534  3826.185507  18.435051 2021-11-18                11  Альберт   \n",
              "18066     1534  2902.308661  16.674362 2021-11-27                11  Альберт   \n",
              "18067     1534  2371.711192  15.893917 2021-12-29                12  Альберт   \n",
              "\n",
              "       age       city subscription_type  minute_price  start_ride_price  \\\n",
              "0       22     Тюмень             ultra             6                 0   \n",
              "1       22     Тюмень             ultra             6                 0   \n",
              "2       22     Тюмень             ultra             6                 0   \n",
              "3       22     Тюмень             ultra             6                 0   \n",
              "4       22     Тюмень             ultra             6                 0   \n",
              "...    ...        ...               ...           ...               ...   \n",
              "18063   25  Краснодар              free             8                50   \n",
              "18064   25  Краснодар              free             8                50   \n",
              "18065   25  Краснодар              free             8                50   \n",
              "18066   25  Краснодар              free             8                50   \n",
              "18067   25  Краснодар              free             8                50   \n",
              "\n",
              "       subscription_fee  \n",
              "0                   199  \n",
              "1                   199  \n",
              "2                   199  \n",
              "3                   199  \n",
              "4                   199  \n",
              "...                 ...  \n",
              "18063                 0  \n",
              "18064                 0  \n",
              "18065                 0  \n",
              "18066                 0  \n",
              "18067                 0  \n",
              "\n",
              "[18068 rows x 12 columns]"
            ]
          },
          "execution_count": 27,
          "metadata": {},
          "output_type": "execute_result"
        }
      ],
      "source": [
        "data = rides.merge(users, on='user_id', how='left').merge(subscriptions, on='subscription_type', how='left')\n",
        "data"
      ]
    },
    {
      "cell_type": "code",
      "execution_count": null,
      "id": "a0d181ca",
      "metadata": {
        "id": "a0d181ca",
        "outputId": "8f44fa27-24fa-451d-af9f-4c60e0921e66"
      },
      "outputs": [
        {
          "data": {
            "text/plain": [
              "(18068, 5)"
            ]
          },
          "execution_count": 28,
          "metadata": {},
          "output_type": "execute_result"
        }
      ],
      "source": [
        "rides.shape"
      ]
    },
    {
      "cell_type": "code",
      "execution_count": null,
      "id": "e8f8ef3f",
      "metadata": {
        "id": "e8f8ef3f",
        "outputId": "678d0d6e-fb9f-45d5-ebfe-5c0b8fbf85ed"
      },
      "outputs": [
        {
          "name": "stdout",
          "output_type": "stream",
          "text": [
            "В объединенной таблице нет пропусков.\n",
            "В объединенной таблице нет пропусков (NaN).\n",
            "Размер объединенной таблицы соответствует ожиданиям (18068 строк и 12 столбцов).\n"
          ]
        }
      ],
      "source": [
        "# Проверим наличие пропусков в объединенной таблице\n",
        "if data.isnull().values.any():\n",
        "    print(\"В объединенной таблице есть пропуски.\")\n",
        "else:\n",
        "    print(\"В объединенной таблице нет пропусков.\")\n",
        "\n",
        "# Проверим наличие пропусков в объединенной таблице\n",
        "if data.isnull().values.any():\n",
        "    print(\"В объединенной таблице есть пропуски (NaN).\")\n",
        "else:\n",
        "    print(\"В объединенной таблице нет пропусков (NaN).\")\n",
        "\n",
        "# Ожидаемый размер объединенной таблицы\n",
        "expected_rows = rides.shape[0]  # Ожидаемое количество строк\n",
        "expected_columns = 12  # Ожидаемое количество столбцов (уникальыне столбцы в трех таблицах)\n",
        "\n",
        "# Проверьте размер объединенной таблицы\n",
        "if data.shape == (expected_rows, expected_columns):\n",
        "    print(f\"Размер объединенной таблицы соответствует ожиданиям ({expected_rows} строк и {expected_columns} столбцов).\")\n",
        "else:\n",
        "    print(f\"Размер объединенной таблицы не соответствует ожиданиям. Ожидается ({expected_rows} строк и {expected_columns} столбцов), но получено ({data.shape[0]} строк и {data.shape[1]} столбцов).\")"
      ]
    },
    {
      "cell_type": "markdown",
      "id": "5b2d9387",
      "metadata": {
        "id": "5b2d9387"
      },
      "source": [
        "<div class=\"alert alert-danger\">\n",
        "<b>Комментарий ревьюера:</b>☁️\n",
        "\n",
        "Прошу ещё добавить проверку, что после соединения таблиц не возникли пропуски, что размер объъединенной таблице соответствует ожиданиям\n",
        "\n",
        "</div>"
      ]
    },
    {
      "cell_type": "markdown",
      "id": "e2aadd6e",
      "metadata": {
        "id": "e2aadd6e"
      },
      "source": [
        "<div class=\"alert alert-success\">\n",
        "<b>Комментарий ревьюера v2:</b>☀️\n",
        "   \n",
        "Отлично! Спасибо за совместную работу, желаю успехов далее!\n",
        "\n",
        "</div>"
      ]
    },
    {
      "cell_type": "markdown",
      "id": "779e9d4e",
      "metadata": {
        "id": "779e9d4e"
      },
      "source": [
        "**4.2 Создади два датафрейма: c данными о пользователях без подписки, с данными о пользователях с подпиской**"
      ]
    },
    {
      "cell_type": "code",
      "execution_count": null,
      "id": "b34411c3",
      "metadata": {
        "id": "b34411c3",
        "outputId": "3ead459a-2787-4d57-856c-02982e8e12a3"
      },
      "outputs": [
        {
          "data": {
            "text/html": [
              "<div>\n",
              "<style scoped>\n",
              "    .dataframe tbody tr th:only-of-type {\n",
              "        vertical-align: middle;\n",
              "    }\n",
              "\n",
              "    .dataframe tbody tr th {\n",
              "        vertical-align: top;\n",
              "    }\n",
              "\n",
              "    .dataframe thead th {\n",
              "        text-align: right;\n",
              "    }\n",
              "</style>\n",
              "<table border=\"1\" class=\"dataframe\">\n",
              "  <thead>\n",
              "    <tr style=\"text-align: right;\">\n",
              "      <th></th>\n",
              "      <th>user_id</th>\n",
              "      <th>distance</th>\n",
              "      <th>duration</th>\n",
              "      <th>date</th>\n",
              "      <th>month_exposition</th>\n",
              "      <th>name</th>\n",
              "      <th>age</th>\n",
              "      <th>city</th>\n",
              "      <th>subscription_type</th>\n",
              "      <th>minute_price</th>\n",
              "      <th>start_ride_price</th>\n",
              "      <th>subscription_fee</th>\n",
              "    </tr>\n",
              "  </thead>\n",
              "  <tbody>\n",
              "    <tr>\n",
              "      <th>0</th>\n",
              "      <td>1</td>\n",
              "      <td>4409.919140</td>\n",
              "      <td>25.599769</td>\n",
              "      <td>2021-01-01</td>\n",
              "      <td>1</td>\n",
              "      <td>Кира</td>\n",
              "      <td>22</td>\n",
              "      <td>Тюмень</td>\n",
              "      <td>ultra</td>\n",
              "      <td>6</td>\n",
              "      <td>0</td>\n",
              "      <td>199</td>\n",
              "    </tr>\n",
              "    <tr>\n",
              "      <th>1</th>\n",
              "      <td>1</td>\n",
              "      <td>2617.592153</td>\n",
              "      <td>15.816871</td>\n",
              "      <td>2021-01-18</td>\n",
              "      <td>1</td>\n",
              "      <td>Кира</td>\n",
              "      <td>22</td>\n",
              "      <td>Тюмень</td>\n",
              "      <td>ultra</td>\n",
              "      <td>6</td>\n",
              "      <td>0</td>\n",
              "      <td>199</td>\n",
              "    </tr>\n",
              "    <tr>\n",
              "      <th>2</th>\n",
              "      <td>1</td>\n",
              "      <td>754.159807</td>\n",
              "      <td>6.232113</td>\n",
              "      <td>2021-04-20</td>\n",
              "      <td>4</td>\n",
              "      <td>Кира</td>\n",
              "      <td>22</td>\n",
              "      <td>Тюмень</td>\n",
              "      <td>ultra</td>\n",
              "      <td>6</td>\n",
              "      <td>0</td>\n",
              "      <td>199</td>\n",
              "    </tr>\n",
              "    <tr>\n",
              "      <th>3</th>\n",
              "      <td>1</td>\n",
              "      <td>2694.783254</td>\n",
              "      <td>18.511000</td>\n",
              "      <td>2021-08-11</td>\n",
              "      <td>8</td>\n",
              "      <td>Кира</td>\n",
              "      <td>22</td>\n",
              "      <td>Тюмень</td>\n",
              "      <td>ultra</td>\n",
              "      <td>6</td>\n",
              "      <td>0</td>\n",
              "      <td>199</td>\n",
              "    </tr>\n",
              "    <tr>\n",
              "      <th>4</th>\n",
              "      <td>1</td>\n",
              "      <td>4028.687306</td>\n",
              "      <td>26.265803</td>\n",
              "      <td>2021-08-28</td>\n",
              "      <td>8</td>\n",
              "      <td>Кира</td>\n",
              "      <td>22</td>\n",
              "      <td>Тюмень</td>\n",
              "      <td>ultra</td>\n",
              "      <td>6</td>\n",
              "      <td>0</td>\n",
              "      <td>199</td>\n",
              "    </tr>\n",
              "    <tr>\n",
              "      <th>...</th>\n",
              "      <td>...</td>\n",
              "      <td>...</td>\n",
              "      <td>...</td>\n",
              "      <td>...</td>\n",
              "      <td>...</td>\n",
              "      <td>...</td>\n",
              "      <td>...</td>\n",
              "      <td>...</td>\n",
              "      <td>...</td>\n",
              "      <td>...</td>\n",
              "      <td>...</td>\n",
              "      <td>...</td>\n",
              "    </tr>\n",
              "    <tr>\n",
              "      <th>6495</th>\n",
              "      <td>699</td>\n",
              "      <td>3973.046497</td>\n",
              "      <td>24.671163</td>\n",
              "      <td>2021-08-29</td>\n",
              "      <td>8</td>\n",
              "      <td>Оксана</td>\n",
              "      <td>22</td>\n",
              "      <td>Москва</td>\n",
              "      <td>ultra</td>\n",
              "      <td>6</td>\n",
              "      <td>0</td>\n",
              "      <td>199</td>\n",
              "    </tr>\n",
              "    <tr>\n",
              "      <th>6496</th>\n",
              "      <td>699</td>\n",
              "      <td>3288.702563</td>\n",
              "      <td>15.892886</td>\n",
              "      <td>2021-09-12</td>\n",
              "      <td>9</td>\n",
              "      <td>Оксана</td>\n",
              "      <td>22</td>\n",
              "      <td>Москва</td>\n",
              "      <td>ultra</td>\n",
              "      <td>6</td>\n",
              "      <td>0</td>\n",
              "      <td>199</td>\n",
              "    </tr>\n",
              "    <tr>\n",
              "      <th>6497</th>\n",
              "      <td>699</td>\n",
              "      <td>3076.159348</td>\n",
              "      <td>14.389525</td>\n",
              "      <td>2021-09-26</td>\n",
              "      <td>9</td>\n",
              "      <td>Оксана</td>\n",
              "      <td>22</td>\n",
              "      <td>Москва</td>\n",
              "      <td>ultra</td>\n",
              "      <td>6</td>\n",
              "      <td>0</td>\n",
              "      <td>199</td>\n",
              "    </tr>\n",
              "    <tr>\n",
              "      <th>6498</th>\n",
              "      <td>699</td>\n",
              "      <td>4707.845501</td>\n",
              "      <td>15.839579</td>\n",
              "      <td>2021-10-17</td>\n",
              "      <td>10</td>\n",
              "      <td>Оксана</td>\n",
              "      <td>22</td>\n",
              "      <td>Москва</td>\n",
              "      <td>ultra</td>\n",
              "      <td>6</td>\n",
              "      <td>0</td>\n",
              "      <td>199</td>\n",
              "    </tr>\n",
              "    <tr>\n",
              "      <th>6499</th>\n",
              "      <td>699</td>\n",
              "      <td>3202.890770</td>\n",
              "      <td>25.217345</td>\n",
              "      <td>2021-12-03</td>\n",
              "      <td>12</td>\n",
              "      <td>Оксана</td>\n",
              "      <td>22</td>\n",
              "      <td>Москва</td>\n",
              "      <td>ultra</td>\n",
              "      <td>6</td>\n",
              "      <td>0</td>\n",
              "      <td>199</td>\n",
              "    </tr>\n",
              "  </tbody>\n",
              "</table>\n",
              "<p>6500 rows × 12 columns</p>\n",
              "</div>"
            ],
            "text/plain": [
              "      user_id     distance   duration       date  month_exposition    name  \\\n",
              "0           1  4409.919140  25.599769 2021-01-01                 1    Кира   \n",
              "1           1  2617.592153  15.816871 2021-01-18                 1    Кира   \n",
              "2           1   754.159807   6.232113 2021-04-20                 4    Кира   \n",
              "3           1  2694.783254  18.511000 2021-08-11                 8    Кира   \n",
              "4           1  4028.687306  26.265803 2021-08-28                 8    Кира   \n",
              "...       ...          ...        ...        ...               ...     ...   \n",
              "6495      699  3973.046497  24.671163 2021-08-29                 8  Оксана   \n",
              "6496      699  3288.702563  15.892886 2021-09-12                 9  Оксана   \n",
              "6497      699  3076.159348  14.389525 2021-09-26                 9  Оксана   \n",
              "6498      699  4707.845501  15.839579 2021-10-17                10  Оксана   \n",
              "6499      699  3202.890770  25.217345 2021-12-03                12  Оксана   \n",
              "\n",
              "      age    city subscription_type  minute_price  start_ride_price  \\\n",
              "0      22  Тюмень             ultra             6                 0   \n",
              "1      22  Тюмень             ultra             6                 0   \n",
              "2      22  Тюмень             ultra             6                 0   \n",
              "3      22  Тюмень             ultra             6                 0   \n",
              "4      22  Тюмень             ultra             6                 0   \n",
              "...   ...     ...               ...           ...               ...   \n",
              "6495   22  Москва             ultra             6                 0   \n",
              "6496   22  Москва             ultra             6                 0   \n",
              "6497   22  Москва             ultra             6                 0   \n",
              "6498   22  Москва             ultra             6                 0   \n",
              "6499   22  Москва             ultra             6                 0   \n",
              "\n",
              "      subscription_fee  \n",
              "0                  199  \n",
              "1                  199  \n",
              "2                  199  \n",
              "3                  199  \n",
              "4                  199  \n",
              "...                ...  \n",
              "6495               199  \n",
              "6496               199  \n",
              "6497               199  \n",
              "6498               199  \n",
              "6499               199  \n",
              "\n",
              "[6500 rows x 12 columns]"
            ]
          },
          "execution_count": 30,
          "metadata": {},
          "output_type": "execute_result"
        }
      ],
      "source": [
        "user_ultra = data[data['subscription_type'] == 'ultra']\n",
        "user_ultra"
      ]
    },
    {
      "cell_type": "code",
      "execution_count": null,
      "id": "96e6aebb",
      "metadata": {
        "id": "96e6aebb",
        "outputId": "29f55650-7c17-4392-b50e-8b13e8d062b1"
      },
      "outputs": [
        {
          "data": {
            "text/html": [
              "<div>\n",
              "<style scoped>\n",
              "    .dataframe tbody tr th:only-of-type {\n",
              "        vertical-align: middle;\n",
              "    }\n",
              "\n",
              "    .dataframe tbody tr th {\n",
              "        vertical-align: top;\n",
              "    }\n",
              "\n",
              "    .dataframe thead th {\n",
              "        text-align: right;\n",
              "    }\n",
              "</style>\n",
              "<table border=\"1\" class=\"dataframe\">\n",
              "  <thead>\n",
              "    <tr style=\"text-align: right;\">\n",
              "      <th></th>\n",
              "      <th>user_id</th>\n",
              "      <th>distance</th>\n",
              "      <th>duration</th>\n",
              "      <th>date</th>\n",
              "      <th>month_exposition</th>\n",
              "      <th>name</th>\n",
              "      <th>age</th>\n",
              "      <th>city</th>\n",
              "      <th>subscription_type</th>\n",
              "      <th>minute_price</th>\n",
              "      <th>start_ride_price</th>\n",
              "      <th>subscription_fee</th>\n",
              "    </tr>\n",
              "  </thead>\n",
              "  <tbody>\n",
              "    <tr>\n",
              "      <th>6500</th>\n",
              "      <td>700</td>\n",
              "      <td>2515.690719</td>\n",
              "      <td>14.944286</td>\n",
              "      <td>2021-01-02</td>\n",
              "      <td>1</td>\n",
              "      <td>Айдар</td>\n",
              "      <td>22</td>\n",
              "      <td>Омск</td>\n",
              "      <td>free</td>\n",
              "      <td>8</td>\n",
              "      <td>50</td>\n",
              "      <td>0</td>\n",
              "    </tr>\n",
              "    <tr>\n",
              "      <th>6501</th>\n",
              "      <td>700</td>\n",
              "      <td>846.932642</td>\n",
              "      <td>16.234663</td>\n",
              "      <td>2021-02-01</td>\n",
              "      <td>2</td>\n",
              "      <td>Айдар</td>\n",
              "      <td>22</td>\n",
              "      <td>Омск</td>\n",
              "      <td>free</td>\n",
              "      <td>8</td>\n",
              "      <td>50</td>\n",
              "      <td>0</td>\n",
              "    </tr>\n",
              "    <tr>\n",
              "      <th>6502</th>\n",
              "      <td>700</td>\n",
              "      <td>4004.434142</td>\n",
              "      <td>20.016628</td>\n",
              "      <td>2021-02-04</td>\n",
              "      <td>2</td>\n",
              "      <td>Айдар</td>\n",
              "      <td>22</td>\n",
              "      <td>Омск</td>\n",
              "      <td>free</td>\n",
              "      <td>8</td>\n",
              "      <td>50</td>\n",
              "      <td>0</td>\n",
              "    </tr>\n",
              "    <tr>\n",
              "      <th>6503</th>\n",
              "      <td>700</td>\n",
              "      <td>1205.911290</td>\n",
              "      <td>9.782872</td>\n",
              "      <td>2021-02-10</td>\n",
              "      <td>2</td>\n",
              "      <td>Айдар</td>\n",
              "      <td>22</td>\n",
              "      <td>Омск</td>\n",
              "      <td>free</td>\n",
              "      <td>8</td>\n",
              "      <td>50</td>\n",
              "      <td>0</td>\n",
              "    </tr>\n",
              "    <tr>\n",
              "      <th>6504</th>\n",
              "      <td>700</td>\n",
              "      <td>3047.379435</td>\n",
              "      <td>17.427673</td>\n",
              "      <td>2021-02-14</td>\n",
              "      <td>2</td>\n",
              "      <td>Айдар</td>\n",
              "      <td>22</td>\n",
              "      <td>Омск</td>\n",
              "      <td>free</td>\n",
              "      <td>8</td>\n",
              "      <td>50</td>\n",
              "      <td>0</td>\n",
              "    </tr>\n",
              "    <tr>\n",
              "      <th>...</th>\n",
              "      <td>...</td>\n",
              "      <td>...</td>\n",
              "      <td>...</td>\n",
              "      <td>...</td>\n",
              "      <td>...</td>\n",
              "      <td>...</td>\n",
              "      <td>...</td>\n",
              "      <td>...</td>\n",
              "      <td>...</td>\n",
              "      <td>...</td>\n",
              "      <td>...</td>\n",
              "      <td>...</td>\n",
              "    </tr>\n",
              "    <tr>\n",
              "      <th>18063</th>\n",
              "      <td>1534</td>\n",
              "      <td>3781.098080</td>\n",
              "      <td>19.822962</td>\n",
              "      <td>2021-11-04</td>\n",
              "      <td>11</td>\n",
              "      <td>Альберт</td>\n",
              "      <td>25</td>\n",
              "      <td>Краснодар</td>\n",
              "      <td>free</td>\n",
              "      <td>8</td>\n",
              "      <td>50</td>\n",
              "      <td>0</td>\n",
              "    </tr>\n",
              "    <tr>\n",
              "      <th>18064</th>\n",
              "      <td>1534</td>\n",
              "      <td>2840.423057</td>\n",
              "      <td>21.409799</td>\n",
              "      <td>2021-11-16</td>\n",
              "      <td>11</td>\n",
              "      <td>Альберт</td>\n",
              "      <td>25</td>\n",
              "      <td>Краснодар</td>\n",
              "      <td>free</td>\n",
              "      <td>8</td>\n",
              "      <td>50</td>\n",
              "      <td>0</td>\n",
              "    </tr>\n",
              "    <tr>\n",
              "      <th>18065</th>\n",
              "      <td>1534</td>\n",
              "      <td>3826.185507</td>\n",
              "      <td>18.435051</td>\n",
              "      <td>2021-11-18</td>\n",
              "      <td>11</td>\n",
              "      <td>Альберт</td>\n",
              "      <td>25</td>\n",
              "      <td>Краснодар</td>\n",
              "      <td>free</td>\n",
              "      <td>8</td>\n",
              "      <td>50</td>\n",
              "      <td>0</td>\n",
              "    </tr>\n",
              "    <tr>\n",
              "      <th>18066</th>\n",
              "      <td>1534</td>\n",
              "      <td>2902.308661</td>\n",
              "      <td>16.674362</td>\n",
              "      <td>2021-11-27</td>\n",
              "      <td>11</td>\n",
              "      <td>Альберт</td>\n",
              "      <td>25</td>\n",
              "      <td>Краснодар</td>\n",
              "      <td>free</td>\n",
              "      <td>8</td>\n",
              "      <td>50</td>\n",
              "      <td>0</td>\n",
              "    </tr>\n",
              "    <tr>\n",
              "      <th>18067</th>\n",
              "      <td>1534</td>\n",
              "      <td>2371.711192</td>\n",
              "      <td>15.893917</td>\n",
              "      <td>2021-12-29</td>\n",
              "      <td>12</td>\n",
              "      <td>Альберт</td>\n",
              "      <td>25</td>\n",
              "      <td>Краснодар</td>\n",
              "      <td>free</td>\n",
              "      <td>8</td>\n",
              "      <td>50</td>\n",
              "      <td>0</td>\n",
              "    </tr>\n",
              "  </tbody>\n",
              "</table>\n",
              "<p>11568 rows × 12 columns</p>\n",
              "</div>"
            ],
            "text/plain": [
              "       user_id     distance   duration       date  month_exposition     name  \\\n",
              "6500       700  2515.690719  14.944286 2021-01-02                 1    Айдар   \n",
              "6501       700   846.932642  16.234663 2021-02-01                 2    Айдар   \n",
              "6502       700  4004.434142  20.016628 2021-02-04                 2    Айдар   \n",
              "6503       700  1205.911290   9.782872 2021-02-10                 2    Айдар   \n",
              "6504       700  3047.379435  17.427673 2021-02-14                 2    Айдар   \n",
              "...        ...          ...        ...        ...               ...      ...   \n",
              "18063     1534  3781.098080  19.822962 2021-11-04                11  Альберт   \n",
              "18064     1534  2840.423057  21.409799 2021-11-16                11  Альберт   \n",
              "18065     1534  3826.185507  18.435051 2021-11-18                11  Альберт   \n",
              "18066     1534  2902.308661  16.674362 2021-11-27                11  Альберт   \n",
              "18067     1534  2371.711192  15.893917 2021-12-29                12  Альберт   \n",
              "\n",
              "       age       city subscription_type  minute_price  start_ride_price  \\\n",
              "6500    22       Омск              free             8                50   \n",
              "6501    22       Омск              free             8                50   \n",
              "6502    22       Омск              free             8                50   \n",
              "6503    22       Омск              free             8                50   \n",
              "6504    22       Омск              free             8                50   \n",
              "...    ...        ...               ...           ...               ...   \n",
              "18063   25  Краснодар              free             8                50   \n",
              "18064   25  Краснодар              free             8                50   \n",
              "18065   25  Краснодар              free             8                50   \n",
              "18066   25  Краснодар              free             8                50   \n",
              "18067   25  Краснодар              free             8                50   \n",
              "\n",
              "       subscription_fee  \n",
              "6500                  0  \n",
              "6501                  0  \n",
              "6502                  0  \n",
              "6503                  0  \n",
              "6504                  0  \n",
              "...                 ...  \n",
              "18063                 0  \n",
              "18064                 0  \n",
              "18065                 0  \n",
              "18066                 0  \n",
              "18067                 0  \n",
              "\n",
              "[11568 rows x 12 columns]"
            ]
          },
          "execution_count": 31,
          "metadata": {},
          "output_type": "execute_result"
        }
      ],
      "source": [
        "user_free = data[data['subscription_type'] == 'free']\n",
        "user_free"
      ]
    },
    {
      "cell_type": "markdown",
      "id": "98f33758",
      "metadata": {
        "id": "98f33758"
      },
      "source": [
        "**4.3 Визуализируйте информацию о расстоянии и времени поездок для пользователей обеих категорий**"
      ]
    },
    {
      "cell_type": "code",
      "execution_count": null,
      "id": "70d13386",
      "metadata": {
        "id": "70d13386",
        "outputId": "c923070a-c587-4be6-f951-b70f1dcd106f"
      },
      "outputs": [
        {
          "data": {
            "image/png": "[encoded data removed]",
            "text/plain": [
              "<Figure size 720x432 with 1 Axes>"
            ]
          },
          "metadata": {
            "needs_background": "light"
          },
          "output_type": "display_data"
        }
      ],
      "source": [
        "#Построим гистограмму по полю distance для пользователей подписки ultra\n",
        "user_ultra.plot(y = 'distance', kind = 'hist', bins = 20, grid=True, ec='black', legend=True, figsize = (10,6), range = (0,6000))\n",
        "plt.title('Расстояние, которое пользователь с подпиской ultra преодолел за одну поездку')\n",
        "plt.xlabel('Расстояние, м.')\n",
        "plt.ylabel('Количество пользователей')\n",
        "plt.grid()\n",
        "plt.show()"
      ]
    },
    {
      "cell_type": "code",
      "execution_count": null,
      "id": "c9dfac4c",
      "metadata": {
        "id": "c9dfac4c",
        "outputId": "d56ed6bc-1aad-464d-b6b3-91eb12b97735"
      },
      "outputs": [
        {
          "data": {
            "image/png": "[encoded data removed]",
            "text/plain": [
              "<Figure size 720x432 with 1 Axes>"
            ]
          },
          "metadata": {
            "needs_background": "light"
          },
          "output_type": "display_data"
        }
      ],
      "source": [
        "#Построим гистограмму по полю distance для пользователей без подписки\n",
        "user_free.plot(y = 'distance', kind = 'hist', bins = 25, grid=True, ec='black', legend=True, figsize = (10,6), range = (0,7600))\n",
        "plt.title('Расстояние, которое пользователи без подписки преодолел за одну поездку')\n",
        "plt.xlabel('Расстояние, м.')\n",
        "plt.ylabel('Количество пользователей')\n",
        "plt.grid()\n",
        "plt.show()"
      ]
    },
    {
      "cell_type": "code",
      "execution_count": null,
      "id": "b7793b0e",
      "metadata": {
        "id": "b7793b0e",
        "outputId": "61d24455-d200-48e8-b2de-ecf29718bea0"
      },
      "outputs": [
        {
          "data": {
            "image/png": "[encoded data removed]",
            "text/plain": [
              "<Figure size 720x432 with 1 Axes>"
            ]
          },
          "metadata": {
            "needs_background": "light"
          },
          "output_type": "display_data"
        }
      ],
      "source": [
        "#Построим гистограмму по полю duration для пользователей подписки ultra\n",
        "user_ultra.plot(y = 'duration', kind = 'hist', bins = 20, grid=True, ec='black', legend=True, figsize = (10,6), range = (0,40))\n",
        "plt.title('Время, которое пользователи с подпиской ultra тратит за одну поездку')\n",
        "plt.xlabel('Время, мин.')\n",
        "plt.ylabel('Количество пользователей')\n",
        "plt.grid()\n",
        "plt.show()"
      ]
    },
    {
      "cell_type": "code",
      "execution_count": null,
      "id": "7c1143e8",
      "metadata": {
        "id": "7c1143e8",
        "outputId": "965eb2b8-9883-4a51-eba7-f3a38024f15c"
      },
      "outputs": [
        {
          "data": {
            "image/png": "[encoded data removed]",
            "text/plain": [
              "<Figure size 720x432 with 1 Axes>"
            ]
          },
          "metadata": {
            "needs_background": "light"
          },
          "output_type": "display_data"
        }
      ],
      "source": [
        "#Построим гистограмму по полю duration для пользователей для пользователей без подписки\n",
        "user_free.plot(y = 'duration', kind = 'hist', bins = 20, grid=True, ec='black', legend=True, figsize = (10,6), range = (0,40))\n",
        "plt.title('Время, которое пользователи для пользователей без подписки тратит за одну поездку')\n",
        "plt.xlabel('Время, мин.')\n",
        "plt.ylabel('Количество пользователей')\n",
        "plt.grid()\n",
        "plt.show()"
      ]
    },
    {
      "cell_type": "markdown",
      "id": "4de151a4",
      "metadata": {
        "id": "4de151a4"
      },
      "source": [
        "<div class=\"alert alert-success\">\n",
        "<b>Комментарий ревьюера:</b>☀️\n",
        "    \n",
        "* Проще сравнивать распределения на одном графике, поэтому рекомендовал бы продолжительность двух категорий расположить на одном графике, аналогично с расстоянием\n",
        "* На графиках отлично смотрится среднее или медиана, как дополнительное опорной значение, вот [тут](https://stackoverflow.com/questions/12043672/how-to-take-draw-an-average-line-for-a-scatter-plot) можно посмотреть, как добавить такую визуализацию"
      ]
    },
    {
      "cell_type": "markdown",
      "id": "b03c923b",
      "metadata": {
        "id": "b03c923b"
      },
      "source": [
        "Основной профиль клиентов с подпиской и без:\n",
        "- с подпиской: основная доля пользователей тратит на поездки от 17 до 22 мин, проезжая расстояние от 2,5 до 3,5 км\n",
        "- без подписки: на поездку тратится от 15 до 20 мин, проезжают расстояние от 2 до 4,5 км.\n",
        "\n",
        "Пользователи с подпиской тратят немного больше времени на поездки, но пользователи без подписки преодолевают более длинные дистанции. Было бы интересно посмотреть на среднюю скорость движения самокатов в зависимости от налчиия подписки."
      ]
    },
    {
      "cell_type": "markdown",
      "id": "402d620f",
      "metadata": {
        "id": "402d620f"
      },
      "source": [
        "#### Шаг 5. Подсчёт выручки"
      ]
    },
    {
      "cell_type": "code",
      "execution_count": null,
      "id": "53049e0a",
      "metadata": {
        "id": "53049e0a",
        "outputId": "315c0da1-3eeb-4959-8a4c-c146d8575736"
      },
      "outputs": [
        {
          "data": {
            "text/html": [
              "<div>\n",
              "<style scoped>\n",
              "    .dataframe tbody tr th:only-of-type {\n",
              "        vertical-align: middle;\n",
              "    }\n",
              "\n",
              "    .dataframe tbody tr th {\n",
              "        vertical-align: top;\n",
              "    }\n",
              "\n",
              "    .dataframe thead th {\n",
              "        text-align: right;\n",
              "    }\n",
              "</style>\n",
              "<table border=\"1\" class=\"dataframe\">\n",
              "  <thead>\n",
              "    <tr style=\"text-align: right;\">\n",
              "      <th></th>\n",
              "      <th></th>\n",
              "      <th>distance</th>\n",
              "      <th>duration</th>\n",
              "      <th>count_tips</th>\n",
              "      <th>subscription_type</th>\n",
              "    </tr>\n",
              "    <tr>\n",
              "      <th>month_exposition</th>\n",
              "      <th>user_id</th>\n",
              "      <th></th>\n",
              "      <th></th>\n",
              "      <th></th>\n",
              "      <th></th>\n",
              "    </tr>\n",
              "  </thead>\n",
              "  <tbody>\n",
              "    <tr>\n",
              "      <th rowspan=\"5\" valign=\"top\">1</th>\n",
              "      <th>1</th>\n",
              "      <td>7027.511294</td>\n",
              "      <td>42.0</td>\n",
              "      <td>2</td>\n",
              "      <td>ultra</td>\n",
              "    </tr>\n",
              "    <tr>\n",
              "      <th>3</th>\n",
              "      <td>3061.777147</td>\n",
              "      <td>13.0</td>\n",
              "      <td>1</td>\n",
              "      <td>ultra</td>\n",
              "    </tr>\n",
              "    <tr>\n",
              "      <th>5</th>\n",
              "      <td>3914.646990</td>\n",
              "      <td>13.0</td>\n",
              "      <td>1</td>\n",
              "      <td>ultra</td>\n",
              "    </tr>\n",
              "    <tr>\n",
              "      <th>7</th>\n",
              "      <td>6478.080979</td>\n",
              "      <td>28.0</td>\n",
              "      <td>2</td>\n",
              "      <td>ultra</td>\n",
              "    </tr>\n",
              "    <tr>\n",
              "      <th>12</th>\n",
              "      <td>3577.151148</td>\n",
              "      <td>33.0</td>\n",
              "      <td>1</td>\n",
              "      <td>ultra</td>\n",
              "    </tr>\n",
              "    <tr>\n",
              "      <th>...</th>\n",
              "      <th>...</th>\n",
              "      <td>...</td>\n",
              "      <td>...</td>\n",
              "      <td>...</td>\n",
              "      <td>...</td>\n",
              "    </tr>\n",
              "    <tr>\n",
              "      <th rowspan=\"5\" valign=\"top\">12</th>\n",
              "      <th>1525</th>\n",
              "      <td>4597.854350</td>\n",
              "      <td>34.0</td>\n",
              "      <td>1</td>\n",
              "      <td>free</td>\n",
              "    </tr>\n",
              "    <tr>\n",
              "      <th>1526</th>\n",
              "      <td>3644.121544</td>\n",
              "      <td>23.0</td>\n",
              "      <td>1</td>\n",
              "      <td>free</td>\n",
              "    </tr>\n",
              "    <tr>\n",
              "      <th>1528</th>\n",
              "      <td>3998.569324</td>\n",
              "      <td>11.0</td>\n",
              "      <td>1</td>\n",
              "      <td>free</td>\n",
              "    </tr>\n",
              "    <tr>\n",
              "      <th>1532</th>\n",
              "      <td>6111.889853</td>\n",
              "      <td>41.0</td>\n",
              "      <td>2</td>\n",
              "      <td>free</td>\n",
              "    </tr>\n",
              "    <tr>\n",
              "      <th>1534</th>\n",
              "      <td>2371.711192</td>\n",
              "      <td>16.0</td>\n",
              "      <td>1</td>\n",
              "      <td>free</td>\n",
              "    </tr>\n",
              "  </tbody>\n",
              "</table>\n",
              "<p>11331 rows × 4 columns</p>\n",
              "</div>"
            ],
            "text/plain": [
              "                             distance  duration  count_tips subscription_type\n",
              "month_exposition user_id                                                     \n",
              "1                1        7027.511294      42.0           2             ultra\n",
              "                 3        3061.777147      13.0           1             ultra\n",
              "                 5        3914.646990      13.0           1             ultra\n",
              "                 7        6478.080979      28.0           2             ultra\n",
              "                 12       3577.151148      33.0           1             ultra\n",
              "...                               ...       ...         ...               ...\n",
              "12               1525     4597.854350      34.0           1              free\n",
              "                 1526     3644.121544      23.0           1              free\n",
              "                 1528     3998.569324      11.0           1              free\n",
              "                 1532     6111.889853      41.0           2              free\n",
              "                 1534     2371.711192      16.0           1              free\n",
              "\n",
              "[11331 rows x 4 columns]"
            ]
          },
          "execution_count": 36,
          "metadata": {},
          "output_type": "execute_result"
        }
      ],
      "source": [
        "total_data = pd.pivot_table(data,\n",
        "                           index=['month_exposition', 'user_id'],\n",
        "                           values = ['distance', 'duration', 'name', 'subscription_type'],\n",
        "                           aggfunc = {'distance': sum,\n",
        "                                      'duration' : sum,\n",
        "                                      'name' : len,\n",
        "                                      'subscription_type' : min})\n",
        "total_data.rename(columns = {'name' : 'count_tips'}, inplace = True)\n",
        "total_data['duration'] = np.ceil(total_data['duration'])\n",
        "total_data"
      ]
    },
    {
      "cell_type": "code",
      "execution_count": null,
      "id": "97a37e95",
      "metadata": {
        "id": "97a37e95"
      },
      "outputs": [],
      "source": [
        "# Найдем помесячную выручку\n",
        "def revenue(row):\n",
        "    if row['subscription_type'] == 'ultra':\n",
        "        return 6 * row['duration'] + 199\n",
        "    elif row['subscription_type'] == 'free':\n",
        "        return 8 * row['duration'] + 50 * row['count_tips']\n",
        "    else:\n",
        "        return 'none'"
      ]
    },
    {
      "cell_type": "code",
      "execution_count": null,
      "id": "9a0f2686",
      "metadata": {
        "id": "9a0f2686",
        "outputId": "5e3ac51d-1650-4d98-d717-728df026cada"
      },
      "outputs": [
        {
          "data": {
            "text/html": [
              "<div>\n",
              "<style scoped>\n",
              "    .dataframe tbody tr th:only-of-type {\n",
              "        vertical-align: middle;\n",
              "    }\n",
              "\n",
              "    .dataframe tbody tr th {\n",
              "        vertical-align: top;\n",
              "    }\n",
              "\n",
              "    .dataframe thead th {\n",
              "        text-align: right;\n",
              "    }\n",
              "</style>\n",
              "<table border=\"1\" class=\"dataframe\">\n",
              "  <thead>\n",
              "    <tr style=\"text-align: right;\">\n",
              "      <th></th>\n",
              "      <th></th>\n",
              "      <th>distance</th>\n",
              "      <th>duration</th>\n",
              "      <th>count_tips</th>\n",
              "      <th>subscription_type</th>\n",
              "      <th>revenue_per_month</th>\n",
              "    </tr>\n",
              "    <tr>\n",
              "      <th>month_exposition</th>\n",
              "      <th>user_id</th>\n",
              "      <th></th>\n",
              "      <th></th>\n",
              "      <th></th>\n",
              "      <th></th>\n",
              "      <th></th>\n",
              "    </tr>\n",
              "  </thead>\n",
              "  <tbody>\n",
              "    <tr>\n",
              "      <th rowspan=\"5\" valign=\"top\">1</th>\n",
              "      <th>1</th>\n",
              "      <td>7027.511294</td>\n",
              "      <td>42.0</td>\n",
              "      <td>2</td>\n",
              "      <td>ultra</td>\n",
              "      <td>451.0</td>\n",
              "    </tr>\n",
              "    <tr>\n",
              "      <th>3</th>\n",
              "      <td>3061.777147</td>\n",
              "      <td>13.0</td>\n",
              "      <td>1</td>\n",
              "      <td>ultra</td>\n",
              "      <td>277.0</td>\n",
              "    </tr>\n",
              "    <tr>\n",
              "      <th>5</th>\n",
              "      <td>3914.646990</td>\n",
              "      <td>13.0</td>\n",
              "      <td>1</td>\n",
              "      <td>ultra</td>\n",
              "      <td>277.0</td>\n",
              "    </tr>\n",
              "    <tr>\n",
              "      <th>7</th>\n",
              "      <td>6478.080979</td>\n",
              "      <td>28.0</td>\n",
              "      <td>2</td>\n",
              "      <td>ultra</td>\n",
              "      <td>367.0</td>\n",
              "    </tr>\n",
              "    <tr>\n",
              "      <th>12</th>\n",
              "      <td>3577.151148</td>\n",
              "      <td>33.0</td>\n",
              "      <td>1</td>\n",
              "      <td>ultra</td>\n",
              "      <td>397.0</td>\n",
              "    </tr>\n",
              "    <tr>\n",
              "      <th>...</th>\n",
              "      <th>...</th>\n",
              "      <td>...</td>\n",
              "      <td>...</td>\n",
              "      <td>...</td>\n",
              "      <td>...</td>\n",
              "      <td>...</td>\n",
              "    </tr>\n",
              "    <tr>\n",
              "      <th rowspan=\"5\" valign=\"top\">12</th>\n",
              "      <th>1525</th>\n",
              "      <td>4597.854350</td>\n",
              "      <td>34.0</td>\n",
              "      <td>1</td>\n",
              "      <td>free</td>\n",
              "      <td>322.0</td>\n",
              "    </tr>\n",
              "    <tr>\n",
              "      <th>1526</th>\n",
              "      <td>3644.121544</td>\n",
              "      <td>23.0</td>\n",
              "      <td>1</td>\n",
              "      <td>free</td>\n",
              "      <td>234.0</td>\n",
              "    </tr>\n",
              "    <tr>\n",
              "      <th>1528</th>\n",
              "      <td>3998.569324</td>\n",
              "      <td>11.0</td>\n",
              "      <td>1</td>\n",
              "      <td>free</td>\n",
              "      <td>138.0</td>\n",
              "    </tr>\n",
              "    <tr>\n",
              "      <th>1532</th>\n",
              "      <td>6111.889853</td>\n",
              "      <td>41.0</td>\n",
              "      <td>2</td>\n",
              "      <td>free</td>\n",
              "      <td>428.0</td>\n",
              "    </tr>\n",
              "    <tr>\n",
              "      <th>1534</th>\n",
              "      <td>2371.711192</td>\n",
              "      <td>16.0</td>\n",
              "      <td>1</td>\n",
              "      <td>free</td>\n",
              "      <td>178.0</td>\n",
              "    </tr>\n",
              "  </tbody>\n",
              "</table>\n",
              "<p>11331 rows × 5 columns</p>\n",
              "</div>"
            ],
            "text/plain": [
              "                             distance  duration  count_tips subscription_type  \\\n",
              "month_exposition user_id                                                        \n",
              "1                1        7027.511294      42.0           2             ultra   \n",
              "                 3        3061.777147      13.0           1             ultra   \n",
              "                 5        3914.646990      13.0           1             ultra   \n",
              "                 7        6478.080979      28.0           2             ultra   \n",
              "                 12       3577.151148      33.0           1             ultra   \n",
              "...                               ...       ...         ...               ...   \n",
              "12               1525     4597.854350      34.0           1              free   \n",
              "                 1526     3644.121544      23.0           1              free   \n",
              "                 1528     3998.569324      11.0           1              free   \n",
              "                 1532     6111.889853      41.0           2              free   \n",
              "                 1534     2371.711192      16.0           1              free   \n",
              "\n",
              "                          revenue_per_month  \n",
              "month_exposition user_id                     \n",
              "1                1                    451.0  \n",
              "                 3                    277.0  \n",
              "                 5                    277.0  \n",
              "                 7                    367.0  \n",
              "                 12                   397.0  \n",
              "...                                     ...  \n",
              "12               1525                 322.0  \n",
              "                 1526                 234.0  \n",
              "                 1528                 138.0  \n",
              "                 1532                 428.0  \n",
              "                 1534                 178.0  \n",
              "\n",
              "[11331 rows x 5 columns]"
            ]
          },
          "execution_count": 38,
          "metadata": {},
          "output_type": "execute_result"
        }
      ],
      "source": [
        "total_data['revenue_per_month'] = total_data.apply(revenue, axis=1)\n",
        "total_data"
      ]
    },
    {
      "cell_type": "markdown",
      "id": "1a54b28f",
      "metadata": {
        "id": "1a54b28f"
      },
      "source": [
        "<div class=\"alert alert-success\">\n",
        "<b>Комментарий ревьюера:</b>☀️\n",
        "    \n",
        "Доход посчитан верно, вперёд к проверке гипотез!"
      ]
    },
    {
      "cell_type": "markdown",
      "id": "41545ac0",
      "metadata": {
        "id": "41545ac0"
      },
      "source": [
        "#### Шаг 6. Проверка гипотез"
      ]
    },
    {
      "cell_type": "markdown",
      "id": "5971e7cc",
      "metadata": {
        "id": "5971e7cc"
      },
      "source": [
        "**6.1 Тратят ли пользователи с подпиской больше времени на поездки?**"
      ]
    },
    {
      "cell_type": "markdown",
      "id": "a02fba9e",
      "metadata": {
        "id": "a02fba9e"
      },
      "source": [
        "H_0: Время пользователей с подпиской = время пользователей без подписки\n",
        "\n",
        "H_1: Время пользователей с подпиской > время пользователей без подписки\n",
        "\n",
        "alpha = 0.05"
      ]
    },
    {
      "cell_type": "code",
      "execution_count": null,
      "id": "060970dd",
      "metadata": {
        "id": "060970dd",
        "outputId": "226bd02e-ac0b-4e1e-b2be-ec9685179868"
      },
      "outputs": [
        {
          "name": "stdout",
          "output_type": "stream",
          "text": [
            "1.2804098316645618e-34\n",
            "Отвергаем нулевую гипотезу\n"
          ]
        }
      ],
      "source": [
        "ultra = user_ultra['duration']\n",
        "free = user_free['duration']\n",
        "\n",
        "alpha = 0.05\n",
        "\n",
        "results = st.ttest_ind(ultra,\n",
        "                       free,\n",
        "                       alternative = 'greater')\n",
        "\n",
        "\n",
        "\n",
        "print(results.pvalue)\n",
        "\n",
        "if results.pvalue < alpha:\n",
        "    print('Отвергаем нулевую гипотезу')\n",
        "else:\n",
        "    print('Не удалось отвергнуть нулевую гипотезу')"
      ]
    },
    {
      "cell_type": "markdown",
      "id": "53a6fcb0",
      "metadata": {
        "id": "53a6fcb0"
      },
      "source": [
        "Результаты t-теста указывают на то, что p-значение равно 1.2804098316645618e-34, что крайне мало. Это означает, что с очень высокой вероятностью нулевая гипотеза о равенстве времени пользователей с подпиской времени пользователей без подписки может быть отвергнута.\n",
        "\n",
        "Следовательно, на основе предоставленных данных, есть статистически значимое различие во времени, проведенном пользователями с подпиской и пользователями без подписки, и альтернативная гипотеза может быть подтверждена."
      ]
    },
    {
      "cell_type": "markdown",
      "id": "fcb6272b",
      "metadata": {
        "id": "fcb6272b"
      },
      "source": [
        "**6.2 Можно ли сказать, что среднее расстояние, которое проезжают пользователи с подпиской за одну поездку, не превышает 3130 метров?**"
      ]
    },
    {
      "cell_type": "markdown",
      "id": "95642c52",
      "metadata": {
        "id": "95642c52"
      },
      "source": [
        "H_0: Расстояние пользователей на подписке ultra = 3130 метров\n",
        "\n",
        "H_1: Расстояние пользователей на подписке ultra < 3130 метров"
      ]
    },
    {
      "cell_type": "code",
      "execution_count": null,
      "id": "9e96e122",
      "metadata": {
        "id": "9e96e122",
        "outputId": "89d7ee30-e84e-4f34-b301-1b42003ca1e2"
      },
      "outputs": [
        {
          "name": "stdout",
          "output_type": "stream",
          "text": [
            "0.08046311521502146\n",
            "Не удалось отвергнуть нулевую гипотезу\n"
          ]
        }
      ],
      "source": [
        "ultra_dist = user_ultra['distance']\n",
        "\n",
        "interested_value = 3130\n",
        "\n",
        "alpha = .05\n",
        "\n",
        "results = st.ttest_1samp(\n",
        "    ultra_dist,\n",
        "    interested_value,\n",
        "    alternative='less')\n",
        "\n",
        "print(results.pvalue)\n",
        "\n",
        "if (results.pvalue < alpha):\n",
        "    print('Отвергаем нулевую гипотезу')\n",
        "else:\n",
        "    print('Не удалось отвергнуть нулевую гипотезу')"
      ]
    },
    {
      "cell_type": "markdown",
      "id": "55222684",
      "metadata": {
        "id": "55222684"
      },
      "source": [
        "На основе полученных результатов теста, нельзя утверждать, что среднее расстояние, которое проезжают пользователи с подпиской Ultra за одну поездку, не превышает 3130 метров."
      ]
    },
    {
      "cell_type": "markdown",
      "id": "40a1dbdd",
      "metadata": {
        "id": "40a1dbdd"
      },
      "source": [
        "**6.3 Будет ли помесячная выручка от пользователей с подпиской по месяцам выше, чем выручка от пользователей без подписки?**"
      ]
    },
    {
      "cell_type": "markdown",
      "id": "13977fb1",
      "metadata": {
        "id": "13977fb1"
      },
      "source": [
        "H_0: Выручка пользователей на подписке ultra = выручка пользователей без подписки\n",
        "\n",
        "H_1: Выручка пользователей на подписке ultra > выручка пользователей без подписки"
      ]
    },
    {
      "cell_type": "code",
      "execution_count": null,
      "id": "7a59873c",
      "metadata": {
        "id": "7a59873c",
        "outputId": "f8550486-856e-416f-d94b-7f6b5481e51f"
      },
      "outputs": [
        {
          "name": "stdout",
          "output_type": "stream",
          "text": [
            "2.8130926188487286e-35\n",
            "Отвергаем нулевую гипотезу\n"
          ]
        }
      ],
      "source": [
        "ultra_per_mnth = total_data.loc[total_data.subscription_type == 'ultra', 'revenue_per_month']\n",
        "\n",
        "free_per_mnth = total_data.loc[total_data.subscription_type == 'free', 'revenue_per_month']\n",
        "\n",
        "\n",
        "results = st.ttest_ind(ultra_per_mnth,\n",
        "                       free_per_mnth,\n",
        "                       alternative = 'greater')\n",
        "\n",
        "alpha = .05\n",
        "\n",
        "print(results.pvalue)\n",
        "\n",
        "if results.pvalue < alpha:\n",
        "    print('Отвергаем нулевую гипотезу')\n",
        "else:\n",
        "    print('Не удалось отвергнуть нулевую гипотезу')"
      ]
    },
    {
      "cell_type": "markdown",
      "id": "a1fcce6c",
      "metadata": {
        "id": "a1fcce6c"
      },
      "source": [
        "<div class=\"alert alert-success\">\n",
        "<b>Комментарий ревьюера:</b>☀️\n",
        "    \n",
        "Отлично, что формулируешь нулевую, альтернативную гипотезу, это важно, выводы верны, ещё могу порекомендовать дополнительно проверять себя и выводить среднее проверяемых переменных или распределения"
      ]
    },
    {
      "cell_type": "markdown",
      "id": "1fcf91d2",
      "metadata": {
        "id": "1fcf91d2"
      },
      "source": [
        "На основе предоставленных данных, есть статистически значимое различие в месячной выручке от пользователей с подпиской Ultra и пользователей без подписки, и альтернативная гипотеза может быть подтверждена."
      ]
    },
    {
      "cell_type": "markdown",
      "id": "08b5e84d",
      "metadata": {
        "id": "08b5e84d"
      },
      "source": [
        "**6.4 Представьте такую ситуацию: техническая команда сервиса обновила сервера, с которыми взаимодействует мобильное приложение. Она надеется, что из-за этого количество обращений в техподдержку значимо снизилось. Некоторый файл содержит для каждого пользователя данные о количестве обращений до обновления и после него. Какой тест вам понадобился бы для проверки этой гипотезы?**"
      ]
    },
    {
      "cell_type": "markdown",
      "id": "da714309",
      "metadata": {
        "id": "da714309"
      },
      "source": [
        "Для проверки гипотезы потребуется провести **парный t-тест для сравнения средних значений двух связанных выборок**.\n",
        "\n",
        "Этот тест поможет вам определить, есть ли статистически значимое изменение в количестве обращений в техподдержку после обновления серверов.\n",
        "\n",
        "Гипотезы могут быть сформулированы следующим образом:\n",
        "\n",
        "- H0: Среднее количество обращений в техподдержку до обновления серверов равно среднему количеству после обновления.\n",
        "- H1: Среднее количество обращений в техподдержку до обновления серверов не равно среднему количеству после обновления.\n",
        "\n",
        "Проведение парного t-теста позволит оценить статистическую значимость различия между двумя выборками и определить, было ли снижение количества обращений после обновления серверов статистически значимым.\n",
        "\n",
        "Метод, который нужно использовать при сравнении: scipy.stats.ttest_rel()"
      ]
    },
    {
      "cell_type": "markdown",
      "id": "8b08eee0",
      "metadata": {
        "id": "8b08eee0"
      },
      "source": [
        "<div class=\"alert alert-warning\">\n",
        "<b>Комментарий ревьюера:</b>⛅️\n",
        "\n",
        "Всё же в задании ожидается не просто изменение, а изменение в конкретную сторону, как это повлияет на альтернативную гипотезу?"
      ]
    },
    {
      "cell_type": "markdown",
      "id": "61213c5e",
      "metadata": {
        "id": "61213c5e"
      },
      "source": [
        "#### Шаг 7. Общий вывод"
      ]
    },
    {
      "cell_type": "markdown",
      "id": "c8ccdaa8",
      "metadata": {
        "id": "c8ccdaa8"
      },
      "source": [
        "В процессе проведенного исследования были проделаны следующие итерации с данными:\n",
        "1. Заменен тип данных в столбце rides['date'] из object на datetime;\n",
        "2. Удалены повторяющиеся значения в users;\n",
        "3. Рассчитаны и добавлены новые столбцы: rides['month_exposition'], total_data['revenue_per_month']\n",
        "4. Разделены данные по клиентам с подпиской и без.\n",
        "\n",
        "Основные выводы, полученнные по итогам исследования:\n",
        "1. Основная доля пользователей сервиса находится в Пятигорске, Екатеренбруге, Ростове-на-Дону;\n",
        "2. Более половины пользователей пользуются сервисом без подписки - 55%;\n",
        "3. Средний возраст пользователей сервиса составляет 25 лет;\n",
        "4. В среднем пользователи на самокате проезжают около 3 тыс. м. за одну поездку;\n",
        "5. Чаще всего пользователи совершают поездки на расстояние 2-4,5 км;\n",
        "6. В среднем пользователи тратят на поездку около 17 минут;\n",
        "7. Пользователи без подписки преодолевают более длинные дистанции.\n",
        "\n",
        "Проверили гипотезы:\n",
        "\n",
        "1. Пользователи с подпиской тратят столько же времени на поездки, как и пользователи на бесплатном тарифе\n",
        "- Отвергли нулевую гипотезу\n",
        "2. Пользователи с подпиской проезжают расстояние, не превышающее 3130 метров за одну поездку\n",
        "- Не удалось отвергнуть нулевую гипотезу\n",
        "3. Помесячная выручка от пользователей с подпиской выше, чем выручка от пользователей без подписки\n",
        "- Отвергли нулевую гипотезу"
      ]
    },
    {
      "cell_type": "markdown",
      "id": "0b42e32a",
      "metadata": {
        "id": "0b42e32a"
      },
      "source": [
        "<div class=\"alert alert-success\">\n",
        "<b>Комментарий ревьюера:</b>☀️\n",
        "    \n",
        "Отличный вывод, хорошо его оформила, пару минимальных замечаний и зачту работу!)"
      ]
    }
  ],
  "metadata": {
    "ExecuteTimeLog": [
      {
        "duration": 360,
        "start_time": "2023-11-03T18:11:27.355Z"
      },
      {
        "duration": 205,
        "start_time": "2023-11-03T18:11:28.502Z"
      },
      {
        "duration": 15,
        "start_time": "2023-11-03T18:11:29.182Z"
      },
      {
        "duration": 9,
        "start_time": "2023-11-03T18:11:48.235Z"
      },
      {
        "duration": 7,
        "start_time": "2023-11-03T18:11:49.995Z"
      },
      {
        "duration": 11,
        "start_time": "2023-11-03T18:12:27.698Z"
      },
      {
        "duration": 11,
        "start_time": "2023-11-03T18:32:25.714Z"
      },
      {
        "duration": 74,
        "start_time": "2023-11-03T18:34:10.121Z"
      },
      {
        "duration": 11,
        "start_time": "2023-11-03T18:44:45.363Z"
      },
      {
        "duration": 7,
        "start_time": "2023-11-03T18:45:08.541Z"
      },
      {
        "duration": 9,
        "start_time": "2023-11-03T18:45:12.775Z"
      },
      {
        "duration": 107,
        "start_time": "2023-11-03T18:45:17.796Z"
      },
      {
        "duration": 8,
        "start_time": "2023-11-03T18:47:29.177Z"
      },
      {
        "duration": 10,
        "start_time": "2023-11-03T18:47:29.717Z"
      },
      {
        "duration": 8,
        "start_time": "2023-11-03T18:47:30.525Z"
      },
      {
        "duration": 12,
        "start_time": "2023-11-03T18:47:30.953Z"
      },
      {
        "duration": 7,
        "start_time": "2023-11-03T18:48:56.441Z"
      },
      {
        "duration": 60,
        "start_time": "2023-11-03T18:49:09.654Z"
      },
      {
        "duration": 12,
        "start_time": "2023-11-03T18:49:18.557Z"
      },
      {
        "duration": 19,
        "start_time": "2023-11-03T18:49:57.670Z"
      },
      {
        "duration": 15,
        "start_time": "2023-11-03T18:51:16.777Z"
      },
      {
        "duration": 19,
        "start_time": "2023-11-03T18:52:33.689Z"
      },
      {
        "duration": 80,
        "start_time": "2023-11-03T18:53:30.168Z"
      },
      {
        "duration": 58,
        "start_time": "2023-11-03T18:55:28.161Z"
      },
      {
        "duration": 6,
        "start_time": "2023-11-03T18:55:43.625Z"
      },
      {
        "duration": 8,
        "start_time": "2023-11-03T18:56:00.642Z"
      },
      {
        "duration": 10,
        "start_time": "2023-11-03T18:57:40.911Z"
      },
      {
        "duration": 8,
        "start_time": "2023-11-03T18:57:46.425Z"
      },
      {
        "duration": 6,
        "start_time": "2023-11-03T18:59:04.143Z"
      },
      {
        "duration": 8,
        "start_time": "2023-11-03T18:59:04.653Z"
      },
      {
        "duration": 7,
        "start_time": "2023-11-03T18:59:05.794Z"
      },
      {
        "duration": 380,
        "start_time": "2023-11-03T18:59:16.235Z"
      },
      {
        "duration": 72,
        "start_time": "2023-11-03T18:59:16.617Z"
      },
      {
        "duration": 16,
        "start_time": "2023-11-03T18:59:16.690Z"
      },
      {
        "duration": 14,
        "start_time": "2023-11-03T18:59:16.707Z"
      },
      {
        "duration": 26,
        "start_time": "2023-11-03T18:59:16.723Z"
      },
      {
        "duration": 14,
        "start_time": "2023-11-03T18:59:16.751Z"
      },
      {
        "duration": 8,
        "start_time": "2023-11-03T18:59:16.767Z"
      },
      {
        "duration": 10,
        "start_time": "2023-11-03T18:59:16.777Z"
      },
      {
        "duration": 29,
        "start_time": "2023-11-03T18:59:16.789Z"
      },
      {
        "duration": 19,
        "start_time": "2023-11-03T18:59:16.820Z"
      },
      {
        "duration": 6,
        "start_time": "2023-11-03T18:59:16.841Z"
      },
      {
        "duration": 9,
        "start_time": "2023-11-03T18:59:16.849Z"
      },
      {
        "duration": 9,
        "start_time": "2023-11-03T18:59:16.859Z"
      },
      {
        "duration": 5,
        "start_time": "2023-11-03T19:06:34.501Z"
      },
      {
        "duration": 4,
        "start_time": "2023-11-03T19:06:46.935Z"
      },
      {
        "duration": 145,
        "start_time": "2023-11-03T19:08:17.362Z"
      },
      {
        "duration": 7,
        "start_time": "2023-11-03T19:08:32.156Z"
      },
      {
        "duration": 6,
        "start_time": "2023-11-03T19:08:40.061Z"
      },
      {
        "duration": 82,
        "start_time": "2023-11-03T19:11:49.343Z"
      },
      {
        "duration": 82,
        "start_time": "2023-11-03T19:12:11.429Z"
      },
      {
        "duration": 29,
        "start_time": "2023-11-03T19:13:02.067Z"
      },
      {
        "duration": 21,
        "start_time": "2023-11-03T19:14:24.129Z"
      },
      {
        "duration": 21,
        "start_time": "2023-11-03T19:15:17.554Z"
      },
      {
        "duration": 25,
        "start_time": "2023-11-03T19:15:22.596Z"
      },
      {
        "duration": 9,
        "start_time": "2023-11-03T19:17:49.414Z"
      },
      {
        "duration": 8,
        "start_time": "2023-11-03T19:17:56.224Z"
      },
      {
        "duration": 7,
        "start_time": "2023-11-03T19:18:20.975Z"
      },
      {
        "duration": 10,
        "start_time": "2023-11-03T19:18:43.099Z"
      },
      {
        "duration": 9,
        "start_time": "2023-11-03T19:18:52.331Z"
      },
      {
        "duration": 21,
        "start_time": "2023-11-03T19:19:12.716Z"
      },
      {
        "duration": 10,
        "start_time": "2023-11-03T19:20:03.863Z"
      },
      {
        "duration": 4,
        "start_time": "2023-11-03T19:21:20.669Z"
      },
      {
        "duration": 7,
        "start_time": "2023-11-03T19:21:31.460Z"
      },
      {
        "duration": 8,
        "start_time": "2023-11-03T19:22:05.684Z"
      },
      {
        "duration": 16,
        "start_time": "2023-11-03T19:22:35.906Z"
      },
      {
        "duration": 8,
        "start_time": "2023-11-03T19:22:47.710Z"
      },
      {
        "duration": 7,
        "start_time": "2023-11-03T19:23:18.249Z"
      },
      {
        "duration": 7,
        "start_time": "2023-11-03T19:23:49.542Z"
      },
      {
        "duration": 12,
        "start_time": "2023-11-03T19:24:06.727Z"
      },
      {
        "duration": 9,
        "start_time": "2023-11-03T19:25:12.730Z"
      },
      {
        "duration": 9,
        "start_time": "2023-11-03T19:25:23.761Z"
      },
      {
        "duration": 20,
        "start_time": "2023-11-03T19:25:48.515Z"
      },
      {
        "duration": 13,
        "start_time": "2023-11-03T19:27:15.525Z"
      },
      {
        "duration": 13,
        "start_time": "2023-11-03T19:27:51.814Z"
      },
      {
        "duration": 535,
        "start_time": "2023-11-03T19:28:59.328Z"
      },
      {
        "duration": 171,
        "start_time": "2023-11-03T19:29:41.893Z"
      },
      {
        "duration": 19,
        "start_time": "2023-11-03T19:30:23.699Z"
      },
      {
        "duration": 121,
        "start_time": "2023-11-03T19:30:24.533Z"
      },
      {
        "duration": 11,
        "start_time": "2023-11-03T19:30:38.352Z"
      },
      {
        "duration": 122,
        "start_time": "2023-11-03T19:30:40.902Z"
      },
      {
        "duration": 11,
        "start_time": "2023-11-03T19:30:47.933Z"
      },
      {
        "duration": 132,
        "start_time": "2023-11-03T19:30:48.690Z"
      },
      {
        "duration": 128,
        "start_time": "2023-11-03T19:32:02.330Z"
      },
      {
        "duration": 15,
        "start_time": "2023-11-03T19:32:20.965Z"
      },
      {
        "duration": 73,
        "start_time": "2023-11-03T19:32:59.402Z"
      },
      {
        "duration": 12,
        "start_time": "2023-11-03T19:33:05.835Z"
      },
      {
        "duration": 12,
        "start_time": "2023-11-03T19:33:54.675Z"
      },
      {
        "duration": 13,
        "start_time": "2023-11-03T19:37:52.523Z"
      },
      {
        "duration": 11,
        "start_time": "2023-11-03T19:38:37.876Z"
      },
      {
        "duration": 16,
        "start_time": "2023-11-03T19:39:10.808Z"
      },
      {
        "duration": 13,
        "start_time": "2023-11-03T19:42:58.570Z"
      },
      {
        "duration": 10,
        "start_time": "2023-11-03T19:43:48.543Z"
      },
      {
        "duration": 192,
        "start_time": "2023-11-03T19:48:48.673Z"
      },
      {
        "duration": 259,
        "start_time": "2023-11-03T19:48:59.994Z"
      },
      {
        "duration": 200,
        "start_time": "2023-11-03T19:49:15.350Z"
      },
      {
        "duration": 84,
        "start_time": "2023-11-03T19:50:16.179Z"
      },
      {
        "duration": 8,
        "start_time": "2023-11-03T19:51:16.255Z"
      },
      {
        "duration": 9,
        "start_time": "2023-11-03T19:51:30.632Z"
      },
      {
        "duration": 1095,
        "start_time": "2023-11-03T19:53:58.078Z"
      },
      {
        "duration": 12,
        "start_time": "2023-11-03T19:55:08.795Z"
      },
      {
        "duration": 21,
        "start_time": "2023-11-03T19:56:04.996Z"
      },
      {
        "duration": 126,
        "start_time": "2023-11-03T19:57:32.265Z"
      },
      {
        "duration": 134,
        "start_time": "2023-11-03T19:57:50.502Z"
      },
      {
        "duration": 141,
        "start_time": "2023-11-03T19:57:55.355Z"
      },
      {
        "duration": 147,
        "start_time": "2023-11-03T19:58:41.731Z"
      },
      {
        "duration": 137,
        "start_time": "2023-11-03T19:58:55.143Z"
      },
      {
        "duration": 236,
        "start_time": "2023-11-03T20:01:00.941Z"
      },
      {
        "duration": 217,
        "start_time": "2023-11-03T20:01:16.926Z"
      },
      {
        "duration": 286,
        "start_time": "2023-11-03T20:01:38.882Z"
      },
      {
        "duration": 229,
        "start_time": "2023-11-03T20:02:23.572Z"
      },
      {
        "duration": 215,
        "start_time": "2023-11-03T20:02:41.022Z"
      },
      {
        "duration": 227,
        "start_time": "2023-11-03T20:03:06.214Z"
      },
      {
        "duration": 222,
        "start_time": "2023-11-03T20:03:17.840Z"
      },
      {
        "duration": 159,
        "start_time": "2023-11-03T20:04:45.772Z"
      },
      {
        "duration": 140,
        "start_time": "2023-11-03T20:05:23.046Z"
      },
      {
        "duration": 193,
        "start_time": "2023-11-03T20:05:26.033Z"
      },
      {
        "duration": 196,
        "start_time": "2023-11-03T20:13:15.070Z"
      },
      {
        "duration": 189,
        "start_time": "2023-11-03T20:13:34.875Z"
      },
      {
        "duration": 228,
        "start_time": "2023-11-03T20:13:45.341Z"
      },
      {
        "duration": 288,
        "start_time": "2023-11-03T20:13:52.599Z"
      },
      {
        "duration": 195,
        "start_time": "2023-11-03T20:14:01.320Z"
      },
      {
        "duration": 207,
        "start_time": "2023-11-03T20:14:19.743Z"
      },
      {
        "duration": 217,
        "start_time": "2023-11-03T20:14:38.802Z"
      },
      {
        "duration": 234,
        "start_time": "2023-11-03T20:15:50.036Z"
      },
      {
        "duration": 227,
        "start_time": "2023-11-03T20:15:57.412Z"
      },
      {
        "duration": 197,
        "start_time": "2023-11-03T20:16:02.605Z"
      },
      {
        "duration": 227,
        "start_time": "2023-11-03T20:16:09.301Z"
      },
      {
        "duration": 210,
        "start_time": "2023-11-03T20:16:14.551Z"
      },
      {
        "duration": 11,
        "start_time": "2023-11-03T20:16:45.941Z"
      },
      {
        "duration": 256,
        "start_time": "2023-11-03T20:19:46.586Z"
      },
      {
        "duration": 83,
        "start_time": "2023-11-03T20:20:08.635Z"
      },
      {
        "duration": 193,
        "start_time": "2023-11-03T20:21:29.069Z"
      },
      {
        "duration": 31,
        "start_time": "2023-11-03T20:25:11.532Z"
      },
      {
        "duration": 22,
        "start_time": "2023-11-03T20:30:59.776Z"
      },
      {
        "duration": 7,
        "start_time": "2023-11-03T20:31:17.286Z"
      },
      {
        "duration": 37,
        "start_time": "2023-11-03T20:31:23.711Z"
      },
      {
        "duration": 329,
        "start_time": "2023-11-03T20:37:21.250Z"
      },
      {
        "duration": 250,
        "start_time": "2023-11-03T20:37:47.811Z"
      },
      {
        "duration": 281,
        "start_time": "2023-11-03T20:38:37.008Z"
      },
      {
        "duration": 228,
        "start_time": "2023-11-03T20:38:39.400Z"
      },
      {
        "duration": 224,
        "start_time": "2023-11-03T20:41:16.639Z"
      },
      {
        "duration": 212,
        "start_time": "2023-11-03T20:41:23.134Z"
      },
      {
        "duration": 217,
        "start_time": "2023-11-03T20:41:33.537Z"
      },
      {
        "duration": 225,
        "start_time": "2023-11-03T20:42:24.517Z"
      },
      {
        "duration": 205,
        "start_time": "2023-11-03T20:42:34.734Z"
      },
      {
        "duration": 32,
        "start_time": "2023-11-03T20:42:38.319Z"
      },
      {
        "duration": 25,
        "start_time": "2023-11-03T20:42:39.849Z"
      },
      {
        "duration": 20,
        "start_time": "2023-11-03T20:42:40.461Z"
      },
      {
        "duration": 226,
        "start_time": "2023-11-03T20:43:34.435Z"
      },
      {
        "duration": 257,
        "start_time": "2023-11-03T20:43:56.282Z"
      },
      {
        "duration": 315,
        "start_time": "2023-11-03T20:44:10.187Z"
      },
      {
        "duration": 192,
        "start_time": "2023-11-03T20:44:23.790Z"
      },
      {
        "duration": 212,
        "start_time": "2023-11-03T20:44:37.941Z"
      },
      {
        "duration": 197,
        "start_time": "2023-11-03T20:45:14.575Z"
      },
      {
        "duration": 191,
        "start_time": "2023-11-03T20:47:02.876Z"
      },
      {
        "duration": 185,
        "start_time": "2023-11-03T20:47:53.801Z"
      },
      {
        "duration": 195,
        "start_time": "2023-11-03T20:48:28.626Z"
      },
      {
        "duration": 189,
        "start_time": "2023-11-03T20:49:05.499Z"
      },
      {
        "duration": 197,
        "start_time": "2023-11-03T20:49:21.978Z"
      },
      {
        "duration": 13,
        "start_time": "2023-11-03T20:55:24.921Z"
      },
      {
        "duration": 19,
        "start_time": "2023-11-03T20:55:43.788Z"
      },
      {
        "duration": 841,
        "start_time": "2023-11-03T20:55:56.928Z"
      },
      {
        "duration": 811,
        "start_time": "2023-11-03T20:57:18.289Z"
      },
      {
        "duration": 853,
        "start_time": "2023-11-03T20:58:26.320Z"
      },
      {
        "duration": 4,
        "start_time": "2023-11-03T21:00:55.963Z"
      },
      {
        "duration": 777,
        "start_time": "2023-11-03T21:01:48.243Z"
      },
      {
        "duration": 823,
        "start_time": "2023-11-03T21:02:04.085Z"
      },
      {
        "duration": 2,
        "start_time": "2023-11-03T21:02:41.442Z"
      },
      {
        "duration": 775,
        "start_time": "2023-11-03T21:03:08.457Z"
      },
      {
        "duration": 622,
        "start_time": "2023-11-03T21:12:28.923Z"
      },
      {
        "duration": 68,
        "start_time": "2023-11-03T21:12:29.547Z"
      },
      {
        "duration": 13,
        "start_time": "2023-11-03T21:12:29.616Z"
      },
      {
        "duration": 16,
        "start_time": "2023-11-03T21:12:29.630Z"
      },
      {
        "duration": 19,
        "start_time": "2023-11-03T21:12:29.648Z"
      },
      {
        "duration": 11,
        "start_time": "2023-11-03T21:12:29.669Z"
      },
      {
        "duration": 6,
        "start_time": "2023-11-03T21:12:29.681Z"
      },
      {
        "duration": 27,
        "start_time": "2023-11-03T21:12:29.688Z"
      },
      {
        "duration": 28,
        "start_time": "2023-11-03T21:12:29.717Z"
      },
      {
        "duration": 14,
        "start_time": "2023-11-03T21:12:29.746Z"
      },
      {
        "duration": 4,
        "start_time": "2023-11-03T21:12:29.761Z"
      },
      {
        "duration": 6,
        "start_time": "2023-11-03T21:12:29.767Z"
      },
      {
        "duration": 6,
        "start_time": "2023-11-03T21:12:29.775Z"
      },
      {
        "duration": 79,
        "start_time": "2023-11-03T21:12:29.784Z"
      },
      {
        "duration": 0,
        "start_time": "2023-11-03T21:12:29.865Z"
      },
      {
        "duration": 0,
        "start_time": "2023-11-03T21:12:29.866Z"
      },
      {
        "duration": 0,
        "start_time": "2023-11-03T21:12:29.867Z"
      },
      {
        "duration": 0,
        "start_time": "2023-11-03T21:12:29.868Z"
      },
      {
        "duration": 0,
        "start_time": "2023-11-03T21:12:29.869Z"
      },
      {
        "duration": 0,
        "start_time": "2023-11-03T21:12:29.870Z"
      },
      {
        "duration": 0,
        "start_time": "2023-11-03T21:12:29.871Z"
      },
      {
        "duration": 0,
        "start_time": "2023-11-03T21:12:29.872Z"
      },
      {
        "duration": 0,
        "start_time": "2023-11-03T21:12:29.873Z"
      },
      {
        "duration": 0,
        "start_time": "2023-11-03T21:12:29.874Z"
      },
      {
        "duration": 0,
        "start_time": "2023-11-03T21:12:29.875Z"
      },
      {
        "duration": 0,
        "start_time": "2023-11-03T21:12:29.876Z"
      },
      {
        "duration": 0,
        "start_time": "2023-11-03T21:12:29.877Z"
      },
      {
        "duration": 0,
        "start_time": "2023-11-03T21:12:29.907Z"
      },
      {
        "duration": 0,
        "start_time": "2023-11-03T21:12:29.908Z"
      },
      {
        "duration": 0,
        "start_time": "2023-11-03T21:12:29.910Z"
      },
      {
        "duration": 0,
        "start_time": "2023-11-03T21:12:29.911Z"
      },
      {
        "duration": 0,
        "start_time": "2023-11-03T21:12:29.912Z"
      },
      {
        "duration": 626,
        "start_time": "2023-11-03T21:12:44.019Z"
      },
      {
        "duration": 70,
        "start_time": "2023-11-03T21:12:44.647Z"
      },
      {
        "duration": 11,
        "start_time": "2023-11-03T21:12:44.719Z"
      },
      {
        "duration": 39,
        "start_time": "2023-11-03T21:12:44.732Z"
      },
      {
        "duration": 12,
        "start_time": "2023-11-03T21:12:44.773Z"
      },
      {
        "duration": 10,
        "start_time": "2023-11-03T21:12:44.786Z"
      },
      {
        "duration": 6,
        "start_time": "2023-11-03T21:12:44.798Z"
      },
      {
        "duration": 14,
        "start_time": "2023-11-03T21:12:44.806Z"
      },
      {
        "duration": 23,
        "start_time": "2023-11-03T21:12:44.821Z"
      },
      {
        "duration": 21,
        "start_time": "2023-11-03T21:12:44.845Z"
      },
      {
        "duration": 16,
        "start_time": "2023-11-03T21:12:44.868Z"
      },
      {
        "duration": 13,
        "start_time": "2023-11-03T21:12:44.885Z"
      },
      {
        "duration": 35,
        "start_time": "2023-11-03T21:12:44.899Z"
      },
      {
        "duration": 74,
        "start_time": "2023-11-03T21:12:44.937Z"
      },
      {
        "duration": 0,
        "start_time": "2023-11-03T21:12:45.013Z"
      },
      {
        "duration": 0,
        "start_time": "2023-11-03T21:12:45.014Z"
      },
      {
        "duration": 0,
        "start_time": "2023-11-03T21:12:45.015Z"
      },
      {
        "duration": 0,
        "start_time": "2023-11-03T21:12:45.016Z"
      },
      {
        "duration": 0,
        "start_time": "2023-11-03T21:12:45.017Z"
      },
      {
        "duration": 0,
        "start_time": "2023-11-03T21:12:45.018Z"
      },
      {
        "duration": 0,
        "start_time": "2023-11-03T21:12:45.019Z"
      },
      {
        "duration": 0,
        "start_time": "2023-11-03T21:12:45.020Z"
      },
      {
        "duration": 0,
        "start_time": "2023-11-03T21:12:45.021Z"
      },
      {
        "duration": 0,
        "start_time": "2023-11-03T21:12:45.022Z"
      },
      {
        "duration": 0,
        "start_time": "2023-11-03T21:12:45.023Z"
      },
      {
        "duration": 0,
        "start_time": "2023-11-03T21:12:45.024Z"
      },
      {
        "duration": 0,
        "start_time": "2023-11-03T21:12:45.025Z"
      },
      {
        "duration": 0,
        "start_time": "2023-11-03T21:12:45.026Z"
      },
      {
        "duration": 0,
        "start_time": "2023-11-03T21:12:45.027Z"
      },
      {
        "duration": 0,
        "start_time": "2023-11-03T21:12:45.028Z"
      },
      {
        "duration": 0,
        "start_time": "2023-11-03T21:12:45.029Z"
      },
      {
        "duration": 0,
        "start_time": "2023-11-03T21:12:45.030Z"
      },
      {
        "duration": 3,
        "start_time": "2023-11-03T21:13:04.674Z"
      },
      {
        "duration": 73,
        "start_time": "2023-11-03T21:13:05.262Z"
      },
      {
        "duration": 13,
        "start_time": "2023-11-03T21:13:05.695Z"
      },
      {
        "duration": 16,
        "start_time": "2023-11-03T21:13:05.932Z"
      },
      {
        "duration": 9,
        "start_time": "2023-11-03T21:13:06.352Z"
      },
      {
        "duration": 13,
        "start_time": "2023-11-03T21:13:06.550Z"
      },
      {
        "duration": 8,
        "start_time": "2023-11-03T21:13:06.990Z"
      },
      {
        "duration": 13,
        "start_time": "2023-11-03T21:13:07.243Z"
      },
      {
        "duration": 13,
        "start_time": "2023-11-03T21:13:08.627Z"
      },
      {
        "duration": 14,
        "start_time": "2023-11-03T21:13:09.118Z"
      },
      {
        "duration": 6,
        "start_time": "2023-11-03T21:13:11.840Z"
      },
      {
        "duration": 9,
        "start_time": "2023-11-03T21:13:12.122Z"
      },
      {
        "duration": 8,
        "start_time": "2023-11-03T21:13:12.418Z"
      },
      {
        "duration": 10,
        "start_time": "2023-11-03T21:13:13.661Z"
      },
      {
        "duration": 35,
        "start_time": "2023-11-03T21:13:43.718Z"
      },
      {
        "duration": 16,
        "start_time": "2023-11-03T21:14:25.892Z"
      },
      {
        "duration": 12,
        "start_time": "2023-11-03T21:14:40.007Z"
      },
      {
        "duration": 12,
        "start_time": "2023-11-03T21:15:07.548Z"
      },
      {
        "duration": 13,
        "start_time": "2023-11-03T21:15:38.135Z"
      },
      {
        "duration": 11,
        "start_time": "2023-11-03T21:15:57.568Z"
      },
      {
        "duration": 11,
        "start_time": "2023-11-03T21:16:05.359Z"
      },
      {
        "duration": 8,
        "start_time": "2023-11-03T21:16:08.356Z"
      },
      {
        "duration": 204,
        "start_time": "2023-11-03T21:16:09.807Z"
      },
      {
        "duration": 10,
        "start_time": "2023-11-03T21:16:14.662Z"
      },
      {
        "duration": 130,
        "start_time": "2023-11-03T21:16:19.899Z"
      },
      {
        "duration": 197,
        "start_time": "2023-11-03T21:16:22.847Z"
      },
      {
        "duration": 8,
        "start_time": "2023-11-03T21:16:25.799Z"
      },
      {
        "duration": 201,
        "start_time": "2023-11-03T21:16:27.878Z"
      },
      {
        "duration": 222,
        "start_time": "2023-11-03T21:16:29.821Z"
      },
      {
        "duration": 28,
        "start_time": "2023-11-03T21:16:37.821Z"
      },
      {
        "duration": 19,
        "start_time": "2023-11-03T21:16:41.620Z"
      },
      {
        "duration": 19,
        "start_time": "2023-11-03T21:16:42.252Z"
      },
      {
        "duration": 184,
        "start_time": "2023-11-03T21:16:43.361Z"
      },
      {
        "duration": 195,
        "start_time": "2023-11-03T21:16:44.562Z"
      },
      {
        "duration": 190,
        "start_time": "2023-11-03T21:16:58.247Z"
      },
      {
        "duration": 182,
        "start_time": "2023-11-03T21:17:04.946Z"
      },
      {
        "duration": 208,
        "start_time": "2023-11-03T21:17:05.686Z"
      },
      {
        "duration": 845,
        "start_time": "2023-11-03T21:17:13.640Z"
      },
      {
        "duration": 11,
        "start_time": "2023-11-03T21:23:08.817Z"
      },
      {
        "duration": 466,
        "start_time": "2023-11-03T21:23:34.739Z"
      },
      {
        "duration": 6,
        "start_time": "2023-11-03T21:23:40.398Z"
      },
      {
        "duration": 5,
        "start_time": "2023-11-03T21:28:53.697Z"
      },
      {
        "duration": 76,
        "start_time": "2023-11-03T21:32:50.414Z"
      },
      {
        "duration": 1285,
        "start_time": "2023-11-03T21:33:25.429Z"
      },
      {
        "duration": 3,
        "start_time": "2023-11-03T21:35:34.877Z"
      },
      {
        "duration": 136,
        "start_time": "2023-11-03T21:35:45.261Z"
      },
      {
        "duration": 138,
        "start_time": "2023-11-03T21:35:54.595Z"
      },
      {
        "duration": 3,
        "start_time": "2023-11-03T21:36:39.485Z"
      },
      {
        "duration": 150,
        "start_time": "2023-11-03T21:36:41.423Z"
      },
      {
        "duration": 5,
        "start_time": "2023-11-03T21:36:43.631Z"
      },
      {
        "duration": 5,
        "start_time": "2023-11-03T21:36:45.292Z"
      },
      {
        "duration": 9,
        "start_time": "2023-11-03T21:36:48.184Z"
      },
      {
        "duration": 1081,
        "start_time": "2023-11-03T21:57:37.885Z"
      },
      {
        "duration": 70,
        "start_time": "2023-11-03T21:57:38.968Z"
      },
      {
        "duration": 12,
        "start_time": "2023-11-03T21:57:39.039Z"
      },
      {
        "duration": 12,
        "start_time": "2023-11-03T21:57:39.053Z"
      },
      {
        "duration": 24,
        "start_time": "2023-11-03T21:57:39.067Z"
      },
      {
        "duration": 19,
        "start_time": "2023-11-03T21:57:39.093Z"
      },
      {
        "duration": 35,
        "start_time": "2023-11-03T21:57:39.114Z"
      },
      {
        "duration": 22,
        "start_time": "2023-11-03T21:57:39.150Z"
      },
      {
        "duration": 35,
        "start_time": "2023-11-03T21:57:39.173Z"
      },
      {
        "duration": 15,
        "start_time": "2023-11-03T21:57:39.211Z"
      },
      {
        "duration": 14,
        "start_time": "2023-11-03T21:57:39.228Z"
      },
      {
        "duration": 15,
        "start_time": "2023-11-03T21:57:39.244Z"
      },
      {
        "duration": 7,
        "start_time": "2023-11-03T21:57:39.261Z"
      },
      {
        "duration": 115,
        "start_time": "2023-11-03T21:57:39.269Z"
      },
      {
        "duration": 0,
        "start_time": "2023-11-03T21:57:39.386Z"
      },
      {
        "duration": 0,
        "start_time": "2023-11-03T21:57:39.387Z"
      },
      {
        "duration": 0,
        "start_time": "2023-11-03T21:57:39.389Z"
      },
      {
        "duration": 0,
        "start_time": "2023-11-03T21:57:39.390Z"
      },
      {
        "duration": 0,
        "start_time": "2023-11-03T21:57:39.391Z"
      },
      {
        "duration": 0,
        "start_time": "2023-11-03T21:57:39.392Z"
      },
      {
        "duration": 0,
        "start_time": "2023-11-03T21:57:39.408Z"
      },
      {
        "duration": 0,
        "start_time": "2023-11-03T21:57:39.409Z"
      },
      {
        "duration": 0,
        "start_time": "2023-11-03T21:57:39.410Z"
      },
      {
        "duration": 0,
        "start_time": "2023-11-03T21:57:39.411Z"
      },
      {
        "duration": 0,
        "start_time": "2023-11-03T21:57:39.413Z"
      },
      {
        "duration": 0,
        "start_time": "2023-11-03T21:57:39.414Z"
      },
      {
        "duration": 0,
        "start_time": "2023-11-03T21:57:39.415Z"
      },
      {
        "duration": 1,
        "start_time": "2023-11-03T21:57:39.417Z"
      },
      {
        "duration": 0,
        "start_time": "2023-11-03T21:57:39.419Z"
      },
      {
        "duration": 0,
        "start_time": "2023-11-03T21:57:39.420Z"
      },
      {
        "duration": 0,
        "start_time": "2023-11-03T21:57:39.421Z"
      },
      {
        "duration": 0,
        "start_time": "2023-11-03T21:57:39.422Z"
      },
      {
        "duration": 0,
        "start_time": "2023-11-03T21:57:39.423Z"
      },
      {
        "duration": 0,
        "start_time": "2023-11-03T21:57:39.424Z"
      },
      {
        "duration": 0,
        "start_time": "2023-11-03T21:57:39.424Z"
      },
      {
        "duration": 0,
        "start_time": "2023-11-03T21:57:39.425Z"
      },
      {
        "duration": 3,
        "start_time": "2023-11-03T21:57:51.157Z"
      },
      {
        "duration": 69,
        "start_time": "2023-11-03T21:57:52.158Z"
      },
      {
        "duration": 9,
        "start_time": "2023-11-03T21:57:52.610Z"
      },
      {
        "duration": 11,
        "start_time": "2023-11-03T21:57:53.041Z"
      },
      {
        "duration": 8,
        "start_time": "2023-11-03T21:57:54.034Z"
      },
      {
        "duration": 11,
        "start_time": "2023-11-03T21:57:57.264Z"
      },
      {
        "duration": 6,
        "start_time": "2023-11-03T21:57:58.173Z"
      },
      {
        "duration": 9,
        "start_time": "2023-11-03T21:57:58.649Z"
      },
      {
        "duration": 13,
        "start_time": "2023-11-03T21:58:00.737Z"
      },
      {
        "duration": 15,
        "start_time": "2023-11-03T21:58:01.830Z"
      },
      {
        "duration": 5,
        "start_time": "2023-11-03T21:58:03.312Z"
      },
      {
        "duration": 7,
        "start_time": "2023-11-03T21:58:03.783Z"
      },
      {
        "duration": 7,
        "start_time": "2023-11-03T21:58:04.249Z"
      },
      {
        "duration": 11,
        "start_time": "2023-11-03T21:58:05.856Z"
      },
      {
        "duration": 12,
        "start_time": "2023-11-03T21:58:22.762Z"
      },
      {
        "duration": 11,
        "start_time": "2023-11-03T21:58:32.362Z"
      },
      {
        "duration": 12,
        "start_time": "2023-11-03T21:58:50.008Z"
      },
      {
        "duration": 11,
        "start_time": "2023-11-03T21:58:52.282Z"
      },
      {
        "duration": 8,
        "start_time": "2023-11-03T21:58:53.975Z"
      },
      {
        "duration": 203,
        "start_time": "2023-11-03T21:58:55.678Z"
      },
      {
        "duration": 9,
        "start_time": "2023-11-03T21:58:56.743Z"
      },
      {
        "duration": 129,
        "start_time": "2023-11-03T21:58:57.632Z"
      },
      {
        "duration": 187,
        "start_time": "2023-11-03T21:58:58.350Z"
      },
      {
        "duration": 9,
        "start_time": "2023-11-03T21:58:59.505Z"
      },
      {
        "duration": 202,
        "start_time": "2023-11-03T21:59:00.182Z"
      },
      {
        "duration": 172,
        "start_time": "2023-11-03T21:59:00.686Z"
      },
      {
        "duration": 31,
        "start_time": "2023-11-03T21:59:01.501Z"
      },
      {
        "duration": 22,
        "start_time": "2023-11-03T21:59:01.903Z"
      },
      {
        "duration": 18,
        "start_time": "2023-11-03T21:59:02.120Z"
      },
      {
        "duration": 182,
        "start_time": "2023-11-03T21:59:02.521Z"
      },
      {
        "duration": 189,
        "start_time": "2023-11-03T21:59:02.742Z"
      },
      {
        "duration": 192,
        "start_time": "2023-11-03T21:59:02.946Z"
      },
      {
        "duration": 193,
        "start_time": "2023-11-03T21:59:03.215Z"
      },
      {
        "duration": 872,
        "start_time": "2023-11-03T21:59:03.984Z"
      },
      {
        "duration": 4,
        "start_time": "2023-11-03T21:59:04.858Z"
      },
      {
        "duration": 157,
        "start_time": "2023-11-03T21:59:04.864Z"
      },
      {
        "duration": 6,
        "start_time": "2023-11-03T21:59:05.746Z"
      },
      {
        "duration": 5,
        "start_time": "2023-11-03T21:59:06.527Z"
      },
      {
        "duration": 10,
        "start_time": "2023-11-03T21:59:07.328Z"
      },
      {
        "duration": 1050,
        "start_time": "2023-11-03T21:59:17.538Z"
      },
      {
        "duration": 71,
        "start_time": "2023-11-03T21:59:18.590Z"
      },
      {
        "duration": 13,
        "start_time": "2023-11-03T21:59:18.662Z"
      },
      {
        "duration": 19,
        "start_time": "2023-11-03T21:59:18.676Z"
      },
      {
        "duration": 16,
        "start_time": "2023-11-03T21:59:18.698Z"
      },
      {
        "duration": 27,
        "start_time": "2023-11-03T21:59:18.716Z"
      },
      {
        "duration": 9,
        "start_time": "2023-11-03T21:59:18.745Z"
      },
      {
        "duration": 23,
        "start_time": "2023-11-03T21:59:18.755Z"
      },
      {
        "duration": 29,
        "start_time": "2023-11-03T21:59:18.780Z"
      },
      {
        "duration": 14,
        "start_time": "2023-11-03T21:59:18.810Z"
      },
      {
        "duration": 5,
        "start_time": "2023-11-03T21:59:18.825Z"
      },
      {
        "duration": 12,
        "start_time": "2023-11-03T21:59:18.831Z"
      },
      {
        "duration": 7,
        "start_time": "2023-11-03T21:59:18.844Z"
      },
      {
        "duration": 12,
        "start_time": "2023-11-03T21:59:18.853Z"
      },
      {
        "duration": 47,
        "start_time": "2023-11-03T21:59:18.866Z"
      },
      {
        "duration": 11,
        "start_time": "2023-11-03T21:59:18.914Z"
      },
      {
        "duration": 202,
        "start_time": "2023-11-03T21:59:18.927Z"
      },
      {
        "duration": 8,
        "start_time": "2023-11-03T21:59:19.130Z"
      },
      {
        "duration": 166,
        "start_time": "2023-11-03T21:59:19.139Z"
      },
      {
        "duration": 210,
        "start_time": "2023-11-03T21:59:19.307Z"
      },
      {
        "duration": 7,
        "start_time": "2023-11-03T21:59:19.519Z"
      },
      {
        "duration": 224,
        "start_time": "2023-11-03T21:59:19.528Z"
      },
      {
        "duration": 188,
        "start_time": "2023-11-03T21:59:19.754Z"
      },
      {
        "duration": 31,
        "start_time": "2023-11-03T21:59:19.944Z"
      },
      {
        "duration": 46,
        "start_time": "2023-11-03T21:59:19.977Z"
      },
      {
        "duration": 24,
        "start_time": "2023-11-03T21:59:20.025Z"
      },
      {
        "duration": 224,
        "start_time": "2023-11-03T21:59:20.052Z"
      },
      {
        "duration": 202,
        "start_time": "2023-11-03T21:59:20.277Z"
      },
      {
        "duration": 186,
        "start_time": "2023-11-03T21:59:20.481Z"
      },
      {
        "duration": 206,
        "start_time": "2023-11-03T21:59:20.669Z"
      },
      {
        "duration": 895,
        "start_time": "2023-11-03T21:59:20.877Z"
      },
      {
        "duration": 3,
        "start_time": "2023-11-03T21:59:21.774Z"
      },
      {
        "duration": 151,
        "start_time": "2023-11-03T21:59:21.779Z"
      },
      {
        "duration": 6,
        "start_time": "2023-11-03T21:59:21.931Z"
      },
      {
        "duration": 22,
        "start_time": "2023-11-03T21:59:21.939Z"
      },
      {
        "duration": 16,
        "start_time": "2023-11-03T21:59:21.963Z"
      },
      {
        "duration": 77,
        "start_time": "2023-11-04T19:34:18.918Z"
      },
      {
        "duration": 1548,
        "start_time": "2023-11-04T19:34:42.488Z"
      },
      {
        "duration": 263,
        "start_time": "2023-11-04T19:34:44.040Z"
      },
      {
        "duration": 13,
        "start_time": "2023-11-04T19:34:44.305Z"
      },
      {
        "duration": 134,
        "start_time": "2023-11-04T19:34:44.321Z"
      },
      {
        "duration": 106,
        "start_time": "2023-11-04T19:34:44.462Z"
      },
      {
        "duration": 12,
        "start_time": "2023-11-04T19:34:44.570Z"
      },
      {
        "duration": 10,
        "start_time": "2023-11-04T19:34:44.583Z"
      },
      {
        "duration": 18,
        "start_time": "2023-11-04T19:34:44.595Z"
      },
      {
        "duration": 39,
        "start_time": "2023-11-04T19:34:44.615Z"
      },
      {
        "duration": 81,
        "start_time": "2023-11-04T19:34:44.665Z"
      },
      {
        "duration": 122,
        "start_time": "2023-11-04T19:34:44.751Z"
      },
      {
        "duration": 21,
        "start_time": "2023-11-04T19:34:44.875Z"
      },
      {
        "duration": 68,
        "start_time": "2023-11-04T19:34:44.898Z"
      },
      {
        "duration": 121,
        "start_time": "2023-11-04T19:34:44.969Z"
      },
      {
        "duration": 652,
        "start_time": "2023-11-04T19:34:45.091Z"
      },
      {
        "duration": 15,
        "start_time": "2023-11-04T19:34:45.745Z"
      },
      {
        "duration": 114,
        "start_time": "2023-11-04T19:34:45.762Z"
      },
      {
        "duration": 594,
        "start_time": "2023-11-04T19:34:45.878Z"
      },
      {
        "duration": 57,
        "start_time": "2023-11-04T19:34:46.474Z"
      },
      {
        "duration": 421,
        "start_time": "2023-11-04T19:34:46.543Z"
      },
      {
        "duration": 474,
        "start_time": "2023-11-04T19:34:46.966Z"
      },
      {
        "duration": 18,
        "start_time": "2023-11-04T19:34:47.442Z"
      },
      {
        "duration": 259,
        "start_time": "2023-11-04T19:34:47.462Z"
      },
      {
        "duration": 258,
        "start_time": "2023-11-04T19:34:47.723Z"
      },
      {
        "duration": 51,
        "start_time": "2023-11-04T19:34:47.983Z"
      },
      {
        "duration": 40,
        "start_time": "2023-11-04T19:34:48.039Z"
      },
      {
        "duration": 18,
        "start_time": "2023-11-04T19:34:48.081Z"
      },
      {
        "duration": 296,
        "start_time": "2023-11-04T19:34:48.102Z"
      },
      {
        "duration": 274,
        "start_time": "2023-11-04T19:34:48.400Z"
      },
      {
        "duration": 247,
        "start_time": "2023-11-04T19:34:48.675Z"
      },
      {
        "duration": 376,
        "start_time": "2023-11-04T19:34:48.925Z"
      },
      {
        "duration": 1127,
        "start_time": "2023-11-04T19:34:49.303Z"
      },
      {
        "duration": 5,
        "start_time": "2023-11-04T19:34:50.439Z"
      },
      {
        "duration": 243,
        "start_time": "2023-11-04T19:34:50.449Z"
      },
      {
        "duration": 5,
        "start_time": "2023-11-04T19:34:50.694Z"
      },
      {
        "duration": 60,
        "start_time": "2023-11-04T19:34:50.701Z"
      },
      {
        "duration": 54,
        "start_time": "2023-11-04T19:34:50.764Z"
      },
      {
        "duration": 213,
        "start_time": "2023-11-04T19:35:46.495Z"
      },
      {
        "duration": 211,
        "start_time": "2023-11-04T19:36:00.869Z"
      },
      {
        "duration": 207,
        "start_time": "2023-11-04T19:36:22.699Z"
      },
      {
        "duration": 144,
        "start_time": "2023-11-04T19:41:06.023Z"
      },
      {
        "duration": 15,
        "start_time": "2023-11-04T19:41:17.969Z"
      },
      {
        "duration": 24,
        "start_time": "2023-11-04T19:41:29.741Z"
      },
      {
        "duration": 33,
        "start_time": "2023-11-04T19:42:24.216Z"
      },
      {
        "duration": 14,
        "start_time": "2023-11-04T19:42:34.670Z"
      },
      {
        "duration": 4,
        "start_time": "2023-11-04T19:43:33.908Z"
      },
      {
        "duration": 10,
        "start_time": "2023-11-04T19:44:34.053Z"
      },
      {
        "duration": 10,
        "start_time": "2023-11-04T19:44:59.656Z"
      },
      {
        "duration": 8,
        "start_time": "2023-11-04T19:45:19.968Z"
      },
      {
        "duration": 12,
        "start_time": "2023-11-04T19:45:31.653Z"
      },
      {
        "duration": 23,
        "start_time": "2023-11-04T19:45:40.621Z"
      },
      {
        "duration": 13,
        "start_time": "2023-11-04T19:46:16.153Z"
      },
      {
        "duration": 9,
        "start_time": "2023-11-04T19:46:25.681Z"
      },
      {
        "duration": 15,
        "start_time": "2023-11-04T19:48:06.380Z"
      },
      {
        "duration": 17,
        "start_time": "2023-11-04T19:48:25.890Z"
      },
      {
        "duration": 88,
        "start_time": "2023-11-04T19:51:41.076Z"
      },
      {
        "duration": 13,
        "start_time": "2023-11-04T19:51:49.238Z"
      },
      {
        "duration": 89,
        "start_time": "2023-11-04T19:52:04.242Z"
      },
      {
        "duration": 76,
        "start_time": "2023-11-04T19:52:19.938Z"
      },
      {
        "duration": 85,
        "start_time": "2023-11-04T19:52:33.495Z"
      },
      {
        "duration": 144,
        "start_time": "2023-11-04T19:53:10.606Z"
      },
      {
        "duration": 141,
        "start_time": "2023-11-04T19:54:15.041Z"
      },
      {
        "duration": 1185,
        "start_time": "2023-11-04T19:55:14.018Z"
      },
      {
        "duration": 79,
        "start_time": "2023-11-04T19:55:15.205Z"
      },
      {
        "duration": 61,
        "start_time": "2023-11-04T19:55:15.285Z"
      },
      {
        "duration": 19,
        "start_time": "2023-11-04T19:55:15.348Z"
      },
      {
        "duration": 17,
        "start_time": "2023-11-04T19:55:15.369Z"
      },
      {
        "duration": 35,
        "start_time": "2023-11-04T19:55:15.388Z"
      },
      {
        "duration": 47,
        "start_time": "2023-11-04T19:55:15.425Z"
      },
      {
        "duration": 39,
        "start_time": "2023-11-04T19:55:15.474Z"
      },
      {
        "duration": 130,
        "start_time": "2023-11-04T19:55:15.515Z"
      },
      {
        "duration": 155,
        "start_time": "2023-11-04T19:55:15.647Z"
      },
      {
        "duration": 57,
        "start_time": "2023-11-04T19:55:15.805Z"
      },
      {
        "duration": 13,
        "start_time": "2023-11-04T19:55:15.864Z"
      },
      {
        "duration": 91,
        "start_time": "2023-11-04T19:55:15.879Z"
      },
      {
        "duration": 175,
        "start_time": "2023-11-04T19:55:15.974Z"
      },
      {
        "duration": 396,
        "start_time": "2023-11-04T19:55:16.151Z"
      },
      {
        "duration": 207,
        "start_time": "2023-11-04T19:55:16.549Z"
      },
      {
        "duration": 50,
        "start_time": "2023-11-04T19:55:16.758Z"
      },
      {
        "duration": 306,
        "start_time": "2023-11-04T19:55:16.810Z"
      },
      {
        "duration": 13,
        "start_time": "2023-11-04T19:55:17.118Z"
      },
      {
        "duration": 267,
        "start_time": "2023-11-04T19:55:17.135Z"
      },
      {
        "duration": 9,
        "start_time": "2023-11-04T19:55:17.403Z"
      },
      {
        "duration": 226,
        "start_time": "2023-11-04T19:55:17.414Z"
      },
      {
        "duration": 212,
        "start_time": "2023-11-04T19:55:17.642Z"
      },
      {
        "duration": 9,
        "start_time": "2023-11-04T19:55:17.856Z"
      },
      {
        "duration": 262,
        "start_time": "2023-11-04T19:55:17.866Z"
      },
      {
        "duration": 208,
        "start_time": "2023-11-04T19:55:18.129Z"
      },
      {
        "duration": 37,
        "start_time": "2023-11-04T19:55:18.339Z"
      },
      {
        "duration": 83,
        "start_time": "2023-11-04T19:55:18.377Z"
      },
      {
        "duration": 96,
        "start_time": "2023-11-04T19:55:18.461Z"
      },
      {
        "duration": 51,
        "start_time": "2023-11-04T19:55:18.558Z"
      },
      {
        "duration": 57,
        "start_time": "2023-11-04T19:55:18.610Z"
      },
      {
        "duration": 223,
        "start_time": "2023-11-04T19:55:18.669Z"
      },
      {
        "duration": 324,
        "start_time": "2023-11-04T19:55:18.894Z"
      },
      {
        "duration": 226,
        "start_time": "2023-11-04T19:55:19.220Z"
      },
      {
        "duration": 214,
        "start_time": "2023-11-04T19:55:19.448Z"
      },
      {
        "duration": 979,
        "start_time": "2023-11-04T19:55:19.664Z"
      },
      {
        "duration": 3,
        "start_time": "2023-11-04T19:55:20.645Z"
      },
      {
        "duration": 341,
        "start_time": "2023-11-04T19:55:20.650Z"
      },
      {
        "duration": 17,
        "start_time": "2023-11-04T19:55:20.993Z"
      },
      {
        "duration": 48,
        "start_time": "2023-11-04T19:55:21.012Z"
      },
      {
        "duration": 178,
        "start_time": "2023-11-04T19:55:21.065Z"
      }
    ],
    "kernelspec": {
      "display_name": "Python 3 (ipykernel)",
      "language": "python",
      "name": "python3"
    },
    "language_info": {
      "codemirror_mode": {
        "name": "ipython",
        "version": 3
      },
      "file_extension": ".py",
      "mimetype": "text/x-python",
      "name": "python",
      "nbconvert_exporter": "python",
      "pygments_lexer": "ipython3",
      "version": "3.9.5"
    },
    "toc": {
      "base_numbering": 1,
      "nav_menu": {},
      "number_sections": true,
      "sideBar": true,
      "skip_h1_title": true,
      "title_cell": "Table of Contents",
      "title_sidebar": "Contents",
      "toc_cell": false,
      "toc_position": {},
      "toc_section_display": true,
      "toc_window_display": true
    },
    "colab": {
      "provenance": [],
      "include_colab_link": true
    }
  },
  "nbformat": 4,
  "nbformat_minor": 5
}