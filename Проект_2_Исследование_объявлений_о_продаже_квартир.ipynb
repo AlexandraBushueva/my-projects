{
  "cells": [
    {
      "cell_type": "markdown",
      "metadata": {
        "id": "view-in-github",
        "colab_type": "text"
      },
      "source": [
        "<a href=\"https://colab.research.google.com/github/AlexandraBushueva/my-projects/blob/main/%D0%9F%D1%80%D0%BE%D0%B5%D0%BA%D1%82_2_%D0%98%D1%81%D1%81%D0%BB%D0%B5%D0%B4%D0%BE%D0%B2%D0%B0%D0%BD%D0%B8%D0%B5_%D0%BE%D0%B1%D1%8A%D1%8F%D0%B2%D0%BB%D0%B5%D0%BD%D0%B8%D0%B9_%D0%BE_%D0%BF%D1%80%D0%BE%D0%B4%D0%B0%D0%B6%D0%B5_%D0%BA%D0%B2%D0%B0%D1%80%D1%82%D0%B8%D1%80.ipynb\" target=\"_parent\"><img src=\"https://colab.research.google.com/assets/colab-badge.svg\" alt=\"Open In Colab\"/></a>"
      ]
    },
    {
      "cell_type": "markdown",
      "metadata": {
        "id": "vzTLai0dZfXH"
      },
      "source": [
        "# Исследование объявлений о продаже квартир\n",
        "\n",
        "**Описание проекта**\n",
        "\n",
        "В распоряжении данные сервиса Яндекс Недвижимость — архив объявлений о продаже квартир в Санкт-Петербурге и соседних населённых пунктах за несколько лет.\n",
        "\n",
        "По каждой квартире на продажу доступны два вида данных. Первые вписаны пользователем, вторые — получены автоматически на основе картографических данных. Например, расстояние до центра, аэропорта и других объектов — эти данные автоматически получены из геосервисов. Количество парков и водоёмов также заполняется без участия пользователя.\n",
        "\n",
        "Необходимо провести исследовательский анализ данных, который поможет установить параметры, влияющие на цену объектов. Это позволит построить автоматизированную систему: она отследит аномалии и мошенническую деятельность.\n",
        "\n",
        "**Цель исследования:** установить параметры, влияющие на цену объектов недвижимости\n",
        "\n",
        "**План исследования**\n",
        "\n",
        "1. Изучение общей информации о данных:\n",
        "- импорт бибилиотеки pandas\n",
        "- импорт данных из csv-файла\n",
        "- изучение полей и их типов\n",
        "2. Предобработка данных:\n",
        "- удаление пропусков\n",
        "- обработка аномальных значений\n",
        "- изменение типов данных\n",
        "- обработка дубликатов\n",
        "- категоризация данных\n",
        "3. Добавление новых столбцов в таблицу\n",
        "4. Исследовательский анализ данных\n",
        "5. Формирование общего вывода по исследованию\n",
        "\n",
        "**Описание данных**\n",
        "- airports_nearest — расстояние до ближайшего аэропорта в метрах (м)\n",
        "- balcony — число балконов\n",
        "- ceiling_height — высота потолков (м)\n",
        "- cityCenters_nearest — расстояние до центра города (м)\n",
        "- days_exposition — сколько дней было размещено объявление (от публикации до снятия)\n",
        "- first_day_exposition — дата публикации\n",
        "- floor — этаж\n",
        "- floors_total — всего этажей в доме\n",
        "- is_apartment — апартаменты (булев тип)\n",
        "- kitchen_area — площадь кухни в квадратных метрах (м²)\n",
        "- last_price — цена на момент снятия с публикации\n",
        "- living_area — жилая площадь в квадратных метрах (м²)\n",
        "- locality_name — название населённого пункта\n",
        "- open_plan — свободная планировка (булев тип)\n",
        "- parks_around3000 — число парков в радиусе 3 км\n",
        "- parks_nearest — расстояние до ближайшего парка (м)\n",
        "- ponds_around3000 — число водоёмов в радиусе 3 км\n",
        "- ponds_nearest — расстояние до ближайшего водоёма (м)\n",
        "- rooms — число комнат\n",
        "- studio — квартира-студия (булев тип)\n",
        "- total_area — общая площадь квартиры в квадратных метрах (м²)\n",
        "- total_images — число фотографий квартиры в объявлении"
      ]
    },
    {
      "cell_type": "markdown",
      "metadata": {
        "id": "EwHsRQg9ZfXI"
      },
      "source": [
        "### Изучение общей информации о данных"
      ]
    },
    {
      "cell_type": "markdown",
      "metadata": {
        "id": "aE7veISJZfXI"
      },
      "source": [
        "**Шаг 1.1 Импортируем библиотеки. Считываем данные из csv-файла в датафрейм и сохраняем в переменную `data`. Путь к файлу:**\n",
        "\n",
        "`/datasets/data.csv`"
      ]
    },
    {
      "cell_type": "code",
      "execution_count": null,
      "metadata": {
        "id": "01a60GC3ZfXI"
      },
      "outputs": [],
      "source": [
        "import pandas as pd\n",
        "import matplotlib.pyplot as plt\n",
        "import seaborn as sns\n",
        "\n",
        "data = pd.read_csv('/datasets/real_estate_data.csv', sep='\\t')"
      ]
    },
    {
      "cell_type": "markdown",
      "metadata": {
        "id": "p0uJ-zoWZfXJ"
      },
      "source": [
        "**Шаг 1.2. Выведем первые 20 строчек датафрейма data на экран.**"
      ]
    },
    {
      "cell_type": "code",
      "execution_count": null,
      "metadata": {
        "id": "nUTBCaanZfXK",
        "outputId": "67d71634-7a14-4a25-d87c-41b10e84c5ca"
      },
      "outputs": [
        {
          "data": {
            "text/html": [
              "<div>\n",
              "<style scoped>\n",
              "    .dataframe tbody tr th:only-of-type {\n",
              "        vertical-align: middle;\n",
              "    }\n",
              "\n",
              "    .dataframe tbody tr th {\n",
              "        vertical-align: top;\n",
              "    }\n",
              "\n",
              "    .dataframe thead th {\n",
              "        text-align: right;\n",
              "    }\n",
              "</style>\n",
              "<table border=\"1\" class=\"dataframe\">\n",
              "  <thead>\n",
              "    <tr style=\"text-align: right;\">\n",
              "      <th></th>\n",
              "      <th>total_images</th>\n",
              "      <th>last_price</th>\n",
              "      <th>total_area</th>\n",
              "      <th>first_day_exposition</th>\n",
              "      <th>rooms</th>\n",
              "      <th>ceiling_height</th>\n",
              "      <th>floors_total</th>\n",
              "      <th>living_area</th>\n",
              "      <th>floor</th>\n",
              "      <th>is_apartment</th>\n",
              "      <th>...</th>\n",
              "      <th>kitchen_area</th>\n",
              "      <th>balcony</th>\n",
              "      <th>locality_name</th>\n",
              "      <th>airports_nearest</th>\n",
              "      <th>cityCenters_nearest</th>\n",
              "      <th>parks_around3000</th>\n",
              "      <th>parks_nearest</th>\n",
              "      <th>ponds_around3000</th>\n",
              "      <th>ponds_nearest</th>\n",
              "      <th>days_exposition</th>\n",
              "    </tr>\n",
              "  </thead>\n",
              "  <tbody>\n",
              "    <tr>\n",
              "      <th>0</th>\n",
              "      <td>20</td>\n",
              "      <td>13000000.0</td>\n",
              "      <td>108.00</td>\n",
              "      <td>2019-03-07T00:00:00</td>\n",
              "      <td>3</td>\n",
              "      <td>2.70</td>\n",
              "      <td>16.0</td>\n",
              "      <td>51.00</td>\n",
              "      <td>8</td>\n",
              "      <td>NaN</td>\n",
              "      <td>...</td>\n",
              "      <td>25.00</td>\n",
              "      <td>NaN</td>\n",
              "      <td>Санкт-Петербург</td>\n",
              "      <td>18863.0</td>\n",
              "      <td>16028.0</td>\n",
              "      <td>1.0</td>\n",
              "      <td>482.0</td>\n",
              "      <td>2.0</td>\n",
              "      <td>755.0</td>\n",
              "      <td>NaN</td>\n",
              "    </tr>\n",
              "    <tr>\n",
              "      <th>1</th>\n",
              "      <td>7</td>\n",
              "      <td>3350000.0</td>\n",
              "      <td>40.40</td>\n",
              "      <td>2018-12-04T00:00:00</td>\n",
              "      <td>1</td>\n",
              "      <td>NaN</td>\n",
              "      <td>11.0</td>\n",
              "      <td>18.60</td>\n",
              "      <td>1</td>\n",
              "      <td>NaN</td>\n",
              "      <td>...</td>\n",
              "      <td>11.00</td>\n",
              "      <td>2.0</td>\n",
              "      <td>посёлок Шушары</td>\n",
              "      <td>12817.0</td>\n",
              "      <td>18603.0</td>\n",
              "      <td>0.0</td>\n",
              "      <td>NaN</td>\n",
              "      <td>0.0</td>\n",
              "      <td>NaN</td>\n",
              "      <td>81.0</td>\n",
              "    </tr>\n",
              "    <tr>\n",
              "      <th>2</th>\n",
              "      <td>10</td>\n",
              "      <td>5196000.0</td>\n",
              "      <td>56.00</td>\n",
              "      <td>2015-08-20T00:00:00</td>\n",
              "      <td>2</td>\n",
              "      <td>NaN</td>\n",
              "      <td>5.0</td>\n",
              "      <td>34.30</td>\n",
              "      <td>4</td>\n",
              "      <td>NaN</td>\n",
              "      <td>...</td>\n",
              "      <td>8.30</td>\n",
              "      <td>0.0</td>\n",
              "      <td>Санкт-Петербург</td>\n",
              "      <td>21741.0</td>\n",
              "      <td>13933.0</td>\n",
              "      <td>1.0</td>\n",
              "      <td>90.0</td>\n",
              "      <td>2.0</td>\n",
              "      <td>574.0</td>\n",
              "      <td>558.0</td>\n",
              "    </tr>\n",
              "    <tr>\n",
              "      <th>3</th>\n",
              "      <td>0</td>\n",
              "      <td>64900000.0</td>\n",
              "      <td>159.00</td>\n",
              "      <td>2015-07-24T00:00:00</td>\n",
              "      <td>3</td>\n",
              "      <td>NaN</td>\n",
              "      <td>14.0</td>\n",
              "      <td>NaN</td>\n",
              "      <td>9</td>\n",
              "      <td>NaN</td>\n",
              "      <td>...</td>\n",
              "      <td>NaN</td>\n",
              "      <td>0.0</td>\n",
              "      <td>Санкт-Петербург</td>\n",
              "      <td>28098.0</td>\n",
              "      <td>6800.0</td>\n",
              "      <td>2.0</td>\n",
              "      <td>84.0</td>\n",
              "      <td>3.0</td>\n",
              "      <td>234.0</td>\n",
              "      <td>424.0</td>\n",
              "    </tr>\n",
              "    <tr>\n",
              "      <th>4</th>\n",
              "      <td>2</td>\n",
              "      <td>10000000.0</td>\n",
              "      <td>100.00</td>\n",
              "      <td>2018-06-19T00:00:00</td>\n",
              "      <td>2</td>\n",
              "      <td>3.03</td>\n",
              "      <td>14.0</td>\n",
              "      <td>32.00</td>\n",
              "      <td>13</td>\n",
              "      <td>NaN</td>\n",
              "      <td>...</td>\n",
              "      <td>41.00</td>\n",
              "      <td>NaN</td>\n",
              "      <td>Санкт-Петербург</td>\n",
              "      <td>31856.0</td>\n",
              "      <td>8098.0</td>\n",
              "      <td>2.0</td>\n",
              "      <td>112.0</td>\n",
              "      <td>1.0</td>\n",
              "      <td>48.0</td>\n",
              "      <td>121.0</td>\n",
              "    </tr>\n",
              "    <tr>\n",
              "      <th>5</th>\n",
              "      <td>10</td>\n",
              "      <td>2890000.0</td>\n",
              "      <td>30.40</td>\n",
              "      <td>2018-09-10T00:00:00</td>\n",
              "      <td>1</td>\n",
              "      <td>NaN</td>\n",
              "      <td>12.0</td>\n",
              "      <td>14.40</td>\n",
              "      <td>5</td>\n",
              "      <td>NaN</td>\n",
              "      <td>...</td>\n",
              "      <td>9.10</td>\n",
              "      <td>NaN</td>\n",
              "      <td>городской посёлок Янино-1</td>\n",
              "      <td>NaN</td>\n",
              "      <td>NaN</td>\n",
              "      <td>NaN</td>\n",
              "      <td>NaN</td>\n",
              "      <td>NaN</td>\n",
              "      <td>NaN</td>\n",
              "      <td>55.0</td>\n",
              "    </tr>\n",
              "    <tr>\n",
              "      <th>6</th>\n",
              "      <td>6</td>\n",
              "      <td>3700000.0</td>\n",
              "      <td>37.30</td>\n",
              "      <td>2017-11-02T00:00:00</td>\n",
              "      <td>1</td>\n",
              "      <td>NaN</td>\n",
              "      <td>26.0</td>\n",
              "      <td>10.60</td>\n",
              "      <td>6</td>\n",
              "      <td>NaN</td>\n",
              "      <td>...</td>\n",
              "      <td>14.40</td>\n",
              "      <td>1.0</td>\n",
              "      <td>посёлок Парголово</td>\n",
              "      <td>52996.0</td>\n",
              "      <td>19143.0</td>\n",
              "      <td>0.0</td>\n",
              "      <td>NaN</td>\n",
              "      <td>0.0</td>\n",
              "      <td>NaN</td>\n",
              "      <td>155.0</td>\n",
              "    </tr>\n",
              "    <tr>\n",
              "      <th>7</th>\n",
              "      <td>5</td>\n",
              "      <td>7915000.0</td>\n",
              "      <td>71.60</td>\n",
              "      <td>2019-04-18T00:00:00</td>\n",
              "      <td>2</td>\n",
              "      <td>NaN</td>\n",
              "      <td>24.0</td>\n",
              "      <td>NaN</td>\n",
              "      <td>22</td>\n",
              "      <td>NaN</td>\n",
              "      <td>...</td>\n",
              "      <td>18.90</td>\n",
              "      <td>2.0</td>\n",
              "      <td>Санкт-Петербург</td>\n",
              "      <td>23982.0</td>\n",
              "      <td>11634.0</td>\n",
              "      <td>0.0</td>\n",
              "      <td>NaN</td>\n",
              "      <td>0.0</td>\n",
              "      <td>NaN</td>\n",
              "      <td>NaN</td>\n",
              "    </tr>\n",
              "    <tr>\n",
              "      <th>8</th>\n",
              "      <td>20</td>\n",
              "      <td>2900000.0</td>\n",
              "      <td>33.16</td>\n",
              "      <td>2018-05-23T00:00:00</td>\n",
              "      <td>1</td>\n",
              "      <td>NaN</td>\n",
              "      <td>27.0</td>\n",
              "      <td>15.43</td>\n",
              "      <td>26</td>\n",
              "      <td>NaN</td>\n",
              "      <td>...</td>\n",
              "      <td>8.81</td>\n",
              "      <td>NaN</td>\n",
              "      <td>посёлок Мурино</td>\n",
              "      <td>NaN</td>\n",
              "      <td>NaN</td>\n",
              "      <td>NaN</td>\n",
              "      <td>NaN</td>\n",
              "      <td>NaN</td>\n",
              "      <td>NaN</td>\n",
              "      <td>189.0</td>\n",
              "    </tr>\n",
              "    <tr>\n",
              "      <th>9</th>\n",
              "      <td>18</td>\n",
              "      <td>5400000.0</td>\n",
              "      <td>61.00</td>\n",
              "      <td>2017-02-26T00:00:00</td>\n",
              "      <td>3</td>\n",
              "      <td>2.50</td>\n",
              "      <td>9.0</td>\n",
              "      <td>43.60</td>\n",
              "      <td>7</td>\n",
              "      <td>NaN</td>\n",
              "      <td>...</td>\n",
              "      <td>6.50</td>\n",
              "      <td>2.0</td>\n",
              "      <td>Санкт-Петербург</td>\n",
              "      <td>50898.0</td>\n",
              "      <td>15008.0</td>\n",
              "      <td>0.0</td>\n",
              "      <td>NaN</td>\n",
              "      <td>0.0</td>\n",
              "      <td>NaN</td>\n",
              "      <td>289.0</td>\n",
              "    </tr>\n",
              "    <tr>\n",
              "      <th>10</th>\n",
              "      <td>5</td>\n",
              "      <td>5050000.0</td>\n",
              "      <td>39.60</td>\n",
              "      <td>2017-11-16T00:00:00</td>\n",
              "      <td>1</td>\n",
              "      <td>2.67</td>\n",
              "      <td>12.0</td>\n",
              "      <td>20.30</td>\n",
              "      <td>3</td>\n",
              "      <td>NaN</td>\n",
              "      <td>...</td>\n",
              "      <td>8.50</td>\n",
              "      <td>NaN</td>\n",
              "      <td>Санкт-Петербург</td>\n",
              "      <td>38357.0</td>\n",
              "      <td>13878.0</td>\n",
              "      <td>1.0</td>\n",
              "      <td>310.0</td>\n",
              "      <td>2.0</td>\n",
              "      <td>553.0</td>\n",
              "      <td>137.0</td>\n",
              "    </tr>\n",
              "    <tr>\n",
              "      <th>11</th>\n",
              "      <td>9</td>\n",
              "      <td>3300000.0</td>\n",
              "      <td>44.00</td>\n",
              "      <td>2018-08-27T00:00:00</td>\n",
              "      <td>2</td>\n",
              "      <td>NaN</td>\n",
              "      <td>5.0</td>\n",
              "      <td>31.00</td>\n",
              "      <td>4</td>\n",
              "      <td>False</td>\n",
              "      <td>...</td>\n",
              "      <td>6.00</td>\n",
              "      <td>1.0</td>\n",
              "      <td>Ломоносов</td>\n",
              "      <td>48252.0</td>\n",
              "      <td>51677.0</td>\n",
              "      <td>0.0</td>\n",
              "      <td>NaN</td>\n",
              "      <td>0.0</td>\n",
              "      <td>NaN</td>\n",
              "      <td>7.0</td>\n",
              "    </tr>\n",
              "    <tr>\n",
              "      <th>12</th>\n",
              "      <td>10</td>\n",
              "      <td>3890000.0</td>\n",
              "      <td>54.00</td>\n",
              "      <td>2016-06-30T00:00:00</td>\n",
              "      <td>2</td>\n",
              "      <td>NaN</td>\n",
              "      <td>5.0</td>\n",
              "      <td>30.00</td>\n",
              "      <td>5</td>\n",
              "      <td>NaN</td>\n",
              "      <td>...</td>\n",
              "      <td>9.00</td>\n",
              "      <td>0.0</td>\n",
              "      <td>Сертолово</td>\n",
              "      <td>NaN</td>\n",
              "      <td>NaN</td>\n",
              "      <td>NaN</td>\n",
              "      <td>NaN</td>\n",
              "      <td>NaN</td>\n",
              "      <td>NaN</td>\n",
              "      <td>90.0</td>\n",
              "    </tr>\n",
              "    <tr>\n",
              "      <th>13</th>\n",
              "      <td>20</td>\n",
              "      <td>3550000.0</td>\n",
              "      <td>42.80</td>\n",
              "      <td>2017-07-01T00:00:00</td>\n",
              "      <td>2</td>\n",
              "      <td>2.56</td>\n",
              "      <td>5.0</td>\n",
              "      <td>27.00</td>\n",
              "      <td>5</td>\n",
              "      <td>NaN</td>\n",
              "      <td>...</td>\n",
              "      <td>5.20</td>\n",
              "      <td>1.0</td>\n",
              "      <td>Петергоф</td>\n",
              "      <td>37868.0</td>\n",
              "      <td>33058.0</td>\n",
              "      <td>1.0</td>\n",
              "      <td>294.0</td>\n",
              "      <td>3.0</td>\n",
              "      <td>298.0</td>\n",
              "      <td>366.0</td>\n",
              "    </tr>\n",
              "    <tr>\n",
              "      <th>14</th>\n",
              "      <td>1</td>\n",
              "      <td>4400000.0</td>\n",
              "      <td>36.00</td>\n",
              "      <td>2016-06-23T00:00:00</td>\n",
              "      <td>1</td>\n",
              "      <td>NaN</td>\n",
              "      <td>6.0</td>\n",
              "      <td>17.00</td>\n",
              "      <td>1</td>\n",
              "      <td>NaN</td>\n",
              "      <td>...</td>\n",
              "      <td>8.00</td>\n",
              "      <td>0.0</td>\n",
              "      <td>Пушкин</td>\n",
              "      <td>20782.0</td>\n",
              "      <td>30759.0</td>\n",
              "      <td>0.0</td>\n",
              "      <td>NaN</td>\n",
              "      <td>1.0</td>\n",
              "      <td>96.0</td>\n",
              "      <td>203.0</td>\n",
              "    </tr>\n",
              "    <tr>\n",
              "      <th>15</th>\n",
              "      <td>16</td>\n",
              "      <td>4650000.0</td>\n",
              "      <td>39.00</td>\n",
              "      <td>2017-11-18T00:00:00</td>\n",
              "      <td>1</td>\n",
              "      <td>NaN</td>\n",
              "      <td>14.0</td>\n",
              "      <td>20.50</td>\n",
              "      <td>5</td>\n",
              "      <td>NaN</td>\n",
              "      <td>...</td>\n",
              "      <td>7.60</td>\n",
              "      <td>1.0</td>\n",
              "      <td>Санкт-Петербург</td>\n",
              "      <td>12900.0</td>\n",
              "      <td>14259.0</td>\n",
              "      <td>1.0</td>\n",
              "      <td>590.0</td>\n",
              "      <td>1.0</td>\n",
              "      <td>296.0</td>\n",
              "      <td>19.0</td>\n",
              "    </tr>\n",
              "    <tr>\n",
              "      <th>16</th>\n",
              "      <td>11</td>\n",
              "      <td>6700000.0</td>\n",
              "      <td>82.00</td>\n",
              "      <td>2017-11-23T00:00:00</td>\n",
              "      <td>3</td>\n",
              "      <td>3.05</td>\n",
              "      <td>5.0</td>\n",
              "      <td>55.60</td>\n",
              "      <td>1</td>\n",
              "      <td>NaN</td>\n",
              "      <td>...</td>\n",
              "      <td>9.00</td>\n",
              "      <td>NaN</td>\n",
              "      <td>Санкт-Петербург</td>\n",
              "      <td>22108.0</td>\n",
              "      <td>10698.0</td>\n",
              "      <td>3.0</td>\n",
              "      <td>420.0</td>\n",
              "      <td>0.0</td>\n",
              "      <td>NaN</td>\n",
              "      <td>397.0</td>\n",
              "    </tr>\n",
              "    <tr>\n",
              "      <th>17</th>\n",
              "      <td>6</td>\n",
              "      <td>4180000.0</td>\n",
              "      <td>36.00</td>\n",
              "      <td>2016-09-09T00:00:00</td>\n",
              "      <td>1</td>\n",
              "      <td>NaN</td>\n",
              "      <td>17.0</td>\n",
              "      <td>16.50</td>\n",
              "      <td>7</td>\n",
              "      <td>NaN</td>\n",
              "      <td>...</td>\n",
              "      <td>11.00</td>\n",
              "      <td>1.0</td>\n",
              "      <td>Санкт-Петербург</td>\n",
              "      <td>33564.0</td>\n",
              "      <td>14616.0</td>\n",
              "      <td>0.0</td>\n",
              "      <td>NaN</td>\n",
              "      <td>1.0</td>\n",
              "      <td>859.0</td>\n",
              "      <td>571.0</td>\n",
              "    </tr>\n",
              "    <tr>\n",
              "      <th>18</th>\n",
              "      <td>8</td>\n",
              "      <td>3250000.0</td>\n",
              "      <td>31.00</td>\n",
              "      <td>2017-01-27T00:00:00</td>\n",
              "      <td>1</td>\n",
              "      <td>2.50</td>\n",
              "      <td>5.0</td>\n",
              "      <td>19.40</td>\n",
              "      <td>2</td>\n",
              "      <td>NaN</td>\n",
              "      <td>...</td>\n",
              "      <td>5.60</td>\n",
              "      <td>1.0</td>\n",
              "      <td>Санкт-Петербург</td>\n",
              "      <td>44060.0</td>\n",
              "      <td>10842.0</td>\n",
              "      <td>1.0</td>\n",
              "      <td>759.0</td>\n",
              "      <td>0.0</td>\n",
              "      <td>NaN</td>\n",
              "      <td>168.0</td>\n",
              "    </tr>\n",
              "    <tr>\n",
              "      <th>19</th>\n",
              "      <td>16</td>\n",
              "      <td>14200000.0</td>\n",
              "      <td>121.00</td>\n",
              "      <td>2019-01-09T00:00:00</td>\n",
              "      <td>3</td>\n",
              "      <td>2.75</td>\n",
              "      <td>16.0</td>\n",
              "      <td>76.00</td>\n",
              "      <td>8</td>\n",
              "      <td>NaN</td>\n",
              "      <td>...</td>\n",
              "      <td>12.00</td>\n",
              "      <td>NaN</td>\n",
              "      <td>Санкт-Петербург</td>\n",
              "      <td>38900.0</td>\n",
              "      <td>12843.0</td>\n",
              "      <td>0.0</td>\n",
              "      <td>NaN</td>\n",
              "      <td>0.0</td>\n",
              "      <td>NaN</td>\n",
              "      <td>97.0</td>\n",
              "    </tr>\n",
              "  </tbody>\n",
              "</table>\n",
              "<p>20 rows × 22 columns</p>\n",
              "</div>"
            ],
            "text/plain": [
              "    total_images  last_price  total_area first_day_exposition  rooms  \\\n",
              "0             20  13000000.0      108.00  2019-03-07T00:00:00      3   \n",
              "1              7   3350000.0       40.40  2018-12-04T00:00:00      1   \n",
              "2             10   5196000.0       56.00  2015-08-20T00:00:00      2   \n",
              "3              0  64900000.0      159.00  2015-07-24T00:00:00      3   \n",
              "4              2  10000000.0      100.00  2018-06-19T00:00:00      2   \n",
              "5             10   2890000.0       30.40  2018-09-10T00:00:00      1   \n",
              "6              6   3700000.0       37.30  2017-11-02T00:00:00      1   \n",
              "7              5   7915000.0       71.60  2019-04-18T00:00:00      2   \n",
              "8             20   2900000.0       33.16  2018-05-23T00:00:00      1   \n",
              "9             18   5400000.0       61.00  2017-02-26T00:00:00      3   \n",
              "10             5   5050000.0       39.60  2017-11-16T00:00:00      1   \n",
              "11             9   3300000.0       44.00  2018-08-27T00:00:00      2   \n",
              "12            10   3890000.0       54.00  2016-06-30T00:00:00      2   \n",
              "13            20   3550000.0       42.80  2017-07-01T00:00:00      2   \n",
              "14             1   4400000.0       36.00  2016-06-23T00:00:00      1   \n",
              "15            16   4650000.0       39.00  2017-11-18T00:00:00      1   \n",
              "16            11   6700000.0       82.00  2017-11-23T00:00:00      3   \n",
              "17             6   4180000.0       36.00  2016-09-09T00:00:00      1   \n",
              "18             8   3250000.0       31.00  2017-01-27T00:00:00      1   \n",
              "19            16  14200000.0      121.00  2019-01-09T00:00:00      3   \n",
              "\n",
              "    ceiling_height  floors_total  living_area  floor is_apartment  ...  \\\n",
              "0             2.70          16.0        51.00      8          NaN  ...   \n",
              "1              NaN          11.0        18.60      1          NaN  ...   \n",
              "2              NaN           5.0        34.30      4          NaN  ...   \n",
              "3              NaN          14.0          NaN      9          NaN  ...   \n",
              "4             3.03          14.0        32.00     13          NaN  ...   \n",
              "5              NaN          12.0        14.40      5          NaN  ...   \n",
              "6              NaN          26.0        10.60      6          NaN  ...   \n",
              "7              NaN          24.0          NaN     22          NaN  ...   \n",
              "8              NaN          27.0        15.43     26          NaN  ...   \n",
              "9             2.50           9.0        43.60      7          NaN  ...   \n",
              "10            2.67          12.0        20.30      3          NaN  ...   \n",
              "11             NaN           5.0        31.00      4        False  ...   \n",
              "12             NaN           5.0        30.00      5          NaN  ...   \n",
              "13            2.56           5.0        27.00      5          NaN  ...   \n",
              "14             NaN           6.0        17.00      1          NaN  ...   \n",
              "15             NaN          14.0        20.50      5          NaN  ...   \n",
              "16            3.05           5.0        55.60      1          NaN  ...   \n",
              "17             NaN          17.0        16.50      7          NaN  ...   \n",
              "18            2.50           5.0        19.40      2          NaN  ...   \n",
              "19            2.75          16.0        76.00      8          NaN  ...   \n",
              "\n",
              "    kitchen_area  balcony              locality_name  airports_nearest  \\\n",
              "0          25.00      NaN            Санкт-Петербург           18863.0   \n",
              "1          11.00      2.0             посёлок Шушары           12817.0   \n",
              "2           8.30      0.0            Санкт-Петербург           21741.0   \n",
              "3            NaN      0.0            Санкт-Петербург           28098.0   \n",
              "4          41.00      NaN            Санкт-Петербург           31856.0   \n",
              "5           9.10      NaN  городской посёлок Янино-1               NaN   \n",
              "6          14.40      1.0          посёлок Парголово           52996.0   \n",
              "7          18.90      2.0            Санкт-Петербург           23982.0   \n",
              "8           8.81      NaN             посёлок Мурино               NaN   \n",
              "9           6.50      2.0            Санкт-Петербург           50898.0   \n",
              "10          8.50      NaN            Санкт-Петербург           38357.0   \n",
              "11          6.00      1.0                  Ломоносов           48252.0   \n",
              "12          9.00      0.0                  Сертолово               NaN   \n",
              "13          5.20      1.0                   Петергоф           37868.0   \n",
              "14          8.00      0.0                     Пушкин           20782.0   \n",
              "15          7.60      1.0            Санкт-Петербург           12900.0   \n",
              "16          9.00      NaN            Санкт-Петербург           22108.0   \n",
              "17         11.00      1.0            Санкт-Петербург           33564.0   \n",
              "18          5.60      1.0            Санкт-Петербург           44060.0   \n",
              "19         12.00      NaN            Санкт-Петербург           38900.0   \n",
              "\n",
              "   cityCenters_nearest  parks_around3000  parks_nearest  ponds_around3000  \\\n",
              "0              16028.0               1.0          482.0               2.0   \n",
              "1              18603.0               0.0            NaN               0.0   \n",
              "2              13933.0               1.0           90.0               2.0   \n",
              "3               6800.0               2.0           84.0               3.0   \n",
              "4               8098.0               2.0          112.0               1.0   \n",
              "5                  NaN               NaN            NaN               NaN   \n",
              "6              19143.0               0.0            NaN               0.0   \n",
              "7              11634.0               0.0            NaN               0.0   \n",
              "8                  NaN               NaN            NaN               NaN   \n",
              "9              15008.0               0.0            NaN               0.0   \n",
              "10             13878.0               1.0          310.0               2.0   \n",
              "11             51677.0               0.0            NaN               0.0   \n",
              "12                 NaN               NaN            NaN               NaN   \n",
              "13             33058.0               1.0          294.0               3.0   \n",
              "14             30759.0               0.0            NaN               1.0   \n",
              "15             14259.0               1.0          590.0               1.0   \n",
              "16             10698.0               3.0          420.0               0.0   \n",
              "17             14616.0               0.0            NaN               1.0   \n",
              "18             10842.0               1.0          759.0               0.0   \n",
              "19             12843.0               0.0            NaN               0.0   \n",
              "\n",
              "    ponds_nearest  days_exposition  \n",
              "0           755.0              NaN  \n",
              "1             NaN             81.0  \n",
              "2           574.0            558.0  \n",
              "3           234.0            424.0  \n",
              "4            48.0            121.0  \n",
              "5             NaN             55.0  \n",
              "6             NaN            155.0  \n",
              "7             NaN              NaN  \n",
              "8             NaN            189.0  \n",
              "9             NaN            289.0  \n",
              "10          553.0            137.0  \n",
              "11            NaN              7.0  \n",
              "12            NaN             90.0  \n",
              "13          298.0            366.0  \n",
              "14           96.0            203.0  \n",
              "15          296.0             19.0  \n",
              "16            NaN            397.0  \n",
              "17          859.0            571.0  \n",
              "18            NaN            168.0  \n",
              "19            NaN             97.0  \n",
              "\n",
              "[20 rows x 22 columns]"
            ]
          },
          "execution_count": 2,
          "metadata": {},
          "output_type": "execute_result"
        }
      ],
      "source": [
        "data.head(20)"
      ]
    },
    {
      "cell_type": "markdown",
      "metadata": {
        "id": "5UXSrs_KZfXK"
      },
      "source": [
        "**Шаг 1.3. Выведем основную информацию о датафрейме с помощью метода info().**"
      ]
    },
    {
      "cell_type": "code",
      "execution_count": null,
      "metadata": {
        "id": "UN--6pCoZfXK",
        "outputId": "2e90fa97-b765-4eef-96a9-dcd73b5620ca"
      },
      "outputs": [
        {
          "name": "stdout",
          "output_type": "stream",
          "text": [
            "<class 'pandas.core.frame.DataFrame'>\n",
            "RangeIndex: 23699 entries, 0 to 23698\n",
            "Data columns (total 22 columns):\n",
            " #   Column                Non-Null Count  Dtype  \n",
            "---  ------                --------------  -----  \n",
            " 0   total_images          23699 non-null  int64  \n",
            " 1   last_price            23699 non-null  float64\n",
            " 2   total_area            23699 non-null  float64\n",
            " 3   first_day_exposition  23699 non-null  object \n",
            " 4   rooms                 23699 non-null  int64  \n",
            " 5   ceiling_height        14504 non-null  float64\n",
            " 6   floors_total          23613 non-null  float64\n",
            " 7   living_area           21796 non-null  float64\n",
            " 8   floor                 23699 non-null  int64  \n",
            " 9   is_apartment          2775 non-null   object \n",
            " 10  studio                23699 non-null  bool   \n",
            " 11  open_plan             23699 non-null  bool   \n",
            " 12  kitchen_area          21421 non-null  float64\n",
            " 13  balcony               12180 non-null  float64\n",
            " 14  locality_name         23650 non-null  object \n",
            " 15  airports_nearest      18157 non-null  float64\n",
            " 16  cityCenters_nearest   18180 non-null  float64\n",
            " 17  parks_around3000      18181 non-null  float64\n",
            " 18  parks_nearest         8079 non-null   float64\n",
            " 19  ponds_around3000      18181 non-null  float64\n",
            " 20  ponds_nearest         9110 non-null   float64\n",
            " 21  days_exposition       20518 non-null  float64\n",
            "dtypes: bool(2), float64(14), int64(3), object(3)\n",
            "memory usage: 3.7+ MB\n"
          ]
        }
      ],
      "source": [
        "data.info()"
      ]
    },
    {
      "cell_type": "markdown",
      "metadata": {
        "id": "IquWNtT7ZfXK"
      },
      "source": [
        "**Вывод**\n",
        "\n",
        "1. Необходимо *изменить тип данных* в столбцах:\n",
        "- **first_day_exposition:** object → datetime. Необходимо перевести поле в формат даты.\n",
        "- **floors_total:** float64 → int64. В поле указаны целочисленные значения, а в типе данных дробные.\n",
        "- **is_apartment:** object → bool. Булев тип по условию.\n",
        "- **balcony:** float64 → int64. В поле указаны целочисленные значения, а в типе данных дробные.\n",
        "- **parks_around3000:** float64 → int64. В поле указаны целочисленные значения, а в типе данных дробные.\n",
        "- **ponds_around3000:** float64 → int64. В поле указаны целочисленные значения, а в типе данных дробные.\n",
        "- **days_exposition:** float64 → int64. В поле указаны целочисленные значения, а в типе данных дробные.\n",
        "\n",
        "2. Видим много полей *с пропущенными значениями*: ceiling_height, floors_total, living_area, is_apartment, kitchen_area, balcony, locality_name, airports_nearest, cityCenters_nearest, parks_around3000, parks_nearest, ponds_around3000, ponds_nearest, days_exposition\n",
        "\n",
        "Часть полей с пропущенными значениями заполним в этапе Предобработка данных. Некоторые поля трогать не будем, т.к. пропуски не критичны, либо не могут быть заполнены."
      ]
    },
    {
      "cell_type": "markdown",
      "metadata": {
        "id": "6PhL8Wb4ZfXL"
      },
      "source": [
        "**Шаг 1.4. Выведем описательную статистику по датафрейму с помощью метода describe().**"
      ]
    },
    {
      "cell_type": "code",
      "execution_count": null,
      "metadata": {
        "id": "h04l0cmXZfXL",
        "outputId": "4c9be878-b10e-4386-e2c5-80c92af45ba8"
      },
      "outputs": [
        {
          "data": {
            "text/html": [
              "<div>\n",
              "<style scoped>\n",
              "    .dataframe tbody tr th:only-of-type {\n",
              "        vertical-align: middle;\n",
              "    }\n",
              "\n",
              "    .dataframe tbody tr th {\n",
              "        vertical-align: top;\n",
              "    }\n",
              "\n",
              "    .dataframe thead th {\n",
              "        text-align: right;\n",
              "    }\n",
              "</style>\n",
              "<table border=\"1\" class=\"dataframe\">\n",
              "  <thead>\n",
              "    <tr style=\"text-align: right;\">\n",
              "      <th></th>\n",
              "      <th>total_images</th>\n",
              "      <th>last_price</th>\n",
              "      <th>total_area</th>\n",
              "      <th>rooms</th>\n",
              "      <th>ceiling_height</th>\n",
              "      <th>floors_total</th>\n",
              "      <th>living_area</th>\n",
              "      <th>floor</th>\n",
              "      <th>kitchen_area</th>\n",
              "      <th>balcony</th>\n",
              "      <th>airports_nearest</th>\n",
              "      <th>cityCenters_nearest</th>\n",
              "      <th>parks_around3000</th>\n",
              "      <th>parks_nearest</th>\n",
              "      <th>ponds_around3000</th>\n",
              "      <th>ponds_nearest</th>\n",
              "      <th>days_exposition</th>\n",
              "    </tr>\n",
              "  </thead>\n",
              "  <tbody>\n",
              "    <tr>\n",
              "      <th>count</th>\n",
              "      <td>23699.000000</td>\n",
              "      <td>2.369900e+04</td>\n",
              "      <td>23699.000000</td>\n",
              "      <td>23699.000000</td>\n",
              "      <td>14504.000000</td>\n",
              "      <td>23613.000000</td>\n",
              "      <td>21796.000000</td>\n",
              "      <td>23699.000000</td>\n",
              "      <td>21421.000000</td>\n",
              "      <td>12180.000000</td>\n",
              "      <td>18157.000000</td>\n",
              "      <td>18180.000000</td>\n",
              "      <td>18181.000000</td>\n",
              "      <td>8079.000000</td>\n",
              "      <td>18181.000000</td>\n",
              "      <td>9110.000000</td>\n",
              "      <td>20518.000000</td>\n",
              "    </tr>\n",
              "    <tr>\n",
              "      <th>mean</th>\n",
              "      <td>9.858475</td>\n",
              "      <td>6.541549e+06</td>\n",
              "      <td>60.348651</td>\n",
              "      <td>2.070636</td>\n",
              "      <td>2.771499</td>\n",
              "      <td>10.673824</td>\n",
              "      <td>34.457852</td>\n",
              "      <td>5.892358</td>\n",
              "      <td>10.569807</td>\n",
              "      <td>1.150082</td>\n",
              "      <td>28793.672193</td>\n",
              "      <td>14191.277833</td>\n",
              "      <td>0.611408</td>\n",
              "      <td>490.804555</td>\n",
              "      <td>0.770255</td>\n",
              "      <td>517.980900</td>\n",
              "      <td>180.888634</td>\n",
              "    </tr>\n",
              "    <tr>\n",
              "      <th>std</th>\n",
              "      <td>5.682529</td>\n",
              "      <td>1.088701e+07</td>\n",
              "      <td>35.654083</td>\n",
              "      <td>1.078405</td>\n",
              "      <td>1.261056</td>\n",
              "      <td>6.597173</td>\n",
              "      <td>22.030445</td>\n",
              "      <td>4.885249</td>\n",
              "      <td>5.905438</td>\n",
              "      <td>1.071300</td>\n",
              "      <td>12630.880622</td>\n",
              "      <td>8608.386210</td>\n",
              "      <td>0.802074</td>\n",
              "      <td>342.317995</td>\n",
              "      <td>0.938346</td>\n",
              "      <td>277.720643</td>\n",
              "      <td>219.727988</td>\n",
              "    </tr>\n",
              "    <tr>\n",
              "      <th>min</th>\n",
              "      <td>0.000000</td>\n",
              "      <td>1.219000e+04</td>\n",
              "      <td>12.000000</td>\n",
              "      <td>0.000000</td>\n",
              "      <td>1.000000</td>\n",
              "      <td>1.000000</td>\n",
              "      <td>2.000000</td>\n",
              "      <td>1.000000</td>\n",
              "      <td>1.300000</td>\n",
              "      <td>0.000000</td>\n",
              "      <td>0.000000</td>\n",
              "      <td>181.000000</td>\n",
              "      <td>0.000000</td>\n",
              "      <td>1.000000</td>\n",
              "      <td>0.000000</td>\n",
              "      <td>13.000000</td>\n",
              "      <td>1.000000</td>\n",
              "    </tr>\n",
              "    <tr>\n",
              "      <th>25%</th>\n",
              "      <td>6.000000</td>\n",
              "      <td>3.400000e+06</td>\n",
              "      <td>40.000000</td>\n",
              "      <td>1.000000</td>\n",
              "      <td>2.520000</td>\n",
              "      <td>5.000000</td>\n",
              "      <td>18.600000</td>\n",
              "      <td>2.000000</td>\n",
              "      <td>7.000000</td>\n",
              "      <td>0.000000</td>\n",
              "      <td>18585.000000</td>\n",
              "      <td>9238.000000</td>\n",
              "      <td>0.000000</td>\n",
              "      <td>288.000000</td>\n",
              "      <td>0.000000</td>\n",
              "      <td>294.000000</td>\n",
              "      <td>45.000000</td>\n",
              "    </tr>\n",
              "    <tr>\n",
              "      <th>50%</th>\n",
              "      <td>9.000000</td>\n",
              "      <td>4.650000e+06</td>\n",
              "      <td>52.000000</td>\n",
              "      <td>2.000000</td>\n",
              "      <td>2.650000</td>\n",
              "      <td>9.000000</td>\n",
              "      <td>30.000000</td>\n",
              "      <td>4.000000</td>\n",
              "      <td>9.100000</td>\n",
              "      <td>1.000000</td>\n",
              "      <td>26726.000000</td>\n",
              "      <td>13098.500000</td>\n",
              "      <td>0.000000</td>\n",
              "      <td>455.000000</td>\n",
              "      <td>1.000000</td>\n",
              "      <td>502.000000</td>\n",
              "      <td>95.000000</td>\n",
              "    </tr>\n",
              "    <tr>\n",
              "      <th>75%</th>\n",
              "      <td>14.000000</td>\n",
              "      <td>6.800000e+06</td>\n",
              "      <td>69.900000</td>\n",
              "      <td>3.000000</td>\n",
              "      <td>2.800000</td>\n",
              "      <td>16.000000</td>\n",
              "      <td>42.300000</td>\n",
              "      <td>8.000000</td>\n",
              "      <td>12.000000</td>\n",
              "      <td>2.000000</td>\n",
              "      <td>37273.000000</td>\n",
              "      <td>16293.000000</td>\n",
              "      <td>1.000000</td>\n",
              "      <td>612.000000</td>\n",
              "      <td>1.000000</td>\n",
              "      <td>729.000000</td>\n",
              "      <td>232.000000</td>\n",
              "    </tr>\n",
              "    <tr>\n",
              "      <th>max</th>\n",
              "      <td>50.000000</td>\n",
              "      <td>7.630000e+08</td>\n",
              "      <td>900.000000</td>\n",
              "      <td>19.000000</td>\n",
              "      <td>100.000000</td>\n",
              "      <td>60.000000</td>\n",
              "      <td>409.700000</td>\n",
              "      <td>33.000000</td>\n",
              "      <td>112.000000</td>\n",
              "      <td>5.000000</td>\n",
              "      <td>84869.000000</td>\n",
              "      <td>65968.000000</td>\n",
              "      <td>3.000000</td>\n",
              "      <td>3190.000000</td>\n",
              "      <td>3.000000</td>\n",
              "      <td>1344.000000</td>\n",
              "      <td>1580.000000</td>\n",
              "    </tr>\n",
              "  </tbody>\n",
              "</table>\n",
              "</div>"
            ],
            "text/plain": [
              "       total_images    last_price    total_area         rooms  ceiling_height  \\\n",
              "count  23699.000000  2.369900e+04  23699.000000  23699.000000    14504.000000   \n",
              "mean       9.858475  6.541549e+06     60.348651      2.070636        2.771499   \n",
              "std        5.682529  1.088701e+07     35.654083      1.078405        1.261056   \n",
              "min        0.000000  1.219000e+04     12.000000      0.000000        1.000000   \n",
              "25%        6.000000  3.400000e+06     40.000000      1.000000        2.520000   \n",
              "50%        9.000000  4.650000e+06     52.000000      2.000000        2.650000   \n",
              "75%       14.000000  6.800000e+06     69.900000      3.000000        2.800000   \n",
              "max       50.000000  7.630000e+08    900.000000     19.000000      100.000000   \n",
              "\n",
              "       floors_total   living_area         floor  kitchen_area       balcony  \\\n",
              "count  23613.000000  21796.000000  23699.000000  21421.000000  12180.000000   \n",
              "mean      10.673824     34.457852      5.892358     10.569807      1.150082   \n",
              "std        6.597173     22.030445      4.885249      5.905438      1.071300   \n",
              "min        1.000000      2.000000      1.000000      1.300000      0.000000   \n",
              "25%        5.000000     18.600000      2.000000      7.000000      0.000000   \n",
              "50%        9.000000     30.000000      4.000000      9.100000      1.000000   \n",
              "75%       16.000000     42.300000      8.000000     12.000000      2.000000   \n",
              "max       60.000000    409.700000     33.000000    112.000000      5.000000   \n",
              "\n",
              "       airports_nearest  cityCenters_nearest  parks_around3000  parks_nearest  \\\n",
              "count      18157.000000         18180.000000      18181.000000    8079.000000   \n",
              "mean       28793.672193         14191.277833          0.611408     490.804555   \n",
              "std        12630.880622          8608.386210          0.802074     342.317995   \n",
              "min            0.000000           181.000000          0.000000       1.000000   \n",
              "25%        18585.000000          9238.000000          0.000000     288.000000   \n",
              "50%        26726.000000         13098.500000          0.000000     455.000000   \n",
              "75%        37273.000000         16293.000000          1.000000     612.000000   \n",
              "max        84869.000000         65968.000000          3.000000    3190.000000   \n",
              "\n",
              "       ponds_around3000  ponds_nearest  days_exposition  \n",
              "count      18181.000000    9110.000000     20518.000000  \n",
              "mean           0.770255     517.980900       180.888634  \n",
              "std            0.938346     277.720643       219.727988  \n",
              "min            0.000000      13.000000         1.000000  \n",
              "25%            0.000000     294.000000        45.000000  \n",
              "50%            1.000000     502.000000        95.000000  \n",
              "75%            1.000000     729.000000       232.000000  \n",
              "max            3.000000    1344.000000      1580.000000  "
            ]
          },
          "execution_count": 4,
          "metadata": {},
          "output_type": "execute_result"
        }
      ],
      "source": [
        "data.describe()"
      ]
    },
    {
      "cell_type": "markdown",
      "metadata": {
        "id": "BEnRqEd2ZfXL"
      },
      "source": [
        "**Вывод**\n",
        "\n",
        "1. Min значение в поле **rooms**=0. Необходимо перепроверить. Предположительно, 0 комнат может быть в квартире-студии, либо в данных ошибка;\n",
        "2. В поле **ceiling_height** минимальная высота потолка 1 м, максимальная - 100 м. Похоже на выбросы, которые необходимо удалить;\n",
        "3. Минимальное значение **living_area** - жилой площади равно 2 м². Такие данные лучше удалить, чтобы не искажать общие выводы;\n",
        "4. Min значение в поле **kitchen_area** - площадь кухни равна 1,2 м². Не похоже на реалистичные значение. Следует удалить;\n",
        "5. Min расстояние до аэропорта 0 м - **airports_nearest**. Предположительно, аэропорта рядом вовсе нет и пропуски заполнили 0. Т.к. эти данные для исследования не имеют первостепенного значения, то удалять или заменять значения не будем."
      ]
    },
    {
      "cell_type": "markdown",
      "metadata": {
        "id": "VcpAtTiQZfXL"
      },
      "source": [
        "**Шаг 1.5. Построем гистограмму для всех числовых столбцов таблицы на одном графике с помощью метода hist().**"
      ]
    },
    {
      "cell_type": "code",
      "execution_count": null,
      "metadata": {
        "id": "7bWBXoLrZfXL",
        "outputId": "5d0a9a20-19a2-4963-e83d-33a5cdec7ce5"
      },
      "outputs": [
        {
          "data": {
            "image/png": "[encoded data removed]",
            "text/plain": [
              "<Figure size 1080x1440 with 20 Axes>"
            ]
          },
          "metadata": {
            "needs_background": "light"
          },
          "output_type": "display_data"
        }
      ],
      "source": [
        "data.hist(figsize=(15, 20));"
      ]
    },
    {
      "cell_type": "markdown",
      "metadata": {
        "id": "PtfS9dCRZfXL"
      },
      "source": [
        "<div class=\"alert alert-success\">\n",
        "<b>Комментарий ревьюера:</b>☀️\n",
        "    \n",
        "Если в конце строки поставить `;`, то технический вывод `array([[<AxesSubplot:title={'center':'total_images'}>,\n",
        "        <AxesSubplot:title={'center':'last_price'}>,`, уйдёт"
      ]
    },
    {
      "cell_type": "markdown",
      "metadata": {
        "id": "BApvevOkZfXL"
      },
      "source": [
        "<div class=\"alert alert-info\"> <b>Комментарий студента:</b> Добавила ; </div>"
      ]
    },
    {
      "cell_type": "markdown",
      "metadata": {
        "id": "6o_2X6OuZfXL"
      },
      "source": [
        "<div class=\"alert alert-success\">\n",
        "<b>Комментарий ревьюера v2:</b>☀️\n",
        "   \n",
        "Спасибо за ликвидацию технических выводов\n",
        "\n",
        "</div>"
      ]
    },
    {
      "cell_type": "markdown",
      "metadata": {
        "id": "Pc0nuFbkZfXL"
      },
      "source": [
        "### Предобработка данных"
      ]
    },
    {
      "cell_type": "markdown",
      "metadata": {
        "id": "c7vWHLLfZfXL"
      },
      "source": [
        "**Шаг 2.1. Приведем наименования столбцов к единому стилю.**"
      ]
    },
    {
      "cell_type": "code",
      "execution_count": null,
      "metadata": {
        "id": "UF0k7KW9ZfXL",
        "outputId": "6896ee3d-7016-4078-f1e9-ac5432725fb9"
      },
      "outputs": [
        {
          "data": {
            "text/html": [
              "<div>\n",
              "<style scoped>\n",
              "    .dataframe tbody tr th:only-of-type {\n",
              "        vertical-align: middle;\n",
              "    }\n",
              "\n",
              "    .dataframe tbody tr th {\n",
              "        vertical-align: top;\n",
              "    }\n",
              "\n",
              "    .dataframe thead th {\n",
              "        text-align: right;\n",
              "    }\n",
              "</style>\n",
              "<table border=\"1\" class=\"dataframe\">\n",
              "  <thead>\n",
              "    <tr style=\"text-align: right;\">\n",
              "      <th></th>\n",
              "      <th>total_images</th>\n",
              "      <th>last_price</th>\n",
              "      <th>total_area</th>\n",
              "      <th>first_day_exposition</th>\n",
              "      <th>rooms</th>\n",
              "      <th>ceiling_height</th>\n",
              "      <th>floors_total</th>\n",
              "      <th>living_area</th>\n",
              "      <th>floor</th>\n",
              "      <th>is_apartment</th>\n",
              "      <th>...</th>\n",
              "      <th>kitchen_area</th>\n",
              "      <th>balcony</th>\n",
              "      <th>locality_name</th>\n",
              "      <th>airports_nearest</th>\n",
              "      <th>city_centers_nearest</th>\n",
              "      <th>parks_around_3000</th>\n",
              "      <th>parks_nearest</th>\n",
              "      <th>ponds_around_3000</th>\n",
              "      <th>ponds_nearest</th>\n",
              "      <th>days_exposition</th>\n",
              "    </tr>\n",
              "  </thead>\n",
              "  <tbody>\n",
              "    <tr>\n",
              "      <th>0</th>\n",
              "      <td>20</td>\n",
              "      <td>13000000.0</td>\n",
              "      <td>108.0</td>\n",
              "      <td>2019-03-07T00:00:00</td>\n",
              "      <td>3</td>\n",
              "      <td>2.70</td>\n",
              "      <td>16.0</td>\n",
              "      <td>51.0</td>\n",
              "      <td>8</td>\n",
              "      <td>NaN</td>\n",
              "      <td>...</td>\n",
              "      <td>25.0</td>\n",
              "      <td>NaN</td>\n",
              "      <td>Санкт-Петербург</td>\n",
              "      <td>18863.0</td>\n",
              "      <td>16028.0</td>\n",
              "      <td>1.0</td>\n",
              "      <td>482.0</td>\n",
              "      <td>2.0</td>\n",
              "      <td>755.0</td>\n",
              "      <td>NaN</td>\n",
              "    </tr>\n",
              "    <tr>\n",
              "      <th>1</th>\n",
              "      <td>7</td>\n",
              "      <td>3350000.0</td>\n",
              "      <td>40.4</td>\n",
              "      <td>2018-12-04T00:00:00</td>\n",
              "      <td>1</td>\n",
              "      <td>NaN</td>\n",
              "      <td>11.0</td>\n",
              "      <td>18.6</td>\n",
              "      <td>1</td>\n",
              "      <td>NaN</td>\n",
              "      <td>...</td>\n",
              "      <td>11.0</td>\n",
              "      <td>2.0</td>\n",
              "      <td>посёлок Шушары</td>\n",
              "      <td>12817.0</td>\n",
              "      <td>18603.0</td>\n",
              "      <td>0.0</td>\n",
              "      <td>NaN</td>\n",
              "      <td>0.0</td>\n",
              "      <td>NaN</td>\n",
              "      <td>81.0</td>\n",
              "    </tr>\n",
              "    <tr>\n",
              "      <th>2</th>\n",
              "      <td>10</td>\n",
              "      <td>5196000.0</td>\n",
              "      <td>56.0</td>\n",
              "      <td>2015-08-20T00:00:00</td>\n",
              "      <td>2</td>\n",
              "      <td>NaN</td>\n",
              "      <td>5.0</td>\n",
              "      <td>34.3</td>\n",
              "      <td>4</td>\n",
              "      <td>NaN</td>\n",
              "      <td>...</td>\n",
              "      <td>8.3</td>\n",
              "      <td>0.0</td>\n",
              "      <td>Санкт-Петербург</td>\n",
              "      <td>21741.0</td>\n",
              "      <td>13933.0</td>\n",
              "      <td>1.0</td>\n",
              "      <td>90.0</td>\n",
              "      <td>2.0</td>\n",
              "      <td>574.0</td>\n",
              "      <td>558.0</td>\n",
              "    </tr>\n",
              "    <tr>\n",
              "      <th>3</th>\n",
              "      <td>0</td>\n",
              "      <td>64900000.0</td>\n",
              "      <td>159.0</td>\n",
              "      <td>2015-07-24T00:00:00</td>\n",
              "      <td>3</td>\n",
              "      <td>NaN</td>\n",
              "      <td>14.0</td>\n",
              "      <td>NaN</td>\n",
              "      <td>9</td>\n",
              "      <td>NaN</td>\n",
              "      <td>...</td>\n",
              "      <td>NaN</td>\n",
              "      <td>0.0</td>\n",
              "      <td>Санкт-Петербург</td>\n",
              "      <td>28098.0</td>\n",
              "      <td>6800.0</td>\n",
              "      <td>2.0</td>\n",
              "      <td>84.0</td>\n",
              "      <td>3.0</td>\n",
              "      <td>234.0</td>\n",
              "      <td>424.0</td>\n",
              "    </tr>\n",
              "    <tr>\n",
              "      <th>4</th>\n",
              "      <td>2</td>\n",
              "      <td>10000000.0</td>\n",
              "      <td>100.0</td>\n",
              "      <td>2018-06-19T00:00:00</td>\n",
              "      <td>2</td>\n",
              "      <td>3.03</td>\n",
              "      <td>14.0</td>\n",
              "      <td>32.0</td>\n",
              "      <td>13</td>\n",
              "      <td>NaN</td>\n",
              "      <td>...</td>\n",
              "      <td>41.0</td>\n",
              "      <td>NaN</td>\n",
              "      <td>Санкт-Петербург</td>\n",
              "      <td>31856.0</td>\n",
              "      <td>8098.0</td>\n",
              "      <td>2.0</td>\n",
              "      <td>112.0</td>\n",
              "      <td>1.0</td>\n",
              "      <td>48.0</td>\n",
              "      <td>121.0</td>\n",
              "    </tr>\n",
              "  </tbody>\n",
              "</table>\n",
              "<p>5 rows × 22 columns</p>\n",
              "</div>"
            ],
            "text/plain": [
              "   total_images  last_price  total_area first_day_exposition  rooms  \\\n",
              "0            20  13000000.0       108.0  2019-03-07T00:00:00      3   \n",
              "1             7   3350000.0        40.4  2018-12-04T00:00:00      1   \n",
              "2            10   5196000.0        56.0  2015-08-20T00:00:00      2   \n",
              "3             0  64900000.0       159.0  2015-07-24T00:00:00      3   \n",
              "4             2  10000000.0       100.0  2018-06-19T00:00:00      2   \n",
              "\n",
              "   ceiling_height  floors_total  living_area  floor is_apartment  ...  \\\n",
              "0            2.70          16.0         51.0      8          NaN  ...   \n",
              "1             NaN          11.0         18.6      1          NaN  ...   \n",
              "2             NaN           5.0         34.3      4          NaN  ...   \n",
              "3             NaN          14.0          NaN      9          NaN  ...   \n",
              "4            3.03          14.0         32.0     13          NaN  ...   \n",
              "\n",
              "   kitchen_area  balcony    locality_name  airports_nearest  \\\n",
              "0          25.0      NaN  Санкт-Петербург           18863.0   \n",
              "1          11.0      2.0   посёлок Шушары           12817.0   \n",
              "2           8.3      0.0  Санкт-Петербург           21741.0   \n",
              "3           NaN      0.0  Санкт-Петербург           28098.0   \n",
              "4          41.0      NaN  Санкт-Петербург           31856.0   \n",
              "\n",
              "  city_centers_nearest  parks_around_3000  parks_nearest  ponds_around_3000  \\\n",
              "0              16028.0                1.0          482.0                2.0   \n",
              "1              18603.0                0.0            NaN                0.0   \n",
              "2              13933.0                1.0           90.0                2.0   \n",
              "3               6800.0                2.0           84.0                3.0   \n",
              "4               8098.0                2.0          112.0                1.0   \n",
              "\n",
              "   ponds_nearest  days_exposition  \n",
              "0          755.0              NaN  \n",
              "1            NaN             81.0  \n",
              "2          574.0            558.0  \n",
              "3          234.0            424.0  \n",
              "4           48.0            121.0  \n",
              "\n",
              "[5 rows x 22 columns]"
            ]
          },
          "execution_count": 6,
          "metadata": {},
          "output_type": "execute_result"
        }
      ],
      "source": [
        "data = data.rename(columns={'cityCenters_nearest': 'city_centers_nearest',\n",
        "                            'parks_around3000': 'parks_around_3000',\n",
        "                            'ponds_around3000': 'ponds_around_3000'})\n",
        "data.head()"
      ]
    },
    {
      "cell_type": "markdown",
      "metadata": {
        "id": "EJ8kT0O6ZfXM"
      },
      "source": [
        "**Шаг 2.2. Выведем количество пропущенных значений для каждого столбца.**"
      ]
    },
    {
      "cell_type": "code",
      "execution_count": null,
      "metadata": {
        "id": "2kXYh6wtZfXM",
        "outputId": "aab4b205-d171-46d4-9139-a88578307167"
      },
      "outputs": [
        {
          "data": {
            "text/plain": [
              "total_images                0\n",
              "last_price                  0\n",
              "total_area                  0\n",
              "first_day_exposition        0\n",
              "rooms                       0\n",
              "ceiling_height           9195\n",
              "floors_total               86\n",
              "living_area              1903\n",
              "floor                       0\n",
              "is_apartment            20924\n",
              "studio                      0\n",
              "open_plan                   0\n",
              "kitchen_area             2278\n",
              "balcony                 11519\n",
              "locality_name              49\n",
              "airports_nearest         5542\n",
              "city_centers_nearest     5519\n",
              "parks_around_3000        5518\n",
              "parks_nearest           15620\n",
              "ponds_around_3000        5518\n",
              "ponds_nearest           14589\n",
              "days_exposition          3181\n",
              "dtype: int64"
            ]
          },
          "execution_count": 7,
          "metadata": {},
          "output_type": "execute_result"
        }
      ],
      "source": [
        "data.isnull().sum()"
      ]
    },
    {
      "cell_type": "markdown",
      "metadata": {
        "id": "T2y5xW11ZfXM"
      },
      "source": [
        "**Вывод**\n",
        "\n",
        "Каждое поле было изучено на предмет пропущенных значений, выдвинуты гипотезы, почему поля могли оказаться пустыми  и решение, что с данными полями дальше делать для исследования. <span style=\"color:orange\"> **Оранжевым**</span> выделены поля, которые будут заполнены вручную. Остальные пропуски будут оставлены в исходных данных.\n",
        "\n",
        "- **ceiling_height**. При определении стоимости недвижимости высота потолков не имеет первостепенного значения, поэтому проигнорируем пропуски значений. Поле могло быть не заполнено пользователем из-за незнания точной высоыт потолка.       \n",
        "- **floors_total**. 86 пропусков (0.4% от всех данных) не повлияют на итоговые выводы. Скорее всего пользователи не заполнили это поле из-за тех. ошибки: например, не сохранились данные при заполнении/из-за человеческой ошибки: пропустили заполнение поля. Пропуски не удаляем.           \n",
        "- **living_area**. Размер жилой площади важный показатель при определении стоимости жилья, однако заменять на средние или медианные значения в данном случае некорректно, как и посчитать площадь жилья другим способом, поэтому пропуски оставим.          \n",
        "- <span style=\"color:orange\"> **is_apartment**.</span>  Количество пропусков 20 924 из 23 699 (88%) может говорить о том, что поле не заполнялось пользователями. Будем исходить из предположения, что если пользователь продает аппартаменты, то об этом указано в объявлении. Поэтому пропуски заполним значением False.\n",
        "- **kitchen_area**. Размер кухни, как и площадь жилого помещения, важные показатели, однако заменить их не получится. Поле могло быть не заполнено из-за тех. ошибок, незнания точных цифр площади пользователями. Пропуски оставляем.            \n",
        "- <span style=\"color:orange\"> **balcony**.</span> Предположительно, если в жилом помещении нет балкона, пользователи не заполняли это поле, поэтому пропуски заменим значением 0.   \n",
        "- <span style=\"color:orange\"> **locality_name**.</span> Небольшое количество пропусков. Пропуски могли возникнуть из-за сбоев в автоматическом получение данных из геосервисов/отсутствия указанной информации на картах геосервиса. Т.к. информация о расположении важна для анализа, то пропуски удалим.    \n",
        "- **airports_nearest**. Аналогично полю locality_name. Пропущенные значения оставляем.         \n",
        "- **city_centers_nearest**. Аналогично полю locality_name, airports_nearest. Пропущенные значения оставляем.         \n",
        "- **parks_around_3000**. Информация для исследования не является первостепенной. Пропуски оставляем. Причина пропусков как и в поле locality_name.\n",
        "- **parks_nearest**. Информация для исследования не является первостепенной. Пропуски оставляем. Причина пропусков как и в поле locality_name.\n",
        "- **ponds_around_3000**. Информация для исследования не является первостепенной. Пропуски оставляем. Причина пропусков как и в поле locality_name.\n",
        "- **ponds_nearest**. Информация для исследования не является первостепенной. Пропуски оставляем. Причина пропусков как и в поле locality_name.\n",
        "- <span style=\"color:orange\"> **days_exposition**.</span> Количество дней размещения объявлений должны считаться автоматически. Возможно, произошел сбой при выгрузке данных, либо пустые значения равны 0 дней размещения (т.е. размещено в текущий день). Заменим занчения на 0.\n",
        "\n"
      ]
    },
    {
      "cell_type": "markdown",
      "metadata": {
        "id": "D5KGSZzfZfXM"
      },
      "source": [
        "<div class=\"alert alert-success\">\n",
        "<b>Комментарий ревьюера:</b>☀️\n",
        "    \n",
        "Замечательная идея поработать с цветом и им выделить то, что заменишь вручную, предположения о заменах логичные, молодец!"
      ]
    },
    {
      "cell_type": "markdown",
      "metadata": {
        "id": "oY6VB_XsZfXM"
      },
      "source": [
        "**Шаг 2.3. Заполним пропуски в столбцах и удалим строки с пропущенными значениями.**"
      ]
    },
    {
      "cell_type": "code",
      "execution_count": null,
      "metadata": {
        "id": "JJC9Y1qdZfXM",
        "outputId": "705e570e-b2bd-4e14-9e88-b029c660671f"
      },
      "outputs": [
        {
          "data": {
            "text/plain": [
              "0"
            ]
          },
          "execution_count": 8,
          "metadata": {},
          "output_type": "execute_result"
        }
      ],
      "source": [
        "# заменяем пропуски на False\n",
        "data['is_apartment'].fillna(False, inplace=True)\n",
        "# проверка\n",
        "data['is_apartment'].isna().sum()"
      ]
    },
    {
      "cell_type": "code",
      "execution_count": null,
      "metadata": {
        "id": "HyKdqmwxZfXM",
        "outputId": "8cb2a6df-34ec-4718-8349-a1711fa1e962"
      },
      "outputs": [
        {
          "data": {
            "text/plain": [
              "0"
            ]
          },
          "execution_count": 9,
          "metadata": {},
          "output_type": "execute_result"
        }
      ],
      "source": [
        "# заменяем пропуски на 0\n",
        "data['balcony'].fillna(0, inplace=True)\n",
        "# проверка\n",
        "data['balcony'].isna().sum()"
      ]
    },
    {
      "cell_type": "code",
      "execution_count": null,
      "metadata": {
        "id": "7ITCYkp8ZfXM",
        "outputId": "b728123e-d9c2-48d0-fc1f-b1a3e0fd076a"
      },
      "outputs": [
        {
          "data": {
            "text/plain": [
              "0"
            ]
          },
          "execution_count": 10,
          "metadata": {},
          "output_type": "execute_result"
        }
      ],
      "source": [
        "# заменяем пропуски на 0\n",
        "data['days_exposition'].fillna(0, inplace=True)\n",
        "# проверка\n",
        "data['days_exposition'].isna().sum()"
      ]
    },
    {
      "cell_type": "code",
      "execution_count": null,
      "metadata": {
        "id": "cgkGFOBLZfXM",
        "outputId": "5d57cbeb-816a-4e7b-a0b8-8aa6bd1c1032"
      },
      "outputs": [
        {
          "data": {
            "text/plain": [
              "0"
            ]
          },
          "execution_count": 11,
          "metadata": {},
          "output_type": "execute_result"
        }
      ],
      "source": [
        "# удаляем строки с пропущенными значениями\n",
        "data = data.dropna(subset=['locality_name'])\n",
        "# проверка\n",
        "data['locality_name'].isna().sum()"
      ]
    },
    {
      "cell_type": "markdown",
      "metadata": {
        "id": "7_lt3Po_ZfXN"
      },
      "source": [
        "**Вывод**\n",
        "\n",
        "Пропущенные значения заполнены"
      ]
    },
    {
      "cell_type": "markdown",
      "metadata": {
        "id": "l9YkoTMHZfXN"
      },
      "source": [
        "**Шаг 2.3. Заменим типы данных в полях с помощью метода astype().**"
      ]
    },
    {
      "cell_type": "code",
      "execution_count": null,
      "metadata": {
        "id": "HHR9HvGlZfXN",
        "outputId": "0645d998-77d4-4187-ec5c-c0d5b688c174"
      },
      "outputs": [
        {
          "name": "stdout",
          "output_type": "stream",
          "text": [
            "<class 'pandas.core.frame.DataFrame'>\n",
            "Int64Index: 23650 entries, 0 to 23698\n",
            "Data columns (total 22 columns):\n",
            " #   Column                Non-Null Count  Dtype         \n",
            "---  ------                --------------  -----         \n",
            " 0   total_images          23650 non-null  int64         \n",
            " 1   last_price            23650 non-null  float64       \n",
            " 2   total_area            23650 non-null  float64       \n",
            " 3   first_day_exposition  23650 non-null  datetime64[ns]\n",
            " 4   rooms                 23650 non-null  int64         \n",
            " 5   ceiling_height        14490 non-null  float64       \n",
            " 6   floors_total          23565 non-null  float64       \n",
            " 7   living_area           21752 non-null  float64       \n",
            " 8   floor                 23650 non-null  int64         \n",
            " 9   is_apartment          23650 non-null  boolean       \n",
            " 10  studio                23650 non-null  bool          \n",
            " 11  open_plan             23650 non-null  bool          \n",
            " 12  kitchen_area          21381 non-null  float64       \n",
            " 13  balcony               23650 non-null  int64         \n",
            " 14  locality_name         23650 non-null  object        \n",
            " 15  airports_nearest      18116 non-null  float64       \n",
            " 16  city_centers_nearest  18139 non-null  float64       \n",
            " 17  parks_around_3000     18140 non-null  float64       \n",
            " 18  parks_nearest         8064 non-null   float64       \n",
            " 19  ponds_around_3000     18140 non-null  float64       \n",
            " 20  ponds_nearest         9085 non-null   float64       \n",
            " 21  days_exposition       23650 non-null  int64         \n",
            "dtypes: bool(2), boolean(1), datetime64[ns](1), float64(12), int64(5), object(1)\n",
            "memory usage: 3.7+ MB\n"
          ]
        }
      ],
      "source": [
        "# меняем типы данных\n",
        "data['first_day_exposition'] = pd.to_datetime(data['first_day_exposition'], format='%Y-%m-%dT%H:%M:%S')\n",
        "data['balcony'] = data['balcony'].astype(int)\n",
        "data['days_exposition'] = data['days_exposition'].astype(int)\n",
        "data['is_apartment'] = data['is_apartment'].astype('boolean')\n",
        "\n",
        "#проверяем\n",
        "data.info()"
      ]
    },
    {
      "cell_type": "markdown",
      "metadata": {
        "id": "0Ncs70c6ZfXN"
      },
      "source": [
        "<div class=\"alert alert-success\">\n",
        "<b>Комментарий ревьюера:</b>☀️\n",
        "    \n",
        "\n",
        "В `astype` можно передавать словари, в котором ключи - названия столбцов, значения - типы данных\n",
        "</div>"
      ]
    },
    {
      "cell_type": "markdown",
      "metadata": {
        "id": "sMsWW8e8ZfXN"
      },
      "source": [
        "**Шаг 2.4. Выведем перечень уникальных значений столбца и заменим неявные дубликаты.**"
      ]
    },
    {
      "cell_type": "code",
      "execution_count": null,
      "metadata": {
        "id": "iAwHDri8ZfXN",
        "outputId": "8f37373e-33ac-49b2-849d-d28baf564346"
      },
      "outputs": [
        {
          "data": {
            "text/plain": [
              "array(['Санкт-Петербург', 'посёлок Шушары', 'городской посёлок Янино-1',\n",
              "       'посёлок Парголово', 'посёлок Мурино', 'Ломоносов', 'Сертолово',\n",
              "       'Петергоф', 'Пушкин', 'деревня Кудрово', 'Коммунар', 'Колпино',\n",
              "       'поселок городского типа Красный Бор', 'Гатчина', 'поселок Мурино',\n",
              "       'деревня Фёдоровское', 'Выборг', 'Кронштадт', 'Кировск',\n",
              "       'деревня Новое Девяткино', 'посёлок Металлострой',\n",
              "       'посёлок городского типа Лебяжье',\n",
              "       'посёлок городского типа Сиверский', 'поселок Молодцово',\n",
              "       'поселок городского типа Кузьмоловский',\n",
              "       'садовое товарищество Новая Ропша', 'Павловск',\n",
              "       'деревня Пикколово', 'Всеволожск', 'Волхов', 'Кингисепп',\n",
              "       'Приозерск', 'Сестрорецк', 'деревня Куттузи', 'посёлок Аннино',\n",
              "       'поселок городского типа Ефимовский', 'посёлок Плодовое',\n",
              "       'деревня Заклинье', 'поселок Торковичи', 'поселок Первомайское',\n",
              "       'Красное Село', 'посёлок Понтонный', 'Сясьстрой', 'деревня Старая',\n",
              "       'деревня Лесколово', 'посёлок Новый Свет', 'Сланцы',\n",
              "       'село Путилово', 'Ивангород', 'Мурино', 'Шлиссельбург',\n",
              "       'Никольское', 'Зеленогорск', 'Сосновый Бор', 'поселок Новый Свет',\n",
              "       'деревня Оржицы', 'деревня Кальтино', 'Кудрово',\n",
              "       'поселок Романовка', 'посёлок Бугры', 'поселок Бугры',\n",
              "       'поселок городского типа Рощино', 'Кириши', 'Луга', 'Волосово',\n",
              "       'Отрадное', 'село Павлово', 'поселок Оредеж', 'село Копорье',\n",
              "       'посёлок городского типа Красный Бор', 'посёлок Молодёжное',\n",
              "       'Тихвин', 'посёлок Победа', 'деревня Нурма',\n",
              "       'поселок городского типа Синявино', 'Тосно',\n",
              "       'посёлок городского типа Кузьмоловский', 'посёлок Стрельна',\n",
              "       'Бокситогорск', 'посёлок Александровская', 'деревня Лопухинка',\n",
              "       'Пикалёво', 'поселок Терволово',\n",
              "       'поселок городского типа Советский', 'Подпорожье',\n",
              "       'посёлок Петровское', 'посёлок городского типа Токсово',\n",
              "       'поселок Сельцо', 'посёлок городского типа Вырица',\n",
              "       'деревня Кипень', 'деревня Келози', 'деревня Вартемяги',\n",
              "       'посёлок Тельмана', 'поселок Севастьяново',\n",
              "       'городской поселок Большая Ижора', 'городской посёлок Павлово',\n",
              "       'деревня Агалатово', 'посёлок Новогорелово',\n",
              "       'городской посёлок Лесогорский', 'деревня Лаголово',\n",
              "       'поселок Цвелодубово', 'поселок городского типа Рахья',\n",
              "       'поселок городского типа Вырица', 'деревня Белогорка',\n",
              "       'поселок Заводской', 'городской посёлок Новоселье',\n",
              "       'деревня Большие Колпаны', 'деревня Горбунки', 'деревня Батово',\n",
              "       'деревня Заневка', 'деревня Иссад', 'Приморск',\n",
              "       'городской посёлок Фёдоровское', 'деревня Мистолово',\n",
              "       'Новая Ладога', 'поселок Зимитицы', 'поселок Барышево',\n",
              "       'деревня Разметелево', 'поселок городского типа имени Свердлова',\n",
              "       'деревня Пеники', 'поселок Рябово', 'деревня Пудомяги',\n",
              "       'поселок станции Корнево', 'деревня Низино', 'деревня Бегуницы',\n",
              "       'посёлок Поляны', 'городской посёлок Мга', 'поселок Елизаветино',\n",
              "       'посёлок городского типа Кузнечное', 'деревня Колтуши',\n",
              "       'поселок Запорожское', 'посёлок городского типа Рощино',\n",
              "       'деревня Гостилицы', 'деревня Малое Карлино',\n",
              "       'посёлок Мичуринское', 'посёлок городского типа имени Морозова',\n",
              "       'посёлок Песочный', 'посёлок Сосново', 'деревня Аро',\n",
              "       'поселок Ильичёво', 'посёлок городского типа Тайцы',\n",
              "       'деревня Малое Верево', 'деревня Извара', 'поселок станции Вещево',\n",
              "       'село Паша', 'деревня Калитино',\n",
              "       'посёлок городского типа Ульяновка', 'деревня Чудской Бор',\n",
              "       'поселок городского типа Дубровка', 'деревня Мины',\n",
              "       'поселок Войсковицы', 'посёлок городского типа имени Свердлова',\n",
              "       'деревня Коркино', 'посёлок Ропша',\n",
              "       'поселок городского типа Приладожский', 'посёлок Щеглово',\n",
              "       'посёлок Гаврилово', 'Лодейное Поле', 'деревня Рабитицы',\n",
              "       'поселок городского типа Никольский', 'деревня Кузьмолово',\n",
              "       'деревня Малые Колпаны', 'поселок Тельмана',\n",
              "       'посёлок Петро-Славянка', 'городской посёлок Назия',\n",
              "       'посёлок Репино', 'посёлок Ильичёво', 'поселок Углово',\n",
              "       'поселок Старая Малукса', 'садовое товарищество Рахья',\n",
              "       'поселок Аннино', 'поселок Победа', 'деревня Меньково',\n",
              "       'деревня Старые Бегуницы', 'посёлок Сапёрный', 'поселок Семрино',\n",
              "       'поселок Гаврилово', 'поселок Глажево', 'поселок Кобринское',\n",
              "       'деревня Гарболово', 'деревня Юкки',\n",
              "       'поселок станции Приветнинское', 'деревня Мануйлово',\n",
              "       'деревня Пчева', 'поселок Поляны', 'поселок Цвылёво',\n",
              "       'поселок Мельниково', 'посёлок Пудость', 'посёлок Усть-Луга',\n",
              "       'Светогорск', 'Любань', 'поселок Селезнёво',\n",
              "       'поселок городского типа Рябово', 'Каменногорск', 'деревня Кривко',\n",
              "       'поселок Глебычево', 'деревня Парицы', 'поселок Жилпосёлок',\n",
              "       'посёлок городского типа Мга', 'городской поселок Янино-1',\n",
              "       'посёлок Войскорово', 'село Никольское', 'посёлок Терволово',\n",
              "       'поселок Стеклянный', 'посёлок городского типа Важины',\n",
              "       'посёлок Мыза-Ивановка', 'село Русско-Высоцкое',\n",
              "       'поселок городского типа Лебяжье',\n",
              "       'поселок городского типа Форносово', 'село Старая Ладога',\n",
              "       'поселок Житково', 'городской посёлок Виллози', 'деревня Лампово',\n",
              "       'деревня Шпаньково', 'деревня Лаврики', 'посёлок Сумино',\n",
              "       'посёлок Возрождение', 'деревня Старосиверская',\n",
              "       'посёлок Кикерино', 'поселок Возрождение',\n",
              "       'деревня Старое Хинколово', 'посёлок Пригородный',\n",
              "       'посёлок Торфяное', 'городской посёлок Будогощь',\n",
              "       'поселок Суходолье', 'поселок Красная Долина', 'деревня Хапо-Ое',\n",
              "       'поселок городского типа Дружная Горка', 'поселок Лисий Нос',\n",
              "       'деревня Яльгелево', 'посёлок Стеклянный', 'село Рождествено',\n",
              "       'деревня Старополье', 'посёлок Левашово', 'деревня Сяськелево',\n",
              "       'деревня Камышовка',\n",
              "       'садоводческое некоммерческое товарищество Лесная Поляна',\n",
              "       'деревня Хязельки', 'поселок Жилгородок',\n",
              "       'посёлок городского типа Павлово', 'деревня Ялгино',\n",
              "       'поселок Новый Учхоз', 'городской посёлок Рощино',\n",
              "       'поселок Гончарово', 'поселок Почап', 'посёлок Сапёрное',\n",
              "       'посёлок Платформа 69-й километр', 'поселок Каложицы',\n",
              "       'деревня Фалилеево', 'деревня Пельгора',\n",
              "       'поселок городского типа Лесогорский', 'деревня Торошковичи',\n",
              "       'посёлок Белоостров', 'посёлок Алексеевка', 'поселок Серебрянский',\n",
              "       'поселок Лукаши', 'поселок Петровское', 'деревня Щеглово',\n",
              "       'поселок Мичуринское', 'деревня Тарасово', 'поселок Кингисеппский',\n",
              "       'посёлок при железнодорожной станции Вещево', 'поселок Ушаки',\n",
              "       'деревня Котлы', 'деревня Сижно', 'деревня Торосово',\n",
              "       'посёлок Форт Красная Горка', 'поселок городского типа Токсово',\n",
              "       'деревня Новолисино', 'посёлок станции Громово', 'деревня Глинка',\n",
              "       'посёлок Мельниково', 'поселок городского типа Назия',\n",
              "       'деревня Старая Пустошь', 'поселок Коммунары', 'поселок Починок',\n",
              "       'посёлок городского типа Вознесенье', 'деревня Разбегаево',\n",
              "       'посёлок городского типа Рябово', 'поселок Гладкое',\n",
              "       'посёлок при железнодорожной станции Приветнинское',\n",
              "       'поселок Тёсово-4', 'посёлок Жилгородок', 'деревня Бор',\n",
              "       'посёлок Коробицыно', 'деревня Большая Вруда', 'деревня Курковицы',\n",
              "       'посёлок Лисий Нос', 'городской посёлок Советский',\n",
              "       'посёлок Кобралово', 'деревня Суоранда', 'поселок Кобралово',\n",
              "       'поселок городского типа Кондратьево',\n",
              "       'коттеджный поселок Счастье', 'поселок Любань', 'деревня Реброво',\n",
              "       'деревня Зимитицы', 'деревня Тойворово', 'поселок Семиозерье',\n",
              "       'поселок Лесное', 'поселок Совхозный', 'поселок Усть-Луга',\n",
              "       'посёлок Ленинское', 'посёлок Суйда',\n",
              "       'посёлок городского типа Форносово', 'деревня Нижние Осельки',\n",
              "       'посёлок станции Свирь', 'поселок Перово', 'Высоцк',\n",
              "       'поселок Гарболово', 'село Шум', 'поселок Котельский',\n",
              "       'поселок станции Лужайка', 'деревня Большая Пустомержа',\n",
              "       'поселок Красносельское', 'деревня Вахнова Кара', 'деревня Пижма',\n",
              "       'коттеджный поселок Кивеннапа Север', 'поселок Коробицыно',\n",
              "       'поселок Ромашки', 'посёлок Перово', 'деревня Каськово',\n",
              "       'деревня Куровицы', 'посёлок Плоское', 'поселок Сумино',\n",
              "       'поселок городского типа Большая Ижора', 'поселок Кирпичное',\n",
              "       'деревня Ям-Тесово', 'деревня Раздолье', 'деревня Терпилицы',\n",
              "       'посёлок Шугозеро', 'деревня Ваганово', 'поселок Пушное',\n",
              "       'садовое товарищество Садко', 'посёлок Усть-Ижора',\n",
              "       'деревня Выскатка', 'городской посёлок Свирьстрой',\n",
              "       'поселок Громово', 'деревня Кисельня', 'посёлок Старая Малукса',\n",
              "       'деревня Трубников Бор', 'поселок Калитино',\n",
              "       'посёлок Высокоключевой', 'садовое товарищество Приладожский',\n",
              "       'посёлок Пансионат Зелёный Бор', 'деревня Ненимяки',\n",
              "       'поселок Пансионат Зелёный Бор', 'деревня Снегирёвка',\n",
              "       'деревня Рапполово', 'деревня Пустынка', 'поселок Рабитицы',\n",
              "       'деревня Большой Сабск', 'деревня Русско', 'деревня Лупполово',\n",
              "       'деревня Большое Рейзино', 'деревня Малая Романовка',\n",
              "       'поселок Дружноселье', 'поселок Пчевжа', 'поселок Володарское',\n",
              "       'деревня Нижняя', 'коттеджный посёлок Лесное', 'деревня Тихковицы',\n",
              "       'деревня Борисова Грива', 'посёлок Дзержинского'], dtype=object)"
            ]
          },
          "execution_count": 13,
          "metadata": {},
          "output_type": "execute_result"
        }
      ],
      "source": [
        "# Выведем перечень уникальных значений местности\n",
        "data['locality_name'].unique()"
      ]
    },
    {
      "cell_type": "code",
      "execution_count": null,
      "metadata": {
        "id": "-2EOIxYdZfXO",
        "outputId": "d182ea17-f56c-4cd7-e6c1-2d51c36326b5"
      },
      "outputs": [
        {
          "data": {
            "text/plain": [
              "364"
            ]
          },
          "execution_count": 14,
          "metadata": {},
          "output_type": "execute_result"
        }
      ],
      "source": [
        "# Посчитаем кол-во уникальных значений\n",
        "data['locality_name'].nunique()\n",
        "\n",
        "# 364"
      ]
    },
    {
      "cell_type": "code",
      "execution_count": null,
      "metadata": {
        "id": "ZAkkJDyrZfXO",
        "outputId": "4d12148d-a118-449c-b21b-359c0b4f3928"
      },
      "outputs": [
        {
          "data": {
            "text/plain": [
              "array(['Бокситогорск', 'Волосово', 'Волхов', 'Всеволожск', 'Выборг',\n",
              "       'Высоцк', 'Гатчина', 'Зеленогорск', 'Ивангород', 'Каменногорск',\n",
              "       'Кингисепп', 'Кириши', 'Кировск', 'Колпино', 'Коммунар',\n",
              "       'Красное Село', 'Кронштадт', 'Кудрово', 'Лодейное Поле',\n",
              "       'Ломоносов', 'Луга', 'Любань', 'Мурино', 'Никольское',\n",
              "       'Новая Ладога', 'Отрадное', 'Павловск', 'Петергоф', 'Пикалёво',\n",
              "       'Подпорожье', 'Приморск', 'Приозерск', 'Пушкин', 'Санкт-Петербург',\n",
              "       'Светогорск', 'Сертолово', 'Сестрорецк', 'Сланцы', 'Сосновый Бор',\n",
              "       'Сясьстрой', 'Тихвин', 'Тосно', 'Шлиссельбург',\n",
              "       'деревня Агалатово', 'деревня Аро', 'деревня Батово',\n",
              "       'деревня Бегуницы', 'деревня Белогорка', 'деревня Большая Вруда',\n",
              "       'деревня Большая Пустомержа', 'деревня Большие Колпаны',\n",
              "       'деревня Большое Рейзино', 'деревня Большой Сабск', 'деревня Бор',\n",
              "       'деревня Борисова Грива', 'деревня Ваганово', 'деревня Вартемяги',\n",
              "       'деревня Вахнова Кара', 'деревня Выскатка', 'деревня Гарболово',\n",
              "       'деревня Глинка', 'деревня Горбунки', 'деревня Гостилицы',\n",
              "       'деревня Заклинье', 'деревня Заневка', 'деревня Зимитицы',\n",
              "       'деревня Извара', 'деревня Иссад', 'деревня Калитино',\n",
              "       'деревня Кальтино', 'деревня Камышовка', 'деревня Каськово',\n",
              "       'деревня Келози', 'деревня Кипень', 'деревня Кисельня',\n",
              "       'деревня Колтуши', 'деревня Коркино', 'деревня Котлы',\n",
              "       'деревня Кривко', 'деревня Кудрово', 'деревня Кузьмолово',\n",
              "       'деревня Курковицы', 'деревня Куровицы', 'деревня Куттузи',\n",
              "       'деревня Лаврики', 'деревня Лаголово', 'деревня Лампово',\n",
              "       'деревня Лесколово', 'деревня Лопухинка', 'деревня Лупполово',\n",
              "       'деревня Малая Романовка', 'деревня Малое Верево',\n",
              "       'деревня Малое Карлино', 'деревня Малые Колпаны',\n",
              "       'деревня Мануйлово', 'деревня Меньково', 'деревня Мины',\n",
              "       'деревня Мистолово', 'деревня Ненимяки', 'деревня Нижние Осельки',\n",
              "       'деревня Нижняя', 'деревня Низино', 'деревня Новое Девяткино',\n",
              "       'деревня Новолисино', 'деревня Нурма', 'деревня Оржицы',\n",
              "       'деревня Парицы', 'деревня Пельгора', 'деревня Пеники',\n",
              "       'деревня Пижма', 'деревня Пикколово', 'деревня Пудомяги',\n",
              "       'деревня Пустынка', 'деревня Пчева', 'деревня Рабитицы',\n",
              "       'деревня Разбегаево', 'деревня Раздолье', 'деревня Разметелево',\n",
              "       'деревня Рапполово', 'деревня Реброво', 'деревня Русско',\n",
              "       'деревня Сижно', 'деревня Снегирёвка', 'деревня Старая',\n",
              "       'деревня Старая Пустошь', 'деревня Старое Хинколово',\n",
              "       'деревня Старополье', 'деревня Старосиверская',\n",
              "       'деревня Старые Бегуницы', 'деревня Суоранда',\n",
              "       'деревня Сяськелево', 'деревня Тарасово', 'деревня Терпилицы',\n",
              "       'деревня Тихковицы', 'деревня Тойворово', 'деревня Торосово',\n",
              "       'деревня Торошковичи', 'деревня Трубников Бор',\n",
              "       'деревня Фалилеево', 'деревня Фёдоровское', 'деревня Хапо-Ое',\n",
              "       'деревня Хязельки', 'деревня Чудской Бор', 'деревня Шпаньково',\n",
              "       'деревня Щеглово', 'деревня Юкки', 'деревня Ялгино',\n",
              "       'деревня Яльгелево', 'деревня Ям-Тесово',\n",
              "       'коттеджный посёлок Кивеннапа Север', 'коттеджный посёлок Лесное',\n",
              "       'коттеджный посёлок Счастье', 'посёлок Александровская',\n",
              "       'посёлок Алексеевка', 'посёлок Аннино', 'посёлок Барышево',\n",
              "       'посёлок Белоостров', 'посёлок Большая Ижора', 'посёлок Бугры',\n",
              "       'посёлок Будогощь', 'посёлок Важины', 'посёлок Виллози',\n",
              "       'посёлок Вознесенье', 'посёлок Возрождение', 'посёлок Войсковицы',\n",
              "       'посёлок Войскорово', 'посёлок Володарское', 'посёлок Вырица',\n",
              "       'посёлок Высокоключевой', 'посёлок Гаврилово', 'посёлок Гарболово',\n",
              "       'посёлок Гладкое', 'посёлок Глажево', 'посёлок Глебычево',\n",
              "       'посёлок Гончарово', 'посёлок Громово', 'посёлок Дзержинского',\n",
              "       'посёлок Дружная Горка', 'посёлок Дружноселье', 'посёлок Дубровка',\n",
              "       'посёлок Елизаветино', 'посёлок Ефимовский', 'посёлок Жилгородок',\n",
              "       'посёлок Жилпосёлок', 'посёлок Житково', 'посёлок Заводской',\n",
              "       'посёлок Запорожское', 'посёлок Зимитицы', 'посёлок Ильичёво',\n",
              "       'посёлок Калитино', 'посёлок Каложицы', 'посёлок Кикерино',\n",
              "       'посёлок Кингисеппский', 'посёлок Кирпичное', 'посёлок Кобралово',\n",
              "       'посёлок Кобринское', 'посёлок Коммунары', 'посёлок Кондратьево',\n",
              "       'посёлок Коробицыно', 'посёлок Котельский',\n",
              "       'посёлок Красная Долина', 'посёлок Красносельское',\n",
              "       'посёлок Красный Бор', 'посёлок Кузнечное',\n",
              "       'посёлок Кузьмоловский', 'посёлок Лебяжье', 'посёлок Левашово',\n",
              "       'посёлок Ленинское', 'посёлок Лесное', 'посёлок Лесогорский',\n",
              "       'посёлок Лисий Нос', 'посёлок Лукаши', 'посёлок Любань',\n",
              "       'посёлок Мга', 'посёлок Мельниково', 'посёлок Металлострой',\n",
              "       'посёлок Мичуринское', 'посёлок Молодцово', 'посёлок Молодёжное',\n",
              "       'посёлок Мурино', 'посёлок Мыза-Ивановка', 'посёлок Назия',\n",
              "       'посёлок Никольский', 'посёлок Новогорелово', 'посёлок Новоселье',\n",
              "       'посёлок Новый Свет', 'посёлок Новый Учхоз', 'посёлок Оредеж',\n",
              "       'посёлок Павлово', 'посёлок Пансионат Зелёный Бор',\n",
              "       'посёлок Парголово', 'посёлок Первомайское', 'посёлок Перово',\n",
              "       'посёлок Песочный', 'посёлок Петро-Славянка', 'посёлок Петровское',\n",
              "       'посёлок Платформа 69-й километр', 'посёлок Плодовое',\n",
              "       'посёлок Плоское', 'посёлок Победа', 'посёлок Поляны',\n",
              "       'посёлок Понтонный', 'посёлок Почап', 'посёлок Починок',\n",
              "       'посёлок Пригородный', 'посёлок Приладожский', 'посёлок Пудость',\n",
              "       'посёлок Пушное', 'посёлок Пчевжа', 'посёлок Рабитицы',\n",
              "       'посёлок Рахья', 'посёлок Репино', 'посёлок Романовка',\n",
              "       'посёлок Ромашки', 'посёлок Ропша', 'посёлок Рощино',\n",
              "       'посёлок Рябово', 'посёлок Сапёрное', 'посёлок Сапёрный',\n",
              "       'посёлок Свирьстрой', 'посёлок Севастьяново', 'посёлок Селезнёво',\n",
              "       'посёлок Сельцо', 'посёлок Семиозерье', 'посёлок Семрино',\n",
              "       'посёлок Серебрянский', 'посёлок Сиверский', 'посёлок Синявино',\n",
              "       'посёлок Советский', 'посёлок Совхозный', 'посёлок Сосново',\n",
              "       'посёлок Старая Малукса', 'посёлок Стеклянный', 'посёлок Стрельна',\n",
              "       'посёлок Суйда', 'посёлок Сумино', 'посёлок Суходолье',\n",
              "       'посёлок Тайцы', 'посёлок Тельмана', 'посёлок Терволово',\n",
              "       'посёлок Токсово', 'посёлок Торковичи', 'посёлок Торфяное',\n",
              "       'посёлок Тёсово-4', 'посёлок Углово', 'посёлок Ульяновка',\n",
              "       'посёлок Усть-Ижора', 'посёлок Усть-Луга', 'посёлок Ушаки',\n",
              "       'посёлок Форносово', 'посёлок Форт Красная Горка',\n",
              "       'посёлок Фёдоровское', 'посёлок Цвелодубово', 'посёлок Цвылёво',\n",
              "       'посёлок Шугозеро', 'посёлок Шушары', 'посёлок Щеглово',\n",
              "       'посёлок Янино-1', 'посёлок имени Морозова',\n",
              "       'посёлок имени Свердлова',\n",
              "       'посёлок при железнодорожной станции Вещево',\n",
              "       'посёлок при железнодорожной станции Приветнинское',\n",
              "       'посёлок станции Вещево', 'посёлок станции Громово',\n",
              "       'посёлок станции Корнево', 'посёлок станции Лужайка',\n",
              "       'посёлок станции Приветнинское', 'посёлок станции Свирь',\n",
              "       'садоводческое некоммерческое товарищество Лесная Поляна',\n",
              "       'садовое товарищество Новая Ропша',\n",
              "       'садовое товарищество Приладожский', 'садовое товарищество Рахья',\n",
              "       'садовое товарищество Садко', 'село Копорье', 'село Никольское',\n",
              "       'село Павлово', 'село Паша', 'село Путилово', 'село Рождествено',\n",
              "       'село Русско-Высоцкое', 'село Старая Ладога', 'село Шум'],\n",
              "      dtype=object)"
            ]
          },
          "execution_count": 15,
          "metadata": {},
          "output_type": "execute_result"
        }
      ],
      "source": [
        "# Заменяем названия местности. Для определения месторасположения не имеет значение посёлок городского типа\n",
        "# или обычный поселок, поэтому заменим все похожие значения на посёлок\n",
        "\n",
        "data['locality_name'] = data['locality_name'].str.replace('поселок','посёлок')\n",
        "data['locality_name'] = data['locality_name'].str.replace('посёлок городского типа','посёлок')\n",
        "data['locality_name'] = data['locality_name'].str.replace('городской посёлок','посёлок')\n",
        "\n",
        "#Проверяем\n",
        "data['locality_name'].sort_values().unique()"
      ]
    },
    {
      "cell_type": "markdown",
      "metadata": {
        "id": "y_LB37s6ZfXO"
      },
      "source": [
        "<div class=\"alert alert-success\">\n",
        "<b>Комментарий ревьюера:</b>☀️\n",
        "    \n",
        "И про неявные дубликаты не забыла, а ещё и подсчитано число повторений названий до и после, замечательно"
      ]
    },
    {
      "cell_type": "code",
      "execution_count": null,
      "metadata": {
        "id": "6XsiSCiZZfXO",
        "outputId": "1f6a8ef4-f6cf-4849-c5db-405fe31c479b"
      },
      "outputs": [
        {
          "data": {
            "text/plain": [
              "322"
            ]
          },
          "execution_count": 16,
          "metadata": {},
          "output_type": "execute_result"
        }
      ],
      "source": [
        "# Посчитаем кол-во уникальных значений после замены дубликатов\n",
        "data['locality_name'].nunique()\n",
        "\n",
        "# 322 -> дубликаты заменены"
      ]
    },
    {
      "cell_type": "markdown",
      "metadata": {
        "id": "9JiBTmEYZfXO"
      },
      "source": [
        "### Посчитайте и добавьте в таблицу новые столбцы"
      ]
    },
    {
      "cell_type": "markdown",
      "metadata": {
        "id": "aDat0uANZfXO"
      },
      "source": [
        "**Шаг 3.1. Считаем цену одного квадратного метра и добавляем значение в data**"
      ]
    },
    {
      "cell_type": "code",
      "execution_count": null,
      "metadata": {
        "id": "P9ZjLg_2ZfXP",
        "outputId": "157c8421-7a2b-4362-b537-46d3176d1b2b"
      },
      "outputs": [
        {
          "data": {
            "text/html": [
              "<div>\n",
              "<style scoped>\n",
              "    .dataframe tbody tr th:only-of-type {\n",
              "        vertical-align: middle;\n",
              "    }\n",
              "\n",
              "    .dataframe tbody tr th {\n",
              "        vertical-align: top;\n",
              "    }\n",
              "\n",
              "    .dataframe thead th {\n",
              "        text-align: right;\n",
              "    }\n",
              "</style>\n",
              "<table border=\"1\" class=\"dataframe\">\n",
              "  <thead>\n",
              "    <tr style=\"text-align: right;\">\n",
              "      <th></th>\n",
              "      <th>total_images</th>\n",
              "      <th>last_price</th>\n",
              "      <th>total_area</th>\n",
              "      <th>first_day_exposition</th>\n",
              "      <th>rooms</th>\n",
              "      <th>ceiling_height</th>\n",
              "      <th>floors_total</th>\n",
              "      <th>living_area</th>\n",
              "      <th>floor</th>\n",
              "      <th>is_apartment</th>\n",
              "      <th>...</th>\n",
              "      <th>balcony</th>\n",
              "      <th>locality_name</th>\n",
              "      <th>airports_nearest</th>\n",
              "      <th>city_centers_nearest</th>\n",
              "      <th>parks_around_3000</th>\n",
              "      <th>parks_nearest</th>\n",
              "      <th>ponds_around_3000</th>\n",
              "      <th>ponds_nearest</th>\n",
              "      <th>days_exposition</th>\n",
              "      <th>price_1_meter</th>\n",
              "    </tr>\n",
              "  </thead>\n",
              "  <tbody>\n",
              "    <tr>\n",
              "      <th>0</th>\n",
              "      <td>20</td>\n",
              "      <td>13000000.0</td>\n",
              "      <td>108.00</td>\n",
              "      <td>2019-03-07</td>\n",
              "      <td>3</td>\n",
              "      <td>2.70</td>\n",
              "      <td>16.0</td>\n",
              "      <td>51.0</td>\n",
              "      <td>8</td>\n",
              "      <td>False</td>\n",
              "      <td>...</td>\n",
              "      <td>0</td>\n",
              "      <td>Санкт-Петербург</td>\n",
              "      <td>18863.0</td>\n",
              "      <td>16028.0</td>\n",
              "      <td>1.0</td>\n",
              "      <td>482.0</td>\n",
              "      <td>2.0</td>\n",
              "      <td>755.0</td>\n",
              "      <td>0</td>\n",
              "      <td>120370.37</td>\n",
              "    </tr>\n",
              "    <tr>\n",
              "      <th>1</th>\n",
              "      <td>7</td>\n",
              "      <td>3350000.0</td>\n",
              "      <td>40.40</td>\n",
              "      <td>2018-12-04</td>\n",
              "      <td>1</td>\n",
              "      <td>NaN</td>\n",
              "      <td>11.0</td>\n",
              "      <td>18.6</td>\n",
              "      <td>1</td>\n",
              "      <td>False</td>\n",
              "      <td>...</td>\n",
              "      <td>2</td>\n",
              "      <td>посёлок Шушары</td>\n",
              "      <td>12817.0</td>\n",
              "      <td>18603.0</td>\n",
              "      <td>0.0</td>\n",
              "      <td>NaN</td>\n",
              "      <td>0.0</td>\n",
              "      <td>NaN</td>\n",
              "      <td>81</td>\n",
              "      <td>82920.79</td>\n",
              "    </tr>\n",
              "    <tr>\n",
              "      <th>2</th>\n",
              "      <td>10</td>\n",
              "      <td>5196000.0</td>\n",
              "      <td>56.00</td>\n",
              "      <td>2015-08-20</td>\n",
              "      <td>2</td>\n",
              "      <td>NaN</td>\n",
              "      <td>5.0</td>\n",
              "      <td>34.3</td>\n",
              "      <td>4</td>\n",
              "      <td>False</td>\n",
              "      <td>...</td>\n",
              "      <td>0</td>\n",
              "      <td>Санкт-Петербург</td>\n",
              "      <td>21741.0</td>\n",
              "      <td>13933.0</td>\n",
              "      <td>1.0</td>\n",
              "      <td>90.0</td>\n",
              "      <td>2.0</td>\n",
              "      <td>574.0</td>\n",
              "      <td>558</td>\n",
              "      <td>92785.71</td>\n",
              "    </tr>\n",
              "    <tr>\n",
              "      <th>3</th>\n",
              "      <td>0</td>\n",
              "      <td>64900000.0</td>\n",
              "      <td>159.00</td>\n",
              "      <td>2015-07-24</td>\n",
              "      <td>3</td>\n",
              "      <td>NaN</td>\n",
              "      <td>14.0</td>\n",
              "      <td>NaN</td>\n",
              "      <td>9</td>\n",
              "      <td>False</td>\n",
              "      <td>...</td>\n",
              "      <td>0</td>\n",
              "      <td>Санкт-Петербург</td>\n",
              "      <td>28098.0</td>\n",
              "      <td>6800.0</td>\n",
              "      <td>2.0</td>\n",
              "      <td>84.0</td>\n",
              "      <td>3.0</td>\n",
              "      <td>234.0</td>\n",
              "      <td>424</td>\n",
              "      <td>408176.10</td>\n",
              "    </tr>\n",
              "    <tr>\n",
              "      <th>4</th>\n",
              "      <td>2</td>\n",
              "      <td>10000000.0</td>\n",
              "      <td>100.00</td>\n",
              "      <td>2018-06-19</td>\n",
              "      <td>2</td>\n",
              "      <td>3.03</td>\n",
              "      <td>14.0</td>\n",
              "      <td>32.0</td>\n",
              "      <td>13</td>\n",
              "      <td>False</td>\n",
              "      <td>...</td>\n",
              "      <td>0</td>\n",
              "      <td>Санкт-Петербург</td>\n",
              "      <td>31856.0</td>\n",
              "      <td>8098.0</td>\n",
              "      <td>2.0</td>\n",
              "      <td>112.0</td>\n",
              "      <td>1.0</td>\n",
              "      <td>48.0</td>\n",
              "      <td>121</td>\n",
              "      <td>100000.00</td>\n",
              "    </tr>\n",
              "    <tr>\n",
              "      <th>...</th>\n",
              "      <td>...</td>\n",
              "      <td>...</td>\n",
              "      <td>...</td>\n",
              "      <td>...</td>\n",
              "      <td>...</td>\n",
              "      <td>...</td>\n",
              "      <td>...</td>\n",
              "      <td>...</td>\n",
              "      <td>...</td>\n",
              "      <td>...</td>\n",
              "      <td>...</td>\n",
              "      <td>...</td>\n",
              "      <td>...</td>\n",
              "      <td>...</td>\n",
              "      <td>...</td>\n",
              "      <td>...</td>\n",
              "      <td>...</td>\n",
              "      <td>...</td>\n",
              "      <td>...</td>\n",
              "      <td>...</td>\n",
              "      <td>...</td>\n",
              "    </tr>\n",
              "    <tr>\n",
              "      <th>23694</th>\n",
              "      <td>9</td>\n",
              "      <td>9700000.0</td>\n",
              "      <td>133.81</td>\n",
              "      <td>2017-03-21</td>\n",
              "      <td>3</td>\n",
              "      <td>3.70</td>\n",
              "      <td>5.0</td>\n",
              "      <td>73.3</td>\n",
              "      <td>3</td>\n",
              "      <td>False</td>\n",
              "      <td>...</td>\n",
              "      <td>0</td>\n",
              "      <td>Санкт-Петербург</td>\n",
              "      <td>24665.0</td>\n",
              "      <td>4232.0</td>\n",
              "      <td>1.0</td>\n",
              "      <td>796.0</td>\n",
              "      <td>3.0</td>\n",
              "      <td>381.0</td>\n",
              "      <td>0</td>\n",
              "      <td>72490.85</td>\n",
              "    </tr>\n",
              "    <tr>\n",
              "      <th>23695</th>\n",
              "      <td>14</td>\n",
              "      <td>3100000.0</td>\n",
              "      <td>59.00</td>\n",
              "      <td>2018-01-15</td>\n",
              "      <td>3</td>\n",
              "      <td>NaN</td>\n",
              "      <td>5.0</td>\n",
              "      <td>38.0</td>\n",
              "      <td>4</td>\n",
              "      <td>False</td>\n",
              "      <td>...</td>\n",
              "      <td>0</td>\n",
              "      <td>Тосно</td>\n",
              "      <td>NaN</td>\n",
              "      <td>NaN</td>\n",
              "      <td>NaN</td>\n",
              "      <td>NaN</td>\n",
              "      <td>NaN</td>\n",
              "      <td>NaN</td>\n",
              "      <td>45</td>\n",
              "      <td>52542.37</td>\n",
              "    </tr>\n",
              "    <tr>\n",
              "      <th>23696</th>\n",
              "      <td>18</td>\n",
              "      <td>2500000.0</td>\n",
              "      <td>56.70</td>\n",
              "      <td>2018-02-11</td>\n",
              "      <td>2</td>\n",
              "      <td>NaN</td>\n",
              "      <td>3.0</td>\n",
              "      <td>29.7</td>\n",
              "      <td>1</td>\n",
              "      <td>False</td>\n",
              "      <td>...</td>\n",
              "      <td>0</td>\n",
              "      <td>село Рождествено</td>\n",
              "      <td>NaN</td>\n",
              "      <td>NaN</td>\n",
              "      <td>NaN</td>\n",
              "      <td>NaN</td>\n",
              "      <td>NaN</td>\n",
              "      <td>NaN</td>\n",
              "      <td>0</td>\n",
              "      <td>44091.71</td>\n",
              "    </tr>\n",
              "    <tr>\n",
              "      <th>23697</th>\n",
              "      <td>13</td>\n",
              "      <td>11475000.0</td>\n",
              "      <td>76.75</td>\n",
              "      <td>2017-03-28</td>\n",
              "      <td>2</td>\n",
              "      <td>3.00</td>\n",
              "      <td>17.0</td>\n",
              "      <td>NaN</td>\n",
              "      <td>12</td>\n",
              "      <td>False</td>\n",
              "      <td>...</td>\n",
              "      <td>2</td>\n",
              "      <td>Санкт-Петербург</td>\n",
              "      <td>39140.0</td>\n",
              "      <td>10364.0</td>\n",
              "      <td>2.0</td>\n",
              "      <td>173.0</td>\n",
              "      <td>3.0</td>\n",
              "      <td>196.0</td>\n",
              "      <td>602</td>\n",
              "      <td>149511.40</td>\n",
              "    </tr>\n",
              "    <tr>\n",
              "      <th>23698</th>\n",
              "      <td>4</td>\n",
              "      <td>1350000.0</td>\n",
              "      <td>32.30</td>\n",
              "      <td>2017-07-21</td>\n",
              "      <td>1</td>\n",
              "      <td>2.50</td>\n",
              "      <td>5.0</td>\n",
              "      <td>12.3</td>\n",
              "      <td>1</td>\n",
              "      <td>False</td>\n",
              "      <td>...</td>\n",
              "      <td>0</td>\n",
              "      <td>посёлок Новый Учхоз</td>\n",
              "      <td>NaN</td>\n",
              "      <td>NaN</td>\n",
              "      <td>NaN</td>\n",
              "      <td>NaN</td>\n",
              "      <td>NaN</td>\n",
              "      <td>NaN</td>\n",
              "      <td>0</td>\n",
              "      <td>41795.67</td>\n",
              "    </tr>\n",
              "  </tbody>\n",
              "</table>\n",
              "<p>23650 rows × 23 columns</p>\n",
              "</div>"
            ],
            "text/plain": [
              "       total_images  last_price  total_area first_day_exposition  rooms  \\\n",
              "0                20  13000000.0      108.00           2019-03-07      3   \n",
              "1                 7   3350000.0       40.40           2018-12-04      1   \n",
              "2                10   5196000.0       56.00           2015-08-20      2   \n",
              "3                 0  64900000.0      159.00           2015-07-24      3   \n",
              "4                 2  10000000.0      100.00           2018-06-19      2   \n",
              "...             ...         ...         ...                  ...    ...   \n",
              "23694             9   9700000.0      133.81           2017-03-21      3   \n",
              "23695            14   3100000.0       59.00           2018-01-15      3   \n",
              "23696            18   2500000.0       56.70           2018-02-11      2   \n",
              "23697            13  11475000.0       76.75           2017-03-28      2   \n",
              "23698             4   1350000.0       32.30           2017-07-21      1   \n",
              "\n",
              "       ceiling_height  floors_total  living_area  floor  is_apartment  ...  \\\n",
              "0                2.70          16.0         51.0      8         False  ...   \n",
              "1                 NaN          11.0         18.6      1         False  ...   \n",
              "2                 NaN           5.0         34.3      4         False  ...   \n",
              "3                 NaN          14.0          NaN      9         False  ...   \n",
              "4                3.03          14.0         32.0     13         False  ...   \n",
              "...               ...           ...          ...    ...           ...  ...   \n",
              "23694            3.70           5.0         73.3      3         False  ...   \n",
              "23695             NaN           5.0         38.0      4         False  ...   \n",
              "23696             NaN           3.0         29.7      1         False  ...   \n",
              "23697            3.00          17.0          NaN     12         False  ...   \n",
              "23698            2.50           5.0         12.3      1         False  ...   \n",
              "\n",
              "       balcony        locality_name  airports_nearest  city_centers_nearest  \\\n",
              "0            0      Санкт-Петербург           18863.0               16028.0   \n",
              "1            2       посёлок Шушары           12817.0               18603.0   \n",
              "2            0      Санкт-Петербург           21741.0               13933.0   \n",
              "3            0      Санкт-Петербург           28098.0                6800.0   \n",
              "4            0      Санкт-Петербург           31856.0                8098.0   \n",
              "...        ...                  ...               ...                   ...   \n",
              "23694        0      Санкт-Петербург           24665.0                4232.0   \n",
              "23695        0                Тосно               NaN                   NaN   \n",
              "23696        0     село Рождествено               NaN                   NaN   \n",
              "23697        2      Санкт-Петербург           39140.0               10364.0   \n",
              "23698        0  посёлок Новый Учхоз               NaN                   NaN   \n",
              "\n",
              "      parks_around_3000  parks_nearest  ponds_around_3000  ponds_nearest  \\\n",
              "0                   1.0          482.0                2.0          755.0   \n",
              "1                   0.0            NaN                0.0            NaN   \n",
              "2                   1.0           90.0                2.0          574.0   \n",
              "3                   2.0           84.0                3.0          234.0   \n",
              "4                   2.0          112.0                1.0           48.0   \n",
              "...                 ...            ...                ...            ...   \n",
              "23694               1.0          796.0                3.0          381.0   \n",
              "23695               NaN            NaN                NaN            NaN   \n",
              "23696               NaN            NaN                NaN            NaN   \n",
              "23697               2.0          173.0                3.0          196.0   \n",
              "23698               NaN            NaN                NaN            NaN   \n",
              "\n",
              "       days_exposition  price_1_meter  \n",
              "0                    0      120370.37  \n",
              "1                   81       82920.79  \n",
              "2                  558       92785.71  \n",
              "3                  424      408176.10  \n",
              "4                  121      100000.00  \n",
              "...                ...            ...  \n",
              "23694                0       72490.85  \n",
              "23695               45       52542.37  \n",
              "23696                0       44091.71  \n",
              "23697              602      149511.40  \n",
              "23698                0       41795.67  \n",
              "\n",
              "[23650 rows x 23 columns]"
            ]
          },
          "execution_count": 17,
          "metadata": {},
          "output_type": "execute_result"
        }
      ],
      "source": [
        "#добавляем столбец с ценой одного квадратного метра и округляем до 2-х знаков после запятой\n",
        "data['price_1_meter'] = round((data['last_price'] / data['total_area']), 2)\n",
        "\n",
        "#проверяем\n",
        "data"
      ]
    },
    {
      "cell_type": "markdown",
      "metadata": {
        "id": "sDKPPb_rZfXP"
      },
      "source": [
        "**Шаг 3.2. Добавляем в data параметры: день недели публикации объявления (0 — понедельник, 1 — вторник и так далее); месяц публикации объявления; год публикации объявления**"
      ]
    },
    {
      "cell_type": "code",
      "execution_count": null,
      "metadata": {
        "id": "Ie6tHRkZZfXP",
        "outputId": "b65af9c3-4f2f-42ba-da8d-f442e7504a9f"
      },
      "outputs": [
        {
          "data": {
            "text/html": [
              "<div>\n",
              "<style scoped>\n",
              "    .dataframe tbody tr th:only-of-type {\n",
              "        vertical-align: middle;\n",
              "    }\n",
              "\n",
              "    .dataframe tbody tr th {\n",
              "        vertical-align: top;\n",
              "    }\n",
              "\n",
              "    .dataframe thead th {\n",
              "        text-align: right;\n",
              "    }\n",
              "</style>\n",
              "<table border=\"1\" class=\"dataframe\">\n",
              "  <thead>\n",
              "    <tr style=\"text-align: right;\">\n",
              "      <th></th>\n",
              "      <th>total_images</th>\n",
              "      <th>last_price</th>\n",
              "      <th>total_area</th>\n",
              "      <th>first_day_exposition</th>\n",
              "      <th>rooms</th>\n",
              "      <th>ceiling_height</th>\n",
              "      <th>floors_total</th>\n",
              "      <th>living_area</th>\n",
              "      <th>floor</th>\n",
              "      <th>is_apartment</th>\n",
              "      <th>...</th>\n",
              "      <th>city_centers_nearest</th>\n",
              "      <th>parks_around_3000</th>\n",
              "      <th>parks_nearest</th>\n",
              "      <th>ponds_around_3000</th>\n",
              "      <th>ponds_nearest</th>\n",
              "      <th>days_exposition</th>\n",
              "      <th>price_1_meter</th>\n",
              "      <th>weekday_exposition</th>\n",
              "      <th>month_exposition</th>\n",
              "      <th>year_exposition</th>\n",
              "    </tr>\n",
              "  </thead>\n",
              "  <tbody>\n",
              "    <tr>\n",
              "      <th>0</th>\n",
              "      <td>20</td>\n",
              "      <td>13000000.0</td>\n",
              "      <td>108.00</td>\n",
              "      <td>2019-03-07</td>\n",
              "      <td>3</td>\n",
              "      <td>2.70</td>\n",
              "      <td>16.0</td>\n",
              "      <td>51.0</td>\n",
              "      <td>8</td>\n",
              "      <td>False</td>\n",
              "      <td>...</td>\n",
              "      <td>16028.0</td>\n",
              "      <td>1.0</td>\n",
              "      <td>482.0</td>\n",
              "      <td>2.0</td>\n",
              "      <td>755.0</td>\n",
              "      <td>0</td>\n",
              "      <td>120370.37</td>\n",
              "      <td>3</td>\n",
              "      <td>3</td>\n",
              "      <td>2019</td>\n",
              "    </tr>\n",
              "    <tr>\n",
              "      <th>1</th>\n",
              "      <td>7</td>\n",
              "      <td>3350000.0</td>\n",
              "      <td>40.40</td>\n",
              "      <td>2018-12-04</td>\n",
              "      <td>1</td>\n",
              "      <td>NaN</td>\n",
              "      <td>11.0</td>\n",
              "      <td>18.6</td>\n",
              "      <td>1</td>\n",
              "      <td>False</td>\n",
              "      <td>...</td>\n",
              "      <td>18603.0</td>\n",
              "      <td>0.0</td>\n",
              "      <td>NaN</td>\n",
              "      <td>0.0</td>\n",
              "      <td>NaN</td>\n",
              "      <td>81</td>\n",
              "      <td>82920.79</td>\n",
              "      <td>1</td>\n",
              "      <td>12</td>\n",
              "      <td>2018</td>\n",
              "    </tr>\n",
              "    <tr>\n",
              "      <th>2</th>\n",
              "      <td>10</td>\n",
              "      <td>5196000.0</td>\n",
              "      <td>56.00</td>\n",
              "      <td>2015-08-20</td>\n",
              "      <td>2</td>\n",
              "      <td>NaN</td>\n",
              "      <td>5.0</td>\n",
              "      <td>34.3</td>\n",
              "      <td>4</td>\n",
              "      <td>False</td>\n",
              "      <td>...</td>\n",
              "      <td>13933.0</td>\n",
              "      <td>1.0</td>\n",
              "      <td>90.0</td>\n",
              "      <td>2.0</td>\n",
              "      <td>574.0</td>\n",
              "      <td>558</td>\n",
              "      <td>92785.71</td>\n",
              "      <td>3</td>\n",
              "      <td>8</td>\n",
              "      <td>2015</td>\n",
              "    </tr>\n",
              "    <tr>\n",
              "      <th>3</th>\n",
              "      <td>0</td>\n",
              "      <td>64900000.0</td>\n",
              "      <td>159.00</td>\n",
              "      <td>2015-07-24</td>\n",
              "      <td>3</td>\n",
              "      <td>NaN</td>\n",
              "      <td>14.0</td>\n",
              "      <td>NaN</td>\n",
              "      <td>9</td>\n",
              "      <td>False</td>\n",
              "      <td>...</td>\n",
              "      <td>6800.0</td>\n",
              "      <td>2.0</td>\n",
              "      <td>84.0</td>\n",
              "      <td>3.0</td>\n",
              "      <td>234.0</td>\n",
              "      <td>424</td>\n",
              "      <td>408176.10</td>\n",
              "      <td>4</td>\n",
              "      <td>7</td>\n",
              "      <td>2015</td>\n",
              "    </tr>\n",
              "    <tr>\n",
              "      <th>4</th>\n",
              "      <td>2</td>\n",
              "      <td>10000000.0</td>\n",
              "      <td>100.00</td>\n",
              "      <td>2018-06-19</td>\n",
              "      <td>2</td>\n",
              "      <td>3.03</td>\n",
              "      <td>14.0</td>\n",
              "      <td>32.0</td>\n",
              "      <td>13</td>\n",
              "      <td>False</td>\n",
              "      <td>...</td>\n",
              "      <td>8098.0</td>\n",
              "      <td>2.0</td>\n",
              "      <td>112.0</td>\n",
              "      <td>1.0</td>\n",
              "      <td>48.0</td>\n",
              "      <td>121</td>\n",
              "      <td>100000.00</td>\n",
              "      <td>1</td>\n",
              "      <td>6</td>\n",
              "      <td>2018</td>\n",
              "    </tr>\n",
              "    <tr>\n",
              "      <th>...</th>\n",
              "      <td>...</td>\n",
              "      <td>...</td>\n",
              "      <td>...</td>\n",
              "      <td>...</td>\n",
              "      <td>...</td>\n",
              "      <td>...</td>\n",
              "      <td>...</td>\n",
              "      <td>...</td>\n",
              "      <td>...</td>\n",
              "      <td>...</td>\n",
              "      <td>...</td>\n",
              "      <td>...</td>\n",
              "      <td>...</td>\n",
              "      <td>...</td>\n",
              "      <td>...</td>\n",
              "      <td>...</td>\n",
              "      <td>...</td>\n",
              "      <td>...</td>\n",
              "      <td>...</td>\n",
              "      <td>...</td>\n",
              "      <td>...</td>\n",
              "    </tr>\n",
              "    <tr>\n",
              "      <th>23694</th>\n",
              "      <td>9</td>\n",
              "      <td>9700000.0</td>\n",
              "      <td>133.81</td>\n",
              "      <td>2017-03-21</td>\n",
              "      <td>3</td>\n",
              "      <td>3.70</td>\n",
              "      <td>5.0</td>\n",
              "      <td>73.3</td>\n",
              "      <td>3</td>\n",
              "      <td>False</td>\n",
              "      <td>...</td>\n",
              "      <td>4232.0</td>\n",
              "      <td>1.0</td>\n",
              "      <td>796.0</td>\n",
              "      <td>3.0</td>\n",
              "      <td>381.0</td>\n",
              "      <td>0</td>\n",
              "      <td>72490.85</td>\n",
              "      <td>1</td>\n",
              "      <td>3</td>\n",
              "      <td>2017</td>\n",
              "    </tr>\n",
              "    <tr>\n",
              "      <th>23695</th>\n",
              "      <td>14</td>\n",
              "      <td>3100000.0</td>\n",
              "      <td>59.00</td>\n",
              "      <td>2018-01-15</td>\n",
              "      <td>3</td>\n",
              "      <td>NaN</td>\n",
              "      <td>5.0</td>\n",
              "      <td>38.0</td>\n",
              "      <td>4</td>\n",
              "      <td>False</td>\n",
              "      <td>...</td>\n",
              "      <td>NaN</td>\n",
              "      <td>NaN</td>\n",
              "      <td>NaN</td>\n",
              "      <td>NaN</td>\n",
              "      <td>NaN</td>\n",
              "      <td>45</td>\n",
              "      <td>52542.37</td>\n",
              "      <td>0</td>\n",
              "      <td>1</td>\n",
              "      <td>2018</td>\n",
              "    </tr>\n",
              "    <tr>\n",
              "      <th>23696</th>\n",
              "      <td>18</td>\n",
              "      <td>2500000.0</td>\n",
              "      <td>56.70</td>\n",
              "      <td>2018-02-11</td>\n",
              "      <td>2</td>\n",
              "      <td>NaN</td>\n",
              "      <td>3.0</td>\n",
              "      <td>29.7</td>\n",
              "      <td>1</td>\n",
              "      <td>False</td>\n",
              "      <td>...</td>\n",
              "      <td>NaN</td>\n",
              "      <td>NaN</td>\n",
              "      <td>NaN</td>\n",
              "      <td>NaN</td>\n",
              "      <td>NaN</td>\n",
              "      <td>0</td>\n",
              "      <td>44091.71</td>\n",
              "      <td>6</td>\n",
              "      <td>2</td>\n",
              "      <td>2018</td>\n",
              "    </tr>\n",
              "    <tr>\n",
              "      <th>23697</th>\n",
              "      <td>13</td>\n",
              "      <td>11475000.0</td>\n",
              "      <td>76.75</td>\n",
              "      <td>2017-03-28</td>\n",
              "      <td>2</td>\n",
              "      <td>3.00</td>\n",
              "      <td>17.0</td>\n",
              "      <td>NaN</td>\n",
              "      <td>12</td>\n",
              "      <td>False</td>\n",
              "      <td>...</td>\n",
              "      <td>10364.0</td>\n",
              "      <td>2.0</td>\n",
              "      <td>173.0</td>\n",
              "      <td>3.0</td>\n",
              "      <td>196.0</td>\n",
              "      <td>602</td>\n",
              "      <td>149511.40</td>\n",
              "      <td>1</td>\n",
              "      <td>3</td>\n",
              "      <td>2017</td>\n",
              "    </tr>\n",
              "    <tr>\n",
              "      <th>23698</th>\n",
              "      <td>4</td>\n",
              "      <td>1350000.0</td>\n",
              "      <td>32.30</td>\n",
              "      <td>2017-07-21</td>\n",
              "      <td>1</td>\n",
              "      <td>2.50</td>\n",
              "      <td>5.0</td>\n",
              "      <td>12.3</td>\n",
              "      <td>1</td>\n",
              "      <td>False</td>\n",
              "      <td>...</td>\n",
              "      <td>NaN</td>\n",
              "      <td>NaN</td>\n",
              "      <td>NaN</td>\n",
              "      <td>NaN</td>\n",
              "      <td>NaN</td>\n",
              "      <td>0</td>\n",
              "      <td>41795.67</td>\n",
              "      <td>4</td>\n",
              "      <td>7</td>\n",
              "      <td>2017</td>\n",
              "    </tr>\n",
              "  </tbody>\n",
              "</table>\n",
              "<p>23650 rows × 26 columns</p>\n",
              "</div>"
            ],
            "text/plain": [
              "       total_images  last_price  total_area first_day_exposition  rooms  \\\n",
              "0                20  13000000.0      108.00           2019-03-07      3   \n",
              "1                 7   3350000.0       40.40           2018-12-04      1   \n",
              "2                10   5196000.0       56.00           2015-08-20      2   \n",
              "3                 0  64900000.0      159.00           2015-07-24      3   \n",
              "4                 2  10000000.0      100.00           2018-06-19      2   \n",
              "...             ...         ...         ...                  ...    ...   \n",
              "23694             9   9700000.0      133.81           2017-03-21      3   \n",
              "23695            14   3100000.0       59.00           2018-01-15      3   \n",
              "23696            18   2500000.0       56.70           2018-02-11      2   \n",
              "23697            13  11475000.0       76.75           2017-03-28      2   \n",
              "23698             4   1350000.0       32.30           2017-07-21      1   \n",
              "\n",
              "       ceiling_height  floors_total  living_area  floor  is_apartment  ...  \\\n",
              "0                2.70          16.0         51.0      8         False  ...   \n",
              "1                 NaN          11.0         18.6      1         False  ...   \n",
              "2                 NaN           5.0         34.3      4         False  ...   \n",
              "3                 NaN          14.0          NaN      9         False  ...   \n",
              "4                3.03          14.0         32.0     13         False  ...   \n",
              "...               ...           ...          ...    ...           ...  ...   \n",
              "23694            3.70           5.0         73.3      3         False  ...   \n",
              "23695             NaN           5.0         38.0      4         False  ...   \n",
              "23696             NaN           3.0         29.7      1         False  ...   \n",
              "23697            3.00          17.0          NaN     12         False  ...   \n",
              "23698            2.50           5.0         12.3      1         False  ...   \n",
              "\n",
              "       city_centers_nearest  parks_around_3000  parks_nearest  \\\n",
              "0                   16028.0                1.0          482.0   \n",
              "1                   18603.0                0.0            NaN   \n",
              "2                   13933.0                1.0           90.0   \n",
              "3                    6800.0                2.0           84.0   \n",
              "4                    8098.0                2.0          112.0   \n",
              "...                     ...                ...            ...   \n",
              "23694                4232.0                1.0          796.0   \n",
              "23695                   NaN                NaN            NaN   \n",
              "23696                   NaN                NaN            NaN   \n",
              "23697               10364.0                2.0          173.0   \n",
              "23698                   NaN                NaN            NaN   \n",
              "\n",
              "       ponds_around_3000 ponds_nearest  days_exposition  price_1_meter  \\\n",
              "0                    2.0         755.0                0      120370.37   \n",
              "1                    0.0           NaN               81       82920.79   \n",
              "2                    2.0         574.0              558       92785.71   \n",
              "3                    3.0         234.0              424      408176.10   \n",
              "4                    1.0          48.0              121      100000.00   \n",
              "...                  ...           ...              ...            ...   \n",
              "23694                3.0         381.0                0       72490.85   \n",
              "23695                NaN           NaN               45       52542.37   \n",
              "23696                NaN           NaN                0       44091.71   \n",
              "23697                3.0         196.0              602      149511.40   \n",
              "23698                NaN           NaN                0       41795.67   \n",
              "\n",
              "       weekday_exposition  month_exposition  year_exposition  \n",
              "0                       3                 3             2019  \n",
              "1                       1                12             2018  \n",
              "2                       3                 8             2015  \n",
              "3                       4                 7             2015  \n",
              "4                       1                 6             2018  \n",
              "...                   ...               ...              ...  \n",
              "23694                   1                 3             2017  \n",
              "23695                   0                 1             2018  \n",
              "23696                   6                 2             2018  \n",
              "23697                   1                 3             2017  \n",
              "23698                   4                 7             2017  \n",
              "\n",
              "[23650 rows x 26 columns]"
            ]
          },
          "execution_count": 18,
          "metadata": {},
          "output_type": "execute_result"
        }
      ],
      "source": [
        "#добавляем столбец день недели\n",
        "data['weekday_exposition'] = data['first_day_exposition'].dt.weekday\n",
        "\n",
        "#добавляем столбец месяца\n",
        "data['month_exposition'] = data['first_day_exposition'].dt.month\n",
        "\n",
        "#добавляем столбец года\n",
        "data['year_exposition'] = data['first_day_exposition'].dt.year\n",
        "\n",
        "#проверяем\n",
        "data"
      ]
    },
    {
      "cell_type": "markdown",
      "metadata": {
        "id": "xkSf0_kCZfXP"
      },
      "source": [
        "**Шаг 3.3. Добавляем в data параметр: тип этажа квартиры (значения — «первый», «последний», «другой»)**"
      ]
    },
    {
      "cell_type": "code",
      "execution_count": null,
      "metadata": {
        "id": "mQm2CK5bZfXP",
        "outputId": "8c78da3b-dbfe-4523-ba54-5a43032cf27a"
      },
      "outputs": [
        {
          "data": {
            "text/html": [
              "<div>\n",
              "<style scoped>\n",
              "    .dataframe tbody tr th:only-of-type {\n",
              "        vertical-align: middle;\n",
              "    }\n",
              "\n",
              "    .dataframe tbody tr th {\n",
              "        vertical-align: top;\n",
              "    }\n",
              "\n",
              "    .dataframe thead th {\n",
              "        text-align: right;\n",
              "    }\n",
              "</style>\n",
              "<table border=\"1\" class=\"dataframe\">\n",
              "  <thead>\n",
              "    <tr style=\"text-align: right;\">\n",
              "      <th></th>\n",
              "      <th>total_images</th>\n",
              "      <th>last_price</th>\n",
              "      <th>total_area</th>\n",
              "      <th>first_day_exposition</th>\n",
              "      <th>rooms</th>\n",
              "      <th>ceiling_height</th>\n",
              "      <th>floors_total</th>\n",
              "      <th>living_area</th>\n",
              "      <th>floor</th>\n",
              "      <th>is_apartment</th>\n",
              "      <th>...</th>\n",
              "      <th>parks_around_3000</th>\n",
              "      <th>parks_nearest</th>\n",
              "      <th>ponds_around_3000</th>\n",
              "      <th>ponds_nearest</th>\n",
              "      <th>days_exposition</th>\n",
              "      <th>price_1_meter</th>\n",
              "      <th>weekday_exposition</th>\n",
              "      <th>month_exposition</th>\n",
              "      <th>year_exposition</th>\n",
              "      <th>floor_category</th>\n",
              "    </tr>\n",
              "  </thead>\n",
              "  <tbody>\n",
              "    <tr>\n",
              "      <th>0</th>\n",
              "      <td>20</td>\n",
              "      <td>13000000.0</td>\n",
              "      <td>108.00</td>\n",
              "      <td>2019-03-07</td>\n",
              "      <td>3</td>\n",
              "      <td>2.70</td>\n",
              "      <td>16.0</td>\n",
              "      <td>51.0</td>\n",
              "      <td>8</td>\n",
              "      <td>False</td>\n",
              "      <td>...</td>\n",
              "      <td>1.0</td>\n",
              "      <td>482.0</td>\n",
              "      <td>2.0</td>\n",
              "      <td>755.0</td>\n",
              "      <td>0</td>\n",
              "      <td>120370.37</td>\n",
              "      <td>3</td>\n",
              "      <td>3</td>\n",
              "      <td>2019</td>\n",
              "      <td>другой</td>\n",
              "    </tr>\n",
              "    <tr>\n",
              "      <th>1</th>\n",
              "      <td>7</td>\n",
              "      <td>3350000.0</td>\n",
              "      <td>40.40</td>\n",
              "      <td>2018-12-04</td>\n",
              "      <td>1</td>\n",
              "      <td>NaN</td>\n",
              "      <td>11.0</td>\n",
              "      <td>18.6</td>\n",
              "      <td>1</td>\n",
              "      <td>False</td>\n",
              "      <td>...</td>\n",
              "      <td>0.0</td>\n",
              "      <td>NaN</td>\n",
              "      <td>0.0</td>\n",
              "      <td>NaN</td>\n",
              "      <td>81</td>\n",
              "      <td>82920.79</td>\n",
              "      <td>1</td>\n",
              "      <td>12</td>\n",
              "      <td>2018</td>\n",
              "      <td>первый</td>\n",
              "    </tr>\n",
              "    <tr>\n",
              "      <th>2</th>\n",
              "      <td>10</td>\n",
              "      <td>5196000.0</td>\n",
              "      <td>56.00</td>\n",
              "      <td>2015-08-20</td>\n",
              "      <td>2</td>\n",
              "      <td>NaN</td>\n",
              "      <td>5.0</td>\n",
              "      <td>34.3</td>\n",
              "      <td>4</td>\n",
              "      <td>False</td>\n",
              "      <td>...</td>\n",
              "      <td>1.0</td>\n",
              "      <td>90.0</td>\n",
              "      <td>2.0</td>\n",
              "      <td>574.0</td>\n",
              "      <td>558</td>\n",
              "      <td>92785.71</td>\n",
              "      <td>3</td>\n",
              "      <td>8</td>\n",
              "      <td>2015</td>\n",
              "      <td>другой</td>\n",
              "    </tr>\n",
              "    <tr>\n",
              "      <th>3</th>\n",
              "      <td>0</td>\n",
              "      <td>64900000.0</td>\n",
              "      <td>159.00</td>\n",
              "      <td>2015-07-24</td>\n",
              "      <td>3</td>\n",
              "      <td>NaN</td>\n",
              "      <td>14.0</td>\n",
              "      <td>NaN</td>\n",
              "      <td>9</td>\n",
              "      <td>False</td>\n",
              "      <td>...</td>\n",
              "      <td>2.0</td>\n",
              "      <td>84.0</td>\n",
              "      <td>3.0</td>\n",
              "      <td>234.0</td>\n",
              "      <td>424</td>\n",
              "      <td>408176.10</td>\n",
              "      <td>4</td>\n",
              "      <td>7</td>\n",
              "      <td>2015</td>\n",
              "      <td>другой</td>\n",
              "    </tr>\n",
              "    <tr>\n",
              "      <th>4</th>\n",
              "      <td>2</td>\n",
              "      <td>10000000.0</td>\n",
              "      <td>100.00</td>\n",
              "      <td>2018-06-19</td>\n",
              "      <td>2</td>\n",
              "      <td>3.03</td>\n",
              "      <td>14.0</td>\n",
              "      <td>32.0</td>\n",
              "      <td>13</td>\n",
              "      <td>False</td>\n",
              "      <td>...</td>\n",
              "      <td>2.0</td>\n",
              "      <td>112.0</td>\n",
              "      <td>1.0</td>\n",
              "      <td>48.0</td>\n",
              "      <td>121</td>\n",
              "      <td>100000.00</td>\n",
              "      <td>1</td>\n",
              "      <td>6</td>\n",
              "      <td>2018</td>\n",
              "      <td>другой</td>\n",
              "    </tr>\n",
              "    <tr>\n",
              "      <th>...</th>\n",
              "      <td>...</td>\n",
              "      <td>...</td>\n",
              "      <td>...</td>\n",
              "      <td>...</td>\n",
              "      <td>...</td>\n",
              "      <td>...</td>\n",
              "      <td>...</td>\n",
              "      <td>...</td>\n",
              "      <td>...</td>\n",
              "      <td>...</td>\n",
              "      <td>...</td>\n",
              "      <td>...</td>\n",
              "      <td>...</td>\n",
              "      <td>...</td>\n",
              "      <td>...</td>\n",
              "      <td>...</td>\n",
              "      <td>...</td>\n",
              "      <td>...</td>\n",
              "      <td>...</td>\n",
              "      <td>...</td>\n",
              "      <td>...</td>\n",
              "    </tr>\n",
              "    <tr>\n",
              "      <th>23694</th>\n",
              "      <td>9</td>\n",
              "      <td>9700000.0</td>\n",
              "      <td>133.81</td>\n",
              "      <td>2017-03-21</td>\n",
              "      <td>3</td>\n",
              "      <td>3.70</td>\n",
              "      <td>5.0</td>\n",
              "      <td>73.3</td>\n",
              "      <td>3</td>\n",
              "      <td>False</td>\n",
              "      <td>...</td>\n",
              "      <td>1.0</td>\n",
              "      <td>796.0</td>\n",
              "      <td>3.0</td>\n",
              "      <td>381.0</td>\n",
              "      <td>0</td>\n",
              "      <td>72490.85</td>\n",
              "      <td>1</td>\n",
              "      <td>3</td>\n",
              "      <td>2017</td>\n",
              "      <td>другой</td>\n",
              "    </tr>\n",
              "    <tr>\n",
              "      <th>23695</th>\n",
              "      <td>14</td>\n",
              "      <td>3100000.0</td>\n",
              "      <td>59.00</td>\n",
              "      <td>2018-01-15</td>\n",
              "      <td>3</td>\n",
              "      <td>NaN</td>\n",
              "      <td>5.0</td>\n",
              "      <td>38.0</td>\n",
              "      <td>4</td>\n",
              "      <td>False</td>\n",
              "      <td>...</td>\n",
              "      <td>NaN</td>\n",
              "      <td>NaN</td>\n",
              "      <td>NaN</td>\n",
              "      <td>NaN</td>\n",
              "      <td>45</td>\n",
              "      <td>52542.37</td>\n",
              "      <td>0</td>\n",
              "      <td>1</td>\n",
              "      <td>2018</td>\n",
              "      <td>другой</td>\n",
              "    </tr>\n",
              "    <tr>\n",
              "      <th>23696</th>\n",
              "      <td>18</td>\n",
              "      <td>2500000.0</td>\n",
              "      <td>56.70</td>\n",
              "      <td>2018-02-11</td>\n",
              "      <td>2</td>\n",
              "      <td>NaN</td>\n",
              "      <td>3.0</td>\n",
              "      <td>29.7</td>\n",
              "      <td>1</td>\n",
              "      <td>False</td>\n",
              "      <td>...</td>\n",
              "      <td>NaN</td>\n",
              "      <td>NaN</td>\n",
              "      <td>NaN</td>\n",
              "      <td>NaN</td>\n",
              "      <td>0</td>\n",
              "      <td>44091.71</td>\n",
              "      <td>6</td>\n",
              "      <td>2</td>\n",
              "      <td>2018</td>\n",
              "      <td>первый</td>\n",
              "    </tr>\n",
              "    <tr>\n",
              "      <th>23697</th>\n",
              "      <td>13</td>\n",
              "      <td>11475000.0</td>\n",
              "      <td>76.75</td>\n",
              "      <td>2017-03-28</td>\n",
              "      <td>2</td>\n",
              "      <td>3.00</td>\n",
              "      <td>17.0</td>\n",
              "      <td>NaN</td>\n",
              "      <td>12</td>\n",
              "      <td>False</td>\n",
              "      <td>...</td>\n",
              "      <td>2.0</td>\n",
              "      <td>173.0</td>\n",
              "      <td>3.0</td>\n",
              "      <td>196.0</td>\n",
              "      <td>602</td>\n",
              "      <td>149511.40</td>\n",
              "      <td>1</td>\n",
              "      <td>3</td>\n",
              "      <td>2017</td>\n",
              "      <td>другой</td>\n",
              "    </tr>\n",
              "    <tr>\n",
              "      <th>23698</th>\n",
              "      <td>4</td>\n",
              "      <td>1350000.0</td>\n",
              "      <td>32.30</td>\n",
              "      <td>2017-07-21</td>\n",
              "      <td>1</td>\n",
              "      <td>2.50</td>\n",
              "      <td>5.0</td>\n",
              "      <td>12.3</td>\n",
              "      <td>1</td>\n",
              "      <td>False</td>\n",
              "      <td>...</td>\n",
              "      <td>NaN</td>\n",
              "      <td>NaN</td>\n",
              "      <td>NaN</td>\n",
              "      <td>NaN</td>\n",
              "      <td>0</td>\n",
              "      <td>41795.67</td>\n",
              "      <td>4</td>\n",
              "      <td>7</td>\n",
              "      <td>2017</td>\n",
              "      <td>первый</td>\n",
              "    </tr>\n",
              "  </tbody>\n",
              "</table>\n",
              "<p>23650 rows × 27 columns</p>\n",
              "</div>"
            ],
            "text/plain": [
              "       total_images  last_price  total_area first_day_exposition  rooms  \\\n",
              "0                20  13000000.0      108.00           2019-03-07      3   \n",
              "1                 7   3350000.0       40.40           2018-12-04      1   \n",
              "2                10   5196000.0       56.00           2015-08-20      2   \n",
              "3                 0  64900000.0      159.00           2015-07-24      3   \n",
              "4                 2  10000000.0      100.00           2018-06-19      2   \n",
              "...             ...         ...         ...                  ...    ...   \n",
              "23694             9   9700000.0      133.81           2017-03-21      3   \n",
              "23695            14   3100000.0       59.00           2018-01-15      3   \n",
              "23696            18   2500000.0       56.70           2018-02-11      2   \n",
              "23697            13  11475000.0       76.75           2017-03-28      2   \n",
              "23698             4   1350000.0       32.30           2017-07-21      1   \n",
              "\n",
              "       ceiling_height  floors_total  living_area  floor  is_apartment  ...  \\\n",
              "0                2.70          16.0         51.0      8         False  ...   \n",
              "1                 NaN          11.0         18.6      1         False  ...   \n",
              "2                 NaN           5.0         34.3      4         False  ...   \n",
              "3                 NaN          14.0          NaN      9         False  ...   \n",
              "4                3.03          14.0         32.0     13         False  ...   \n",
              "...               ...           ...          ...    ...           ...  ...   \n",
              "23694            3.70           5.0         73.3      3         False  ...   \n",
              "23695             NaN           5.0         38.0      4         False  ...   \n",
              "23696             NaN           3.0         29.7      1         False  ...   \n",
              "23697            3.00          17.0          NaN     12         False  ...   \n",
              "23698            2.50           5.0         12.3      1         False  ...   \n",
              "\n",
              "       parks_around_3000  parks_nearest  ponds_around_3000  ponds_nearest  \\\n",
              "0                    1.0          482.0                2.0          755.0   \n",
              "1                    0.0            NaN                0.0            NaN   \n",
              "2                    1.0           90.0                2.0          574.0   \n",
              "3                    2.0           84.0                3.0          234.0   \n",
              "4                    2.0          112.0                1.0           48.0   \n",
              "...                  ...            ...                ...            ...   \n",
              "23694                1.0          796.0                3.0          381.0   \n",
              "23695                NaN            NaN                NaN            NaN   \n",
              "23696                NaN            NaN                NaN            NaN   \n",
              "23697                2.0          173.0                3.0          196.0   \n",
              "23698                NaN            NaN                NaN            NaN   \n",
              "\n",
              "      days_exposition  price_1_meter  weekday_exposition  month_exposition  \\\n",
              "0                   0      120370.37                   3                 3   \n",
              "1                  81       82920.79                   1                12   \n",
              "2                 558       92785.71                   3                 8   \n",
              "3                 424      408176.10                   4                 7   \n",
              "4                 121      100000.00                   1                 6   \n",
              "...               ...            ...                 ...               ...   \n",
              "23694               0       72490.85                   1                 3   \n",
              "23695              45       52542.37                   0                 1   \n",
              "23696               0       44091.71                   6                 2   \n",
              "23697             602      149511.40                   1                 3   \n",
              "23698               0       41795.67                   4                 7   \n",
              "\n",
              "       year_exposition  floor_category  \n",
              "0                 2019          другой  \n",
              "1                 2018          первый  \n",
              "2                 2015          другой  \n",
              "3                 2015          другой  \n",
              "4                 2018          другой  \n",
              "...                ...             ...  \n",
              "23694             2017          другой  \n",
              "23695             2018          другой  \n",
              "23696             2018          первый  \n",
              "23697             2017          другой  \n",
              "23698             2017          первый  \n",
              "\n",
              "[23650 rows x 27 columns]"
            ]
          },
          "execution_count": 19,
          "metadata": {},
          "output_type": "execute_result"
        }
      ],
      "source": [
        "def floor_category(row):\n",
        "    floors_total = row['floors_total']\n",
        "    floor = row['floor']\n",
        "    if floor == 1:\n",
        "        return 'первый'\n",
        "    elif floor == floors_total:\n",
        "        return 'последний'\n",
        "    elif 1 < floor < floors_total:\n",
        "        return 'другой'\n",
        "\n",
        "data['floor_category'] = data.apply(floor_category, axis = 1)\n",
        "\n",
        "#проверяем\n",
        "data"
      ]
    },
    {
      "cell_type": "markdown",
      "metadata": {
        "id": "Ca45t3-GZfXQ"
      },
      "source": [
        "<div class=\"alert alert-success\">\n",
        "<b>Комментарий ревьюера:</b>☀️\n",
        "    \n",
        "Корректнейшая функция, только подскажу, что последний `elif 1 < floor < floors_total:` можно опустить, так как все остальные условия были перечислены явно ранее"
      ]
    },
    {
      "cell_type": "markdown",
      "metadata": {
        "id": "vUK-v9R0ZfXQ"
      },
      "source": [
        "**Шаг 3.4. Добавляем в data параметр: расстояние до центра города в километрах (переведем из м в км и округлим до ближайших целых значений)**"
      ]
    },
    {
      "cell_type": "code",
      "execution_count": null,
      "metadata": {
        "id": "cH2o1WLZZfXQ",
        "outputId": "64b0fee6-2e6f-45db-daf6-d7c10cf84510"
      },
      "outputs": [
        {
          "data": {
            "text/html": [
              "<div>\n",
              "<style scoped>\n",
              "    .dataframe tbody tr th:only-of-type {\n",
              "        vertical-align: middle;\n",
              "    }\n",
              "\n",
              "    .dataframe tbody tr th {\n",
              "        vertical-align: top;\n",
              "    }\n",
              "\n",
              "    .dataframe thead th {\n",
              "        text-align: right;\n",
              "    }\n",
              "</style>\n",
              "<table border=\"1\" class=\"dataframe\">\n",
              "  <thead>\n",
              "    <tr style=\"text-align: right;\">\n",
              "      <th></th>\n",
              "      <th>total_images</th>\n",
              "      <th>last_price</th>\n",
              "      <th>total_area</th>\n",
              "      <th>first_day_exposition</th>\n",
              "      <th>rooms</th>\n",
              "      <th>ceiling_height</th>\n",
              "      <th>floors_total</th>\n",
              "      <th>living_area</th>\n",
              "      <th>floor</th>\n",
              "      <th>is_apartment</th>\n",
              "      <th>...</th>\n",
              "      <th>parks_nearest</th>\n",
              "      <th>ponds_around_3000</th>\n",
              "      <th>ponds_nearest</th>\n",
              "      <th>days_exposition</th>\n",
              "      <th>price_1_meter</th>\n",
              "      <th>weekday_exposition</th>\n",
              "      <th>month_exposition</th>\n",
              "      <th>year_exposition</th>\n",
              "      <th>floor_category</th>\n",
              "      <th>city_centers_nearest_km</th>\n",
              "    </tr>\n",
              "  </thead>\n",
              "  <tbody>\n",
              "    <tr>\n",
              "      <th>0</th>\n",
              "      <td>20</td>\n",
              "      <td>13000000.0</td>\n",
              "      <td>108.00</td>\n",
              "      <td>2019-03-07</td>\n",
              "      <td>3</td>\n",
              "      <td>2.70</td>\n",
              "      <td>16.0</td>\n",
              "      <td>51.0</td>\n",
              "      <td>8</td>\n",
              "      <td>False</td>\n",
              "      <td>...</td>\n",
              "      <td>482.0</td>\n",
              "      <td>2.0</td>\n",
              "      <td>755.0</td>\n",
              "      <td>0</td>\n",
              "      <td>120370.37</td>\n",
              "      <td>3</td>\n",
              "      <td>3</td>\n",
              "      <td>2019</td>\n",
              "      <td>другой</td>\n",
              "      <td>16.0</td>\n",
              "    </tr>\n",
              "    <tr>\n",
              "      <th>1</th>\n",
              "      <td>7</td>\n",
              "      <td>3350000.0</td>\n",
              "      <td>40.40</td>\n",
              "      <td>2018-12-04</td>\n",
              "      <td>1</td>\n",
              "      <td>NaN</td>\n",
              "      <td>11.0</td>\n",
              "      <td>18.6</td>\n",
              "      <td>1</td>\n",
              "      <td>False</td>\n",
              "      <td>...</td>\n",
              "      <td>NaN</td>\n",
              "      <td>0.0</td>\n",
              "      <td>NaN</td>\n",
              "      <td>81</td>\n",
              "      <td>82920.79</td>\n",
              "      <td>1</td>\n",
              "      <td>12</td>\n",
              "      <td>2018</td>\n",
              "      <td>первый</td>\n",
              "      <td>19.0</td>\n",
              "    </tr>\n",
              "    <tr>\n",
              "      <th>2</th>\n",
              "      <td>10</td>\n",
              "      <td>5196000.0</td>\n",
              "      <td>56.00</td>\n",
              "      <td>2015-08-20</td>\n",
              "      <td>2</td>\n",
              "      <td>NaN</td>\n",
              "      <td>5.0</td>\n",
              "      <td>34.3</td>\n",
              "      <td>4</td>\n",
              "      <td>False</td>\n",
              "      <td>...</td>\n",
              "      <td>90.0</td>\n",
              "      <td>2.0</td>\n",
              "      <td>574.0</td>\n",
              "      <td>558</td>\n",
              "      <td>92785.71</td>\n",
              "      <td>3</td>\n",
              "      <td>8</td>\n",
              "      <td>2015</td>\n",
              "      <td>другой</td>\n",
              "      <td>14.0</td>\n",
              "    </tr>\n",
              "    <tr>\n",
              "      <th>3</th>\n",
              "      <td>0</td>\n",
              "      <td>64900000.0</td>\n",
              "      <td>159.00</td>\n",
              "      <td>2015-07-24</td>\n",
              "      <td>3</td>\n",
              "      <td>NaN</td>\n",
              "      <td>14.0</td>\n",
              "      <td>NaN</td>\n",
              "      <td>9</td>\n",
              "      <td>False</td>\n",
              "      <td>...</td>\n",
              "      <td>84.0</td>\n",
              "      <td>3.0</td>\n",
              "      <td>234.0</td>\n",
              "      <td>424</td>\n",
              "      <td>408176.10</td>\n",
              "      <td>4</td>\n",
              "      <td>7</td>\n",
              "      <td>2015</td>\n",
              "      <td>другой</td>\n",
              "      <td>7.0</td>\n",
              "    </tr>\n",
              "    <tr>\n",
              "      <th>4</th>\n",
              "      <td>2</td>\n",
              "      <td>10000000.0</td>\n",
              "      <td>100.00</td>\n",
              "      <td>2018-06-19</td>\n",
              "      <td>2</td>\n",
              "      <td>3.03</td>\n",
              "      <td>14.0</td>\n",
              "      <td>32.0</td>\n",
              "      <td>13</td>\n",
              "      <td>False</td>\n",
              "      <td>...</td>\n",
              "      <td>112.0</td>\n",
              "      <td>1.0</td>\n",
              "      <td>48.0</td>\n",
              "      <td>121</td>\n",
              "      <td>100000.00</td>\n",
              "      <td>1</td>\n",
              "      <td>6</td>\n",
              "      <td>2018</td>\n",
              "      <td>другой</td>\n",
              "      <td>8.0</td>\n",
              "    </tr>\n",
              "    <tr>\n",
              "      <th>...</th>\n",
              "      <td>...</td>\n",
              "      <td>...</td>\n",
              "      <td>...</td>\n",
              "      <td>...</td>\n",
              "      <td>...</td>\n",
              "      <td>...</td>\n",
              "      <td>...</td>\n",
              "      <td>...</td>\n",
              "      <td>...</td>\n",
              "      <td>...</td>\n",
              "      <td>...</td>\n",
              "      <td>...</td>\n",
              "      <td>...</td>\n",
              "      <td>...</td>\n",
              "      <td>...</td>\n",
              "      <td>...</td>\n",
              "      <td>...</td>\n",
              "      <td>...</td>\n",
              "      <td>...</td>\n",
              "      <td>...</td>\n",
              "      <td>...</td>\n",
              "    </tr>\n",
              "    <tr>\n",
              "      <th>23694</th>\n",
              "      <td>9</td>\n",
              "      <td>9700000.0</td>\n",
              "      <td>133.81</td>\n",
              "      <td>2017-03-21</td>\n",
              "      <td>3</td>\n",
              "      <td>3.70</td>\n",
              "      <td>5.0</td>\n",
              "      <td>73.3</td>\n",
              "      <td>3</td>\n",
              "      <td>False</td>\n",
              "      <td>...</td>\n",
              "      <td>796.0</td>\n",
              "      <td>3.0</td>\n",
              "      <td>381.0</td>\n",
              "      <td>0</td>\n",
              "      <td>72490.85</td>\n",
              "      <td>1</td>\n",
              "      <td>3</td>\n",
              "      <td>2017</td>\n",
              "      <td>другой</td>\n",
              "      <td>4.0</td>\n",
              "    </tr>\n",
              "    <tr>\n",
              "      <th>23695</th>\n",
              "      <td>14</td>\n",
              "      <td>3100000.0</td>\n",
              "      <td>59.00</td>\n",
              "      <td>2018-01-15</td>\n",
              "      <td>3</td>\n",
              "      <td>NaN</td>\n",
              "      <td>5.0</td>\n",
              "      <td>38.0</td>\n",
              "      <td>4</td>\n",
              "      <td>False</td>\n",
              "      <td>...</td>\n",
              "      <td>NaN</td>\n",
              "      <td>NaN</td>\n",
              "      <td>NaN</td>\n",
              "      <td>45</td>\n",
              "      <td>52542.37</td>\n",
              "      <td>0</td>\n",
              "      <td>1</td>\n",
              "      <td>2018</td>\n",
              "      <td>другой</td>\n",
              "      <td>NaN</td>\n",
              "    </tr>\n",
              "    <tr>\n",
              "      <th>23696</th>\n",
              "      <td>18</td>\n",
              "      <td>2500000.0</td>\n",
              "      <td>56.70</td>\n",
              "      <td>2018-02-11</td>\n",
              "      <td>2</td>\n",
              "      <td>NaN</td>\n",
              "      <td>3.0</td>\n",
              "      <td>29.7</td>\n",
              "      <td>1</td>\n",
              "      <td>False</td>\n",
              "      <td>...</td>\n",
              "      <td>NaN</td>\n",
              "      <td>NaN</td>\n",
              "      <td>NaN</td>\n",
              "      <td>0</td>\n",
              "      <td>44091.71</td>\n",
              "      <td>6</td>\n",
              "      <td>2</td>\n",
              "      <td>2018</td>\n",
              "      <td>первый</td>\n",
              "      <td>NaN</td>\n",
              "    </tr>\n",
              "    <tr>\n",
              "      <th>23697</th>\n",
              "      <td>13</td>\n",
              "      <td>11475000.0</td>\n",
              "      <td>76.75</td>\n",
              "      <td>2017-03-28</td>\n",
              "      <td>2</td>\n",
              "      <td>3.00</td>\n",
              "      <td>17.0</td>\n",
              "      <td>NaN</td>\n",
              "      <td>12</td>\n",
              "      <td>False</td>\n",
              "      <td>...</td>\n",
              "      <td>173.0</td>\n",
              "      <td>3.0</td>\n",
              "      <td>196.0</td>\n",
              "      <td>602</td>\n",
              "      <td>149511.40</td>\n",
              "      <td>1</td>\n",
              "      <td>3</td>\n",
              "      <td>2017</td>\n",
              "      <td>другой</td>\n",
              "      <td>10.0</td>\n",
              "    </tr>\n",
              "    <tr>\n",
              "      <th>23698</th>\n",
              "      <td>4</td>\n",
              "      <td>1350000.0</td>\n",
              "      <td>32.30</td>\n",
              "      <td>2017-07-21</td>\n",
              "      <td>1</td>\n",
              "      <td>2.50</td>\n",
              "      <td>5.0</td>\n",
              "      <td>12.3</td>\n",
              "      <td>1</td>\n",
              "      <td>False</td>\n",
              "      <td>...</td>\n",
              "      <td>NaN</td>\n",
              "      <td>NaN</td>\n",
              "      <td>NaN</td>\n",
              "      <td>0</td>\n",
              "      <td>41795.67</td>\n",
              "      <td>4</td>\n",
              "      <td>7</td>\n",
              "      <td>2017</td>\n",
              "      <td>первый</td>\n",
              "      <td>NaN</td>\n",
              "    </tr>\n",
              "  </tbody>\n",
              "</table>\n",
              "<p>23650 rows × 28 columns</p>\n",
              "</div>"
            ],
            "text/plain": [
              "       total_images  last_price  total_area first_day_exposition  rooms  \\\n",
              "0                20  13000000.0      108.00           2019-03-07      3   \n",
              "1                 7   3350000.0       40.40           2018-12-04      1   \n",
              "2                10   5196000.0       56.00           2015-08-20      2   \n",
              "3                 0  64900000.0      159.00           2015-07-24      3   \n",
              "4                 2  10000000.0      100.00           2018-06-19      2   \n",
              "...             ...         ...         ...                  ...    ...   \n",
              "23694             9   9700000.0      133.81           2017-03-21      3   \n",
              "23695            14   3100000.0       59.00           2018-01-15      3   \n",
              "23696            18   2500000.0       56.70           2018-02-11      2   \n",
              "23697            13  11475000.0       76.75           2017-03-28      2   \n",
              "23698             4   1350000.0       32.30           2017-07-21      1   \n",
              "\n",
              "       ceiling_height  floors_total  living_area  floor  is_apartment  ...  \\\n",
              "0                2.70          16.0         51.0      8         False  ...   \n",
              "1                 NaN          11.0         18.6      1         False  ...   \n",
              "2                 NaN           5.0         34.3      4         False  ...   \n",
              "3                 NaN          14.0          NaN      9         False  ...   \n",
              "4                3.03          14.0         32.0     13         False  ...   \n",
              "...               ...           ...          ...    ...           ...  ...   \n",
              "23694            3.70           5.0         73.3      3         False  ...   \n",
              "23695             NaN           5.0         38.0      4         False  ...   \n",
              "23696             NaN           3.0         29.7      1         False  ...   \n",
              "23697            3.00          17.0          NaN     12         False  ...   \n",
              "23698            2.50           5.0         12.3      1         False  ...   \n",
              "\n",
              "       parks_nearest  ponds_around_3000  ponds_nearest  days_exposition  \\\n",
              "0              482.0                2.0          755.0                0   \n",
              "1                NaN                0.0            NaN               81   \n",
              "2               90.0                2.0          574.0              558   \n",
              "3               84.0                3.0          234.0              424   \n",
              "4              112.0                1.0           48.0              121   \n",
              "...              ...                ...            ...              ...   \n",
              "23694          796.0                3.0          381.0                0   \n",
              "23695            NaN                NaN            NaN               45   \n",
              "23696            NaN                NaN            NaN                0   \n",
              "23697          173.0                3.0          196.0              602   \n",
              "23698            NaN                NaN            NaN                0   \n",
              "\n",
              "      price_1_meter  weekday_exposition  month_exposition  year_exposition  \\\n",
              "0         120370.37                   3                 3             2019   \n",
              "1          82920.79                   1                12             2018   \n",
              "2          92785.71                   3                 8             2015   \n",
              "3         408176.10                   4                 7             2015   \n",
              "4         100000.00                   1                 6             2018   \n",
              "...             ...                 ...               ...              ...   \n",
              "23694      72490.85                   1                 3             2017   \n",
              "23695      52542.37                   0                 1             2018   \n",
              "23696      44091.71                   6                 2             2018   \n",
              "23697     149511.40                   1                 3             2017   \n",
              "23698      41795.67                   4                 7             2017   \n",
              "\n",
              "       floor_category  city_centers_nearest_km  \n",
              "0              другой                     16.0  \n",
              "1              первый                     19.0  \n",
              "2              другой                     14.0  \n",
              "3              другой                      7.0  \n",
              "4              другой                      8.0  \n",
              "...               ...                      ...  \n",
              "23694          другой                      4.0  \n",
              "23695          другой                      NaN  \n",
              "23696          первый                      NaN  \n",
              "23697          другой                     10.0  \n",
              "23698          первый                      NaN  \n",
              "\n",
              "[23650 rows x 28 columns]"
            ]
          },
          "execution_count": 20,
          "metadata": {},
          "output_type": "execute_result"
        }
      ],
      "source": [
        "data['city_centers_nearest_km'] = round(data['city_centers_nearest'] / 1000)\n",
        "data"
      ]
    },
    {
      "cell_type": "markdown",
      "metadata": {
        "id": "UzO6C1ZSZfXQ"
      },
      "source": [
        "### Проведите исследовательский анализ данных"
      ]
    },
    {
      "cell_type": "markdown",
      "metadata": {
        "id": "VkuxoUg_ZfXQ"
      },
      "source": [
        "**Шаг 4.1. Исследуем отдельные параметры объектов и обрабатаем редкие и выбивающиеся значения**"
      ]
    },
    {
      "cell_type": "markdown",
      "metadata": {
        "id": "VdPzTRmQZfXQ"
      },
      "source": [
        "Сначала обработаем аномальные значения, исходя из выводов, полученных по итогам описательной статистики в **Шаге 1.4**"
      ]
    },
    {
      "cell_type": "markdown",
      "metadata": {
        "id": "mX6rFLPwZfXQ"
      },
      "source": [
        "**1. Min значение в поле rooms=0. Необходимо перепроверить. Предположительно, 0 комнат может быть в квартире-студии**"
      ]
    },
    {
      "cell_type": "code",
      "execution_count": null,
      "metadata": {
        "id": "VcvgOChPZfXR",
        "outputId": "cab11ecd-6cb8-4ac4-a565-92f2f9e85bfe"
      },
      "outputs": [
        {
          "data": {
            "text/plain": [
              "<AxesSubplot:ylabel='Frequency'>"
            ]
          },
          "execution_count": 21,
          "metadata": {},
          "output_type": "execute_result"
        },
        {
          "data": {
            "image/png": "[encoded data removed]",
            "text/plain": [
              "<Figure size 720x432 with 1 Axes>"
            ]
          },
          "metadata": {
            "needs_background": "light"
          },
          "output_type": "display_data"
        }
      ],
      "source": [
        "#Построим гистограмму по полю rooms\n",
        "data.plot(y = 'rooms', kind = 'hist', bins = 20, grid=True, ec='black', legend=True, figsize = (10,6), range = (0,10))\n",
        "\n",
        "# Аномальные значения, где rooms=0, остальные данные выглядят правдоподобно"
      ]
    },
    {
      "cell_type": "markdown",
      "metadata": {
        "id": "ZcWXCyqAZfXR"
      },
      "source": [
        "Большая часть объектов недвижимости имеют 1 или 2 комнаты. Чем больше комнат, тем меньше таких объектов недвижимости в объявлениях."
      ]
    },
    {
      "cell_type": "code",
      "execution_count": null,
      "metadata": {
        "id": "IHx2ZoJGZfXR",
        "outputId": "1238d21c-4e0b-4c0b-92c0-389c1a1d7bc6"
      },
      "outputs": [
        {
          "data": {
            "text/html": [
              "<div>\n",
              "<style scoped>\n",
              "    .dataframe tbody tr th:only-of-type {\n",
              "        vertical-align: middle;\n",
              "    }\n",
              "\n",
              "    .dataframe tbody tr th {\n",
              "        vertical-align: top;\n",
              "    }\n",
              "\n",
              "    .dataframe thead th {\n",
              "        text-align: right;\n",
              "    }\n",
              "</style>\n",
              "<table border=\"1\" class=\"dataframe\">\n",
              "  <thead>\n",
              "    <tr style=\"text-align: right;\">\n",
              "      <th></th>\n",
              "      <th>total_images</th>\n",
              "      <th>last_price</th>\n",
              "      <th>total_area</th>\n",
              "      <th>first_day_exposition</th>\n",
              "      <th>rooms</th>\n",
              "      <th>ceiling_height</th>\n",
              "      <th>floors_total</th>\n",
              "      <th>living_area</th>\n",
              "      <th>floor</th>\n",
              "      <th>is_apartment</th>\n",
              "      <th>...</th>\n",
              "      <th>parks_nearest</th>\n",
              "      <th>ponds_around_3000</th>\n",
              "      <th>ponds_nearest</th>\n",
              "      <th>days_exposition</th>\n",
              "      <th>price_1_meter</th>\n",
              "      <th>weekday_exposition</th>\n",
              "      <th>month_exposition</th>\n",
              "      <th>year_exposition</th>\n",
              "      <th>floor_category</th>\n",
              "      <th>city_centers_nearest_km</th>\n",
              "    </tr>\n",
              "  </thead>\n",
              "  <tbody>\n",
              "    <tr>\n",
              "      <th>144</th>\n",
              "      <td>1</td>\n",
              "      <td>2450000.0</td>\n",
              "      <td>27.00</td>\n",
              "      <td>2017-03-30</td>\n",
              "      <td>0</td>\n",
              "      <td>NaN</td>\n",
              "      <td>24.0</td>\n",
              "      <td>15.50</td>\n",
              "      <td>2</td>\n",
              "      <td>False</td>\n",
              "      <td>...</td>\n",
              "      <td>NaN</td>\n",
              "      <td>NaN</td>\n",
              "      <td>NaN</td>\n",
              "      <td>181</td>\n",
              "      <td>90740.74</td>\n",
              "      <td>3</td>\n",
              "      <td>3</td>\n",
              "      <td>2017</td>\n",
              "      <td>другой</td>\n",
              "      <td>NaN</td>\n",
              "    </tr>\n",
              "    <tr>\n",
              "      <th>349</th>\n",
              "      <td>4</td>\n",
              "      <td>2320000.0</td>\n",
              "      <td>25.00</td>\n",
              "      <td>2017-09-27</td>\n",
              "      <td>0</td>\n",
              "      <td>NaN</td>\n",
              "      <td>14.0</td>\n",
              "      <td>17.00</td>\n",
              "      <td>1</td>\n",
              "      <td>False</td>\n",
              "      <td>...</td>\n",
              "      <td>NaN</td>\n",
              "      <td>NaN</td>\n",
              "      <td>NaN</td>\n",
              "      <td>45</td>\n",
              "      <td>92800.00</td>\n",
              "      <td>2</td>\n",
              "      <td>9</td>\n",
              "      <td>2017</td>\n",
              "      <td>первый</td>\n",
              "      <td>NaN</td>\n",
              "    </tr>\n",
              "    <tr>\n",
              "      <th>440</th>\n",
              "      <td>8</td>\n",
              "      <td>2480000.0</td>\n",
              "      <td>27.11</td>\n",
              "      <td>2018-03-12</td>\n",
              "      <td>0</td>\n",
              "      <td>NaN</td>\n",
              "      <td>17.0</td>\n",
              "      <td>24.75</td>\n",
              "      <td>4</td>\n",
              "      <td>False</td>\n",
              "      <td>...</td>\n",
              "      <td>NaN</td>\n",
              "      <td>2.0</td>\n",
              "      <td>982.0</td>\n",
              "      <td>64</td>\n",
              "      <td>91479.16</td>\n",
              "      <td>0</td>\n",
              "      <td>3</td>\n",
              "      <td>2018</td>\n",
              "      <td>другой</td>\n",
              "      <td>15.0</td>\n",
              "    </tr>\n",
              "    <tr>\n",
              "      <th>508</th>\n",
              "      <td>0</td>\n",
              "      <td>3375000.0</td>\n",
              "      <td>34.40</td>\n",
              "      <td>2017-03-28</td>\n",
              "      <td>0</td>\n",
              "      <td>NaN</td>\n",
              "      <td>26.0</td>\n",
              "      <td>24.30</td>\n",
              "      <td>19</td>\n",
              "      <td>False</td>\n",
              "      <td>...</td>\n",
              "      <td>NaN</td>\n",
              "      <td>1.0</td>\n",
              "      <td>593.0</td>\n",
              "      <td>430</td>\n",
              "      <td>98110.47</td>\n",
              "      <td>1</td>\n",
              "      <td>3</td>\n",
              "      <td>2017</td>\n",
              "      <td>другой</td>\n",
              "      <td>19.0</td>\n",
              "    </tr>\n",
              "    <tr>\n",
              "      <th>608</th>\n",
              "      <td>2</td>\n",
              "      <td>1850000.0</td>\n",
              "      <td>25.00</td>\n",
              "      <td>2019-02-20</td>\n",
              "      <td>0</td>\n",
              "      <td>NaN</td>\n",
              "      <td>10.0</td>\n",
              "      <td>NaN</td>\n",
              "      <td>7</td>\n",
              "      <td>False</td>\n",
              "      <td>...</td>\n",
              "      <td>NaN</td>\n",
              "      <td>NaN</td>\n",
              "      <td>NaN</td>\n",
              "      <td>29</td>\n",
              "      <td>74000.00</td>\n",
              "      <td>2</td>\n",
              "      <td>2</td>\n",
              "      <td>2019</td>\n",
              "      <td>другой</td>\n",
              "      <td>NaN</td>\n",
              "    </tr>\n",
              "    <tr>\n",
              "      <th>...</th>\n",
              "      <td>...</td>\n",
              "      <td>...</td>\n",
              "      <td>...</td>\n",
              "      <td>...</td>\n",
              "      <td>...</td>\n",
              "      <td>...</td>\n",
              "      <td>...</td>\n",
              "      <td>...</td>\n",
              "      <td>...</td>\n",
              "      <td>...</td>\n",
              "      <td>...</td>\n",
              "      <td>...</td>\n",
              "      <td>...</td>\n",
              "      <td>...</td>\n",
              "      <td>...</td>\n",
              "      <td>...</td>\n",
              "      <td>...</td>\n",
              "      <td>...</td>\n",
              "      <td>...</td>\n",
              "      <td>...</td>\n",
              "      <td>...</td>\n",
              "    </tr>\n",
              "    <tr>\n",
              "      <th>23210</th>\n",
              "      <td>7</td>\n",
              "      <td>3200000.0</td>\n",
              "      <td>26.00</td>\n",
              "      <td>2017-09-01</td>\n",
              "      <td>0</td>\n",
              "      <td>NaN</td>\n",
              "      <td>25.0</td>\n",
              "      <td>18.00</td>\n",
              "      <td>16</td>\n",
              "      <td>False</td>\n",
              "      <td>...</td>\n",
              "      <td>NaN</td>\n",
              "      <td>1.0</td>\n",
              "      <td>623.0</td>\n",
              "      <td>14</td>\n",
              "      <td>123076.92</td>\n",
              "      <td>4</td>\n",
              "      <td>9</td>\n",
              "      <td>2017</td>\n",
              "      <td>другой</td>\n",
              "      <td>13.0</td>\n",
              "    </tr>\n",
              "    <tr>\n",
              "      <th>23442</th>\n",
              "      <td>0</td>\n",
              "      <td>2500000.0</td>\n",
              "      <td>27.70</td>\n",
              "      <td>2017-09-28</td>\n",
              "      <td>0</td>\n",
              "      <td>NaN</td>\n",
              "      <td>24.0</td>\n",
              "      <td>18.00</td>\n",
              "      <td>4</td>\n",
              "      <td>False</td>\n",
              "      <td>...</td>\n",
              "      <td>NaN</td>\n",
              "      <td>NaN</td>\n",
              "      <td>NaN</td>\n",
              "      <td>4</td>\n",
              "      <td>90252.71</td>\n",
              "      <td>3</td>\n",
              "      <td>9</td>\n",
              "      <td>2017</td>\n",
              "      <td>другой</td>\n",
              "      <td>NaN</td>\n",
              "    </tr>\n",
              "    <tr>\n",
              "      <th>23554</th>\n",
              "      <td>15</td>\n",
              "      <td>3350000.0</td>\n",
              "      <td>26.00</td>\n",
              "      <td>2018-09-07</td>\n",
              "      <td>0</td>\n",
              "      <td>NaN</td>\n",
              "      <td>19.0</td>\n",
              "      <td>NaN</td>\n",
              "      <td>8</td>\n",
              "      <td>False</td>\n",
              "      <td>...</td>\n",
              "      <td>NaN</td>\n",
              "      <td>2.0</td>\n",
              "      <td>112.0</td>\n",
              "      <td>31</td>\n",
              "      <td>128846.15</td>\n",
              "      <td>4</td>\n",
              "      <td>9</td>\n",
              "      <td>2018</td>\n",
              "      <td>другой</td>\n",
              "      <td>17.0</td>\n",
              "    </tr>\n",
              "    <tr>\n",
              "      <th>23592</th>\n",
              "      <td>10</td>\n",
              "      <td>1450000.0</td>\n",
              "      <td>29.00</td>\n",
              "      <td>2017-11-11</td>\n",
              "      <td>0</td>\n",
              "      <td>NaN</td>\n",
              "      <td>9.0</td>\n",
              "      <td>18.00</td>\n",
              "      <td>8</td>\n",
              "      <td>False</td>\n",
              "      <td>...</td>\n",
              "      <td>NaN</td>\n",
              "      <td>NaN</td>\n",
              "      <td>NaN</td>\n",
              "      <td>82</td>\n",
              "      <td>50000.00</td>\n",
              "      <td>5</td>\n",
              "      <td>11</td>\n",
              "      <td>2017</td>\n",
              "      <td>другой</td>\n",
              "      <td>NaN</td>\n",
              "    </tr>\n",
              "    <tr>\n",
              "      <th>23637</th>\n",
              "      <td>8</td>\n",
              "      <td>2350000.0</td>\n",
              "      <td>26.00</td>\n",
              "      <td>2018-06-26</td>\n",
              "      <td>0</td>\n",
              "      <td>NaN</td>\n",
              "      <td>25.0</td>\n",
              "      <td>17.00</td>\n",
              "      <td>4</td>\n",
              "      <td>False</td>\n",
              "      <td>...</td>\n",
              "      <td>NaN</td>\n",
              "      <td>NaN</td>\n",
              "      <td>NaN</td>\n",
              "      <td>207</td>\n",
              "      <td>90384.62</td>\n",
              "      <td>1</td>\n",
              "      <td>6</td>\n",
              "      <td>2018</td>\n",
              "      <td>другой</td>\n",
              "      <td>NaN</td>\n",
              "    </tr>\n",
              "  </tbody>\n",
              "</table>\n",
              "<p>197 rows × 28 columns</p>\n",
              "</div>"
            ],
            "text/plain": [
              "       total_images  last_price  total_area first_day_exposition  rooms  \\\n",
              "144               1   2450000.0       27.00           2017-03-30      0   \n",
              "349               4   2320000.0       25.00           2017-09-27      0   \n",
              "440               8   2480000.0       27.11           2018-03-12      0   \n",
              "508               0   3375000.0       34.40           2017-03-28      0   \n",
              "608               2   1850000.0       25.00           2019-02-20      0   \n",
              "...             ...         ...         ...                  ...    ...   \n",
              "23210             7   3200000.0       26.00           2017-09-01      0   \n",
              "23442             0   2500000.0       27.70           2017-09-28      0   \n",
              "23554            15   3350000.0       26.00           2018-09-07      0   \n",
              "23592            10   1450000.0       29.00           2017-11-11      0   \n",
              "23637             8   2350000.0       26.00           2018-06-26      0   \n",
              "\n",
              "       ceiling_height  floors_total  living_area  floor  is_apartment  ...  \\\n",
              "144               NaN          24.0        15.50      2         False  ...   \n",
              "349               NaN          14.0        17.00      1         False  ...   \n",
              "440               NaN          17.0        24.75      4         False  ...   \n",
              "508               NaN          26.0        24.30     19         False  ...   \n",
              "608               NaN          10.0          NaN      7         False  ...   \n",
              "...               ...           ...          ...    ...           ...  ...   \n",
              "23210             NaN          25.0        18.00     16         False  ...   \n",
              "23442             NaN          24.0        18.00      4         False  ...   \n",
              "23554             NaN          19.0          NaN      8         False  ...   \n",
              "23592             NaN           9.0        18.00      8         False  ...   \n",
              "23637             NaN          25.0        17.00      4         False  ...   \n",
              "\n",
              "       parks_nearest  ponds_around_3000  ponds_nearest  days_exposition  \\\n",
              "144              NaN                NaN            NaN              181   \n",
              "349              NaN                NaN            NaN               45   \n",
              "440              NaN                2.0          982.0               64   \n",
              "508              NaN                1.0          593.0              430   \n",
              "608              NaN                NaN            NaN               29   \n",
              "...              ...                ...            ...              ...   \n",
              "23210            NaN                1.0          623.0               14   \n",
              "23442            NaN                NaN            NaN                4   \n",
              "23554            NaN                2.0          112.0               31   \n",
              "23592            NaN                NaN            NaN               82   \n",
              "23637            NaN                NaN            NaN              207   \n",
              "\n",
              "      price_1_meter  weekday_exposition  month_exposition  year_exposition  \\\n",
              "144        90740.74                   3                 3             2017   \n",
              "349        92800.00                   2                 9             2017   \n",
              "440        91479.16                   0                 3             2018   \n",
              "508        98110.47                   1                 3             2017   \n",
              "608        74000.00                   2                 2             2019   \n",
              "...             ...                 ...               ...              ...   \n",
              "23210     123076.92                   4                 9             2017   \n",
              "23442      90252.71                   3                 9             2017   \n",
              "23554     128846.15                   4                 9             2018   \n",
              "23592      50000.00                   5                11             2017   \n",
              "23637      90384.62                   1                 6             2018   \n",
              "\n",
              "       floor_category  city_centers_nearest_km  \n",
              "144            другой                      NaN  \n",
              "349            первый                      NaN  \n",
              "440            другой                     15.0  \n",
              "508            другой                     19.0  \n",
              "608            другой                      NaN  \n",
              "...               ...                      ...  \n",
              "23210          другой                     13.0  \n",
              "23442          другой                      NaN  \n",
              "23554          другой                     17.0  \n",
              "23592          другой                      NaN  \n",
              "23637          другой                      NaN  \n",
              "\n",
              "[197 rows x 28 columns]"
            ]
          },
          "execution_count": 22,
          "metadata": {},
          "output_type": "execute_result"
        }
      ],
      "source": [
        "# Отфильтруем поля, где rooms=0\n",
        "rooms_0 = data.query('rooms == 0')\n",
        "rooms_0"
      ]
    },
    {
      "cell_type": "code",
      "execution_count": null,
      "metadata": {
        "id": "YsM2pGWLZfXR",
        "outputId": "6d861b83-9a21-4c27-d46c-05a3885d7d7e"
      },
      "outputs": [
        {
          "data": {
            "text/html": [
              "<div>\n",
              "<style scoped>\n",
              "    .dataframe tbody tr th:only-of-type {\n",
              "        vertical-align: middle;\n",
              "    }\n",
              "\n",
              "    .dataframe tbody tr th {\n",
              "        vertical-align: top;\n",
              "    }\n",
              "\n",
              "    .dataframe thead th {\n",
              "        text-align: right;\n",
              "    }\n",
              "</style>\n",
              "<table border=\"1\" class=\"dataframe\">\n",
              "  <thead>\n",
              "    <tr style=\"text-align: right;\">\n",
              "      <th></th>\n",
              "      <th>total_images</th>\n",
              "      <th>last_price</th>\n",
              "      <th>total_area</th>\n",
              "      <th>first_day_exposition</th>\n",
              "      <th>rooms</th>\n",
              "      <th>ceiling_height</th>\n",
              "      <th>floors_total</th>\n",
              "      <th>living_area</th>\n",
              "      <th>floor</th>\n",
              "      <th>is_apartment</th>\n",
              "      <th>...</th>\n",
              "      <th>parks_nearest</th>\n",
              "      <th>ponds_around_3000</th>\n",
              "      <th>ponds_nearest</th>\n",
              "      <th>days_exposition</th>\n",
              "      <th>price_1_meter</th>\n",
              "      <th>weekday_exposition</th>\n",
              "      <th>month_exposition</th>\n",
              "      <th>year_exposition</th>\n",
              "      <th>floor_category</th>\n",
              "      <th>city_centers_nearest_km</th>\n",
              "    </tr>\n",
              "  </thead>\n",
              "  <tbody>\n",
              "  </tbody>\n",
              "</table>\n",
              "<p>0 rows × 28 columns</p>\n",
              "</div>"
            ],
            "text/plain": [
              "Empty DataFrame\n",
              "Columns: [total_images, last_price, total_area, first_day_exposition, rooms, ceiling_height, floors_total, living_area, floor, is_apartment, studio, open_plan, kitchen_area, balcony, locality_name, airports_nearest, city_centers_nearest, parks_around_3000, parks_nearest, ponds_around_3000, ponds_nearest, days_exposition, price_1_meter, weekday_exposition, month_exposition, year_exposition, floor_category, city_centers_nearest_km]\n",
              "Index: []\n",
              "\n",
              "[0 rows x 28 columns]"
            ]
          },
          "execution_count": 23,
          "metadata": {},
          "output_type": "execute_result"
        }
      ],
      "source": [
        "# Проверим есть ли среди найденных значений аппартаменты\n",
        "data.query('rooms == 0 and is_apartment == True')"
      ]
    },
    {
      "cell_type": "code",
      "execution_count": null,
      "metadata": {
        "id": "2_tCGrRTZfXR"
      },
      "outputs": [],
      "source": [
        "#Гипотеза не подтвердилась.\n",
        "# Т.к. значений с rooms=0 не так много - 80, и заменить мы их не можем на корректные, то удалим их.\n",
        "data = data.query('rooms != 0')"
      ]
    },
    {
      "cell_type": "code",
      "execution_count": null,
      "metadata": {
        "id": "ycPTzd_VZfXR",
        "outputId": "c601c984-e620-4e99-e2ba-f47624f4752c"
      },
      "outputs": [
        {
          "data": {
            "text/html": [
              "<div>\n",
              "<style scoped>\n",
              "    .dataframe tbody tr th:only-of-type {\n",
              "        vertical-align: middle;\n",
              "    }\n",
              "\n",
              "    .dataframe tbody tr th {\n",
              "        vertical-align: top;\n",
              "    }\n",
              "\n",
              "    .dataframe thead th {\n",
              "        text-align: right;\n",
              "    }\n",
              "</style>\n",
              "<table border=\"1\" class=\"dataframe\">\n",
              "  <thead>\n",
              "    <tr style=\"text-align: right;\">\n",
              "      <th></th>\n",
              "      <th>total_images</th>\n",
              "      <th>last_price</th>\n",
              "      <th>total_area</th>\n",
              "      <th>first_day_exposition</th>\n",
              "      <th>rooms</th>\n",
              "      <th>ceiling_height</th>\n",
              "      <th>floors_total</th>\n",
              "      <th>living_area</th>\n",
              "      <th>floor</th>\n",
              "      <th>is_apartment</th>\n",
              "      <th>...</th>\n",
              "      <th>parks_nearest</th>\n",
              "      <th>ponds_around_3000</th>\n",
              "      <th>ponds_nearest</th>\n",
              "      <th>days_exposition</th>\n",
              "      <th>price_1_meter</th>\n",
              "      <th>weekday_exposition</th>\n",
              "      <th>month_exposition</th>\n",
              "      <th>year_exposition</th>\n",
              "      <th>floor_category</th>\n",
              "      <th>city_centers_nearest_km</th>\n",
              "    </tr>\n",
              "  </thead>\n",
              "  <tbody>\n",
              "  </tbody>\n",
              "</table>\n",
              "<p>0 rows × 28 columns</p>\n",
              "</div>"
            ],
            "text/plain": [
              "Empty DataFrame\n",
              "Columns: [total_images, last_price, total_area, first_day_exposition, rooms, ceiling_height, floors_total, living_area, floor, is_apartment, studio, open_plan, kitchen_area, balcony, locality_name, airports_nearest, city_centers_nearest, parks_around_3000, parks_nearest, ponds_around_3000, ponds_nearest, days_exposition, price_1_meter, weekday_exposition, month_exposition, year_exposition, floor_category, city_centers_nearest_km]\n",
              "Index: []\n",
              "\n",
              "[0 rows x 28 columns]"
            ]
          },
          "execution_count": 25,
          "metadata": {},
          "output_type": "execute_result"
        }
      ],
      "source": [
        "# Проверим удалены ли значения\n",
        "data.query('rooms == 0 and is_apartment == True')"
      ]
    },
    {
      "cell_type": "markdown",
      "metadata": {
        "id": "qNEgNzkpZfXR"
      },
      "source": [
        "<div class=\"alert alert-warning\">\n",
        "<b>Комментарий ревьюера:</b>⛅️\n",
        "\n",
        "Это ведь могли быть и студии, почему бы нет?\n",
        "</div>"
      ]
    },
    {
      "cell_type": "markdown",
      "metadata": {
        "id": "yLbpX3ccZfXR"
      },
      "source": [
        "**2. В поле ceiling_height минимальная высота потолка 1 м, максимальная - 100 м. Похоже на выбросы, которые необходимо удалить**"
      ]
    },
    {
      "cell_type": "code",
      "execution_count": null,
      "metadata": {
        "id": "slQZrn6YZfXR",
        "outputId": "a866cff0-75d7-492d-f02c-468f7d8b86b5"
      },
      "outputs": [
        {
          "data": {
            "text/plain": [
              "<AxesSubplot:ylabel='Frequency'>"
            ]
          },
          "execution_count": 26,
          "metadata": {},
          "output_type": "execute_result"
        },
        {
          "data": {
            "image/png": "[encoded data removed]",
            "text/plain": [
              "<Figure size 720x432 with 1 Axes>"
            ]
          },
          "metadata": {
            "needs_background": "light"
          },
          "output_type": "display_data"
        }
      ],
      "source": [
        "#Построим гистограмму по полю ceiling_height\n",
        "data.plot(y = 'ceiling_height', kind = 'hist', bins = 60, grid=True, ec='black', legend=True, figsize = (10,6), range = (1,10))"
      ]
    },
    {
      "cell_type": "markdown",
      "metadata": {
        "id": "quQOONLwZfXS"
      },
      "source": [
        "Большая часть недвижимости с потолками 2.5-3 м. Есть выбивающиеся значения с потолками более 4 м."
      ]
    },
    {
      "cell_type": "code",
      "execution_count": null,
      "metadata": {
        "id": "MLIfuaz4ZfXS",
        "outputId": "fb8a3b98-4fc0-47f6-ebe0-0dd31b29734c"
      },
      "outputs": [
        {
          "data": {
            "image/png": "[encoded data removed]",
            "text/plain": [
              "<Figure size 576x432 with 1 Axes>"
            ]
          },
          "metadata": {
            "needs_background": "light"
          },
          "output_type": "display_data"
        }
      ],
      "source": [
        "# Построим диаграму размаха для определения выбросов в значениях\n",
        "data.boxplot(column='ceiling_height', figsize=(8, 6))\n",
        "plt.title('Размах высоты потолков')\n",
        "plt.ylim(1, 6)\n",
        "plt.ylabel('высота, м')\n",
        "plt.show()"
      ]
    },
    {
      "cell_type": "code",
      "execution_count": null,
      "metadata": {
        "id": "J1M0H3FKZfXS",
        "outputId": "5328d4fe-c2d3-4963-e1cf-c2faa80fc4c7"
      },
      "outputs": [
        {
          "data": {
            "text/html": [
              "<div>\n",
              "<style scoped>\n",
              "    .dataframe tbody tr th:only-of-type {\n",
              "        vertical-align: middle;\n",
              "    }\n",
              "\n",
              "    .dataframe tbody tr th {\n",
              "        vertical-align: top;\n",
              "    }\n",
              "\n",
              "    .dataframe thead th {\n",
              "        text-align: right;\n",
              "    }\n",
              "</style>\n",
              "<table border=\"1\" class=\"dataframe\">\n",
              "  <thead>\n",
              "    <tr style=\"text-align: right;\">\n",
              "      <th></th>\n",
              "      <th>total_images</th>\n",
              "      <th>last_price</th>\n",
              "      <th>total_area</th>\n",
              "      <th>first_day_exposition</th>\n",
              "      <th>rooms</th>\n",
              "      <th>ceiling_height</th>\n",
              "      <th>floors_total</th>\n",
              "      <th>living_area</th>\n",
              "      <th>floor</th>\n",
              "      <th>is_apartment</th>\n",
              "      <th>...</th>\n",
              "      <th>parks_nearest</th>\n",
              "      <th>ponds_around_3000</th>\n",
              "      <th>ponds_nearest</th>\n",
              "      <th>days_exposition</th>\n",
              "      <th>price_1_meter</th>\n",
              "      <th>weekday_exposition</th>\n",
              "      <th>month_exposition</th>\n",
              "      <th>year_exposition</th>\n",
              "      <th>floor_category</th>\n",
              "      <th>city_centers_nearest_km</th>\n",
              "    </tr>\n",
              "  </thead>\n",
              "  <tbody>\n",
              "    <tr>\n",
              "      <th>0</th>\n",
              "      <td>20</td>\n",
              "      <td>13000000.0</td>\n",
              "      <td>108.00</td>\n",
              "      <td>2019-03-07</td>\n",
              "      <td>3</td>\n",
              "      <td>2.70</td>\n",
              "      <td>16.0</td>\n",
              "      <td>51.0</td>\n",
              "      <td>8</td>\n",
              "      <td>False</td>\n",
              "      <td>...</td>\n",
              "      <td>482.0</td>\n",
              "      <td>2.0</td>\n",
              "      <td>755.0</td>\n",
              "      <td>0</td>\n",
              "      <td>120370.37</td>\n",
              "      <td>3</td>\n",
              "      <td>3</td>\n",
              "      <td>2019</td>\n",
              "      <td>другой</td>\n",
              "      <td>16.0</td>\n",
              "    </tr>\n",
              "    <tr>\n",
              "      <th>4</th>\n",
              "      <td>2</td>\n",
              "      <td>10000000.0</td>\n",
              "      <td>100.00</td>\n",
              "      <td>2018-06-19</td>\n",
              "      <td>2</td>\n",
              "      <td>3.03</td>\n",
              "      <td>14.0</td>\n",
              "      <td>32.0</td>\n",
              "      <td>13</td>\n",
              "      <td>False</td>\n",
              "      <td>...</td>\n",
              "      <td>112.0</td>\n",
              "      <td>1.0</td>\n",
              "      <td>48.0</td>\n",
              "      <td>121</td>\n",
              "      <td>100000.00</td>\n",
              "      <td>1</td>\n",
              "      <td>6</td>\n",
              "      <td>2018</td>\n",
              "      <td>другой</td>\n",
              "      <td>8.0</td>\n",
              "    </tr>\n",
              "    <tr>\n",
              "      <th>9</th>\n",
              "      <td>18</td>\n",
              "      <td>5400000.0</td>\n",
              "      <td>61.00</td>\n",
              "      <td>2017-02-26</td>\n",
              "      <td>3</td>\n",
              "      <td>2.50</td>\n",
              "      <td>9.0</td>\n",
              "      <td>43.6</td>\n",
              "      <td>7</td>\n",
              "      <td>False</td>\n",
              "      <td>...</td>\n",
              "      <td>NaN</td>\n",
              "      <td>0.0</td>\n",
              "      <td>NaN</td>\n",
              "      <td>289</td>\n",
              "      <td>88524.59</td>\n",
              "      <td>6</td>\n",
              "      <td>2</td>\n",
              "      <td>2017</td>\n",
              "      <td>другой</td>\n",
              "      <td>15.0</td>\n",
              "    </tr>\n",
              "    <tr>\n",
              "      <th>10</th>\n",
              "      <td>5</td>\n",
              "      <td>5050000.0</td>\n",
              "      <td>39.60</td>\n",
              "      <td>2017-11-16</td>\n",
              "      <td>1</td>\n",
              "      <td>2.67</td>\n",
              "      <td>12.0</td>\n",
              "      <td>20.3</td>\n",
              "      <td>3</td>\n",
              "      <td>False</td>\n",
              "      <td>...</td>\n",
              "      <td>310.0</td>\n",
              "      <td>2.0</td>\n",
              "      <td>553.0</td>\n",
              "      <td>137</td>\n",
              "      <td>127525.25</td>\n",
              "      <td>3</td>\n",
              "      <td>11</td>\n",
              "      <td>2017</td>\n",
              "      <td>другой</td>\n",
              "      <td>14.0</td>\n",
              "    </tr>\n",
              "    <tr>\n",
              "      <th>13</th>\n",
              "      <td>20</td>\n",
              "      <td>3550000.0</td>\n",
              "      <td>42.80</td>\n",
              "      <td>2017-07-01</td>\n",
              "      <td>2</td>\n",
              "      <td>2.56</td>\n",
              "      <td>5.0</td>\n",
              "      <td>27.0</td>\n",
              "      <td>5</td>\n",
              "      <td>False</td>\n",
              "      <td>...</td>\n",
              "      <td>294.0</td>\n",
              "      <td>3.0</td>\n",
              "      <td>298.0</td>\n",
              "      <td>366</td>\n",
              "      <td>82943.93</td>\n",
              "      <td>5</td>\n",
              "      <td>7</td>\n",
              "      <td>2017</td>\n",
              "      <td>последний</td>\n",
              "      <td>33.0</td>\n",
              "    </tr>\n",
              "    <tr>\n",
              "      <th>...</th>\n",
              "      <td>...</td>\n",
              "      <td>...</td>\n",
              "      <td>...</td>\n",
              "      <td>...</td>\n",
              "      <td>...</td>\n",
              "      <td>...</td>\n",
              "      <td>...</td>\n",
              "      <td>...</td>\n",
              "      <td>...</td>\n",
              "      <td>...</td>\n",
              "      <td>...</td>\n",
              "      <td>...</td>\n",
              "      <td>...</td>\n",
              "      <td>...</td>\n",
              "      <td>...</td>\n",
              "      <td>...</td>\n",
              "      <td>...</td>\n",
              "      <td>...</td>\n",
              "      <td>...</td>\n",
              "      <td>...</td>\n",
              "      <td>...</td>\n",
              "    </tr>\n",
              "    <tr>\n",
              "      <th>23691</th>\n",
              "      <td>11</td>\n",
              "      <td>9470000.0</td>\n",
              "      <td>72.90</td>\n",
              "      <td>2016-10-13</td>\n",
              "      <td>2</td>\n",
              "      <td>2.75</td>\n",
              "      <td>25.0</td>\n",
              "      <td>40.3</td>\n",
              "      <td>7</td>\n",
              "      <td>False</td>\n",
              "      <td>...</td>\n",
              "      <td>NaN</td>\n",
              "      <td>1.0</td>\n",
              "      <td>806.0</td>\n",
              "      <td>519</td>\n",
              "      <td>129903.98</td>\n",
              "      <td>3</td>\n",
              "      <td>10</td>\n",
              "      <td>2016</td>\n",
              "      <td>другой</td>\n",
              "      <td>4.0</td>\n",
              "    </tr>\n",
              "    <tr>\n",
              "      <th>23693</th>\n",
              "      <td>9</td>\n",
              "      <td>4600000.0</td>\n",
              "      <td>62.40</td>\n",
              "      <td>2016-08-05</td>\n",
              "      <td>3</td>\n",
              "      <td>2.60</td>\n",
              "      <td>9.0</td>\n",
              "      <td>40.0</td>\n",
              "      <td>8</td>\n",
              "      <td>False</td>\n",
              "      <td>...</td>\n",
              "      <td>352.0</td>\n",
              "      <td>1.0</td>\n",
              "      <td>675.0</td>\n",
              "      <td>239</td>\n",
              "      <td>73717.95</td>\n",
              "      <td>4</td>\n",
              "      <td>8</td>\n",
              "      <td>2016</td>\n",
              "      <td>другой</td>\n",
              "      <td>34.0</td>\n",
              "    </tr>\n",
              "    <tr>\n",
              "      <th>23694</th>\n",
              "      <td>9</td>\n",
              "      <td>9700000.0</td>\n",
              "      <td>133.81</td>\n",
              "      <td>2017-03-21</td>\n",
              "      <td>3</td>\n",
              "      <td>3.70</td>\n",
              "      <td>5.0</td>\n",
              "      <td>73.3</td>\n",
              "      <td>3</td>\n",
              "      <td>False</td>\n",
              "      <td>...</td>\n",
              "      <td>796.0</td>\n",
              "      <td>3.0</td>\n",
              "      <td>381.0</td>\n",
              "      <td>0</td>\n",
              "      <td>72490.85</td>\n",
              "      <td>1</td>\n",
              "      <td>3</td>\n",
              "      <td>2017</td>\n",
              "      <td>другой</td>\n",
              "      <td>4.0</td>\n",
              "    </tr>\n",
              "    <tr>\n",
              "      <th>23697</th>\n",
              "      <td>13</td>\n",
              "      <td>11475000.0</td>\n",
              "      <td>76.75</td>\n",
              "      <td>2017-03-28</td>\n",
              "      <td>2</td>\n",
              "      <td>3.00</td>\n",
              "      <td>17.0</td>\n",
              "      <td>NaN</td>\n",
              "      <td>12</td>\n",
              "      <td>False</td>\n",
              "      <td>...</td>\n",
              "      <td>173.0</td>\n",
              "      <td>3.0</td>\n",
              "      <td>196.0</td>\n",
              "      <td>602</td>\n",
              "      <td>149511.40</td>\n",
              "      <td>1</td>\n",
              "      <td>3</td>\n",
              "      <td>2017</td>\n",
              "      <td>другой</td>\n",
              "      <td>10.0</td>\n",
              "    </tr>\n",
              "    <tr>\n",
              "      <th>23698</th>\n",
              "      <td>4</td>\n",
              "      <td>1350000.0</td>\n",
              "      <td>32.30</td>\n",
              "      <td>2017-07-21</td>\n",
              "      <td>1</td>\n",
              "      <td>2.50</td>\n",
              "      <td>5.0</td>\n",
              "      <td>12.3</td>\n",
              "      <td>1</td>\n",
              "      <td>False</td>\n",
              "      <td>...</td>\n",
              "      <td>NaN</td>\n",
              "      <td>NaN</td>\n",
              "      <td>NaN</td>\n",
              "      <td>0</td>\n",
              "      <td>41795.67</td>\n",
              "      <td>4</td>\n",
              "      <td>7</td>\n",
              "      <td>2017</td>\n",
              "      <td>первый</td>\n",
              "      <td>NaN</td>\n",
              "    </tr>\n",
              "  </tbody>\n",
              "</table>\n",
              "<p>14353 rows × 28 columns</p>\n",
              "</div>"
            ],
            "text/plain": [
              "       total_images  last_price  total_area first_day_exposition  rooms  \\\n",
              "0                20  13000000.0      108.00           2019-03-07      3   \n",
              "4                 2  10000000.0      100.00           2018-06-19      2   \n",
              "9                18   5400000.0       61.00           2017-02-26      3   \n",
              "10                5   5050000.0       39.60           2017-11-16      1   \n",
              "13               20   3550000.0       42.80           2017-07-01      2   \n",
              "...             ...         ...         ...                  ...    ...   \n",
              "23691            11   9470000.0       72.90           2016-10-13      2   \n",
              "23693             9   4600000.0       62.40           2016-08-05      3   \n",
              "23694             9   9700000.0      133.81           2017-03-21      3   \n",
              "23697            13  11475000.0       76.75           2017-03-28      2   \n",
              "23698             4   1350000.0       32.30           2017-07-21      1   \n",
              "\n",
              "       ceiling_height  floors_total  living_area  floor  is_apartment  ...  \\\n",
              "0                2.70          16.0         51.0      8         False  ...   \n",
              "4                3.03          14.0         32.0     13         False  ...   \n",
              "9                2.50           9.0         43.6      7         False  ...   \n",
              "10               2.67          12.0         20.3      3         False  ...   \n",
              "13               2.56           5.0         27.0      5         False  ...   \n",
              "...               ...           ...          ...    ...           ...  ...   \n",
              "23691            2.75          25.0         40.3      7         False  ...   \n",
              "23693            2.60           9.0         40.0      8         False  ...   \n",
              "23694            3.70           5.0         73.3      3         False  ...   \n",
              "23697            3.00          17.0          NaN     12         False  ...   \n",
              "23698            2.50           5.0         12.3      1         False  ...   \n",
              "\n",
              "       parks_nearest  ponds_around_3000  ponds_nearest  days_exposition  \\\n",
              "0              482.0                2.0          755.0                0   \n",
              "4              112.0                1.0           48.0              121   \n",
              "9                NaN                0.0            NaN              289   \n",
              "10             310.0                2.0          553.0              137   \n",
              "13             294.0                3.0          298.0              366   \n",
              "...              ...                ...            ...              ...   \n",
              "23691            NaN                1.0          806.0              519   \n",
              "23693          352.0                1.0          675.0              239   \n",
              "23694          796.0                3.0          381.0                0   \n",
              "23697          173.0                3.0          196.0              602   \n",
              "23698            NaN                NaN            NaN                0   \n",
              "\n",
              "      price_1_meter  weekday_exposition  month_exposition  year_exposition  \\\n",
              "0         120370.37                   3                 3             2019   \n",
              "4         100000.00                   1                 6             2018   \n",
              "9          88524.59                   6                 2             2017   \n",
              "10        127525.25                   3                11             2017   \n",
              "13         82943.93                   5                 7             2017   \n",
              "...             ...                 ...               ...              ...   \n",
              "23691     129903.98                   3                10             2016   \n",
              "23693      73717.95                   4                 8             2016   \n",
              "23694      72490.85                   1                 3             2017   \n",
              "23697     149511.40                   1                 3             2017   \n",
              "23698      41795.67                   4                 7             2017   \n",
              "\n",
              "       floor_category  city_centers_nearest_km  \n",
              "0              другой                     16.0  \n",
              "4              другой                      8.0  \n",
              "9              другой                     15.0  \n",
              "10             другой                     14.0  \n",
              "13          последний                     33.0  \n",
              "...               ...                      ...  \n",
              "23691          другой                      4.0  \n",
              "23693          другой                     34.0  \n",
              "23694          другой                      4.0  \n",
              "23697          другой                     10.0  \n",
              "23698          первый                      NaN  \n",
              "\n",
              "[14353 rows x 28 columns]"
            ]
          },
          "execution_count": 28,
          "metadata": {},
          "output_type": "execute_result"
        }
      ],
      "source": [
        "# По диаграме размаха видим, что в выбросы попадают значения менее 2 м и более 3.2 м.\n",
        "# Для реалистичности данных оставим значения высоты потолков от 2.4 м до 5 м. Остальные значения удалим из данных\n",
        "data = data.query('2.4 <= ceiling_height <= 5')\n",
        "data"
      ]
    },
    {
      "cell_type": "markdown",
      "metadata": {
        "id": "ZNMeiiw4ZfXS"
      },
      "source": [
        "<div class=\"alert alert-warning\">\n",
        "<b>Комментарий ревьюера:</b>⛅️\n",
        "\n",
        "Аномальные значения 20-50 метров возможно вызваны неверным местом запятой в высотах\n",
        "</div>"
      ]
    },
    {
      "cell_type": "markdown",
      "metadata": {
        "id": "DUso1ZBwZfXS"
      },
      "source": [
        "**3. Минимальное значение living_area - жилой площади равно 2 м²**"
      ]
    },
    {
      "cell_type": "code",
      "execution_count": null,
      "metadata": {
        "id": "CB8j-HoHZfXT",
        "outputId": "953afb90-1c35-4996-f0c5-b698b9addfb9"
      },
      "outputs": [
        {
          "data": {
            "text/plain": [
              "<AxesSubplot:ylabel='Frequency'>"
            ]
          },
          "execution_count": 29,
          "metadata": {},
          "output_type": "execute_result"
        },
        {
          "data": {
            "image/png": "[encoded data removed]",
            "text/plain": [
              "<Figure size 864x576 with 1 Axes>"
            ]
          },
          "metadata": {
            "needs_background": "light"
          },
          "output_type": "display_data"
        }
      ],
      "source": [
        "#Построим гистограмму по полю living_area\n",
        "data.plot(y = 'living_area', kind = 'hist', bins = 50, grid=True, ec='black', legend=True, figsize = (12,8), range = (0,100))"
      ]
    },
    {
      "cell_type": "markdown",
      "metadata": {
        "id": "M_bTDLglZfXV"
      },
      "source": [
        "Чаще всего в объявлениях встречаются квартиры с жилой площадью в диапазонах 15-20 м², 25-30 м², 40-45 м².\n",
        "Смущают объявления с жилой площадью недвижимости от 0 до 10 м²."
      ]
    },
    {
      "cell_type": "code",
      "execution_count": null,
      "metadata": {
        "id": "qBkeR2ARZfXW",
        "outputId": "7d21d3f5-04a9-4d3a-98f2-89626d660f64"
      },
      "outputs": [
        {
          "data": {
            "text/html": [
              "<div>\n",
              "<style scoped>\n",
              "    .dataframe tbody tr th:only-of-type {\n",
              "        vertical-align: middle;\n",
              "    }\n",
              "\n",
              "    .dataframe tbody tr th {\n",
              "        vertical-align: top;\n",
              "    }\n",
              "\n",
              "    .dataframe thead th {\n",
              "        text-align: right;\n",
              "    }\n",
              "</style>\n",
              "<table border=\"1\" class=\"dataframe\">\n",
              "  <thead>\n",
              "    <tr style=\"text-align: right;\">\n",
              "      <th></th>\n",
              "      <th>total_images</th>\n",
              "      <th>last_price</th>\n",
              "      <th>total_area</th>\n",
              "      <th>first_day_exposition</th>\n",
              "      <th>rooms</th>\n",
              "      <th>ceiling_height</th>\n",
              "      <th>floors_total</th>\n",
              "      <th>living_area</th>\n",
              "      <th>floor</th>\n",
              "      <th>is_apartment</th>\n",
              "      <th>...</th>\n",
              "      <th>parks_nearest</th>\n",
              "      <th>ponds_around_3000</th>\n",
              "      <th>ponds_nearest</th>\n",
              "      <th>days_exposition</th>\n",
              "      <th>price_1_meter</th>\n",
              "      <th>weekday_exposition</th>\n",
              "      <th>month_exposition</th>\n",
              "      <th>year_exposition</th>\n",
              "      <th>floor_category</th>\n",
              "      <th>city_centers_nearest_km</th>\n",
              "    </tr>\n",
              "  </thead>\n",
              "  <tbody>\n",
              "    <tr>\n",
              "      <th>114</th>\n",
              "      <td>5</td>\n",
              "      <td>4000000.0</td>\n",
              "      <td>21.4</td>\n",
              "      <td>2019-02-07</td>\n",
              "      <td>1</td>\n",
              "      <td>2.90</td>\n",
              "      <td>8.0</td>\n",
              "      <td>8.3</td>\n",
              "      <td>7</td>\n",
              "      <td>False</td>\n",
              "      <td>...</td>\n",
              "      <td>488.0</td>\n",
              "      <td>1.0</td>\n",
              "      <td>286.0</td>\n",
              "      <td>0</td>\n",
              "      <td>186915.89</td>\n",
              "      <td>3</td>\n",
              "      <td>2</td>\n",
              "      <td>2019</td>\n",
              "      <td>другой</td>\n",
              "      <td>6.0</td>\n",
              "    </tr>\n",
              "    <tr>\n",
              "      <th>1326</th>\n",
              "      <td>8</td>\n",
              "      <td>8100000.0</td>\n",
              "      <td>52.0</td>\n",
              "      <td>2017-01-29</td>\n",
              "      <td>2</td>\n",
              "      <td>2.70</td>\n",
              "      <td>25.0</td>\n",
              "      <td>9.0</td>\n",
              "      <td>15</td>\n",
              "      <td>False</td>\n",
              "      <td>...</td>\n",
              "      <td>NaN</td>\n",
              "      <td>1.0</td>\n",
              "      <td>1180.0</td>\n",
              "      <td>337</td>\n",
              "      <td>155769.23</td>\n",
              "      <td>6</td>\n",
              "      <td>1</td>\n",
              "      <td>2017</td>\n",
              "      <td>другой</td>\n",
              "      <td>16.0</td>\n",
              "    </tr>\n",
              "    <tr>\n",
              "      <th>2309</th>\n",
              "      <td>10</td>\n",
              "      <td>4200000.0</td>\n",
              "      <td>62.4</td>\n",
              "      <td>2017-06-15</td>\n",
              "      <td>2</td>\n",
              "      <td>2.60</td>\n",
              "      <td>9.0</td>\n",
              "      <td>8.4</td>\n",
              "      <td>6</td>\n",
              "      <td>False</td>\n",
              "      <td>...</td>\n",
              "      <td>NaN</td>\n",
              "      <td>0.0</td>\n",
              "      <td>NaN</td>\n",
              "      <td>111</td>\n",
              "      <td>67307.69</td>\n",
              "      <td>3</td>\n",
              "      <td>6</td>\n",
              "      <td>2017</td>\n",
              "      <td>другой</td>\n",
              "      <td>29.0</td>\n",
              "    </tr>\n",
              "    <tr>\n",
              "      <th>4100</th>\n",
              "      <td>17</td>\n",
              "      <td>5300000.0</td>\n",
              "      <td>34.8</td>\n",
              "      <td>2017-06-19</td>\n",
              "      <td>1</td>\n",
              "      <td>2.70</td>\n",
              "      <td>23.0</td>\n",
              "      <td>9.0</td>\n",
              "      <td>15</td>\n",
              "      <td>False</td>\n",
              "      <td>...</td>\n",
              "      <td>NaN</td>\n",
              "      <td>0.0</td>\n",
              "      <td>NaN</td>\n",
              "      <td>30</td>\n",
              "      <td>152298.85</td>\n",
              "      <td>0</td>\n",
              "      <td>6</td>\n",
              "      <td>2017</td>\n",
              "      <td>другой</td>\n",
              "      <td>13.0</td>\n",
              "    </tr>\n",
              "    <tr>\n",
              "      <th>4542</th>\n",
              "      <td>12</td>\n",
              "      <td>3300000.0</td>\n",
              "      <td>18.0</td>\n",
              "      <td>2018-11-07</td>\n",
              "      <td>1</td>\n",
              "      <td>3.50</td>\n",
              "      <td>5.0</td>\n",
              "      <td>9.0</td>\n",
              "      <td>2</td>\n",
              "      <td>False</td>\n",
              "      <td>...</td>\n",
              "      <td>349.0</td>\n",
              "      <td>1.0</td>\n",
              "      <td>963.0</td>\n",
              "      <td>9</td>\n",
              "      <td>183333.33</td>\n",
              "      <td>2</td>\n",
              "      <td>11</td>\n",
              "      <td>2018</td>\n",
              "      <td>другой</td>\n",
              "      <td>5.0</td>\n",
              "    </tr>\n",
              "    <tr>\n",
              "      <th>7312</th>\n",
              "      <td>8</td>\n",
              "      <td>3400000.0</td>\n",
              "      <td>27.0</td>\n",
              "      <td>2018-02-21</td>\n",
              "      <td>2</td>\n",
              "      <td>2.50</td>\n",
              "      <td>15.0</td>\n",
              "      <td>9.0</td>\n",
              "      <td>4</td>\n",
              "      <td>False</td>\n",
              "      <td>...</td>\n",
              "      <td>617.0</td>\n",
              "      <td>0.0</td>\n",
              "      <td>NaN</td>\n",
              "      <td>0</td>\n",
              "      <td>125925.93</td>\n",
              "      <td>2</td>\n",
              "      <td>2</td>\n",
              "      <td>2018</td>\n",
              "      <td>другой</td>\n",
              "      <td>16.0</td>\n",
              "    </tr>\n",
              "    <tr>\n",
              "      <th>13915</th>\n",
              "      <td>20</td>\n",
              "      <td>6350000.0</td>\n",
              "      <td>52.0</td>\n",
              "      <td>2018-02-06</td>\n",
              "      <td>2</td>\n",
              "      <td>3.00</td>\n",
              "      <td>6.0</td>\n",
              "      <td>2.0</td>\n",
              "      <td>2</td>\n",
              "      <td>False</td>\n",
              "      <td>...</td>\n",
              "      <td>NaN</td>\n",
              "      <td>1.0</td>\n",
              "      <td>1012.0</td>\n",
              "      <td>91</td>\n",
              "      <td>122115.38</td>\n",
              "      <td>1</td>\n",
              "      <td>2</td>\n",
              "      <td>2018</td>\n",
              "      <td>другой</td>\n",
              "      <td>7.0</td>\n",
              "    </tr>\n",
              "    <tr>\n",
              "      <th>15833</th>\n",
              "      <td>20</td>\n",
              "      <td>4600000.0</td>\n",
              "      <td>33.0</td>\n",
              "      <td>2017-01-01</td>\n",
              "      <td>1</td>\n",
              "      <td>2.70</td>\n",
              "      <td>22.0</td>\n",
              "      <td>9.0</td>\n",
              "      <td>12</td>\n",
              "      <td>False</td>\n",
              "      <td>...</td>\n",
              "      <td>NaN</td>\n",
              "      <td>0.0</td>\n",
              "      <td>NaN</td>\n",
              "      <td>511</td>\n",
              "      <td>139393.94</td>\n",
              "      <td>6</td>\n",
              "      <td>1</td>\n",
              "      <td>2017</td>\n",
              "      <td>другой</td>\n",
              "      <td>14.0</td>\n",
              "    </tr>\n",
              "    <tr>\n",
              "      <th>16431</th>\n",
              "      <td>13</td>\n",
              "      <td>3799000.0</td>\n",
              "      <td>31.0</td>\n",
              "      <td>2018-04-12</td>\n",
              "      <td>1</td>\n",
              "      <td>2.60</td>\n",
              "      <td>5.0</td>\n",
              "      <td>6.0</td>\n",
              "      <td>1</td>\n",
              "      <td>False</td>\n",
              "      <td>...</td>\n",
              "      <td>430.0</td>\n",
              "      <td>0.0</td>\n",
              "      <td>NaN</td>\n",
              "      <td>168</td>\n",
              "      <td>122548.39</td>\n",
              "      <td>3</td>\n",
              "      <td>4</td>\n",
              "      <td>2018</td>\n",
              "      <td>первый</td>\n",
              "      <td>5.0</td>\n",
              "    </tr>\n",
              "    <tr>\n",
              "      <th>17248</th>\n",
              "      <td>20</td>\n",
              "      <td>5300000.0</td>\n",
              "      <td>33.0</td>\n",
              "      <td>2017-04-14</td>\n",
              "      <td>1</td>\n",
              "      <td>2.70</td>\n",
              "      <td>22.0</td>\n",
              "      <td>8.9</td>\n",
              "      <td>16</td>\n",
              "      <td>False</td>\n",
              "      <td>...</td>\n",
              "      <td>NaN</td>\n",
              "      <td>0.0</td>\n",
              "      <td>NaN</td>\n",
              "      <td>216</td>\n",
              "      <td>160606.06</td>\n",
              "      <td>4</td>\n",
              "      <td>4</td>\n",
              "      <td>2017</td>\n",
              "      <td>другой</td>\n",
              "      <td>14.0</td>\n",
              "    </tr>\n",
              "    <tr>\n",
              "      <th>19251</th>\n",
              "      <td>19</td>\n",
              "      <td>4050000.0</td>\n",
              "      <td>33.0</td>\n",
              "      <td>2018-10-15</td>\n",
              "      <td>1</td>\n",
              "      <td>2.50</td>\n",
              "      <td>22.0</td>\n",
              "      <td>6.5</td>\n",
              "      <td>21</td>\n",
              "      <td>False</td>\n",
              "      <td>...</td>\n",
              "      <td>458.0</td>\n",
              "      <td>0.0</td>\n",
              "      <td>NaN</td>\n",
              "      <td>44</td>\n",
              "      <td>122727.27</td>\n",
              "      <td>0</td>\n",
              "      <td>10</td>\n",
              "      <td>2018</td>\n",
              "      <td>другой</td>\n",
              "      <td>11.0</td>\n",
              "    </tr>\n",
              "    <tr>\n",
              "      <th>20994</th>\n",
              "      <td>7</td>\n",
              "      <td>8900000.0</td>\n",
              "      <td>50.6</td>\n",
              "      <td>2018-10-22</td>\n",
              "      <td>2</td>\n",
              "      <td>2.50</td>\n",
              "      <td>7.0</td>\n",
              "      <td>8.0</td>\n",
              "      <td>3</td>\n",
              "      <td>False</td>\n",
              "      <td>...</td>\n",
              "      <td>173.0</td>\n",
              "      <td>3.0</td>\n",
              "      <td>126.0</td>\n",
              "      <td>0</td>\n",
              "      <td>175889.33</td>\n",
              "      <td>0</td>\n",
              "      <td>10</td>\n",
              "      <td>2018</td>\n",
              "      <td>другой</td>\n",
              "      <td>8.0</td>\n",
              "    </tr>\n",
              "    <tr>\n",
              "      <th>21505</th>\n",
              "      <td>9</td>\n",
              "      <td>4100000.0</td>\n",
              "      <td>35.3</td>\n",
              "      <td>2018-01-10</td>\n",
              "      <td>1</td>\n",
              "      <td>2.75</td>\n",
              "      <td>27.0</td>\n",
              "      <td>8.5</td>\n",
              "      <td>11</td>\n",
              "      <td>False</td>\n",
              "      <td>...</td>\n",
              "      <td>NaN</td>\n",
              "      <td>0.0</td>\n",
              "      <td>NaN</td>\n",
              "      <td>60</td>\n",
              "      <td>116147.31</td>\n",
              "      <td>2</td>\n",
              "      <td>1</td>\n",
              "      <td>2018</td>\n",
              "      <td>другой</td>\n",
              "      <td>15.0</td>\n",
              "    </tr>\n",
              "    <tr>\n",
              "      <th>21908</th>\n",
              "      <td>9</td>\n",
              "      <td>5300000.0</td>\n",
              "      <td>46.3</td>\n",
              "      <td>2018-03-20</td>\n",
              "      <td>1</td>\n",
              "      <td>2.75</td>\n",
              "      <td>7.0</td>\n",
              "      <td>9.8</td>\n",
              "      <td>3</td>\n",
              "      <td>False</td>\n",
              "      <td>...</td>\n",
              "      <td>NaN</td>\n",
              "      <td>1.0</td>\n",
              "      <td>1144.0</td>\n",
              "      <td>36</td>\n",
              "      <td>114470.84</td>\n",
              "      <td>1</td>\n",
              "      <td>3</td>\n",
              "      <td>2018</td>\n",
              "      <td>другой</td>\n",
              "      <td>32.0</td>\n",
              "    </tr>\n",
              "    <tr>\n",
              "      <th>21943</th>\n",
              "      <td>15</td>\n",
              "      <td>6100000.0</td>\n",
              "      <td>77.6</td>\n",
              "      <td>2019-02-28</td>\n",
              "      <td>4</td>\n",
              "      <td>2.50</td>\n",
              "      <td>9.0</td>\n",
              "      <td>5.4</td>\n",
              "      <td>1</td>\n",
              "      <td>False</td>\n",
              "      <td>...</td>\n",
              "      <td>584.0</td>\n",
              "      <td>0.0</td>\n",
              "      <td>NaN</td>\n",
              "      <td>33</td>\n",
              "      <td>78608.25</td>\n",
              "      <td>3</td>\n",
              "      <td>2</td>\n",
              "      <td>2019</td>\n",
              "      <td>первый</td>\n",
              "      <td>11.0</td>\n",
              "    </tr>\n",
              "    <tr>\n",
              "      <th>22252</th>\n",
              "      <td>4</td>\n",
              "      <td>3340000.0</td>\n",
              "      <td>37.4</td>\n",
              "      <td>2018-02-08</td>\n",
              "      <td>1</td>\n",
              "      <td>2.80</td>\n",
              "      <td>8.0</td>\n",
              "      <td>9.0</td>\n",
              "      <td>4</td>\n",
              "      <td>False</td>\n",
              "      <td>...</td>\n",
              "      <td>365.0</td>\n",
              "      <td>0.0</td>\n",
              "      <td>NaN</td>\n",
              "      <td>233</td>\n",
              "      <td>89304.81</td>\n",
              "      <td>3</td>\n",
              "      <td>2</td>\n",
              "      <td>2018</td>\n",
              "      <td>другой</td>\n",
              "      <td>19.0</td>\n",
              "    </tr>\n",
              "    <tr>\n",
              "      <th>23574</th>\n",
              "      <td>14</td>\n",
              "      <td>64990000.0</td>\n",
              "      <td>139.0</td>\n",
              "      <td>2015-11-24</td>\n",
              "      <td>3</td>\n",
              "      <td>3.00</td>\n",
              "      <td>8.0</td>\n",
              "      <td>3.0</td>\n",
              "      <td>8</td>\n",
              "      <td>False</td>\n",
              "      <td>...</td>\n",
              "      <td>630.0</td>\n",
              "      <td>3.0</td>\n",
              "      <td>100.0</td>\n",
              "      <td>280</td>\n",
              "      <td>467553.96</td>\n",
              "      <td>1</td>\n",
              "      <td>11</td>\n",
              "      <td>2015</td>\n",
              "      <td>последний</td>\n",
              "      <td>6.0</td>\n",
              "    </tr>\n",
              "  </tbody>\n",
              "</table>\n",
              "<p>17 rows × 28 columns</p>\n",
              "</div>"
            ],
            "text/plain": [
              "       total_images  last_price  total_area first_day_exposition  rooms  \\\n",
              "114               5   4000000.0        21.4           2019-02-07      1   \n",
              "1326              8   8100000.0        52.0           2017-01-29      2   \n",
              "2309             10   4200000.0        62.4           2017-06-15      2   \n",
              "4100             17   5300000.0        34.8           2017-06-19      1   \n",
              "4542             12   3300000.0        18.0           2018-11-07      1   \n",
              "7312              8   3400000.0        27.0           2018-02-21      2   \n",
              "13915            20   6350000.0        52.0           2018-02-06      2   \n",
              "15833            20   4600000.0        33.0           2017-01-01      1   \n",
              "16431            13   3799000.0        31.0           2018-04-12      1   \n",
              "17248            20   5300000.0        33.0           2017-04-14      1   \n",
              "19251            19   4050000.0        33.0           2018-10-15      1   \n",
              "20994             7   8900000.0        50.6           2018-10-22      2   \n",
              "21505             9   4100000.0        35.3           2018-01-10      1   \n",
              "21908             9   5300000.0        46.3           2018-03-20      1   \n",
              "21943            15   6100000.0        77.6           2019-02-28      4   \n",
              "22252             4   3340000.0        37.4           2018-02-08      1   \n",
              "23574            14  64990000.0       139.0           2015-11-24      3   \n",
              "\n",
              "       ceiling_height  floors_total  living_area  floor  is_apartment  ...  \\\n",
              "114              2.90           8.0          8.3      7         False  ...   \n",
              "1326             2.70          25.0          9.0     15         False  ...   \n",
              "2309             2.60           9.0          8.4      6         False  ...   \n",
              "4100             2.70          23.0          9.0     15         False  ...   \n",
              "4542             3.50           5.0          9.0      2         False  ...   \n",
              "7312             2.50          15.0          9.0      4         False  ...   \n",
              "13915            3.00           6.0          2.0      2         False  ...   \n",
              "15833            2.70          22.0          9.0     12         False  ...   \n",
              "16431            2.60           5.0          6.0      1         False  ...   \n",
              "17248            2.70          22.0          8.9     16         False  ...   \n",
              "19251            2.50          22.0          6.5     21         False  ...   \n",
              "20994            2.50           7.0          8.0      3         False  ...   \n",
              "21505            2.75          27.0          8.5     11         False  ...   \n",
              "21908            2.75           7.0          9.8      3         False  ...   \n",
              "21943            2.50           9.0          5.4      1         False  ...   \n",
              "22252            2.80           8.0          9.0      4         False  ...   \n",
              "23574            3.00           8.0          3.0      8         False  ...   \n",
              "\n",
              "       parks_nearest  ponds_around_3000  ponds_nearest  days_exposition  \\\n",
              "114            488.0                1.0          286.0                0   \n",
              "1326             NaN                1.0         1180.0              337   \n",
              "2309             NaN                0.0            NaN              111   \n",
              "4100             NaN                0.0            NaN               30   \n",
              "4542           349.0                1.0          963.0                9   \n",
              "7312           617.0                0.0            NaN                0   \n",
              "13915            NaN                1.0         1012.0               91   \n",
              "15833            NaN                0.0            NaN              511   \n",
              "16431          430.0                0.0            NaN              168   \n",
              "17248            NaN                0.0            NaN              216   \n",
              "19251          458.0                0.0            NaN               44   \n",
              "20994          173.0                3.0          126.0                0   \n",
              "21505            NaN                0.0            NaN               60   \n",
              "21908            NaN                1.0         1144.0               36   \n",
              "21943          584.0                0.0            NaN               33   \n",
              "22252          365.0                0.0            NaN              233   \n",
              "23574          630.0                3.0          100.0              280   \n",
              "\n",
              "      price_1_meter  weekday_exposition  month_exposition  year_exposition  \\\n",
              "114       186915.89                   3                 2             2019   \n",
              "1326      155769.23                   6                 1             2017   \n",
              "2309       67307.69                   3                 6             2017   \n",
              "4100      152298.85                   0                 6             2017   \n",
              "4542      183333.33                   2                11             2018   \n",
              "7312      125925.93                   2                 2             2018   \n",
              "13915     122115.38                   1                 2             2018   \n",
              "15833     139393.94                   6                 1             2017   \n",
              "16431     122548.39                   3                 4             2018   \n",
              "17248     160606.06                   4                 4             2017   \n",
              "19251     122727.27                   0                10             2018   \n",
              "20994     175889.33                   0                10             2018   \n",
              "21505     116147.31                   2                 1             2018   \n",
              "21908     114470.84                   1                 3             2018   \n",
              "21943      78608.25                   3                 2             2019   \n",
              "22252      89304.81                   3                 2             2018   \n",
              "23574     467553.96                   1                11             2015   \n",
              "\n",
              "       floor_category  city_centers_nearest_km  \n",
              "114            другой                      6.0  \n",
              "1326           другой                     16.0  \n",
              "2309           другой                     29.0  \n",
              "4100           другой                     13.0  \n",
              "4542           другой                      5.0  \n",
              "7312           другой                     16.0  \n",
              "13915          другой                      7.0  \n",
              "15833          другой                     14.0  \n",
              "16431          первый                      5.0  \n",
              "17248          другой                     14.0  \n",
              "19251          другой                     11.0  \n",
              "20994          другой                      8.0  \n",
              "21505          другой                     15.0  \n",
              "21908          другой                     32.0  \n",
              "21943          первый                     11.0  \n",
              "22252          другой                     19.0  \n",
              "23574       последний                      6.0  \n",
              "\n",
              "[17 rows x 28 columns]"
            ]
          },
          "execution_count": 30,
          "metadata": {},
          "output_type": "execute_result"
        }
      ],
      "source": [
        "# Посмотрим данные по полям, где жилая площадь менее 10 м²\n",
        "data.query('living_area < 10')"
      ]
    },
    {
      "cell_type": "code",
      "execution_count": null,
      "metadata": {
        "id": "SyF6KW9QZfXW",
        "outputId": "96762949-89db-4bbc-a9b4-34d63043c2a3"
      },
      "outputs": [
        {
          "data": {
            "text/html": [
              "<div>\n",
              "<style scoped>\n",
              "    .dataframe tbody tr th:only-of-type {\n",
              "        vertical-align: middle;\n",
              "    }\n",
              "\n",
              "    .dataframe tbody tr th {\n",
              "        vertical-align: top;\n",
              "    }\n",
              "\n",
              "    .dataframe thead th {\n",
              "        text-align: right;\n",
              "    }\n",
              "</style>\n",
              "<table border=\"1\" class=\"dataframe\">\n",
              "  <thead>\n",
              "    <tr style=\"text-align: right;\">\n",
              "      <th></th>\n",
              "      <th>total_images</th>\n",
              "      <th>last_price</th>\n",
              "      <th>total_area</th>\n",
              "      <th>first_day_exposition</th>\n",
              "      <th>rooms</th>\n",
              "      <th>ceiling_height</th>\n",
              "      <th>floors_total</th>\n",
              "      <th>living_area</th>\n",
              "      <th>floor</th>\n",
              "      <th>is_apartment</th>\n",
              "      <th>...</th>\n",
              "      <th>parks_nearest</th>\n",
              "      <th>ponds_around_3000</th>\n",
              "      <th>ponds_nearest</th>\n",
              "      <th>days_exposition</th>\n",
              "      <th>price_1_meter</th>\n",
              "      <th>weekday_exposition</th>\n",
              "      <th>month_exposition</th>\n",
              "      <th>year_exposition</th>\n",
              "      <th>floor_category</th>\n",
              "      <th>city_centers_nearest_km</th>\n",
              "    </tr>\n",
              "  </thead>\n",
              "  <tbody>\n",
              "    <tr>\n",
              "      <th>0</th>\n",
              "      <td>20</td>\n",
              "      <td>13000000.0</td>\n",
              "      <td>108.00</td>\n",
              "      <td>2019-03-07</td>\n",
              "      <td>3</td>\n",
              "      <td>2.70</td>\n",
              "      <td>16.0</td>\n",
              "      <td>51.0</td>\n",
              "      <td>8</td>\n",
              "      <td>False</td>\n",
              "      <td>...</td>\n",
              "      <td>482.0</td>\n",
              "      <td>2.0</td>\n",
              "      <td>755.0</td>\n",
              "      <td>0</td>\n",
              "      <td>120370.37</td>\n",
              "      <td>3</td>\n",
              "      <td>3</td>\n",
              "      <td>2019</td>\n",
              "      <td>другой</td>\n",
              "      <td>16.0</td>\n",
              "    </tr>\n",
              "    <tr>\n",
              "      <th>4</th>\n",
              "      <td>2</td>\n",
              "      <td>10000000.0</td>\n",
              "      <td>100.00</td>\n",
              "      <td>2018-06-19</td>\n",
              "      <td>2</td>\n",
              "      <td>3.03</td>\n",
              "      <td>14.0</td>\n",
              "      <td>32.0</td>\n",
              "      <td>13</td>\n",
              "      <td>False</td>\n",
              "      <td>...</td>\n",
              "      <td>112.0</td>\n",
              "      <td>1.0</td>\n",
              "      <td>48.0</td>\n",
              "      <td>121</td>\n",
              "      <td>100000.00</td>\n",
              "      <td>1</td>\n",
              "      <td>6</td>\n",
              "      <td>2018</td>\n",
              "      <td>другой</td>\n",
              "      <td>8.0</td>\n",
              "    </tr>\n",
              "    <tr>\n",
              "      <th>9</th>\n",
              "      <td>18</td>\n",
              "      <td>5400000.0</td>\n",
              "      <td>61.00</td>\n",
              "      <td>2017-02-26</td>\n",
              "      <td>3</td>\n",
              "      <td>2.50</td>\n",
              "      <td>9.0</td>\n",
              "      <td>43.6</td>\n",
              "      <td>7</td>\n",
              "      <td>False</td>\n",
              "      <td>...</td>\n",
              "      <td>NaN</td>\n",
              "      <td>0.0</td>\n",
              "      <td>NaN</td>\n",
              "      <td>289</td>\n",
              "      <td>88524.59</td>\n",
              "      <td>6</td>\n",
              "      <td>2</td>\n",
              "      <td>2017</td>\n",
              "      <td>другой</td>\n",
              "      <td>15.0</td>\n",
              "    </tr>\n",
              "    <tr>\n",
              "      <th>10</th>\n",
              "      <td>5</td>\n",
              "      <td>5050000.0</td>\n",
              "      <td>39.60</td>\n",
              "      <td>2017-11-16</td>\n",
              "      <td>1</td>\n",
              "      <td>2.67</td>\n",
              "      <td>12.0</td>\n",
              "      <td>20.3</td>\n",
              "      <td>3</td>\n",
              "      <td>False</td>\n",
              "      <td>...</td>\n",
              "      <td>310.0</td>\n",
              "      <td>2.0</td>\n",
              "      <td>553.0</td>\n",
              "      <td>137</td>\n",
              "      <td>127525.25</td>\n",
              "      <td>3</td>\n",
              "      <td>11</td>\n",
              "      <td>2017</td>\n",
              "      <td>другой</td>\n",
              "      <td>14.0</td>\n",
              "    </tr>\n",
              "    <tr>\n",
              "      <th>13</th>\n",
              "      <td>20</td>\n",
              "      <td>3550000.0</td>\n",
              "      <td>42.80</td>\n",
              "      <td>2017-07-01</td>\n",
              "      <td>2</td>\n",
              "      <td>2.56</td>\n",
              "      <td>5.0</td>\n",
              "      <td>27.0</td>\n",
              "      <td>5</td>\n",
              "      <td>False</td>\n",
              "      <td>...</td>\n",
              "      <td>294.0</td>\n",
              "      <td>3.0</td>\n",
              "      <td>298.0</td>\n",
              "      <td>366</td>\n",
              "      <td>82943.93</td>\n",
              "      <td>5</td>\n",
              "      <td>7</td>\n",
              "      <td>2017</td>\n",
              "      <td>последний</td>\n",
              "      <td>33.0</td>\n",
              "    </tr>\n",
              "    <tr>\n",
              "      <th>...</th>\n",
              "      <td>...</td>\n",
              "      <td>...</td>\n",
              "      <td>...</td>\n",
              "      <td>...</td>\n",
              "      <td>...</td>\n",
              "      <td>...</td>\n",
              "      <td>...</td>\n",
              "      <td>...</td>\n",
              "      <td>...</td>\n",
              "      <td>...</td>\n",
              "      <td>...</td>\n",
              "      <td>...</td>\n",
              "      <td>...</td>\n",
              "      <td>...</td>\n",
              "      <td>...</td>\n",
              "      <td>...</td>\n",
              "      <td>...</td>\n",
              "      <td>...</td>\n",
              "      <td>...</td>\n",
              "      <td>...</td>\n",
              "      <td>...</td>\n",
              "    </tr>\n",
              "    <tr>\n",
              "      <th>23689</th>\n",
              "      <td>13</td>\n",
              "      <td>3550000.0</td>\n",
              "      <td>35.30</td>\n",
              "      <td>2018-02-28</td>\n",
              "      <td>1</td>\n",
              "      <td>2.86</td>\n",
              "      <td>15.0</td>\n",
              "      <td>16.3</td>\n",
              "      <td>4</td>\n",
              "      <td>False</td>\n",
              "      <td>...</td>\n",
              "      <td>353.0</td>\n",
              "      <td>2.0</td>\n",
              "      <td>652.0</td>\n",
              "      <td>29</td>\n",
              "      <td>100566.57</td>\n",
              "      <td>2</td>\n",
              "      <td>2</td>\n",
              "      <td>2018</td>\n",
              "      <td>другой</td>\n",
              "      <td>16.0</td>\n",
              "    </tr>\n",
              "    <tr>\n",
              "      <th>23691</th>\n",
              "      <td>11</td>\n",
              "      <td>9470000.0</td>\n",
              "      <td>72.90</td>\n",
              "      <td>2016-10-13</td>\n",
              "      <td>2</td>\n",
              "      <td>2.75</td>\n",
              "      <td>25.0</td>\n",
              "      <td>40.3</td>\n",
              "      <td>7</td>\n",
              "      <td>False</td>\n",
              "      <td>...</td>\n",
              "      <td>NaN</td>\n",
              "      <td>1.0</td>\n",
              "      <td>806.0</td>\n",
              "      <td>519</td>\n",
              "      <td>129903.98</td>\n",
              "      <td>3</td>\n",
              "      <td>10</td>\n",
              "      <td>2016</td>\n",
              "      <td>другой</td>\n",
              "      <td>4.0</td>\n",
              "    </tr>\n",
              "    <tr>\n",
              "      <th>23693</th>\n",
              "      <td>9</td>\n",
              "      <td>4600000.0</td>\n",
              "      <td>62.40</td>\n",
              "      <td>2016-08-05</td>\n",
              "      <td>3</td>\n",
              "      <td>2.60</td>\n",
              "      <td>9.0</td>\n",
              "      <td>40.0</td>\n",
              "      <td>8</td>\n",
              "      <td>False</td>\n",
              "      <td>...</td>\n",
              "      <td>352.0</td>\n",
              "      <td>1.0</td>\n",
              "      <td>675.0</td>\n",
              "      <td>239</td>\n",
              "      <td>73717.95</td>\n",
              "      <td>4</td>\n",
              "      <td>8</td>\n",
              "      <td>2016</td>\n",
              "      <td>другой</td>\n",
              "      <td>34.0</td>\n",
              "    </tr>\n",
              "    <tr>\n",
              "      <th>23694</th>\n",
              "      <td>9</td>\n",
              "      <td>9700000.0</td>\n",
              "      <td>133.81</td>\n",
              "      <td>2017-03-21</td>\n",
              "      <td>3</td>\n",
              "      <td>3.70</td>\n",
              "      <td>5.0</td>\n",
              "      <td>73.3</td>\n",
              "      <td>3</td>\n",
              "      <td>False</td>\n",
              "      <td>...</td>\n",
              "      <td>796.0</td>\n",
              "      <td>3.0</td>\n",
              "      <td>381.0</td>\n",
              "      <td>0</td>\n",
              "      <td>72490.85</td>\n",
              "      <td>1</td>\n",
              "      <td>3</td>\n",
              "      <td>2017</td>\n",
              "      <td>другой</td>\n",
              "      <td>4.0</td>\n",
              "    </tr>\n",
              "    <tr>\n",
              "      <th>23698</th>\n",
              "      <td>4</td>\n",
              "      <td>1350000.0</td>\n",
              "      <td>32.30</td>\n",
              "      <td>2017-07-21</td>\n",
              "      <td>1</td>\n",
              "      <td>2.50</td>\n",
              "      <td>5.0</td>\n",
              "      <td>12.3</td>\n",
              "      <td>1</td>\n",
              "      <td>False</td>\n",
              "      <td>...</td>\n",
              "      <td>NaN</td>\n",
              "      <td>NaN</td>\n",
              "      <td>NaN</td>\n",
              "      <td>0</td>\n",
              "      <td>41795.67</td>\n",
              "      <td>4</td>\n",
              "      <td>7</td>\n",
              "      <td>2017</td>\n",
              "      <td>первый</td>\n",
              "      <td>NaN</td>\n",
              "    </tr>\n",
              "  </tbody>\n",
              "</table>\n",
              "<p>13549 rows × 28 columns</p>\n",
              "</div>"
            ],
            "text/plain": [
              "       total_images  last_price  total_area first_day_exposition  rooms  \\\n",
              "0                20  13000000.0      108.00           2019-03-07      3   \n",
              "4                 2  10000000.0      100.00           2018-06-19      2   \n",
              "9                18   5400000.0       61.00           2017-02-26      3   \n",
              "10                5   5050000.0       39.60           2017-11-16      1   \n",
              "13               20   3550000.0       42.80           2017-07-01      2   \n",
              "...             ...         ...         ...                  ...    ...   \n",
              "23689            13   3550000.0       35.30           2018-02-28      1   \n",
              "23691            11   9470000.0       72.90           2016-10-13      2   \n",
              "23693             9   4600000.0       62.40           2016-08-05      3   \n",
              "23694             9   9700000.0      133.81           2017-03-21      3   \n",
              "23698             4   1350000.0       32.30           2017-07-21      1   \n",
              "\n",
              "       ceiling_height  floors_total  living_area  floor  is_apartment  ...  \\\n",
              "0                2.70          16.0         51.0      8         False  ...   \n",
              "4                3.03          14.0         32.0     13         False  ...   \n",
              "9                2.50           9.0         43.6      7         False  ...   \n",
              "10               2.67          12.0         20.3      3         False  ...   \n",
              "13               2.56           5.0         27.0      5         False  ...   \n",
              "...               ...           ...          ...    ...           ...  ...   \n",
              "23689            2.86          15.0         16.3      4         False  ...   \n",
              "23691            2.75          25.0         40.3      7         False  ...   \n",
              "23693            2.60           9.0         40.0      8         False  ...   \n",
              "23694            3.70           5.0         73.3      3         False  ...   \n",
              "23698            2.50           5.0         12.3      1         False  ...   \n",
              "\n",
              "       parks_nearest  ponds_around_3000  ponds_nearest  days_exposition  \\\n",
              "0              482.0                2.0          755.0                0   \n",
              "4              112.0                1.0           48.0              121   \n",
              "9                NaN                0.0            NaN              289   \n",
              "10             310.0                2.0          553.0              137   \n",
              "13             294.0                3.0          298.0              366   \n",
              "...              ...                ...            ...              ...   \n",
              "23689          353.0                2.0          652.0               29   \n",
              "23691            NaN                1.0          806.0              519   \n",
              "23693          352.0                1.0          675.0              239   \n",
              "23694          796.0                3.0          381.0                0   \n",
              "23698            NaN                NaN            NaN                0   \n",
              "\n",
              "      price_1_meter  weekday_exposition  month_exposition  year_exposition  \\\n",
              "0         120370.37                   3                 3             2019   \n",
              "4         100000.00                   1                 6             2018   \n",
              "9          88524.59                   6                 2             2017   \n",
              "10        127525.25                   3                11             2017   \n",
              "13         82943.93                   5                 7             2017   \n",
              "...             ...                 ...               ...              ...   \n",
              "23689     100566.57                   2                 2             2018   \n",
              "23691     129903.98                   3                10             2016   \n",
              "23693      73717.95                   4                 8             2016   \n",
              "23694      72490.85                   1                 3             2017   \n",
              "23698      41795.67                   4                 7             2017   \n",
              "\n",
              "       floor_category  city_centers_nearest_km  \n",
              "0              другой                     16.0  \n",
              "4              другой                      8.0  \n",
              "9              другой                     15.0  \n",
              "10             другой                     14.0  \n",
              "13          последний                     33.0  \n",
              "...               ...                      ...  \n",
              "23689          другой                     16.0  \n",
              "23691          другой                      4.0  \n",
              "23693          другой                     34.0  \n",
              "23694          другой                      4.0  \n",
              "23698          первый                      NaN  \n",
              "\n",
              "[13549 rows x 28 columns]"
            ]
          },
          "execution_count": 31,
          "metadata": {},
          "output_type": "execute_result"
        }
      ],
      "source": [
        "#Количество комнат в таких квартирах от 2 до 4. Целесообразным кажется, что площадь необходимо умножить на 10\n",
        "data = data.loc[(data['rooms'] > 0) & (data['living_area'] < 10) | (data['living_area'] > 10)]\n",
        "data"
      ]
    },
    {
      "cell_type": "markdown",
      "metadata": {
        "id": "2enBleB7ZfXW"
      },
      "source": [
        "<div class=\"alert alert-success\">\n",
        "<b>Комментарий ревьюера:</b>☀️\n",
        "    \n",
        "Вот здесь отличное логичное предположение об ошибках в данных)"
      ]
    },
    {
      "cell_type": "markdown",
      "metadata": {
        "id": "ZYmZDUn8ZfXW"
      },
      "source": [
        "**4. Min значение в поле kitchen_area - площадь кухни равна 1,2 м²**"
      ]
    },
    {
      "cell_type": "code",
      "execution_count": null,
      "metadata": {
        "id": "12G5xuKiZfXW",
        "outputId": "fca4dfbf-a5c0-4ca5-feb3-9e8a38d649b5"
      },
      "outputs": [
        {
          "data": {
            "text/plain": [
              "<AxesSubplot:ylabel='Frequency'>"
            ]
          },
          "execution_count": 32,
          "metadata": {},
          "output_type": "execute_result"
        },
        {
          "data": {
            "image/png": "[encoded data removed]",
            "text/plain": [
              "<Figure size 864x576 with 1 Axes>"
            ]
          },
          "metadata": {
            "needs_background": "light"
          },
          "output_type": "display_data"
        }
      ],
      "source": [
        "#Построим гистограмму по полю kitchen_area\n",
        "data.plot(y = 'kitchen_area', kind = 'hist', bins = 50, grid=True, ec='black', legend=True, figsize = (12,8), range = (0,60))"
      ]
    },
    {
      "cell_type": "markdown",
      "metadata": {
        "id": "j3crlA77ZfXW"
      },
      "source": [
        "Площадь большинства кухонь колеблется в диапозоне 5-20 м².\n",
        "В данные попадают кухни с площадью до 5 м². Таких значений не много, но они выбиваются и не кажутся реалистичными, поэтому удалим их.\n",
        "И проверим значения, где площадь превышает 30 м². Если площадь кухни превышает площадь жилой зоны, то удалим их."
      ]
    },
    {
      "cell_type": "code",
      "execution_count": null,
      "metadata": {
        "id": "C_Rnv4DqZfXW",
        "outputId": "0afcf8ed-a5fe-4178-da54-186709f7da20"
      },
      "outputs": [
        {
          "data": {
            "text/html": [
              "<div>\n",
              "<style scoped>\n",
              "    .dataframe tbody tr th:only-of-type {\n",
              "        vertical-align: middle;\n",
              "    }\n",
              "\n",
              "    .dataframe tbody tr th {\n",
              "        vertical-align: top;\n",
              "    }\n",
              "\n",
              "    .dataframe thead th {\n",
              "        text-align: right;\n",
              "    }\n",
              "</style>\n",
              "<table border=\"1\" class=\"dataframe\">\n",
              "  <thead>\n",
              "    <tr style=\"text-align: right;\">\n",
              "      <th></th>\n",
              "      <th>total_images</th>\n",
              "      <th>last_price</th>\n",
              "      <th>total_area</th>\n",
              "      <th>first_day_exposition</th>\n",
              "      <th>rooms</th>\n",
              "      <th>ceiling_height</th>\n",
              "      <th>floors_total</th>\n",
              "      <th>living_area</th>\n",
              "      <th>floor</th>\n",
              "      <th>is_apartment</th>\n",
              "      <th>...</th>\n",
              "      <th>parks_nearest</th>\n",
              "      <th>ponds_around_3000</th>\n",
              "      <th>ponds_nearest</th>\n",
              "      <th>days_exposition</th>\n",
              "      <th>price_1_meter</th>\n",
              "      <th>weekday_exposition</th>\n",
              "      <th>month_exposition</th>\n",
              "      <th>year_exposition</th>\n",
              "      <th>floor_category</th>\n",
              "      <th>city_centers_nearest_km</th>\n",
              "    </tr>\n",
              "  </thead>\n",
              "  <tbody>\n",
              "    <tr>\n",
              "      <th>0</th>\n",
              "      <td>20</td>\n",
              "      <td>13000000.0</td>\n",
              "      <td>108.00</td>\n",
              "      <td>2019-03-07</td>\n",
              "      <td>3</td>\n",
              "      <td>2.70</td>\n",
              "      <td>16.0</td>\n",
              "      <td>51.0</td>\n",
              "      <td>8</td>\n",
              "      <td>False</td>\n",
              "      <td>...</td>\n",
              "      <td>482.0</td>\n",
              "      <td>2.0</td>\n",
              "      <td>755.0</td>\n",
              "      <td>0</td>\n",
              "      <td>120370.37</td>\n",
              "      <td>3</td>\n",
              "      <td>3</td>\n",
              "      <td>2019</td>\n",
              "      <td>другой</td>\n",
              "      <td>16.0</td>\n",
              "    </tr>\n",
              "    <tr>\n",
              "      <th>4</th>\n",
              "      <td>2</td>\n",
              "      <td>10000000.0</td>\n",
              "      <td>100.00</td>\n",
              "      <td>2018-06-19</td>\n",
              "      <td>2</td>\n",
              "      <td>3.03</td>\n",
              "      <td>14.0</td>\n",
              "      <td>32.0</td>\n",
              "      <td>13</td>\n",
              "      <td>False</td>\n",
              "      <td>...</td>\n",
              "      <td>112.0</td>\n",
              "      <td>1.0</td>\n",
              "      <td>48.0</td>\n",
              "      <td>121</td>\n",
              "      <td>100000.00</td>\n",
              "      <td>1</td>\n",
              "      <td>6</td>\n",
              "      <td>2018</td>\n",
              "      <td>другой</td>\n",
              "      <td>8.0</td>\n",
              "    </tr>\n",
              "    <tr>\n",
              "      <th>9</th>\n",
              "      <td>18</td>\n",
              "      <td>5400000.0</td>\n",
              "      <td>61.00</td>\n",
              "      <td>2017-02-26</td>\n",
              "      <td>3</td>\n",
              "      <td>2.50</td>\n",
              "      <td>9.0</td>\n",
              "      <td>43.6</td>\n",
              "      <td>7</td>\n",
              "      <td>False</td>\n",
              "      <td>...</td>\n",
              "      <td>NaN</td>\n",
              "      <td>0.0</td>\n",
              "      <td>NaN</td>\n",
              "      <td>289</td>\n",
              "      <td>88524.59</td>\n",
              "      <td>6</td>\n",
              "      <td>2</td>\n",
              "      <td>2017</td>\n",
              "      <td>другой</td>\n",
              "      <td>15.0</td>\n",
              "    </tr>\n",
              "    <tr>\n",
              "      <th>10</th>\n",
              "      <td>5</td>\n",
              "      <td>5050000.0</td>\n",
              "      <td>39.60</td>\n",
              "      <td>2017-11-16</td>\n",
              "      <td>1</td>\n",
              "      <td>2.67</td>\n",
              "      <td>12.0</td>\n",
              "      <td>20.3</td>\n",
              "      <td>3</td>\n",
              "      <td>False</td>\n",
              "      <td>...</td>\n",
              "      <td>310.0</td>\n",
              "      <td>2.0</td>\n",
              "      <td>553.0</td>\n",
              "      <td>137</td>\n",
              "      <td>127525.25</td>\n",
              "      <td>3</td>\n",
              "      <td>11</td>\n",
              "      <td>2017</td>\n",
              "      <td>другой</td>\n",
              "      <td>14.0</td>\n",
              "    </tr>\n",
              "    <tr>\n",
              "      <th>13</th>\n",
              "      <td>20</td>\n",
              "      <td>3550000.0</td>\n",
              "      <td>42.80</td>\n",
              "      <td>2017-07-01</td>\n",
              "      <td>2</td>\n",
              "      <td>2.56</td>\n",
              "      <td>5.0</td>\n",
              "      <td>27.0</td>\n",
              "      <td>5</td>\n",
              "      <td>False</td>\n",
              "      <td>...</td>\n",
              "      <td>294.0</td>\n",
              "      <td>3.0</td>\n",
              "      <td>298.0</td>\n",
              "      <td>366</td>\n",
              "      <td>82943.93</td>\n",
              "      <td>5</td>\n",
              "      <td>7</td>\n",
              "      <td>2017</td>\n",
              "      <td>последний</td>\n",
              "      <td>33.0</td>\n",
              "    </tr>\n",
              "    <tr>\n",
              "      <th>...</th>\n",
              "      <td>...</td>\n",
              "      <td>...</td>\n",
              "      <td>...</td>\n",
              "      <td>...</td>\n",
              "      <td>...</td>\n",
              "      <td>...</td>\n",
              "      <td>...</td>\n",
              "      <td>...</td>\n",
              "      <td>...</td>\n",
              "      <td>...</td>\n",
              "      <td>...</td>\n",
              "      <td>...</td>\n",
              "      <td>...</td>\n",
              "      <td>...</td>\n",
              "      <td>...</td>\n",
              "      <td>...</td>\n",
              "      <td>...</td>\n",
              "      <td>...</td>\n",
              "      <td>...</td>\n",
              "      <td>...</td>\n",
              "      <td>...</td>\n",
              "    </tr>\n",
              "    <tr>\n",
              "      <th>23689</th>\n",
              "      <td>13</td>\n",
              "      <td>3550000.0</td>\n",
              "      <td>35.30</td>\n",
              "      <td>2018-02-28</td>\n",
              "      <td>1</td>\n",
              "      <td>2.86</td>\n",
              "      <td>15.0</td>\n",
              "      <td>16.3</td>\n",
              "      <td>4</td>\n",
              "      <td>False</td>\n",
              "      <td>...</td>\n",
              "      <td>353.0</td>\n",
              "      <td>2.0</td>\n",
              "      <td>652.0</td>\n",
              "      <td>29</td>\n",
              "      <td>100566.57</td>\n",
              "      <td>2</td>\n",
              "      <td>2</td>\n",
              "      <td>2018</td>\n",
              "      <td>другой</td>\n",
              "      <td>16.0</td>\n",
              "    </tr>\n",
              "    <tr>\n",
              "      <th>23691</th>\n",
              "      <td>11</td>\n",
              "      <td>9470000.0</td>\n",
              "      <td>72.90</td>\n",
              "      <td>2016-10-13</td>\n",
              "      <td>2</td>\n",
              "      <td>2.75</td>\n",
              "      <td>25.0</td>\n",
              "      <td>40.3</td>\n",
              "      <td>7</td>\n",
              "      <td>False</td>\n",
              "      <td>...</td>\n",
              "      <td>NaN</td>\n",
              "      <td>1.0</td>\n",
              "      <td>806.0</td>\n",
              "      <td>519</td>\n",
              "      <td>129903.98</td>\n",
              "      <td>3</td>\n",
              "      <td>10</td>\n",
              "      <td>2016</td>\n",
              "      <td>другой</td>\n",
              "      <td>4.0</td>\n",
              "    </tr>\n",
              "    <tr>\n",
              "      <th>23693</th>\n",
              "      <td>9</td>\n",
              "      <td>4600000.0</td>\n",
              "      <td>62.40</td>\n",
              "      <td>2016-08-05</td>\n",
              "      <td>3</td>\n",
              "      <td>2.60</td>\n",
              "      <td>9.0</td>\n",
              "      <td>40.0</td>\n",
              "      <td>8</td>\n",
              "      <td>False</td>\n",
              "      <td>...</td>\n",
              "      <td>352.0</td>\n",
              "      <td>1.0</td>\n",
              "      <td>675.0</td>\n",
              "      <td>239</td>\n",
              "      <td>73717.95</td>\n",
              "      <td>4</td>\n",
              "      <td>8</td>\n",
              "      <td>2016</td>\n",
              "      <td>другой</td>\n",
              "      <td>34.0</td>\n",
              "    </tr>\n",
              "    <tr>\n",
              "      <th>23694</th>\n",
              "      <td>9</td>\n",
              "      <td>9700000.0</td>\n",
              "      <td>133.81</td>\n",
              "      <td>2017-03-21</td>\n",
              "      <td>3</td>\n",
              "      <td>3.70</td>\n",
              "      <td>5.0</td>\n",
              "      <td>73.3</td>\n",
              "      <td>3</td>\n",
              "      <td>False</td>\n",
              "      <td>...</td>\n",
              "      <td>796.0</td>\n",
              "      <td>3.0</td>\n",
              "      <td>381.0</td>\n",
              "      <td>0</td>\n",
              "      <td>72490.85</td>\n",
              "      <td>1</td>\n",
              "      <td>3</td>\n",
              "      <td>2017</td>\n",
              "      <td>другой</td>\n",
              "      <td>4.0</td>\n",
              "    </tr>\n",
              "    <tr>\n",
              "      <th>23698</th>\n",
              "      <td>4</td>\n",
              "      <td>1350000.0</td>\n",
              "      <td>32.30</td>\n",
              "      <td>2017-07-21</td>\n",
              "      <td>1</td>\n",
              "      <td>2.50</td>\n",
              "      <td>5.0</td>\n",
              "      <td>12.3</td>\n",
              "      <td>1</td>\n",
              "      <td>False</td>\n",
              "      <td>...</td>\n",
              "      <td>NaN</td>\n",
              "      <td>NaN</td>\n",
              "      <td>NaN</td>\n",
              "      <td>0</td>\n",
              "      <td>41795.67</td>\n",
              "      <td>4</td>\n",
              "      <td>7</td>\n",
              "      <td>2017</td>\n",
              "      <td>первый</td>\n",
              "      <td>NaN</td>\n",
              "    </tr>\n",
              "  </tbody>\n",
              "</table>\n",
              "<p>13198 rows × 28 columns</p>\n",
              "</div>"
            ],
            "text/plain": [
              "       total_images  last_price  total_area first_day_exposition  rooms  \\\n",
              "0                20  13000000.0      108.00           2019-03-07      3   \n",
              "4                 2  10000000.0      100.00           2018-06-19      2   \n",
              "9                18   5400000.0       61.00           2017-02-26      3   \n",
              "10                5   5050000.0       39.60           2017-11-16      1   \n",
              "13               20   3550000.0       42.80           2017-07-01      2   \n",
              "...             ...         ...         ...                  ...    ...   \n",
              "23689            13   3550000.0       35.30           2018-02-28      1   \n",
              "23691            11   9470000.0       72.90           2016-10-13      2   \n",
              "23693             9   4600000.0       62.40           2016-08-05      3   \n",
              "23694             9   9700000.0      133.81           2017-03-21      3   \n",
              "23698             4   1350000.0       32.30           2017-07-21      1   \n",
              "\n",
              "       ceiling_height  floors_total  living_area  floor  is_apartment  ...  \\\n",
              "0                2.70          16.0         51.0      8         False  ...   \n",
              "4                3.03          14.0         32.0     13         False  ...   \n",
              "9                2.50           9.0         43.6      7         False  ...   \n",
              "10               2.67          12.0         20.3      3         False  ...   \n",
              "13               2.56           5.0         27.0      5         False  ...   \n",
              "...               ...           ...          ...    ...           ...  ...   \n",
              "23689            2.86          15.0         16.3      4         False  ...   \n",
              "23691            2.75          25.0         40.3      7         False  ...   \n",
              "23693            2.60           9.0         40.0      8         False  ...   \n",
              "23694            3.70           5.0         73.3      3         False  ...   \n",
              "23698            2.50           5.0         12.3      1         False  ...   \n",
              "\n",
              "       parks_nearest  ponds_around_3000  ponds_nearest  days_exposition  \\\n",
              "0              482.0                2.0          755.0                0   \n",
              "4              112.0                1.0           48.0              121   \n",
              "9                NaN                0.0            NaN              289   \n",
              "10             310.0                2.0          553.0              137   \n",
              "13             294.0                3.0          298.0              366   \n",
              "...              ...                ...            ...              ...   \n",
              "23689          353.0                2.0          652.0               29   \n",
              "23691            NaN                1.0          806.0              519   \n",
              "23693          352.0                1.0          675.0              239   \n",
              "23694          796.0                3.0          381.0                0   \n",
              "23698            NaN                NaN            NaN                0   \n",
              "\n",
              "      price_1_meter  weekday_exposition  month_exposition  year_exposition  \\\n",
              "0         120370.37                   3                 3             2019   \n",
              "4         100000.00                   1                 6             2018   \n",
              "9          88524.59                   6                 2             2017   \n",
              "10        127525.25                   3                11             2017   \n",
              "13         82943.93                   5                 7             2017   \n",
              "...             ...                 ...               ...              ...   \n",
              "23689     100566.57                   2                 2             2018   \n",
              "23691     129903.98                   3                10             2016   \n",
              "23693      73717.95                   4                 8             2016   \n",
              "23694      72490.85                   1                 3             2017   \n",
              "23698      41795.67                   4                 7             2017   \n",
              "\n",
              "       floor_category  city_centers_nearest_km  \n",
              "0              другой                     16.0  \n",
              "4              другой                      8.0  \n",
              "9              другой                     15.0  \n",
              "10             другой                     14.0  \n",
              "13          последний                     33.0  \n",
              "...               ...                      ...  \n",
              "23689          другой                     16.0  \n",
              "23691          другой                      4.0  \n",
              "23693          другой                     34.0  \n",
              "23694          другой                      4.0  \n",
              "23698          первый                      NaN  \n",
              "\n",
              "[13198 rows x 28 columns]"
            ]
          },
          "execution_count": 33,
          "metadata": {},
          "output_type": "execute_result"
        }
      ],
      "source": [
        "# Удалим данные, где площадь кухни менее 5 м²\n",
        "data = data.query('kitchen_area >= 5')\n",
        "data"
      ]
    },
    {
      "cell_type": "code",
      "execution_count": null,
      "metadata": {
        "id": "XsTYqoR2ZfXX",
        "outputId": "9221d083-7305-4aec-bc3f-0bd3c4a9689d"
      },
      "outputs": [
        {
          "data": {
            "text/html": [
              "<div>\n",
              "<style scoped>\n",
              "    .dataframe tbody tr th:only-of-type {\n",
              "        vertical-align: middle;\n",
              "    }\n",
              "\n",
              "    .dataframe tbody tr th {\n",
              "        vertical-align: top;\n",
              "    }\n",
              "\n",
              "    .dataframe thead th {\n",
              "        text-align: right;\n",
              "    }\n",
              "</style>\n",
              "<table border=\"1\" class=\"dataframe\">\n",
              "  <thead>\n",
              "    <tr style=\"text-align: right;\">\n",
              "      <th></th>\n",
              "      <th>total_images</th>\n",
              "      <th>last_price</th>\n",
              "      <th>total_area</th>\n",
              "      <th>first_day_exposition</th>\n",
              "      <th>rooms</th>\n",
              "      <th>ceiling_height</th>\n",
              "      <th>floors_total</th>\n",
              "      <th>living_area</th>\n",
              "      <th>floor</th>\n",
              "      <th>is_apartment</th>\n",
              "      <th>...</th>\n",
              "      <th>parks_nearest</th>\n",
              "      <th>ponds_around_3000</th>\n",
              "      <th>ponds_nearest</th>\n",
              "      <th>days_exposition</th>\n",
              "      <th>price_1_meter</th>\n",
              "      <th>weekday_exposition</th>\n",
              "      <th>month_exposition</th>\n",
              "      <th>year_exposition</th>\n",
              "      <th>floor_category</th>\n",
              "      <th>city_centers_nearest_km</th>\n",
              "    </tr>\n",
              "  </thead>\n",
              "  <tbody>\n",
              "    <tr>\n",
              "      <th>4</th>\n",
              "      <td>2</td>\n",
              "      <td>10000000.0</td>\n",
              "      <td>100.0</td>\n",
              "      <td>2018-06-19</td>\n",
              "      <td>2</td>\n",
              "      <td>3.03</td>\n",
              "      <td>14.0</td>\n",
              "      <td>32.0</td>\n",
              "      <td>13</td>\n",
              "      <td>False</td>\n",
              "      <td>...</td>\n",
              "      <td>112.0</td>\n",
              "      <td>1.0</td>\n",
              "      <td>48.0</td>\n",
              "      <td>121</td>\n",
              "      <td>100000.00</td>\n",
              "      <td>1</td>\n",
              "      <td>6</td>\n",
              "      <td>2018</td>\n",
              "      <td>другой</td>\n",
              "      <td>8.0</td>\n",
              "    </tr>\n",
              "    <tr>\n",
              "      <th>51</th>\n",
              "      <td>7</td>\n",
              "      <td>45000000.0</td>\n",
              "      <td>161.0</td>\n",
              "      <td>2017-10-17</td>\n",
              "      <td>3</td>\n",
              "      <td>3.20</td>\n",
              "      <td>8.0</td>\n",
              "      <td>38.0</td>\n",
              "      <td>4</td>\n",
              "      <td>False</td>\n",
              "      <td>...</td>\n",
              "      <td>NaN</td>\n",
              "      <td>3.0</td>\n",
              "      <td>99.0</td>\n",
              "      <td>541</td>\n",
              "      <td>279503.11</td>\n",
              "      <td>1</td>\n",
              "      <td>10</td>\n",
              "      <td>2017</td>\n",
              "      <td>другой</td>\n",
              "      <td>7.0</td>\n",
              "    </tr>\n",
              "    <tr>\n",
              "      <th>263</th>\n",
              "      <td>12</td>\n",
              "      <td>39900000.0</td>\n",
              "      <td>140.6</td>\n",
              "      <td>2016-11-19</td>\n",
              "      <td>2</td>\n",
              "      <td>3.50</td>\n",
              "      <td>8.0</td>\n",
              "      <td>39.8</td>\n",
              "      <td>7</td>\n",
              "      <td>False</td>\n",
              "      <td>...</td>\n",
              "      <td>NaN</td>\n",
              "      <td>3.0</td>\n",
              "      <td>99.0</td>\n",
              "      <td>0</td>\n",
              "      <td>283783.78</td>\n",
              "      <td>5</td>\n",
              "      <td>11</td>\n",
              "      <td>2016</td>\n",
              "      <td>другой</td>\n",
              "      <td>7.0</td>\n",
              "    </tr>\n",
              "    <tr>\n",
              "      <th>379</th>\n",
              "      <td>14</td>\n",
              "      <td>21000000.0</td>\n",
              "      <td>96.0</td>\n",
              "      <td>2017-02-07</td>\n",
              "      <td>2</td>\n",
              "      <td>3.00</td>\n",
              "      <td>7.0</td>\n",
              "      <td>20.0</td>\n",
              "      <td>1</td>\n",
              "      <td>False</td>\n",
              "      <td>...</td>\n",
              "      <td>NaN</td>\n",
              "      <td>3.0</td>\n",
              "      <td>418.0</td>\n",
              "      <td>153</td>\n",
              "      <td>218750.00</td>\n",
              "      <td>1</td>\n",
              "      <td>2</td>\n",
              "      <td>2017</td>\n",
              "      <td>первый</td>\n",
              "      <td>2.0</td>\n",
              "    </tr>\n",
              "    <tr>\n",
              "      <th>723</th>\n",
              "      <td>9</td>\n",
              "      <td>5850000.0</td>\n",
              "      <td>81.0</td>\n",
              "      <td>2018-05-04</td>\n",
              "      <td>2</td>\n",
              "      <td>2.65</td>\n",
              "      <td>5.0</td>\n",
              "      <td>30.0</td>\n",
              "      <td>5</td>\n",
              "      <td>False</td>\n",
              "      <td>...</td>\n",
              "      <td>292.0</td>\n",
              "      <td>1.0</td>\n",
              "      <td>426.0</td>\n",
              "      <td>176</td>\n",
              "      <td>72222.22</td>\n",
              "      <td>4</td>\n",
              "      <td>5</td>\n",
              "      <td>2018</td>\n",
              "      <td>последний</td>\n",
              "      <td>6.0</td>\n",
              "    </tr>\n",
              "    <tr>\n",
              "      <th>...</th>\n",
              "      <td>...</td>\n",
              "      <td>...</td>\n",
              "      <td>...</td>\n",
              "      <td>...</td>\n",
              "      <td>...</td>\n",
              "      <td>...</td>\n",
              "      <td>...</td>\n",
              "      <td>...</td>\n",
              "      <td>...</td>\n",
              "      <td>...</td>\n",
              "      <td>...</td>\n",
              "      <td>...</td>\n",
              "      <td>...</td>\n",
              "      <td>...</td>\n",
              "      <td>...</td>\n",
              "      <td>...</td>\n",
              "      <td>...</td>\n",
              "      <td>...</td>\n",
              "      <td>...</td>\n",
              "      <td>...</td>\n",
              "      <td>...</td>\n",
              "    </tr>\n",
              "    <tr>\n",
              "      <th>19805</th>\n",
              "      <td>17</td>\n",
              "      <td>26557000.0</td>\n",
              "      <td>80.0</td>\n",
              "      <td>2017-07-17</td>\n",
              "      <td>2</td>\n",
              "      <td>2.90</td>\n",
              "      <td>6.0</td>\n",
              "      <td>25.0</td>\n",
              "      <td>4</td>\n",
              "      <td>False</td>\n",
              "      <td>...</td>\n",
              "      <td>NaN</td>\n",
              "      <td>1.0</td>\n",
              "      <td>785.0</td>\n",
              "      <td>370</td>\n",
              "      <td>331962.50</td>\n",
              "      <td>0</td>\n",
              "      <td>7</td>\n",
              "      <td>2017</td>\n",
              "      <td>другой</td>\n",
              "      <td>4.0</td>\n",
              "    </tr>\n",
              "    <tr>\n",
              "      <th>20284</th>\n",
              "      <td>19</td>\n",
              "      <td>9500000.0</td>\n",
              "      <td>86.3</td>\n",
              "      <td>2018-06-20</td>\n",
              "      <td>2</td>\n",
              "      <td>3.20</td>\n",
              "      <td>5.0</td>\n",
              "      <td>28.0</td>\n",
              "      <td>4</td>\n",
              "      <td>False</td>\n",
              "      <td>...</td>\n",
              "      <td>NaN</td>\n",
              "      <td>0.0</td>\n",
              "      <td>NaN</td>\n",
              "      <td>19</td>\n",
              "      <td>110081.11</td>\n",
              "      <td>2</td>\n",
              "      <td>6</td>\n",
              "      <td>2018</td>\n",
              "      <td>другой</td>\n",
              "      <td>2.0</td>\n",
              "    </tr>\n",
              "    <tr>\n",
              "      <th>20930</th>\n",
              "      <td>10</td>\n",
              "      <td>23000000.0</td>\n",
              "      <td>107.0</td>\n",
              "      <td>2016-04-21</td>\n",
              "      <td>3</td>\n",
              "      <td>3.00</td>\n",
              "      <td>13.0</td>\n",
              "      <td>31.0</td>\n",
              "      <td>11</td>\n",
              "      <td>False</td>\n",
              "      <td>...</td>\n",
              "      <td>620.0</td>\n",
              "      <td>1.0</td>\n",
              "      <td>809.0</td>\n",
              "      <td>858</td>\n",
              "      <td>214953.27</td>\n",
              "      <td>3</td>\n",
              "      <td>4</td>\n",
              "      <td>2016</td>\n",
              "      <td>другой</td>\n",
              "      <td>5.0</td>\n",
              "    </tr>\n",
              "    <tr>\n",
              "      <th>20994</th>\n",
              "      <td>7</td>\n",
              "      <td>8900000.0</td>\n",
              "      <td>50.6</td>\n",
              "      <td>2018-10-22</td>\n",
              "      <td>2</td>\n",
              "      <td>2.50</td>\n",
              "      <td>7.0</td>\n",
              "      <td>8.0</td>\n",
              "      <td>3</td>\n",
              "      <td>False</td>\n",
              "      <td>...</td>\n",
              "      <td>173.0</td>\n",
              "      <td>3.0</td>\n",
              "      <td>126.0</td>\n",
              "      <td>0</td>\n",
              "      <td>175889.33</td>\n",
              "      <td>0</td>\n",
              "      <td>10</td>\n",
              "      <td>2018</td>\n",
              "      <td>другой</td>\n",
              "      <td>8.0</td>\n",
              "    </tr>\n",
              "    <tr>\n",
              "      <th>21331</th>\n",
              "      <td>15</td>\n",
              "      <td>16000000.0</td>\n",
              "      <td>93.4</td>\n",
              "      <td>2019-03-26</td>\n",
              "      <td>3</td>\n",
              "      <td>2.80</td>\n",
              "      <td>17.0</td>\n",
              "      <td>24.3</td>\n",
              "      <td>6</td>\n",
              "      <td>False</td>\n",
              "      <td>...</td>\n",
              "      <td>NaN</td>\n",
              "      <td>2.0</td>\n",
              "      <td>495.0</td>\n",
              "      <td>0</td>\n",
              "      <td>171306.21</td>\n",
              "      <td>1</td>\n",
              "      <td>3</td>\n",
              "      <td>2019</td>\n",
              "      <td>другой</td>\n",
              "      <td>8.0</td>\n",
              "    </tr>\n",
              "  </tbody>\n",
              "</table>\n",
              "<p>71 rows × 28 columns</p>\n",
              "</div>"
            ],
            "text/plain": [
              "       total_images  last_price  total_area first_day_exposition  rooms  \\\n",
              "4                 2  10000000.0       100.0           2018-06-19      2   \n",
              "51                7  45000000.0       161.0           2017-10-17      3   \n",
              "263              12  39900000.0       140.6           2016-11-19      2   \n",
              "379              14  21000000.0        96.0           2017-02-07      2   \n",
              "723               9   5850000.0        81.0           2018-05-04      2   \n",
              "...             ...         ...         ...                  ...    ...   \n",
              "19805            17  26557000.0        80.0           2017-07-17      2   \n",
              "20284            19   9500000.0        86.3           2018-06-20      2   \n",
              "20930            10  23000000.0       107.0           2016-04-21      3   \n",
              "20994             7   8900000.0        50.6           2018-10-22      2   \n",
              "21331            15  16000000.0        93.4           2019-03-26      3   \n",
              "\n",
              "       ceiling_height  floors_total  living_area  floor  is_apartment  ...  \\\n",
              "4                3.03          14.0         32.0     13         False  ...   \n",
              "51               3.20           8.0         38.0      4         False  ...   \n",
              "263              3.50           8.0         39.8      7         False  ...   \n",
              "379              3.00           7.0         20.0      1         False  ...   \n",
              "723              2.65           5.0         30.0      5         False  ...   \n",
              "...               ...           ...          ...    ...           ...  ...   \n",
              "19805            2.90           6.0         25.0      4         False  ...   \n",
              "20284            3.20           5.0         28.0      4         False  ...   \n",
              "20930            3.00          13.0         31.0     11         False  ...   \n",
              "20994            2.50           7.0          8.0      3         False  ...   \n",
              "21331            2.80          17.0         24.3      6         False  ...   \n",
              "\n",
              "       parks_nearest  ponds_around_3000  ponds_nearest  days_exposition  \\\n",
              "4              112.0                1.0           48.0              121   \n",
              "51               NaN                3.0           99.0              541   \n",
              "263              NaN                3.0           99.0                0   \n",
              "379              NaN                3.0          418.0              153   \n",
              "723            292.0                1.0          426.0              176   \n",
              "...              ...                ...            ...              ...   \n",
              "19805            NaN                1.0          785.0              370   \n",
              "20284            NaN                0.0            NaN               19   \n",
              "20930          620.0                1.0          809.0              858   \n",
              "20994          173.0                3.0          126.0                0   \n",
              "21331            NaN                2.0          495.0                0   \n",
              "\n",
              "      price_1_meter  weekday_exposition  month_exposition  year_exposition  \\\n",
              "4         100000.00                   1                 6             2018   \n",
              "51        279503.11                   1                10             2017   \n",
              "263       283783.78                   5                11             2016   \n",
              "379       218750.00                   1                 2             2017   \n",
              "723        72222.22                   4                 5             2018   \n",
              "...             ...                 ...               ...              ...   \n",
              "19805     331962.50                   0                 7             2017   \n",
              "20284     110081.11                   2                 6             2018   \n",
              "20930     214953.27                   3                 4             2016   \n",
              "20994     175889.33                   0                10             2018   \n",
              "21331     171306.21                   1                 3             2019   \n",
              "\n",
              "       floor_category  city_centers_nearest_km  \n",
              "4              другой                      8.0  \n",
              "51             другой                      7.0  \n",
              "263            другой                      7.0  \n",
              "379            первый                      2.0  \n",
              "723         последний                      6.0  \n",
              "...               ...                      ...  \n",
              "19805          другой                      4.0  \n",
              "20284          другой                      2.0  \n",
              "20930          другой                      5.0  \n",
              "20994          другой                      8.0  \n",
              "21331          другой                      8.0  \n",
              "\n",
              "[71 rows x 28 columns]"
            ]
          },
          "execution_count": 34,
          "metadata": {},
          "output_type": "execute_result"
        }
      ],
      "source": [
        "# Проверим сколько полей, где площадь кухни превышает площадь жилой зоны\n",
        "data.query('kitchen_area > 30 and living_area < kitchen_area')\n",
        "\n",
        "#В некоторых полях кажется, что площадь кухни и жилую площадь поменяли местами. В остальных значения явно записаны ошибочно.\n",
        "#Т.к. полей только 71, то удалим их все"
      ]
    },
    {
      "cell_type": "code",
      "execution_count": null,
      "metadata": {
        "id": "gcCCoFWKZfXX",
        "outputId": "92df618e-a505-4d4c-eed4-b35e680e20fc"
      },
      "outputs": [
        {
          "data": {
            "text/html": [
              "<div>\n",
              "<style scoped>\n",
              "    .dataframe tbody tr th:only-of-type {\n",
              "        vertical-align: middle;\n",
              "    }\n",
              "\n",
              "    .dataframe tbody tr th {\n",
              "        vertical-align: top;\n",
              "    }\n",
              "\n",
              "    .dataframe thead th {\n",
              "        text-align: right;\n",
              "    }\n",
              "</style>\n",
              "<table border=\"1\" class=\"dataframe\">\n",
              "  <thead>\n",
              "    <tr style=\"text-align: right;\">\n",
              "      <th></th>\n",
              "      <th>total_images</th>\n",
              "      <th>last_price</th>\n",
              "      <th>total_area</th>\n",
              "      <th>first_day_exposition</th>\n",
              "      <th>rooms</th>\n",
              "      <th>ceiling_height</th>\n",
              "      <th>floors_total</th>\n",
              "      <th>living_area</th>\n",
              "      <th>floor</th>\n",
              "      <th>is_apartment</th>\n",
              "      <th>...</th>\n",
              "      <th>parks_nearest</th>\n",
              "      <th>ponds_around_3000</th>\n",
              "      <th>ponds_nearest</th>\n",
              "      <th>days_exposition</th>\n",
              "      <th>price_1_meter</th>\n",
              "      <th>weekday_exposition</th>\n",
              "      <th>month_exposition</th>\n",
              "      <th>year_exposition</th>\n",
              "      <th>floor_category</th>\n",
              "      <th>city_centers_nearest_km</th>\n",
              "    </tr>\n",
              "  </thead>\n",
              "  <tbody>\n",
              "    <tr>\n",
              "      <th>0</th>\n",
              "      <td>20</td>\n",
              "      <td>13000000.0</td>\n",
              "      <td>108.00</td>\n",
              "      <td>2019-03-07</td>\n",
              "      <td>3</td>\n",
              "      <td>2.70</td>\n",
              "      <td>16.0</td>\n",
              "      <td>51.0</td>\n",
              "      <td>8</td>\n",
              "      <td>False</td>\n",
              "      <td>...</td>\n",
              "      <td>482.0</td>\n",
              "      <td>2.0</td>\n",
              "      <td>755.0</td>\n",
              "      <td>0</td>\n",
              "      <td>120370.37</td>\n",
              "      <td>3</td>\n",
              "      <td>3</td>\n",
              "      <td>2019</td>\n",
              "      <td>другой</td>\n",
              "      <td>16.0</td>\n",
              "    </tr>\n",
              "    <tr>\n",
              "      <th>9</th>\n",
              "      <td>18</td>\n",
              "      <td>5400000.0</td>\n",
              "      <td>61.00</td>\n",
              "      <td>2017-02-26</td>\n",
              "      <td>3</td>\n",
              "      <td>2.50</td>\n",
              "      <td>9.0</td>\n",
              "      <td>43.6</td>\n",
              "      <td>7</td>\n",
              "      <td>False</td>\n",
              "      <td>...</td>\n",
              "      <td>NaN</td>\n",
              "      <td>0.0</td>\n",
              "      <td>NaN</td>\n",
              "      <td>289</td>\n",
              "      <td>88524.59</td>\n",
              "      <td>6</td>\n",
              "      <td>2</td>\n",
              "      <td>2017</td>\n",
              "      <td>другой</td>\n",
              "      <td>15.0</td>\n",
              "    </tr>\n",
              "    <tr>\n",
              "      <th>10</th>\n",
              "      <td>5</td>\n",
              "      <td>5050000.0</td>\n",
              "      <td>39.60</td>\n",
              "      <td>2017-11-16</td>\n",
              "      <td>1</td>\n",
              "      <td>2.67</td>\n",
              "      <td>12.0</td>\n",
              "      <td>20.3</td>\n",
              "      <td>3</td>\n",
              "      <td>False</td>\n",
              "      <td>...</td>\n",
              "      <td>310.0</td>\n",
              "      <td>2.0</td>\n",
              "      <td>553.0</td>\n",
              "      <td>137</td>\n",
              "      <td>127525.25</td>\n",
              "      <td>3</td>\n",
              "      <td>11</td>\n",
              "      <td>2017</td>\n",
              "      <td>другой</td>\n",
              "      <td>14.0</td>\n",
              "    </tr>\n",
              "    <tr>\n",
              "      <th>13</th>\n",
              "      <td>20</td>\n",
              "      <td>3550000.0</td>\n",
              "      <td>42.80</td>\n",
              "      <td>2017-07-01</td>\n",
              "      <td>2</td>\n",
              "      <td>2.56</td>\n",
              "      <td>5.0</td>\n",
              "      <td>27.0</td>\n",
              "      <td>5</td>\n",
              "      <td>False</td>\n",
              "      <td>...</td>\n",
              "      <td>294.0</td>\n",
              "      <td>3.0</td>\n",
              "      <td>298.0</td>\n",
              "      <td>366</td>\n",
              "      <td>82943.93</td>\n",
              "      <td>5</td>\n",
              "      <td>7</td>\n",
              "      <td>2017</td>\n",
              "      <td>последний</td>\n",
              "      <td>33.0</td>\n",
              "    </tr>\n",
              "    <tr>\n",
              "      <th>16</th>\n",
              "      <td>11</td>\n",
              "      <td>6700000.0</td>\n",
              "      <td>82.00</td>\n",
              "      <td>2017-11-23</td>\n",
              "      <td>3</td>\n",
              "      <td>3.05</td>\n",
              "      <td>5.0</td>\n",
              "      <td>55.6</td>\n",
              "      <td>1</td>\n",
              "      <td>False</td>\n",
              "      <td>...</td>\n",
              "      <td>420.0</td>\n",
              "      <td>0.0</td>\n",
              "      <td>NaN</td>\n",
              "      <td>397</td>\n",
              "      <td>81707.32</td>\n",
              "      <td>3</td>\n",
              "      <td>11</td>\n",
              "      <td>2017</td>\n",
              "      <td>первый</td>\n",
              "      <td>11.0</td>\n",
              "    </tr>\n",
              "    <tr>\n",
              "      <th>...</th>\n",
              "      <td>...</td>\n",
              "      <td>...</td>\n",
              "      <td>...</td>\n",
              "      <td>...</td>\n",
              "      <td>...</td>\n",
              "      <td>...</td>\n",
              "      <td>...</td>\n",
              "      <td>...</td>\n",
              "      <td>...</td>\n",
              "      <td>...</td>\n",
              "      <td>...</td>\n",
              "      <td>...</td>\n",
              "      <td>...</td>\n",
              "      <td>...</td>\n",
              "      <td>...</td>\n",
              "      <td>...</td>\n",
              "      <td>...</td>\n",
              "      <td>...</td>\n",
              "      <td>...</td>\n",
              "      <td>...</td>\n",
              "      <td>...</td>\n",
              "    </tr>\n",
              "    <tr>\n",
              "      <th>23689</th>\n",
              "      <td>13</td>\n",
              "      <td>3550000.0</td>\n",
              "      <td>35.30</td>\n",
              "      <td>2018-02-28</td>\n",
              "      <td>1</td>\n",
              "      <td>2.86</td>\n",
              "      <td>15.0</td>\n",
              "      <td>16.3</td>\n",
              "      <td>4</td>\n",
              "      <td>False</td>\n",
              "      <td>...</td>\n",
              "      <td>353.0</td>\n",
              "      <td>2.0</td>\n",
              "      <td>652.0</td>\n",
              "      <td>29</td>\n",
              "      <td>100566.57</td>\n",
              "      <td>2</td>\n",
              "      <td>2</td>\n",
              "      <td>2018</td>\n",
              "      <td>другой</td>\n",
              "      <td>16.0</td>\n",
              "    </tr>\n",
              "    <tr>\n",
              "      <th>23691</th>\n",
              "      <td>11</td>\n",
              "      <td>9470000.0</td>\n",
              "      <td>72.90</td>\n",
              "      <td>2016-10-13</td>\n",
              "      <td>2</td>\n",
              "      <td>2.75</td>\n",
              "      <td>25.0</td>\n",
              "      <td>40.3</td>\n",
              "      <td>7</td>\n",
              "      <td>False</td>\n",
              "      <td>...</td>\n",
              "      <td>NaN</td>\n",
              "      <td>1.0</td>\n",
              "      <td>806.0</td>\n",
              "      <td>519</td>\n",
              "      <td>129903.98</td>\n",
              "      <td>3</td>\n",
              "      <td>10</td>\n",
              "      <td>2016</td>\n",
              "      <td>другой</td>\n",
              "      <td>4.0</td>\n",
              "    </tr>\n",
              "    <tr>\n",
              "      <th>23693</th>\n",
              "      <td>9</td>\n",
              "      <td>4600000.0</td>\n",
              "      <td>62.40</td>\n",
              "      <td>2016-08-05</td>\n",
              "      <td>3</td>\n",
              "      <td>2.60</td>\n",
              "      <td>9.0</td>\n",
              "      <td>40.0</td>\n",
              "      <td>8</td>\n",
              "      <td>False</td>\n",
              "      <td>...</td>\n",
              "      <td>352.0</td>\n",
              "      <td>1.0</td>\n",
              "      <td>675.0</td>\n",
              "      <td>239</td>\n",
              "      <td>73717.95</td>\n",
              "      <td>4</td>\n",
              "      <td>8</td>\n",
              "      <td>2016</td>\n",
              "      <td>другой</td>\n",
              "      <td>34.0</td>\n",
              "    </tr>\n",
              "    <tr>\n",
              "      <th>23694</th>\n",
              "      <td>9</td>\n",
              "      <td>9700000.0</td>\n",
              "      <td>133.81</td>\n",
              "      <td>2017-03-21</td>\n",
              "      <td>3</td>\n",
              "      <td>3.70</td>\n",
              "      <td>5.0</td>\n",
              "      <td>73.3</td>\n",
              "      <td>3</td>\n",
              "      <td>False</td>\n",
              "      <td>...</td>\n",
              "      <td>796.0</td>\n",
              "      <td>3.0</td>\n",
              "      <td>381.0</td>\n",
              "      <td>0</td>\n",
              "      <td>72490.85</td>\n",
              "      <td>1</td>\n",
              "      <td>3</td>\n",
              "      <td>2017</td>\n",
              "      <td>другой</td>\n",
              "      <td>4.0</td>\n",
              "    </tr>\n",
              "    <tr>\n",
              "      <th>23698</th>\n",
              "      <td>4</td>\n",
              "      <td>1350000.0</td>\n",
              "      <td>32.30</td>\n",
              "      <td>2017-07-21</td>\n",
              "      <td>1</td>\n",
              "      <td>2.50</td>\n",
              "      <td>5.0</td>\n",
              "      <td>12.3</td>\n",
              "      <td>1</td>\n",
              "      <td>False</td>\n",
              "      <td>...</td>\n",
              "      <td>NaN</td>\n",
              "      <td>NaN</td>\n",
              "      <td>NaN</td>\n",
              "      <td>0</td>\n",
              "      <td>41795.67</td>\n",
              "      <td>4</td>\n",
              "      <td>7</td>\n",
              "      <td>2017</td>\n",
              "      <td>первый</td>\n",
              "      <td>NaN</td>\n",
              "    </tr>\n",
              "  </tbody>\n",
              "</table>\n",
              "<p>12975 rows × 28 columns</p>\n",
              "</div>"
            ],
            "text/plain": [
              "       total_images  last_price  total_area first_day_exposition  rooms  \\\n",
              "0                20  13000000.0      108.00           2019-03-07      3   \n",
              "9                18   5400000.0       61.00           2017-02-26      3   \n",
              "10                5   5050000.0       39.60           2017-11-16      1   \n",
              "13               20   3550000.0       42.80           2017-07-01      2   \n",
              "16               11   6700000.0       82.00           2017-11-23      3   \n",
              "...             ...         ...         ...                  ...    ...   \n",
              "23689            13   3550000.0       35.30           2018-02-28      1   \n",
              "23691            11   9470000.0       72.90           2016-10-13      2   \n",
              "23693             9   4600000.0       62.40           2016-08-05      3   \n",
              "23694             9   9700000.0      133.81           2017-03-21      3   \n",
              "23698             4   1350000.0       32.30           2017-07-21      1   \n",
              "\n",
              "       ceiling_height  floors_total  living_area  floor  is_apartment  ...  \\\n",
              "0                2.70          16.0         51.0      8         False  ...   \n",
              "9                2.50           9.0         43.6      7         False  ...   \n",
              "10               2.67          12.0         20.3      3         False  ...   \n",
              "13               2.56           5.0         27.0      5         False  ...   \n",
              "16               3.05           5.0         55.6      1         False  ...   \n",
              "...               ...           ...          ...    ...           ...  ...   \n",
              "23689            2.86          15.0         16.3      4         False  ...   \n",
              "23691            2.75          25.0         40.3      7         False  ...   \n",
              "23693            2.60           9.0         40.0      8         False  ...   \n",
              "23694            3.70           5.0         73.3      3         False  ...   \n",
              "23698            2.50           5.0         12.3      1         False  ...   \n",
              "\n",
              "       parks_nearest  ponds_around_3000  ponds_nearest  days_exposition  \\\n",
              "0              482.0                2.0          755.0                0   \n",
              "9                NaN                0.0            NaN              289   \n",
              "10             310.0                2.0          553.0              137   \n",
              "13             294.0                3.0          298.0              366   \n",
              "16             420.0                0.0            NaN              397   \n",
              "...              ...                ...            ...              ...   \n",
              "23689          353.0                2.0          652.0               29   \n",
              "23691            NaN                1.0          806.0              519   \n",
              "23693          352.0                1.0          675.0              239   \n",
              "23694          796.0                3.0          381.0                0   \n",
              "23698            NaN                NaN            NaN                0   \n",
              "\n",
              "      price_1_meter  weekday_exposition  month_exposition  year_exposition  \\\n",
              "0         120370.37                   3                 3             2019   \n",
              "9          88524.59                   6                 2             2017   \n",
              "10        127525.25                   3                11             2017   \n",
              "13         82943.93                   5                 7             2017   \n",
              "16         81707.32                   3                11             2017   \n",
              "...             ...                 ...               ...              ...   \n",
              "23689     100566.57                   2                 2             2018   \n",
              "23691     129903.98                   3                10             2016   \n",
              "23693      73717.95                   4                 8             2016   \n",
              "23694      72490.85                   1                 3             2017   \n",
              "23698      41795.67                   4                 7             2017   \n",
              "\n",
              "       floor_category  city_centers_nearest_km  \n",
              "0              другой                     16.0  \n",
              "9              другой                     15.0  \n",
              "10             другой                     14.0  \n",
              "13          последний                     33.0  \n",
              "16             первый                     11.0  \n",
              "...               ...                      ...  \n",
              "23689          другой                     16.0  \n",
              "23691          другой                      4.0  \n",
              "23693          другой                     34.0  \n",
              "23694          другой                      4.0  \n",
              "23698          первый                      NaN  \n",
              "\n",
              "[12975 rows x 28 columns]"
            ]
          },
          "execution_count": 35,
          "metadata": {},
          "output_type": "execute_result"
        }
      ],
      "source": [
        "data = data.query('living_area > kitchen_area')\n",
        "data"
      ]
    },
    {
      "cell_type": "markdown",
      "metadata": {
        "id": "2OiPhnHPZfXX"
      },
      "source": [
        "<div class=\"alert alert-warning\">\n",
        "<b>Комментарий ревьюера:</b>⛅️\n",
        "\n",
        "Полезно выводить какое число строк удаляется под каждым из условий. Этого не было проверено, при удалении квартир с площадью кухонь менее 5 метров квадратных  \n",
        "</div>"
      ]
    },
    {
      "cell_type": "markdown",
      "metadata": {
        "id": "FxmfZl94ZfXX"
      },
      "source": [
        "**5. Исследуем параметр общей площади**"
      ]
    },
    {
      "cell_type": "code",
      "execution_count": null,
      "metadata": {
        "id": "H1I2Q8RsZfXX",
        "outputId": "1ca887ea-360b-4785-beda-2f94a066d8de"
      },
      "outputs": [
        {
          "data": {
            "text/plain": [
              "<AxesSubplot:ylabel='Frequency'>"
            ]
          },
          "execution_count": 36,
          "metadata": {},
          "output_type": "execute_result"
        },
        {
          "data": {
            "image/png": "[encoded data removed]",
            "text/plain": [
              "<Figure size 864x576 with 1 Axes>"
            ]
          },
          "metadata": {
            "needs_background": "light"
          },
          "output_type": "display_data"
        }
      ],
      "source": [
        "#Построим гистограмму по полю total_area\n",
        "data.plot(y = 'total_area', kind = 'hist', bins = 30, grid=True, ec='black', legend=True, figsize = (12,8), range = (20,300))"
      ]
    },
    {
      "cell_type": "markdown",
      "metadata": {
        "id": "r_Ht4hd4ZfXX"
      },
      "source": [
        "Основная доля недвижимости имеет общую площадь от 25 до 50 м². Реже встречаются значения более 100 м².\n",
        "Для достоверности данных проверим, что во всех полях общая площадь больше жилой."
      ]
    },
    {
      "cell_type": "code",
      "execution_count": null,
      "metadata": {
        "id": "1C6OnLAfZfXX",
        "outputId": "0dbb775e-d02c-4e10-fb89-27a8384638d2"
      },
      "outputs": [
        {
          "data": {
            "text/html": [
              "<div>\n",
              "<style scoped>\n",
              "    .dataframe tbody tr th:only-of-type {\n",
              "        vertical-align: middle;\n",
              "    }\n",
              "\n",
              "    .dataframe tbody tr th {\n",
              "        vertical-align: top;\n",
              "    }\n",
              "\n",
              "    .dataframe thead th {\n",
              "        text-align: right;\n",
              "    }\n",
              "</style>\n",
              "<table border=\"1\" class=\"dataframe\">\n",
              "  <thead>\n",
              "    <tr style=\"text-align: right;\">\n",
              "      <th></th>\n",
              "      <th>total_images</th>\n",
              "      <th>last_price</th>\n",
              "      <th>total_area</th>\n",
              "      <th>first_day_exposition</th>\n",
              "      <th>rooms</th>\n",
              "      <th>ceiling_height</th>\n",
              "      <th>floors_total</th>\n",
              "      <th>living_area</th>\n",
              "      <th>floor</th>\n",
              "      <th>is_apartment</th>\n",
              "      <th>...</th>\n",
              "      <th>parks_nearest</th>\n",
              "      <th>ponds_around_3000</th>\n",
              "      <th>ponds_nearest</th>\n",
              "      <th>days_exposition</th>\n",
              "      <th>price_1_meter</th>\n",
              "      <th>weekday_exposition</th>\n",
              "      <th>month_exposition</th>\n",
              "      <th>year_exposition</th>\n",
              "      <th>floor_category</th>\n",
              "      <th>city_centers_nearest_km</th>\n",
              "    </tr>\n",
              "  </thead>\n",
              "  <tbody>\n",
              "  </tbody>\n",
              "</table>\n",
              "<p>0 rows × 28 columns</p>\n",
              "</div>"
            ],
            "text/plain": [
              "Empty DataFrame\n",
              "Columns: [total_images, last_price, total_area, first_day_exposition, rooms, ceiling_height, floors_total, living_area, floor, is_apartment, studio, open_plan, kitchen_area, balcony, locality_name, airports_nearest, city_centers_nearest, parks_around_3000, parks_nearest, ponds_around_3000, ponds_nearest, days_exposition, price_1_meter, weekday_exposition, month_exposition, year_exposition, floor_category, city_centers_nearest_km]\n",
              "Index: []\n",
              "\n",
              "[0 rows x 28 columns]"
            ]
          },
          "execution_count": 37,
          "metadata": {},
          "output_type": "execute_result"
        }
      ],
      "source": [
        "data.query('living_area > total_area')\n",
        "\n",
        "#Таких полей нет, значит данные введены корректно"
      ]
    },
    {
      "cell_type": "markdown",
      "metadata": {
        "id": "rkmBmX1rZfXY"
      },
      "source": [
        "**6. Исследуем параметр цены объекта**"
      ]
    },
    {
      "cell_type": "code",
      "execution_count": null,
      "metadata": {
        "id": "zKQK2wy0ZfXY",
        "outputId": "e9e006ce-9e6e-4c3e-9665-57a25e587d45"
      },
      "outputs": [
        {
          "data": {
            "text/plain": [
              "<AxesSubplot:ylabel='Frequency'>"
            ]
          },
          "execution_count": 38,
          "metadata": {},
          "output_type": "execute_result"
        },
        {
          "data": {
            "image/png": "[encoded data removed]",
            "text/plain": [
              "<Figure size 864x576 with 1 Axes>"
            ]
          },
          "metadata": {
            "needs_background": "light"
          },
          "output_type": "display_data"
        }
      ],
      "source": [
        "#Построим гистограмму по полю total_area\n",
        "data.plot(y = 'last_price', kind = 'hist', bins = 50, grid=True, ec='black', legend=True, figsize = (12,8), range = (0,20000000))\n"
      ]
    },
    {
      "cell_type": "markdown",
      "metadata": {
        "id": "6nYsWphEZfXY"
      },
      "source": [
        "~~Цены распределеяются в диапазоне от 0.25 до 1.2 млн руб. Редко встречаются объекты с ценой менее 0.25 или более 1.2 млн рублей~~"
      ]
    },
    {
      "cell_type": "markdown",
      "metadata": {
        "id": "kUYWoyoMZfXY"
      },
      "source": [
        "Цены распределеяются в диапазоне от 2.5 до 12 млн руб. Редко встречаются объекты с ценой менее 2.5 или более 12 млн рублей"
      ]
    },
    {
      "cell_type": "markdown",
      "metadata": {
        "id": "3_1_mrd4ZfXY"
      },
      "source": [
        "<div class=\"alert alert-danger\">\n",
        "<b>Комментарий ревьюера:</b>☁️\n",
        "\n",
        "1е7 = 10 миллионов(\n",
        "</div>"
      ]
    },
    {
      "cell_type": "markdown",
      "metadata": {
        "id": "npX6sbsEZfXY"
      },
      "source": [
        "<div class=\"alert alert-info\"> <b>Комментарий студента:</b> Исправила. Жаль, что мои первые цифры это не реальность(</div>"
      ]
    },
    {
      "cell_type": "markdown",
      "metadata": {
        "id": "NKP6zsqpZfXY"
      },
      "source": [
        "<div class=\"alert alert-success\">\n",
        "<b>Комментарий ревьюера v2:</b>☀️\n",
        "   \n",
        "Возможно ты просто предвидишь деноминацию)))). Спасибо за совместную работу, желаю успехов далее\n",
        "\n",
        "</div>"
      ]
    },
    {
      "cell_type": "markdown",
      "metadata": {
        "id": "WUR6W118ZfXY"
      },
      "source": [
        "**7. Исследуем параметр тип этажа квартиры («первый», «последний», «другой»)**"
      ]
    },
    {
      "cell_type": "code",
      "execution_count": null,
      "metadata": {
        "id": "4IHBvQJvZfXY",
        "outputId": "b6e3f2e0-014d-4f09-ea8d-bd8e2e15823f"
      },
      "outputs": [
        {
          "data": {
            "text/plain": [
              "другой       9468\n",
              "последний    1886\n",
              "первый       1618\n",
              "Name: floor_category, dtype: int64"
            ]
          },
          "execution_count": 39,
          "metadata": {},
          "output_type": "execute_result"
        }
      ],
      "source": [
        "#Посмотрим сколько значений в каждой из категории этажей квартиры\n",
        "data['floor_category'].value_counts()"
      ]
    },
    {
      "cell_type": "code",
      "execution_count": null,
      "metadata": {
        "id": "VuRs5vZlZfXY",
        "outputId": "a2e5e4e5-e7a0-4ab6-9358-f343f6ca1698"
      },
      "outputs": [
        {
          "data": {
            "image/png": "[encoded data removed]",
            "text/plain": [
              "<Figure size 360x216 with 1 Axes>"
            ]
          },
          "metadata": {
            "needs_background": "light"
          },
          "output_type": "display_data"
        }
      ],
      "source": [
        "#Построим гистограмму по полю floor_category\n",
        "data['floor_category'].value_counts().plot.bar(figsize=(5, 3), ec='black', legend=True)\n",
        "plt.show()"
      ]
    },
    {
      "cell_type": "markdown",
      "metadata": {
        "id": "zuu7o0tdZfXY"
      },
      "source": [
        "Квартир на первом и последнем этаже примерно одинаковое значений. Немного чаще встречаются последние этажи. Основная доля приходится на другие этажи"
      ]
    },
    {
      "cell_type": "markdown",
      "metadata": {
        "id": "vIMndHmJZfXY"
      },
      "source": [
        "**8. Исследуем параметр общее количество этажей в доме**"
      ]
    },
    {
      "cell_type": "code",
      "execution_count": null,
      "metadata": {
        "id": "5Y-ymymbZfXZ",
        "outputId": "90771cd6-692e-41e1-aa43-ea35ca6ddbea"
      },
      "outputs": [
        {
          "data": {
            "image/png": "[encoded data removed]",
            "text/plain": [
              "<Figure size 864x576 with 1 Axes>"
            ]
          },
          "metadata": {
            "needs_background": "light"
          },
          "output_type": "display_data"
        }
      ],
      "source": [
        "#Построим гистограмму по полю floors_total\n",
        "data.plot(y = 'floors_total', kind = 'hist', bins = 27, grid=True, ec='black', legend=True, figsize = (12,8), range = (0,30));"
      ]
    },
    {
      "cell_type": "markdown",
      "metadata": {
        "id": "vfWrF7LSZfXZ"
      },
      "source": [
        "<div class=\"alert alert-warning\">\n",
        "<b>Комментарий ревьюера:</b>⛅️\n",
        "\n",
        "В этом проекте не столь критично, но вообще подписывать оси и добавлять заголовок для графика очень полезно, это повышает информативность визуализации\n",
        "</div>"
      ]
    },
    {
      "cell_type": "markdown",
      "metadata": {
        "id": "aChyK9_fZfXZ"
      },
      "source": [
        "Большинство квартир распололожены в домах с кол-ом этажей 5, 9. Если рассматривать общий диапозон, то видим, что квартиры располагаются с 1-го по 28-ой этажи"
      ]
    },
    {
      "cell_type": "markdown",
      "metadata": {
        "id": "uMb-2ZToZfXZ"
      },
      "source": [
        "**9. Исследуем параметр расстояние до центра города в метрах**"
      ]
    },
    {
      "cell_type": "code",
      "execution_count": null,
      "metadata": {
        "id": "BRP32esZZfXZ",
        "outputId": "12623d31-21d7-4d71-e219-646fb863746e"
      },
      "outputs": [
        {
          "data": {
            "text/plain": [
              "<AxesSubplot:ylabel='Frequency'>"
            ]
          },
          "execution_count": 42,
          "metadata": {},
          "output_type": "execute_result"
        },
        {
          "data": {
            "image/png": "[encoded data removed]",
            "text/plain": [
              "<Figure size 864x576 with 1 Axes>"
            ]
          },
          "metadata": {
            "needs_background": "light"
          },
          "output_type": "display_data"
        }
      ],
      "source": [
        "#Построим гистограмму по полю city_centers_nearest\n",
        "data.plot(y = 'city_centers_nearest', kind = 'hist', bins = 50, grid=True, ec='black', legend=True, figsize = (12,8), range = (0,70000))"
      ]
    },
    {
      "cell_type": "markdown",
      "metadata": {
        "id": "q5lzYJ4dZfXZ"
      },
      "source": [
        "Большинство объектов недвижимости расположены в 0-20 км от центра"
      ]
    },
    {
      "cell_type": "markdown",
      "metadata": {
        "id": "kHwF3E5HZfXZ"
      },
      "source": [
        "**10. Исследуем расстояние до ближайшего парка**"
      ]
    },
    {
      "cell_type": "code",
      "execution_count": null,
      "metadata": {
        "id": "8z-AiMnaZfXZ",
        "outputId": "3befce12-47b4-422d-8c9e-d832458b82ec"
      },
      "outputs": [
        {
          "data": {
            "text/plain": [
              "<AxesSubplot:ylabel='Frequency'>"
            ]
          },
          "execution_count": 43,
          "metadata": {},
          "output_type": "execute_result"
        },
        {
          "data": {
            "image/png": "[encoded data removed]",
            "text/plain": [
              "<Figure size 864x576 with 1 Axes>"
            ]
          },
          "metadata": {
            "needs_background": "light"
          },
          "output_type": "display_data"
        }
      ],
      "source": [
        "#Построим гистограмму по полю parks_nearest\n",
        "data.plot(y = 'parks_nearest', kind = 'hist', bins = 30, grid=True, ec='black', legend=True, figsize = (12,8), range = (0,1000))"
      ]
    },
    {
      "cell_type": "markdown",
      "metadata": {
        "id": "jRqEhsyRZfXa"
      },
      "source": [
        "Расстояние до ближайшего парка располагается в диапазоне от 0 до 1100 м. Большинство объектов недвижимости расположены от ближайшего парка на расстоянии 400-600м."
      ]
    },
    {
      "cell_type": "markdown",
      "metadata": {
        "id": "k5Q2-YIRZfXa"
      },
      "source": [
        "<div class=\"alert alert-success\">\n",
        "<b>Комментарий ревьюера:</b>☀️\n",
        "    \n",
        "Можно назвать Санкт-Петербург довольно зелёным городом)"
      ]
    },
    {
      "cell_type": "markdown",
      "metadata": {
        "id": "cNrVGh5HZfXa"
      },
      "source": [
        "**Шаг 4.2 Изучим, как быстро продавались квартиры (столбец days_exposition)**"
      ]
    },
    {
      "cell_type": "code",
      "execution_count": null,
      "metadata": {
        "id": "qWlOju-XZfXa",
        "outputId": "d59fda3d-64de-412e-ef10-573e984c8437"
      },
      "outputs": [
        {
          "data": {
            "text/plain": [
              "count    12975.000000\n",
              "mean       159.617495\n",
              "std        220.759835\n",
              "min          0.000000\n",
              "25%         16.000000\n",
              "50%         75.000000\n",
              "75%        204.000000\n",
              "max       1580.000000\n",
              "Name: days_exposition, dtype: float64"
            ]
          },
          "execution_count": 44,
          "metadata": {},
          "output_type": "execute_result"
        }
      ],
      "source": [
        "#Построим описательную статистику\n",
        "data['days_exposition'].describe()"
      ]
    },
    {
      "cell_type": "markdown",
      "metadata": {
        "id": "KnETNvx3ZfXa"
      },
      "source": [
        "Среднее значение размещения объявления о продаже квартиры - 160 дней, медианное - 75 дней. Некоторые объявление размещались в течение 0 дней, скорее всего они заводились ошибочно или снимались по тех. причинам."
      ]
    },
    {
      "cell_type": "code",
      "execution_count": null,
      "metadata": {
        "id": "hk4Wg8C1ZfXa",
        "outputId": "16edf538-a0b9-4eae-b6e2-f2b63ed62a54"
      },
      "outputs": [
        {
          "data": {
            "image/png": "[encoded data removed]",
            "text/plain": [
              "<Figure size 864x576 with 1 Axes>"
            ]
          },
          "metadata": {
            "needs_background": "light"
          },
          "output_type": "display_data"
        }
      ],
      "source": [
        "#Построим гистограмму по полю days_exposition\n",
        "data.plot(y = 'days_exposition', kind = 'hist', bins = 50, grid=True, ec='black', legend=True, figsize = (12,8), range = (0,1700));"
      ]
    },
    {
      "cell_type": "markdown",
      "metadata": {
        "id": "bb2yrXMMZfXb"
      },
      "source": [
        "По гистограмме видим, что основная доля объявлений висит на сайте от 0 до 250 дней. Реже объекты недвижимости продаются более 500 дней. Большая часть объявлений смнимается в день публикации. Сделать однозначные выводы о том, что за это время объекты недвижимости продались мы не можем. Объявление могло быть снято по иной причине: потеряло актуальность; было размещено на другом сайте; объявление было снято принудительно администраторами сайта и т.д."
      ]
    },
    {
      "cell_type": "code",
      "execution_count": null,
      "metadata": {
        "id": "QbYu4brdZfXb"
      },
      "outputs": [],
      "source": [
        "#Рассмотрим более узкий диапозон по полю days_exposition"
      ]
    },
    {
      "cell_type": "code",
      "execution_count": null,
      "metadata": {
        "id": "LsZfoLhJZfXb",
        "outputId": "22eb0218-868c-487e-de32-283fdf6ff731"
      },
      "outputs": [
        {
          "data": {
            "text/plain": [
              "<AxesSubplot:ylabel='Frequency'>"
            ]
          },
          "execution_count": 47,
          "metadata": {},
          "output_type": "execute_result"
        },
        {
          "data": {
            "image/png": "[encoded data removed]",
            "text/plain": [
              "<Figure size 864x576 with 1 Axes>"
            ]
          },
          "metadata": {
            "needs_background": "light"
          },
          "output_type": "display_data"
        }
      ],
      "source": [
        "data.plot(y = 'days_exposition', kind = 'hist', bins = 100, grid=True, ec='black', legend=True, figsize = (12,8), range = (1,250))"
      ]
    },
    {
      "cell_type": "markdown",
      "metadata": {
        "id": "sILpSuIoZfXb"
      },
      "source": [
        "Судя по графику, чаще всего квартиры продают за 45 и 60 дней. Возможно это сроки автоматического снятия объявлений с сайта, если квартира не продается"
      ]
    },
    {
      "cell_type": "markdown",
      "metadata": {
        "id": "Uic7MIyaZfXb"
      },
      "source": [
        "<div class=\"alert alert-success\">\n",
        "<b>Комментарий ревьюера:</b>☀️\n",
        "    \n",
        "Молодец! Ещё одно абсолютно логичное предположение, которое обосновывает имеющуюся закономерность"
      ]
    },
    {
      "cell_type": "code",
      "execution_count": null,
      "metadata": {
        "id": "hOJ0ZZ09ZfXb",
        "outputId": "60017b9c-1e56-4133-db1b-0c355cbd5cd4"
      },
      "outputs": [
        {
          "data": {
            "image/png": "[encoded data removed]",
            "text/plain": [
              "<Figure size 864x576 with 1 Axes>"
            ]
          },
          "metadata": {
            "needs_background": "light"
          },
          "output_type": "display_data"
        }
      ],
      "source": [
        "#Чтоыб ответить на вопрос, какие продажи можно считать быстрыми, а какие — необычно долгими, удалим выбивающиеся значения\n",
        "days_speed = data.query('days_exposition !=0 and days_exposition !=45 and days_exposition !=60')\n",
        "\n",
        "#Построим гистограмму по полю days_exposition\n",
        "days_speed.plot(y = 'days_exposition', kind = 'hist', bins = 100, grid=True, ec='black', legend=True, figsize = (12,8), range = (0,500));"
      ]
    },
    {
      "cell_type": "markdown",
      "metadata": {
        "id": "_fpycUYlZfXb"
      },
      "source": [
        "Категории времени продажи:\n",
        "- быстрая продажа - от 1 до 45 дней,\n",
        "- среднестатистическая продажа - от 45 до 250 дней,\n",
        "- долгая продажа - от 250 до 500 дней.\n",
        "\n",
        "Продажи превышающие 510 дней - выбросы в данных."
      ]
    },
    {
      "cell_type": "markdown",
      "metadata": {
        "id": "EiAzlrJKZfXb"
      },
      "source": [
        "**Шаг 4.3 Исследуем, какие факторы больше всего влияют на общую (полную) стоимость объекта**"
      ]
    },
    {
      "cell_type": "code",
      "execution_count": null,
      "metadata": {
        "id": "ciHlDMJkZfXb",
        "outputId": "a6728b54-1b8a-4851-99fe-9334792d70a3"
      },
      "outputs": [
        {
          "data": {
            "text/html": [
              "<div>\n",
              "<style scoped>\n",
              "    .dataframe tbody tr th:only-of-type {\n",
              "        vertical-align: middle;\n",
              "    }\n",
              "\n",
              "    .dataframe tbody tr th {\n",
              "        vertical-align: top;\n",
              "    }\n",
              "\n",
              "    .dataframe thead th {\n",
              "        text-align: right;\n",
              "    }\n",
              "</style>\n",
              "<table border=\"1\" class=\"dataframe\">\n",
              "  <thead>\n",
              "    <tr style=\"text-align: right;\">\n",
              "      <th></th>\n",
              "      <th>last_price</th>\n",
              "      <th>total_area</th>\n",
              "      <th>living_area</th>\n",
              "      <th>kitchen_area</th>\n",
              "      <th>rooms</th>\n",
              "      <th>floor</th>\n",
              "      <th>parks_nearest</th>\n",
              "      <th>airports_nearest</th>\n",
              "      <th>weekday_exposition</th>\n",
              "      <th>month_exposition</th>\n",
              "      <th>year_exposition</th>\n",
              "    </tr>\n",
              "  </thead>\n",
              "  <tbody>\n",
              "    <tr>\n",
              "      <th>last_price</th>\n",
              "      <td>1.000000</td>\n",
              "      <td>0.707521</td>\n",
              "      <td>0.625377</td>\n",
              "      <td>0.550543</td>\n",
              "      <td>0.408807</td>\n",
              "      <td>0.045415</td>\n",
              "      <td>-0.019207</td>\n",
              "      <td>-0.028583</td>\n",
              "      <td>-0.018077</td>\n",
              "      <td>0.005654</td>\n",
              "      <td>-0.046233</td>\n",
              "    </tr>\n",
              "    <tr>\n",
              "      <th>total_area</th>\n",
              "      <td>0.707521</td>\n",
              "      <td>1.000000</td>\n",
              "      <td>0.949222</td>\n",
              "      <td>0.663568</td>\n",
              "      <td>0.777351</td>\n",
              "      <td>0.001073</td>\n",
              "      <td>-0.023337</td>\n",
              "      <td>-0.035006</td>\n",
              "      <td>-0.025588</td>\n",
              "      <td>0.011040</td>\n",
              "      <td>-0.100755</td>\n",
              "    </tr>\n",
              "    <tr>\n",
              "      <th>living_area</th>\n",
              "      <td>0.625377</td>\n",
              "      <td>0.949222</td>\n",
              "      <td>1.000000</td>\n",
              "      <td>0.518509</td>\n",
              "      <td>0.850618</td>\n",
              "      <td>-0.072956</td>\n",
              "      <td>-0.046198</td>\n",
              "      <td>-0.055885</td>\n",
              "      <td>-0.022352</td>\n",
              "      <td>0.003607</td>\n",
              "      <td>-0.087448</td>\n",
              "    </tr>\n",
              "    <tr>\n",
              "      <th>kitchen_area</th>\n",
              "      <td>0.550543</td>\n",
              "      <td>0.663568</td>\n",
              "      <td>0.518509</td>\n",
              "      <td>1.000000</td>\n",
              "      <td>0.331665</td>\n",
              "      <td>0.154795</td>\n",
              "      <td>0.025688</td>\n",
              "      <td>0.001160</td>\n",
              "      <td>-0.026221</td>\n",
              "      <td>0.017194</td>\n",
              "      <td>-0.094677</td>\n",
              "    </tr>\n",
              "    <tr>\n",
              "      <th>rooms</th>\n",
              "      <td>0.408807</td>\n",
              "      <td>0.777351</td>\n",
              "      <td>0.850618</td>\n",
              "      <td>0.331665</td>\n",
              "      <td>1.000000</td>\n",
              "      <td>-0.126261</td>\n",
              "      <td>-0.040603</td>\n",
              "      <td>-0.062213</td>\n",
              "      <td>-0.014129</td>\n",
              "      <td>0.001995</td>\n",
              "      <td>-0.065659</td>\n",
              "    </tr>\n",
              "    <tr>\n",
              "      <th>floor</th>\n",
              "      <td>0.045415</td>\n",
              "      <td>0.001073</td>\n",
              "      <td>-0.072956</td>\n",
              "      <td>0.154795</td>\n",
              "      <td>-0.126261</td>\n",
              "      <td>1.000000</td>\n",
              "      <td>0.070424</td>\n",
              "      <td>0.081128</td>\n",
              "      <td>0.006403</td>\n",
              "      <td>0.012649</td>\n",
              "      <td>-0.000305</td>\n",
              "    </tr>\n",
              "    <tr>\n",
              "      <th>parks_nearest</th>\n",
              "      <td>-0.019207</td>\n",
              "      <td>-0.023337</td>\n",
              "      <td>-0.046198</td>\n",
              "      <td>0.025688</td>\n",
              "      <td>-0.040603</td>\n",
              "      <td>0.070424</td>\n",
              "      <td>1.000000</td>\n",
              "      <td>-0.060857</td>\n",
              "      <td>-0.007071</td>\n",
              "      <td>0.022611</td>\n",
              "      <td>-0.006213</td>\n",
              "    </tr>\n",
              "    <tr>\n",
              "      <th>airports_nearest</th>\n",
              "      <td>-0.028583</td>\n",
              "      <td>-0.035006</td>\n",
              "      <td>-0.055885</td>\n",
              "      <td>0.001160</td>\n",
              "      <td>-0.062213</td>\n",
              "      <td>0.081128</td>\n",
              "      <td>-0.060857</td>\n",
              "      <td>1.000000</td>\n",
              "      <td>0.004373</td>\n",
              "      <td>0.005291</td>\n",
              "      <td>-0.004772</td>\n",
              "    </tr>\n",
              "    <tr>\n",
              "      <th>weekday_exposition</th>\n",
              "      <td>-0.018077</td>\n",
              "      <td>-0.025588</td>\n",
              "      <td>-0.022352</td>\n",
              "      <td>-0.026221</td>\n",
              "      <td>-0.014129</td>\n",
              "      <td>0.006403</td>\n",
              "      <td>-0.007071</td>\n",
              "      <td>0.004373</td>\n",
              "      <td>1.000000</td>\n",
              "      <td>-0.008616</td>\n",
              "      <td>-0.002514</td>\n",
              "    </tr>\n",
              "    <tr>\n",
              "      <th>month_exposition</th>\n",
              "      <td>0.005654</td>\n",
              "      <td>0.011040</td>\n",
              "      <td>0.003607</td>\n",
              "      <td>0.017194</td>\n",
              "      <td>0.001995</td>\n",
              "      <td>0.012649</td>\n",
              "      <td>0.022611</td>\n",
              "      <td>0.005291</td>\n",
              "      <td>-0.008616</td>\n",
              "      <td>1.000000</td>\n",
              "      <td>-0.289992</td>\n",
              "    </tr>\n",
              "    <tr>\n",
              "      <th>year_exposition</th>\n",
              "      <td>-0.046233</td>\n",
              "      <td>-0.100755</td>\n",
              "      <td>-0.087448</td>\n",
              "      <td>-0.094677</td>\n",
              "      <td>-0.065659</td>\n",
              "      <td>-0.000305</td>\n",
              "      <td>-0.006213</td>\n",
              "      <td>-0.004772</td>\n",
              "      <td>-0.002514</td>\n",
              "      <td>-0.289992</td>\n",
              "      <td>1.000000</td>\n",
              "    </tr>\n",
              "  </tbody>\n",
              "</table>\n",
              "</div>"
            ],
            "text/plain": [
              "                    last_price  total_area  living_area  kitchen_area  \\\n",
              "last_price            1.000000    0.707521     0.625377      0.550543   \n",
              "total_area            0.707521    1.000000     0.949222      0.663568   \n",
              "living_area           0.625377    0.949222     1.000000      0.518509   \n",
              "kitchen_area          0.550543    0.663568     0.518509      1.000000   \n",
              "rooms                 0.408807    0.777351     0.850618      0.331665   \n",
              "floor                 0.045415    0.001073    -0.072956      0.154795   \n",
              "parks_nearest        -0.019207   -0.023337    -0.046198      0.025688   \n",
              "airports_nearest     -0.028583   -0.035006    -0.055885      0.001160   \n",
              "weekday_exposition   -0.018077   -0.025588    -0.022352     -0.026221   \n",
              "month_exposition      0.005654    0.011040     0.003607      0.017194   \n",
              "year_exposition      -0.046233   -0.100755    -0.087448     -0.094677   \n",
              "\n",
              "                       rooms     floor  parks_nearest  airports_nearest  \\\n",
              "last_price          0.408807  0.045415      -0.019207         -0.028583   \n",
              "total_area          0.777351  0.001073      -0.023337         -0.035006   \n",
              "living_area         0.850618 -0.072956      -0.046198         -0.055885   \n",
              "kitchen_area        0.331665  0.154795       0.025688          0.001160   \n",
              "rooms               1.000000 -0.126261      -0.040603         -0.062213   \n",
              "floor              -0.126261  1.000000       0.070424          0.081128   \n",
              "parks_nearest      -0.040603  0.070424       1.000000         -0.060857   \n",
              "airports_nearest   -0.062213  0.081128      -0.060857          1.000000   \n",
              "weekday_exposition -0.014129  0.006403      -0.007071          0.004373   \n",
              "month_exposition    0.001995  0.012649       0.022611          0.005291   \n",
              "year_exposition    -0.065659 -0.000305      -0.006213         -0.004772   \n",
              "\n",
              "                    weekday_exposition  month_exposition  year_exposition  \n",
              "last_price                   -0.018077          0.005654        -0.046233  \n",
              "total_area                   -0.025588          0.011040        -0.100755  \n",
              "living_area                  -0.022352          0.003607        -0.087448  \n",
              "kitchen_area                 -0.026221          0.017194        -0.094677  \n",
              "rooms                        -0.014129          0.001995        -0.065659  \n",
              "floor                         0.006403          0.012649        -0.000305  \n",
              "parks_nearest                -0.007071          0.022611        -0.006213  \n",
              "airports_nearest              0.004373          0.005291        -0.004772  \n",
              "weekday_exposition            1.000000         -0.008616        -0.002514  \n",
              "month_exposition             -0.008616          1.000000        -0.289992  \n",
              "year_exposition              -0.002514         -0.289992         1.000000  "
            ]
          },
          "metadata": {},
          "output_type": "display_data"
        }
      ],
      "source": [
        "#Построим матрицу корреляции для определения влияющих факторов на общую стоимость квартиры\n",
        "# 1. Создадим список с параметрами для проверки\n",
        "corr_param = [\n",
        "    'last_price',\n",
        "    'total_area',\n",
        "    'living_area',\n",
        "    'kitchen_area',\n",
        "    'rooms',\n",
        "    'floor',\n",
        "    'parks_nearest',\n",
        "    'airports_nearest',\n",
        "    'weekday_exposition',\n",
        "    'month_exposition',\n",
        "    'year_exposition']\n",
        "# 2. Посчитаем корреляцию и выведем на экран\n",
        "corr_matrix = data[corr_param].corr()\n",
        "display(corr_matrix)"
      ]
    },
    {
      "cell_type": "code",
      "execution_count": null,
      "metadata": {
        "id": "Rs3VtTB4ZfXb",
        "outputId": "c17d5896-45eb-49dc-f137-f6403327d0d2"
      },
      "outputs": [
        {
          "data": {
            "image/png": "[encoded data removed]",
            "text/plain": [
              "<Figure size 1080x720 with 2 Axes>"
            ]
          },
          "metadata": {
            "needs_background": "light"
          },
          "output_type": "display_data"
        }
      ],
      "source": [
        "# Визуализируем матрицу корреляции\n",
        "plt.figure(figsize = (15, 10))\n",
        "sns.heatmap(corr_matrix, vmin=-1, vmax=1,\n",
        "            cmap='coolwarm', annot=True,\n",
        "            yticklabels=corr_param,\n",
        "            xticklabels=corr_param)\n",
        "plt.title('Матрица корреляции')\n",
        "plt.show()"
      ]
    },
    {
      "cell_type": "markdown",
      "metadata": {
        "id": "Fv3ol11ZZfXb"
      },
      "source": [
        "<div class=\"alert alert-success\">\n",
        "<b>Комментарий ревьюера:</b>☀️\n",
        "    \n",
        "Тепловая карта - отличная визуализация, но рекомендую добавлять `linewidth`, этот параметр отвечает за ширину линии разделителя между ячейками, что делает график чуть более читаемым.\n"
      ]
    },
    {
      "cell_type": "markdown",
      "metadata": {
        "id": "YmItMj-sZfXc"
      },
      "source": [
        "На матрице видим, что параметры с наибольшей корреляцией, определяющие цену недвижимости - это общий размер площади, размер жилой зоны, площадь кухни и количество комнат. Чем больше площадь, тем выше цена на продаваемый объект.\n",
        "\n",
        "Не имеет зависимости цена квартиры с днем, месяцям и годом размещения объявления, а также этажем в доме, удаленностью от парка и аэропорта."
      ]
    },
    {
      "cell_type": "code",
      "execution_count": null,
      "metadata": {
        "id": "U6dbRDoxZfXc",
        "outputId": "8473eac6-0932-418d-b421-c13c8adeef8f"
      },
      "outputs": [
        {
          "data": {
            "text/html": [
              "<div>\n",
              "<style scoped>\n",
              "    .dataframe tbody tr th:only-of-type {\n",
              "        vertical-align: middle;\n",
              "    }\n",
              "\n",
              "    .dataframe tbody tr th {\n",
              "        vertical-align: top;\n",
              "    }\n",
              "\n",
              "    .dataframe thead th {\n",
              "        text-align: right;\n",
              "    }\n",
              "</style>\n",
              "<table border=\"1\" class=\"dataframe\">\n",
              "  <thead>\n",
              "    <tr style=\"text-align: right;\">\n",
              "      <th></th>\n",
              "      <th>mean</th>\n",
              "      <th>count</th>\n",
              "      <th>median</th>\n",
              "    </tr>\n",
              "    <tr>\n",
              "      <th>floor_category</th>\n",
              "      <th></th>\n",
              "      <th></th>\n",
              "      <th></th>\n",
              "    </tr>\n",
              "  </thead>\n",
              "  <tbody>\n",
              "    <tr>\n",
              "      <th>другой</th>\n",
              "      <td>104393.579864</td>\n",
              "      <td>9468</td>\n",
              "      <td>99490.19</td>\n",
              "    </tr>\n",
              "    <tr>\n",
              "      <th>первый</th>\n",
              "      <td>84506.086236</td>\n",
              "      <td>1618</td>\n",
              "      <td>83461.87</td>\n",
              "    </tr>\n",
              "    <tr>\n",
              "      <th>последний</th>\n",
              "      <td>94647.234629</td>\n",
              "      <td>1886</td>\n",
              "      <td>89830.45</td>\n",
              "    </tr>\n",
              "  </tbody>\n",
              "</table>\n",
              "</div>"
            ],
            "text/plain": [
              "                         mean  count    median\n",
              "floor_category                                \n",
              "другой          104393.579864   9468  99490.19\n",
              "первый           84506.086236   1618  83461.87\n",
              "последний        94647.234629   1886  89830.45"
            ]
          },
          "execution_count": 52,
          "metadata": {},
          "output_type": "execute_result"
        }
      ],
      "source": [
        "pivot_table_floor_category = data.pivot_table(index = 'floor_category', values = 'price_1_meter', aggfunc = ['mean', 'count', 'median'])\n",
        "pivot_table_floor_category.columns = ['mean', 'count', 'median']\n",
        "pivot_table_floor_category"
      ]
    },
    {
      "cell_type": "markdown",
      "metadata": {
        "id": "36S-HuHMZfXc"
      },
      "source": [
        "Целесообразно сравнить показатели по первому и последнему этажу, т.к. в категорию \"другой\" попадает широкий диапазон этажей.\n",
        "Видим, что по среднему и медиане цены квартир выше на последнем этаже, чем на первом. Больше объявлений размещается с продажей квартир на последнем этаже, но не значительно.\n",
        "\n",
        "Из-за большей выборки \"других\" этажей средняя и медианная цена на квартиры выше, чем на первых и последних этажах."
      ]
    },
    {
      "cell_type": "markdown",
      "metadata": {
        "id": "tEdmq8gjZfXc"
      },
      "source": [
        "**Шаг 4.4 Считаем среднюю цену одного квадратного метра в 10 населённых пунктах с наибольшим числом объявлений**"
      ]
    },
    {
      "cell_type": "code",
      "execution_count": null,
      "metadata": {
        "id": "5wnrr9LIZfXc",
        "outputId": "10017577-3d3f-402c-d8c4-ec123a2712f4"
      },
      "outputs": [
        {
          "data": {
            "text/plain": [
              "Санкт-Петербург      9101\n",
              "Всеволожск            246\n",
              "Пушкин                211\n",
              "посёлок Шушары        198\n",
              "Колпино               193\n",
              "посёлок Мурино        176\n",
              "Петергоф              136\n",
              "Гатчина               132\n",
              "посёлок Парголово     123\n",
              "Сестрорецк            115\n",
              "Name: locality_name, dtype: int64"
            ]
          },
          "execution_count": 53,
          "metadata": {},
          "output_type": "execute_result"
        }
      ],
      "source": [
        "#Топ 10 населенных пунктов с наибольшим числом объявлений\n",
        "top_10 = data['locality_name'].value_counts().head(10)\n",
        "top_10"
      ]
    },
    {
      "cell_type": "code",
      "execution_count": null,
      "metadata": {
        "id": "_uofUZZRZfXc",
        "outputId": "d17be9d0-5dbd-4c80-fbfa-15bb8dd97ba8"
      },
      "outputs": [
        {
          "ename": "SyntaxError",
          "evalue": "unexpected EOF while parsing (2227680626.py, line 6)",
          "output_type": "error",
          "traceback": [
            "\u001b[0;36m  File \u001b[0;32m\"/tmp/ipykernel_82/2227680626.py\"\u001b[0;36m, line \u001b[0;32m6\u001b[0m\n\u001b[0;31m    ascending=False)\u001b[0m\n\u001b[0m                    ^\u001b[0m\n\u001b[0;31mSyntaxError\u001b[0m\u001b[0;31m:\u001b[0m unexpected EOF while parsing\n"
          ]
        }
      ],
      "source": [
        "# Найдем среднюю цену за 1 м² по топ 10\n",
        "data.query('locality_name in @top_10.index').pivot_table(\n",
        "                                                          index='locality_name',\n",
        "                                                          values='price_1_meter'.sort_values(\n",
        "                                                                                               by='price_1_meter',\n",
        "                                                                                               ascending=False)"
      ]
    },
    {
      "cell_type": "markdown",
      "metadata": {
        "id": "jpYJlAPOZfXc"
      },
      "source": [
        "<div class=\"alert alert-success\">\n",
        "<b>Комментарий ревьюера:</b>☀️\n",
        "    \n",
        "Всё верно, но было бы полезно округлить цену за метр например до 2 знаков"
      ]
    },
    {
      "cell_type": "markdown",
      "metadata": {
        "id": "HrZqd-nOZfXc"
      },
      "source": [
        "Наиболее дорогие квартиры продаются в Санкт-Петербурге, Пушкине, Сестрорецке. Цена на 1 м² превышает 100 тыс. руб.\n",
        "Самая низкая стоимость 1 м² в Всеволожске - 67 тыс. руб."
      ]
    },
    {
      "cell_type": "markdown",
      "metadata": {
        "id": "OFjneeEaZfXc"
      },
      "source": [
        "**Шаг 4.5 Опишем, как стоимость объектов зависит от расстояния до центра города — построим график изменения средней цены для каждого километра от центра Петербурга**"
      ]
    },
    {
      "cell_type": "code",
      "execution_count": null,
      "metadata": {
        "id": "LsLBl5k4ZfXc"
      },
      "outputs": [],
      "source": [
        "data_spb = data.query('locality_name == \"Санкт-Петербург\"')"
      ]
    },
    {
      "cell_type": "code",
      "execution_count": null,
      "metadata": {
        "id": "S_WzO-5-ZfXd"
      },
      "outputs": [],
      "source": [
        "# Рассчитаем среднюю цену за 1 м² до центра\n",
        "(\n",
        "data_spb\n",
        "    .pivot_table(index='city_centers_nearest_km', values='price_1_meter')\n",
        "    .plot(grid=True, figsize=(8, 6), legend=False)\n",
        ")\n",
        "plt.title('Средняя цена 1 м²')\n",
        "plt.xlabel('км')\n",
        "plt.ylabel('руб./м²')\n",
        "plt.show()"
      ]
    },
    {
      "cell_type": "markdown",
      "metadata": {
        "id": "Cl7ITTkZZfXd"
      },
      "source": [
        "<div class=\"alert alert-success\">\n",
        "<b>Комментарий ревьюера:</b>☀️\n",
        "    \n",
        "* Отличная гипотеза о том, что на каком-то удалении могут начать возникать дома, это можно проверить)\n",
        "* Касательно связи с удалением от центра, возможно ещё в городе есть другие локации кроме центра города, повышающие стоимость\n",
        "* Полезная привычка смотреть сколько заведений в каждом разрезе остаётся, так часто повышения волатильности величины связано с малым числом наблюдений"
      ]
    },
    {
      "cell_type": "markdown",
      "metadata": {
        "id": "SpFeO3bKZfXd"
      },
      "source": [
        "Видим, что максимальная цена за 1 м² достигается в квартирах, расположенних в близи от центра на расстоянии до 10 км - от 110 тыс. до 180 тыс. Также видим пик на расстоянии 27 км от центра. Возможно это загородное жилье, расположенное в охраняемом посёлке или что-то подобное"
      ]
    },
    {
      "cell_type": "markdown",
      "metadata": {
        "id": "Q95JASb6ZfXd"
      },
      "source": [
        "### Общий вывод"
      ]
    },
    {
      "cell_type": "markdown",
      "metadata": {
        "id": "iZxp11EtZfXd"
      },
      "source": [
        "**В процессе проведенного исследования были проделаны следующие итерации с данными:**\n",
        "\n",
        "**1. Приведены наименования столбцов к единому стилю**: 'cityCenters_nearest': 'city_centers_nearest', 'parks_around3000': 'parks_around_3000', 'ponds_around3000': 'ponds_around_3000'\n",
        "\n",
        "**2. Заменины типы данных в полях**: first_day_exposition:object → datetime, is_apartment: object → bool, balcony: float64 → int64, days_exposition: float64 → int64\n",
        "\n",
        "**3. Заменены пустые значения в полях**: is_apartment, balcony, locality_name, days_exposition\n",
        "\n",
        "**4. Заменены неявные дубликаты** в поле с наименованием местности locality_name\n",
        "\n",
        "**5. Добавлены в таблицу новые столбцы:**\n",
        "- цена одного квадратного метра;\n",
        "- день недели публикации объявления;\n",
        "- месяц публикации объявления;\n",
        "- год публикации объявления;\n",
        "- тип этажа квартиры (значения — «первый», «последний», «другой»);\n",
        "- расстояние до центра города в километрах.\n",
        "\n",
        "**6. Проведен исследовательский анализ по основным параметрам данных.** Удалены выбросы, заменены значения, которые можно было заменить, найдены аномальные значения и удалены.\n",
        "\n",
        "**По итогам исследования были получены следующие выводы:**\n",
        "\n",
        "1. Основной фактор влияющий на стоимость квартиры - ее площадь\n",
        "2. По мере увеличения площади жилья, увеличивается стоимость квартиры\n",
        "3. Наиболее дорогая цена за 1 м² в Санкт-Петербурге и Пушкине. Самая низкая стоимость 1 м² во Всеволожске.\n",
        "4. Дороже стоят квартиры, располагающиеся на последнем этаже дома\n",
        "5. Цена за 1 м² будет больше по мере приближения к центру города\n",
        "6. Основная доля недвижимости, размещенной в объявлениях, имеет общую площадь от 25 до 50 м², располагается на 5,9 этажах, имеет потолки от 2.5 до 3 м, имеет 1, 2 комнаты. Большинство объектов недвижимости в объявлениях расположены от ближайшего парка на расстоянии 400-600м\n",
        "\n",
        ""
      ]
    },
    {
      "cell_type": "markdown",
      "metadata": {
        "id": "kwpxUt0-ZfXd"
      },
      "source": [
        "<div class=\"alert alert-success\">\n",
        "<b>Комментарий ревьюера:</b>☀️\n",
        "    \n",
        "Всё отлично, исправить одно маленькое замечание и я пожелаю тебе успехов с последующими проектами)"
      ]
    },
    {
      "cell_type": "markdown",
      "metadata": {
        "id": "xIrVKxpqZfXd"
      },
      "source": [
        "**Чек-лист готовности проекта**\n",
        "\n",
        "Поставьте 'x' в выполненных пунктах. Далее нажмите Shift+Enter."
      ]
    },
    {
      "cell_type": "markdown",
      "metadata": {
        "id": "ujlHY4DIZfXd"
      },
      "source": [
        "- [x]  открыт файл\n",
        "- [x]  файлы изучены (выведены первые строки, метод `info()`, гистограммы и т.д.)\n",
        "- [x]  определены пропущенные значения\n",
        "- [x]  заполнены пропущенные значения там, где это возможно\n",
        "- [x]  есть пояснение, какие пропущенные значения обнаружены\n",
        "- [x]  изменены типы данных\n",
        "- [x]  есть пояснение, в каких столбцах изменены типы и почему\n",
        "- [x]  устранены неявные дубликаты в названиях населённых пунктов\n",
        "- [x]  устранены редкие и выбивающиеся значения (аномалии) во всех столбцах\n",
        "- [x]  посчитано и добавлено в таблицу: цена одного квадратного метра\n",
        "- [x]  посчитано и добавлено в таблицу: день публикации объявления (0 - понедельник, 1 - вторник и т.д.)\n",
        "- [x]  посчитано и добавлено в таблицу: месяц публикации объявления\n",
        "- [x]  посчитано и добавлено в таблицу: год публикации объявления\n",
        "- [x]  посчитано и добавлено в таблицу: тип этажа квартиры (значения — «первый», «последний», «другой»)\n",
        "- [x]  посчитано и добавлено в таблицу: расстояние в км до центра города\n",
        "- [x]  изучены и описаны следующие параметры:\n",
        "        - общая площадь;\n",
        "        - жилая площадь;\n",
        "        - площадь кухни;\n",
        "        - цена объекта;\n",
        "        - количество комнат;\n",
        "        - высота потолков;\n",
        "        - этаж квартиры;\n",
        "        - тип этажа квартиры («первый», «последний», «другой»);\n",
        "        - общее количество этажей в доме;\n",
        "        - расстояние до центра города в метрах;\n",
        "        - расстояние до ближайшего аэропорта;\n",
        "        - расстояние до ближайшего парка;\n",
        "        - день и месяц публикации объявления\n",
        "- [x]  построены гистограммы для каждого параметра\n",
        "- [x]  выполнено задание: \"Изучите, как быстро продавались квартиры (столбец days_exposition). Этот параметр показывает, сколько дней «висело» каждое объявление.\n",
        "    - Постройте гистограмму.\n",
        "    - Посчитайте среднее и медиану.\n",
        "    - В ячейке типа markdown опишите, сколько обычно занимает продажа. Какие продажи можно считать быстрыми, а какие — необычно долгими?\"\n",
        "- [x]  выполнено задание: \"Какие факторы больше всего влияют на общую (полную) стоимость объекта? Постройте графики, которые покажут зависимость цены от указанных ниже параметров. Для подготовки данных перед визуализацией вы можете использовать сводные таблицы.\"\n",
        "        - общей площади;\n",
        "        - жилой площади;\n",
        "        - площади кухни;\n",
        "        - количество комнат;\n",
        "        - типа этажа, на котором расположена квартира (первый, последний, другой);\n",
        "        - даты размещения (день недели, месяц, год);\n",
        "- [x]  выполнено задание: \"Посчитайте среднюю цену одного квадратного метра в 10 населённых пунктах с наибольшим числом объявлений. Выделите населённые пункты с самой высокой и низкой стоимостью квадратного метра. Эти данные можно найти по имени в столбце `locality_name`.\"\n",
        "- [x]  выполнено задание: \"Ранее вы посчитали расстояние до центра в километрах. Теперь выделите квартиры в Санкт-Петербурге с помощью столбца `locality_name` и вычислите среднюю цену каждого километра. Опишите, как стоимость объектов зависит от расстояния до центра города.\"\n",
        "- [x]  в каждом этапе есть промежуточные выводы\n",
        "- [x]  есть общий вывод"
      ]
    }
  ],
  "metadata": {
    "ExecuteTimeLog": [
      {
        "duration": 55,
        "start_time": "2023-10-13T11:57:42.112Z"
      },
      {
        "duration": 762,
        "start_time": "2023-10-13T11:59:53.814Z"
      },
      {
        "duration": 25,
        "start_time": "2023-10-13T12:00:45.023Z"
      },
      {
        "duration": 327,
        "start_time": "2023-10-13T12:01:01.474Z"
      },
      {
        "duration": 8,
        "start_time": "2023-10-13T12:01:02.863Z"
      },
      {
        "duration": 97,
        "start_time": "2023-10-13T12:02:30.772Z"
      },
      {
        "duration": 105,
        "start_time": "2023-10-13T12:02:36.558Z"
      },
      {
        "duration": 46,
        "start_time": "2023-10-13T12:02:37.696Z"
      },
      {
        "duration": 93,
        "start_time": "2023-10-13T12:04:58.490Z"
      },
      {
        "duration": 18,
        "start_time": "2023-10-13T12:05:16.165Z"
      },
      {
        "duration": 144,
        "start_time": "2023-10-13T12:20:30.883Z"
      },
      {
        "duration": 78,
        "start_time": "2023-10-13T12:25:40.605Z"
      },
      {
        "duration": 117,
        "start_time": "2023-10-13T12:36:07.270Z"
      },
      {
        "duration": 2614,
        "start_time": "2023-10-13T12:42:37.752Z"
      },
      {
        "duration": 39,
        "start_time": "2023-10-13T12:57:28.046Z"
      },
      {
        "duration": 10,
        "start_time": "2023-10-13T12:57:35.959Z"
      },
      {
        "duration": 46,
        "start_time": "2023-10-13T15:24:21.550Z"
      },
      {
        "duration": 1130,
        "start_time": "2023-10-13T15:25:24.040Z"
      },
      {
        "duration": 68,
        "start_time": "2023-10-13T15:25:25.172Z"
      },
      {
        "duration": 33,
        "start_time": "2023-10-13T15:25:26.015Z"
      },
      {
        "duration": 90,
        "start_time": "2023-10-13T15:25:27.595Z"
      },
      {
        "duration": 2831,
        "start_time": "2023-10-13T15:25:30.243Z"
      },
      {
        "duration": 27,
        "start_time": "2023-10-13T15:25:33.351Z"
      },
      {
        "duration": 10,
        "start_time": "2023-10-13T15:25:36.994Z"
      },
      {
        "duration": 7,
        "start_time": "2023-10-13T15:27:48.785Z"
      },
      {
        "duration": 14,
        "start_time": "2023-10-13T15:28:16.712Z"
      },
      {
        "duration": 15,
        "start_time": "2023-10-13T15:28:36.004Z"
      },
      {
        "duration": 73,
        "start_time": "2023-10-13T15:35:56.594Z"
      },
      {
        "duration": 28,
        "start_time": "2023-10-13T15:36:25.187Z"
      },
      {
        "duration": 28,
        "start_time": "2023-10-13T15:37:51.688Z"
      },
      {
        "duration": 43,
        "start_time": "2023-10-13T15:38:47.199Z"
      },
      {
        "duration": 21,
        "start_time": "2023-10-13T15:38:59.756Z"
      },
      {
        "duration": 104,
        "start_time": "2023-10-13T15:39:09.816Z"
      },
      {
        "duration": 25,
        "start_time": "2023-10-13T15:39:17.385Z"
      },
      {
        "duration": 13,
        "start_time": "2023-10-13T15:41:32.333Z"
      },
      {
        "duration": 47,
        "start_time": "2023-10-13T16:01:21.716Z"
      },
      {
        "duration": 33,
        "start_time": "2023-10-13T16:02:02.157Z"
      },
      {
        "duration": 40,
        "start_time": "2023-10-13T16:02:31.515Z"
      },
      {
        "duration": 1401,
        "start_time": "2023-10-13T16:03:15.033Z"
      },
      {
        "duration": 38,
        "start_time": "2023-10-13T16:03:39.129Z"
      },
      {
        "duration": 47,
        "start_time": "2023-10-13T16:04:01.139Z"
      },
      {
        "duration": 12,
        "start_time": "2023-10-13T18:14:37.180Z"
      },
      {
        "duration": 34,
        "start_time": "2023-10-13T18:17:37.613Z"
      },
      {
        "duration": 26,
        "start_time": "2023-10-13T18:18:30.221Z"
      },
      {
        "duration": 24,
        "start_time": "2023-10-13T18:18:35.664Z"
      },
      {
        "duration": 23,
        "start_time": "2023-10-13T18:18:50.872Z"
      },
      {
        "duration": 29,
        "start_time": "2023-10-13T18:18:59.898Z"
      },
      {
        "duration": 22,
        "start_time": "2023-10-13T18:20:45.522Z"
      },
      {
        "duration": 37,
        "start_time": "2023-10-13T18:21:18.158Z"
      },
      {
        "duration": 31,
        "start_time": "2023-10-13T18:21:38.941Z"
      },
      {
        "duration": 56,
        "start_time": "2023-10-13T18:22:06.584Z"
      },
      {
        "duration": 62,
        "start_time": "2023-10-13T18:23:03.127Z"
      },
      {
        "duration": 66,
        "start_time": "2023-10-13T18:23:41.470Z"
      },
      {
        "duration": 70,
        "start_time": "2023-10-13T18:25:00.736Z"
      },
      {
        "duration": 6,
        "start_time": "2023-10-13T18:27:13.260Z"
      },
      {
        "duration": 109,
        "start_time": "2023-10-13T18:28:10.363Z"
      },
      {
        "duration": 50,
        "start_time": "2023-10-13T18:28:11.029Z"
      },
      {
        "duration": 17,
        "start_time": "2023-10-13T18:28:11.765Z"
      },
      {
        "duration": 73,
        "start_time": "2023-10-13T18:28:12.925Z"
      },
      {
        "duration": 2234,
        "start_time": "2023-10-13T18:28:13.993Z"
      },
      {
        "duration": 31,
        "start_time": "2023-10-13T18:28:16.925Z"
      },
      {
        "duration": 10,
        "start_time": "2023-10-13T18:28:17.951Z"
      },
      {
        "duration": 10,
        "start_time": "2023-10-13T18:28:19.314Z"
      },
      {
        "duration": 6,
        "start_time": "2023-10-13T18:28:20.160Z"
      },
      {
        "duration": 6,
        "start_time": "2023-10-13T18:28:20.537Z"
      },
      {
        "duration": 22,
        "start_time": "2023-10-13T18:28:22.122Z"
      },
      {
        "duration": 7,
        "start_time": "2023-10-13T18:28:23.284Z"
      },
      {
        "duration": 11,
        "start_time": "2023-10-13T18:28:24.021Z"
      },
      {
        "duration": 64,
        "start_time": "2023-10-13T18:28:38.658Z"
      },
      {
        "duration": 7,
        "start_time": "2023-10-13T18:28:42.169Z"
      },
      {
        "duration": 19,
        "start_time": "2023-10-13T18:32:06.381Z"
      },
      {
        "duration": 62,
        "start_time": "2023-10-13T18:32:39.862Z"
      },
      {
        "duration": 18,
        "start_time": "2023-10-13T18:37:40.701Z"
      },
      {
        "duration": 132,
        "start_time": "2023-10-13T18:39:28.500Z"
      },
      {
        "duration": 751,
        "start_time": "2023-10-13T18:44:45.579Z"
      },
      {
        "duration": 40,
        "start_time": "2023-10-13T18:44:46.333Z"
      },
      {
        "duration": 21,
        "start_time": "2023-10-13T18:44:46.771Z"
      },
      {
        "duration": 85,
        "start_time": "2023-10-13T18:44:47.387Z"
      },
      {
        "duration": 1996,
        "start_time": "2023-10-13T18:44:48.053Z"
      },
      {
        "duration": 27,
        "start_time": "2023-10-13T18:44:50.052Z"
      },
      {
        "duration": 42,
        "start_time": "2023-10-13T18:44:50.081Z"
      },
      {
        "duration": 11,
        "start_time": "2023-10-13T18:44:50.723Z"
      },
      {
        "duration": 5,
        "start_time": "2023-10-13T18:44:50.983Z"
      },
      {
        "duration": 6,
        "start_time": "2023-10-13T18:44:51.388Z"
      },
      {
        "duration": 11,
        "start_time": "2023-10-13T18:44:51.822Z"
      },
      {
        "duration": 23,
        "start_time": "2023-10-13T18:44:53.554Z"
      },
      {
        "duration": 7,
        "start_time": "2023-10-13T18:44:54.629Z"
      },
      {
        "duration": 7,
        "start_time": "2023-10-13T18:44:55.463Z"
      },
      {
        "duration": 65,
        "start_time": "2023-10-13T18:44:56.039Z"
      },
      {
        "duration": 9,
        "start_time": "2023-10-13T18:44:56.518Z"
      },
      {
        "duration": 156,
        "start_time": "2023-10-13T18:44:57.399Z"
      },
      {
        "duration": 127,
        "start_time": "2023-10-13T18:46:13.932Z"
      },
      {
        "duration": 113,
        "start_time": "2023-10-13T18:46:21.442Z"
      },
      {
        "duration": 128,
        "start_time": "2023-10-13T18:46:44.995Z"
      },
      {
        "duration": 119,
        "start_time": "2023-10-13T18:46:52.555Z"
      },
      {
        "duration": 1654,
        "start_time": "2023-10-16T18:39:11.335Z"
      },
      {
        "duration": 47,
        "start_time": "2023-10-16T18:39:12.992Z"
      },
      {
        "duration": 18,
        "start_time": "2023-10-16T18:39:13.211Z"
      },
      {
        "duration": 82,
        "start_time": "2023-10-16T18:39:14.960Z"
      },
      {
        "duration": 2114,
        "start_time": "2023-10-16T18:39:16.519Z"
      },
      {
        "duration": 34,
        "start_time": "2023-10-16T18:39:18.635Z"
      },
      {
        "duration": 11,
        "start_time": "2023-10-16T18:39:18.771Z"
      },
      {
        "duration": 8,
        "start_time": "2023-10-16T18:39:20.235Z"
      },
      {
        "duration": 6,
        "start_time": "2023-10-16T18:39:20.676Z"
      },
      {
        "duration": 6,
        "start_time": "2023-10-16T18:39:21.062Z"
      },
      {
        "duration": 15,
        "start_time": "2023-10-16T18:39:21.558Z"
      },
      {
        "duration": 27,
        "start_time": "2023-10-16T18:39:23.580Z"
      },
      {
        "duration": 8,
        "start_time": "2023-10-16T18:39:25.869Z"
      },
      {
        "duration": 7,
        "start_time": "2023-10-16T18:39:26.522Z"
      },
      {
        "duration": 61,
        "start_time": "2023-10-16T18:39:27.623Z"
      },
      {
        "duration": 8,
        "start_time": "2023-10-16T18:39:28.560Z"
      },
      {
        "duration": 5,
        "start_time": "2023-10-16T18:44:45.804Z"
      },
      {
        "duration": 50,
        "start_time": "2023-10-16T18:44:55.474Z"
      },
      {
        "duration": 50,
        "start_time": "2023-10-16T18:45:57.570Z"
      },
      {
        "duration": 51,
        "start_time": "2023-10-16T18:49:36.050Z"
      },
      {
        "duration": 46,
        "start_time": "2023-10-16T18:52:46.336Z"
      },
      {
        "duration": 13,
        "start_time": "2023-10-16T18:52:47.688Z"
      },
      {
        "duration": 51,
        "start_time": "2023-10-16T18:53:25.939Z"
      },
      {
        "duration": 60,
        "start_time": "2023-10-16T18:53:39.049Z"
      },
      {
        "duration": 361,
        "start_time": "2023-10-16T18:54:17.661Z"
      },
      {
        "duration": 9,
        "start_time": "2023-10-16T18:55:31.672Z"
      },
      {
        "duration": 118,
        "start_time": "2023-10-16T18:55:32.097Z"
      },
      {
        "duration": 44,
        "start_time": "2023-10-16T18:55:34.502Z"
      },
      {
        "duration": 51,
        "start_time": "2023-10-16T18:55:36.373Z"
      },
      {
        "duration": 336,
        "start_time": "2023-10-16T18:55:37.625Z"
      },
      {
        "duration": 46,
        "start_time": "2023-10-16T18:57:55.578Z"
      },
      {
        "duration": 1865,
        "start_time": "2023-10-18T12:36:01.073Z"
      },
      {
        "duration": 66,
        "start_time": "2023-10-18T12:36:02.941Z"
      },
      {
        "duration": 24,
        "start_time": "2023-10-18T12:36:03.071Z"
      },
      {
        "duration": 83,
        "start_time": "2023-10-18T12:36:03.805Z"
      },
      {
        "duration": 2470,
        "start_time": "2023-10-18T12:36:04.532Z"
      },
      {
        "duration": 33,
        "start_time": "2023-10-18T12:36:07.005Z"
      },
      {
        "duration": 12,
        "start_time": "2023-10-18T12:36:07.040Z"
      },
      {
        "duration": 9,
        "start_time": "2023-10-18T12:36:12.608Z"
      },
      {
        "duration": 7,
        "start_time": "2023-10-18T12:36:13.063Z"
      },
      {
        "duration": 5,
        "start_time": "2023-10-18T12:36:13.482Z"
      },
      {
        "duration": 24,
        "start_time": "2023-10-18T12:36:13.849Z"
      },
      {
        "duration": 36,
        "start_time": "2023-10-18T12:36:18.077Z"
      },
      {
        "duration": 7,
        "start_time": "2023-10-18T12:36:20.887Z"
      },
      {
        "duration": 11,
        "start_time": "2023-10-18T12:36:21.862Z"
      },
      {
        "duration": 64,
        "start_time": "2023-10-18T12:36:37.564Z"
      },
      {
        "duration": 11,
        "start_time": "2023-10-18T12:36:40.940Z"
      },
      {
        "duration": 240,
        "start_time": "2023-10-18T12:45:50.742Z"
      },
      {
        "duration": 127,
        "start_time": "2023-10-18T12:48:16.005Z"
      },
      {
        "duration": 134,
        "start_time": "2023-10-18T12:49:11.293Z"
      },
      {
        "duration": 115,
        "start_time": "2023-10-18T12:50:36.268Z"
      },
      {
        "duration": 134,
        "start_time": "2023-10-18T12:50:42.762Z"
      },
      {
        "duration": 157,
        "start_time": "2023-10-18T12:50:56.704Z"
      },
      {
        "duration": 193,
        "start_time": "2023-10-18T12:51:35.133Z"
      },
      {
        "duration": 64,
        "start_time": "2023-10-18T13:16:47.645Z"
      },
      {
        "duration": 55,
        "start_time": "2023-10-18T13:17:44.237Z"
      },
      {
        "duration": 52,
        "start_time": "2023-10-18T13:17:52.335Z"
      },
      {
        "duration": 138,
        "start_time": "2023-10-18T13:18:17.709Z"
      },
      {
        "duration": 52,
        "start_time": "2023-10-18T13:20:40.026Z"
      },
      {
        "duration": 22,
        "start_time": "2023-10-18T13:29:34.180Z"
      },
      {
        "duration": 6,
        "start_time": "2023-10-18T13:32:27.554Z"
      },
      {
        "duration": 209,
        "start_time": "2023-10-18T13:33:01.597Z"
      },
      {
        "duration": 210,
        "start_time": "2023-10-18T13:33:31.733Z"
      },
      {
        "duration": 6,
        "start_time": "2023-10-18T13:33:40.337Z"
      },
      {
        "duration": 6,
        "start_time": "2023-10-18T13:38:52.875Z"
      },
      {
        "duration": 39,
        "start_time": "2023-10-18T13:39:02.314Z"
      },
      {
        "duration": 25,
        "start_time": "2023-10-18T13:39:10.539Z"
      },
      {
        "duration": 176,
        "start_time": "2023-10-18T13:39:32.535Z"
      },
      {
        "duration": 206,
        "start_time": "2023-10-18T13:39:48.827Z"
      },
      {
        "duration": 272,
        "start_time": "2023-10-18T13:39:57.128Z"
      },
      {
        "duration": 221,
        "start_time": "2023-10-18T13:41:49.443Z"
      },
      {
        "duration": 199,
        "start_time": "2023-10-18T13:41:59.681Z"
      },
      {
        "duration": 232,
        "start_time": "2023-10-18T13:42:10.259Z"
      },
      {
        "duration": 251,
        "start_time": "2023-10-18T13:42:43.903Z"
      },
      {
        "duration": 266,
        "start_time": "2023-10-18T13:42:51.662Z"
      },
      {
        "duration": 221,
        "start_time": "2023-10-18T13:42:55.882Z"
      },
      {
        "duration": 264,
        "start_time": "2023-10-18T13:43:00.718Z"
      },
      {
        "duration": 259,
        "start_time": "2023-10-18T13:43:34.822Z"
      },
      {
        "duration": 246,
        "start_time": "2023-10-18T13:43:41.620Z"
      },
      {
        "duration": 252,
        "start_time": "2023-10-18T13:44:03.316Z"
      },
      {
        "duration": 535,
        "start_time": "2023-10-18T13:44:15.194Z"
      },
      {
        "duration": 386,
        "start_time": "2023-10-18T13:44:20.201Z"
      },
      {
        "duration": 189,
        "start_time": "2023-10-18T13:44:54.224Z"
      },
      {
        "duration": 209,
        "start_time": "2023-10-18T13:45:00.511Z"
      },
      {
        "duration": 249,
        "start_time": "2023-10-18T13:45:06.550Z"
      },
      {
        "duration": 233,
        "start_time": "2023-10-18T13:45:44.266Z"
      },
      {
        "duration": 224,
        "start_time": "2023-10-18T13:46:08.165Z"
      },
      {
        "duration": 256,
        "start_time": "2023-10-18T13:46:45.284Z"
      },
      {
        "duration": 252,
        "start_time": "2023-10-18T13:46:51.836Z"
      },
      {
        "duration": 247,
        "start_time": "2023-10-18T13:48:48.347Z"
      },
      {
        "duration": 251,
        "start_time": "2023-10-18T13:48:54.812Z"
      },
      {
        "duration": 12,
        "start_time": "2023-10-18T13:55:58.565Z"
      },
      {
        "duration": 20,
        "start_time": "2023-10-18T13:56:11.894Z"
      },
      {
        "duration": 83,
        "start_time": "2023-10-18T14:02:57.277Z"
      },
      {
        "duration": 135,
        "start_time": "2023-10-18T14:04:30.942Z"
      },
      {
        "duration": 122,
        "start_time": "2023-10-18T14:04:42.411Z"
      },
      {
        "duration": 148,
        "start_time": "2023-10-18T14:04:55.783Z"
      },
      {
        "duration": 157,
        "start_time": "2023-10-18T14:05:06.601Z"
      },
      {
        "duration": 340,
        "start_time": "2023-10-18T14:05:15.299Z"
      },
      {
        "duration": 5,
        "start_time": "2023-10-18T14:06:27.174Z"
      },
      {
        "duration": 1199,
        "start_time": "2023-10-18T14:06:33.382Z"
      },
      {
        "duration": 6,
        "start_time": "2023-10-18T14:06:47.359Z"
      },
      {
        "duration": 11,
        "start_time": "2023-10-18T14:06:59.407Z"
      },
      {
        "duration": 99,
        "start_time": "2023-10-18T14:07:14.199Z"
      },
      {
        "duration": 69,
        "start_time": "2023-10-18T14:07:15.094Z"
      },
      {
        "duration": 17,
        "start_time": "2023-10-18T14:07:15.827Z"
      },
      {
        "duration": 96,
        "start_time": "2023-10-18T14:07:16.695Z"
      },
      {
        "duration": 2329,
        "start_time": "2023-10-18T14:07:17.647Z"
      },
      {
        "duration": 31,
        "start_time": "2023-10-18T14:07:19.978Z"
      },
      {
        "duration": 68,
        "start_time": "2023-10-18T14:07:20.010Z"
      },
      {
        "duration": 9,
        "start_time": "2023-10-18T14:07:20.154Z"
      },
      {
        "duration": 7,
        "start_time": "2023-10-18T14:07:20.360Z"
      },
      {
        "duration": 6,
        "start_time": "2023-10-18T14:07:20.564Z"
      },
      {
        "duration": 13,
        "start_time": "2023-10-18T14:07:20.791Z"
      },
      {
        "duration": 32,
        "start_time": "2023-10-18T14:07:21.629Z"
      },
      {
        "duration": 8,
        "start_time": "2023-10-18T14:07:22.185Z"
      },
      {
        "duration": 9,
        "start_time": "2023-10-18T14:07:22.586Z"
      },
      {
        "duration": 70,
        "start_time": "2023-10-18T14:07:22.861Z"
      },
      {
        "duration": 9,
        "start_time": "2023-10-18T14:07:23.142Z"
      },
      {
        "duration": 48,
        "start_time": "2023-10-18T14:07:23.978Z"
      },
      {
        "duration": 64,
        "start_time": "2023-10-18T14:07:24.648Z"
      },
      {
        "duration": 580,
        "start_time": "2023-10-18T14:07:25.414Z"
      },
      {
        "duration": 44,
        "start_time": "2023-10-18T14:07:26.169Z"
      },
      {
        "duration": 42,
        "start_time": "2023-10-18T14:07:28.706Z"
      },
      {
        "duration": 19,
        "start_time": "2023-10-18T14:07:29.311Z"
      },
      {
        "duration": 9,
        "start_time": "2023-10-18T14:07:29.787Z"
      },
      {
        "duration": 24,
        "start_time": "2023-10-18T14:07:30.166Z"
      },
      {
        "duration": 144,
        "start_time": "2023-10-18T14:07:31.187Z"
      },
      {
        "duration": 52,
        "start_time": "2023-10-18T14:07:31.964Z"
      },
      {
        "duration": 146,
        "start_time": "2023-10-18T14:07:38.350Z"
      },
      {
        "duration": 56,
        "start_time": "2023-10-18T14:07:41.029Z"
      },
      {
        "duration": 11,
        "start_time": "2023-10-18T14:07:45.792Z"
      },
      {
        "duration": 130,
        "start_time": "2023-10-18T14:07:56.096Z"
      },
      {
        "duration": 61,
        "start_time": "2023-10-18T14:07:57.028Z"
      },
      {
        "duration": 18,
        "start_time": "2023-10-18T14:07:57.092Z"
      },
      {
        "duration": 79,
        "start_time": "2023-10-18T14:07:57.461Z"
      },
      {
        "duration": 2274,
        "start_time": "2023-10-18T14:07:58.023Z"
      },
      {
        "duration": 51,
        "start_time": "2023-10-18T14:08:00.298Z"
      },
      {
        "duration": 20,
        "start_time": "2023-10-18T14:08:00.350Z"
      },
      {
        "duration": 34,
        "start_time": "2023-10-18T14:08:00.374Z"
      },
      {
        "duration": 45,
        "start_time": "2023-10-18T14:08:00.410Z"
      },
      {
        "duration": 36,
        "start_time": "2023-10-18T14:08:00.459Z"
      },
      {
        "duration": 25,
        "start_time": "2023-10-18T14:08:00.497Z"
      },
      {
        "duration": 26,
        "start_time": "2023-10-18T14:08:01.091Z"
      },
      {
        "duration": 10,
        "start_time": "2023-10-18T14:08:01.695Z"
      },
      {
        "duration": 8,
        "start_time": "2023-10-18T14:08:01.984Z"
      },
      {
        "duration": 76,
        "start_time": "2023-10-18T14:08:02.224Z"
      },
      {
        "duration": 7,
        "start_time": "2023-10-18T14:08:02.475Z"
      },
      {
        "duration": 59,
        "start_time": "2023-10-18T14:08:03.238Z"
      },
      {
        "duration": 54,
        "start_time": "2023-10-18T14:08:03.865Z"
      },
      {
        "duration": 648,
        "start_time": "2023-10-18T14:08:04.821Z"
      },
      {
        "duration": 43,
        "start_time": "2023-10-18T14:08:05.599Z"
      },
      {
        "duration": 43,
        "start_time": "2023-10-18T14:08:07.972Z"
      },
      {
        "duration": 19,
        "start_time": "2023-10-18T14:08:08.219Z"
      },
      {
        "duration": 8,
        "start_time": "2023-10-18T14:08:08.466Z"
      },
      {
        "duration": 22,
        "start_time": "2023-10-18T14:08:08.767Z"
      },
      {
        "duration": 154,
        "start_time": "2023-10-18T14:08:09.642Z"
      },
      {
        "duration": 63,
        "start_time": "2023-10-18T14:08:10.623Z"
      },
      {
        "duration": 135,
        "start_time": "2023-10-18T14:08:12.369Z"
      },
      {
        "duration": 9,
        "start_time": "2023-10-18T14:08:22.453Z"
      },
      {
        "duration": 350,
        "start_time": "2023-10-18T14:10:57.136Z"
      },
      {
        "duration": 357,
        "start_time": "2023-10-18T14:11:11.082Z"
      },
      {
        "duration": 405,
        "start_time": "2023-10-18T14:11:20.541Z"
      },
      {
        "duration": 146,
        "start_time": "2023-10-18T14:12:17.973Z"
      },
      {
        "duration": 379,
        "start_time": "2023-10-18T14:13:03.141Z"
      },
      {
        "duration": 352,
        "start_time": "2023-10-18T14:13:14.498Z"
      },
      {
        "duration": 391,
        "start_time": "2023-10-18T14:16:08.548Z"
      },
      {
        "duration": 534,
        "start_time": "2023-10-18T14:16:30.114Z"
      },
      {
        "duration": 353,
        "start_time": "2023-10-18T14:16:40.693Z"
      },
      {
        "duration": 7,
        "start_time": "2023-10-18T14:20:54.600Z"
      },
      {
        "duration": 28,
        "start_time": "2023-10-18T14:20:58.677Z"
      },
      {
        "duration": 34,
        "start_time": "2023-10-18T14:21:40.312Z"
      },
      {
        "duration": 34,
        "start_time": "2023-10-18T14:22:37.667Z"
      },
      {
        "duration": 5,
        "start_time": "2023-10-18T14:38:20.181Z"
      },
      {
        "duration": 28,
        "start_time": "2023-10-18T14:38:24.422Z"
      },
      {
        "duration": 26,
        "start_time": "2023-10-18T14:42:08.268Z"
      },
      {
        "duration": 110,
        "start_time": "2023-10-18T14:42:18.490Z"
      },
      {
        "duration": 41,
        "start_time": "2023-10-18T14:42:18.859Z"
      },
      {
        "duration": 15,
        "start_time": "2023-10-18T14:42:19.218Z"
      },
      {
        "duration": 79,
        "start_time": "2023-10-18T14:42:19.786Z"
      },
      {
        "duration": 2191,
        "start_time": "2023-10-18T14:42:20.359Z"
      },
      {
        "duration": 33,
        "start_time": "2023-10-18T14:42:22.553Z"
      },
      {
        "duration": 10,
        "start_time": "2023-10-18T14:42:22.587Z"
      },
      {
        "duration": 33,
        "start_time": "2023-10-18T14:42:22.598Z"
      },
      {
        "duration": 45,
        "start_time": "2023-10-18T14:42:22.632Z"
      },
      {
        "duration": 42,
        "start_time": "2023-10-18T14:42:22.679Z"
      },
      {
        "duration": 36,
        "start_time": "2023-10-18T14:42:22.723Z"
      },
      {
        "duration": 24,
        "start_time": "2023-10-18T14:42:23.320Z"
      },
      {
        "duration": 7,
        "start_time": "2023-10-18T14:42:23.800Z"
      },
      {
        "duration": 8,
        "start_time": "2023-10-18T14:42:24.011Z"
      },
      {
        "duration": 73,
        "start_time": "2023-10-18T14:42:24.249Z"
      },
      {
        "duration": 7,
        "start_time": "2023-10-18T14:42:24.476Z"
      },
      {
        "duration": 66,
        "start_time": "2023-10-18T14:42:25.240Z"
      },
      {
        "duration": 51,
        "start_time": "2023-10-18T14:42:25.961Z"
      },
      {
        "duration": 385,
        "start_time": "2023-10-18T14:42:26.544Z"
      },
      {
        "duration": 52,
        "start_time": "2023-10-18T14:42:27.140Z"
      },
      {
        "duration": 40,
        "start_time": "2023-10-18T14:42:28.593Z"
      },
      {
        "duration": 22,
        "start_time": "2023-10-18T14:42:28.993Z"
      },
      {
        "duration": 8,
        "start_time": "2023-10-18T14:42:29.396Z"
      },
      {
        "duration": 20,
        "start_time": "2023-10-18T14:42:29.758Z"
      },
      {
        "duration": 153,
        "start_time": "2023-10-18T14:42:30.526Z"
      },
      {
        "duration": 45,
        "start_time": "2023-10-18T14:42:31.295Z"
      },
      {
        "duration": 352,
        "start_time": "2023-10-18T14:42:32.238Z"
      },
      {
        "duration": 39,
        "start_time": "2023-10-18T14:42:32.758Z"
      },
      {
        "duration": 272,
        "start_time": "2023-10-18T14:42:33.492Z"
      },
      {
        "duration": 428,
        "start_time": "2023-10-18T14:49:29.817Z"
      },
      {
        "duration": 155,
        "start_time": "2023-10-18T14:49:59.825Z"
      },
      {
        "duration": 146,
        "start_time": "2023-10-18T14:50:12.473Z"
      },
      {
        "duration": 139,
        "start_time": "2023-10-18T14:50:22.177Z"
      },
      {
        "duration": 152,
        "start_time": "2023-10-18T14:50:30.463Z"
      },
      {
        "duration": 469,
        "start_time": "2023-10-18T14:51:06.437Z"
      },
      {
        "duration": 453,
        "start_time": "2023-10-18T14:52:54.473Z"
      },
      {
        "duration": 446,
        "start_time": "2023-10-18T14:53:32.168Z"
      },
      {
        "duration": 61,
        "start_time": "2023-10-18T14:54:05.808Z"
      },
      {
        "duration": 413,
        "start_time": "2023-10-18T14:54:07.174Z"
      },
      {
        "duration": 38,
        "start_time": "2023-10-18T14:54:07.590Z"
      },
      {
        "duration": 53,
        "start_time": "2023-10-18T14:54:08.168Z"
      },
      {
        "duration": 418,
        "start_time": "2023-10-18T14:54:09.582Z"
      },
      {
        "duration": 7,
        "start_time": "2023-10-18T14:54:13.838Z"
      },
      {
        "duration": 44,
        "start_time": "2023-10-18T14:54:21.399Z"
      },
      {
        "duration": 22,
        "start_time": "2023-10-18T14:54:31.466Z"
      },
      {
        "duration": 118,
        "start_time": "2023-10-18T14:54:38.683Z"
      },
      {
        "duration": 47,
        "start_time": "2023-10-18T14:54:39.087Z"
      },
      {
        "duration": 17,
        "start_time": "2023-10-18T14:54:39.525Z"
      },
      {
        "duration": 101,
        "start_time": "2023-10-18T14:54:40.186Z"
      },
      {
        "duration": 2740,
        "start_time": "2023-10-18T14:54:40.878Z"
      },
      {
        "duration": 49,
        "start_time": "2023-10-18T14:54:43.620Z"
      },
      {
        "duration": 29,
        "start_time": "2023-10-18T14:54:43.671Z"
      },
      {
        "duration": 24,
        "start_time": "2023-10-18T14:54:43.702Z"
      },
      {
        "duration": 35,
        "start_time": "2023-10-18T14:54:43.728Z"
      },
      {
        "duration": 39,
        "start_time": "2023-10-18T14:54:43.765Z"
      },
      {
        "duration": 45,
        "start_time": "2023-10-18T14:54:43.806Z"
      },
      {
        "duration": 29,
        "start_time": "2023-10-18T14:54:44.134Z"
      },
      {
        "duration": 8,
        "start_time": "2023-10-18T14:54:44.895Z"
      },
      {
        "duration": 8,
        "start_time": "2023-10-18T14:54:45.218Z"
      },
      {
        "duration": 101,
        "start_time": "2023-10-18T14:54:45.496Z"
      },
      {
        "duration": 24,
        "start_time": "2023-10-18T14:54:45.743Z"
      },
      {
        "duration": 52,
        "start_time": "2023-10-18T14:54:46.572Z"
      },
      {
        "duration": 57,
        "start_time": "2023-10-18T14:54:47.676Z"
      },
      {
        "duration": 441,
        "start_time": "2023-10-18T14:54:48.676Z"
      },
      {
        "duration": 45,
        "start_time": "2023-10-18T14:54:49.592Z"
      },
      {
        "duration": 45,
        "start_time": "2023-10-18T14:55:02.672Z"
      },
      {
        "duration": 20,
        "start_time": "2023-10-18T14:55:08.110Z"
      },
      {
        "duration": 9,
        "start_time": "2023-10-18T14:55:13.971Z"
      },
      {
        "duration": 18,
        "start_time": "2023-10-18T14:55:14.516Z"
      },
      {
        "duration": 155,
        "start_time": "2023-10-18T14:55:19.371Z"
      },
      {
        "duration": 45,
        "start_time": "2023-10-18T14:55:22.192Z"
      },
      {
        "duration": 393,
        "start_time": "2023-10-18T14:55:29.573Z"
      },
      {
        "duration": 64,
        "start_time": "2023-10-18T14:55:33.844Z"
      },
      {
        "duration": 44,
        "start_time": "2023-10-18T14:55:41.497Z"
      },
      {
        "duration": 414,
        "start_time": "2023-10-18T14:55:53.123Z"
      },
      {
        "duration": 52,
        "start_time": "2023-10-18T14:56:09.776Z"
      },
      {
        "duration": 51,
        "start_time": "2023-10-19T12:55:48.068Z"
      },
      {
        "duration": 1705,
        "start_time": "2023-10-19T12:56:05.166Z"
      },
      {
        "duration": 46,
        "start_time": "2023-10-19T12:56:06.874Z"
      },
      {
        "duration": 44,
        "start_time": "2023-10-19T12:56:06.922Z"
      },
      {
        "duration": 91,
        "start_time": "2023-10-19T12:56:06.968Z"
      },
      {
        "duration": 2143,
        "start_time": "2023-10-19T12:56:07.251Z"
      },
      {
        "duration": 32,
        "start_time": "2023-10-19T12:56:09.397Z"
      },
      {
        "duration": 12,
        "start_time": "2023-10-19T12:56:09.431Z"
      },
      {
        "duration": 9,
        "start_time": "2023-10-19T12:56:09.634Z"
      },
      {
        "duration": 5,
        "start_time": "2023-10-19T12:56:09.850Z"
      },
      {
        "duration": 6,
        "start_time": "2023-10-19T12:56:10.046Z"
      },
      {
        "duration": 15,
        "start_time": "2023-10-19T12:56:10.275Z"
      },
      {
        "duration": 27,
        "start_time": "2023-10-19T12:56:11.041Z"
      },
      {
        "duration": 7,
        "start_time": "2023-10-19T12:56:11.534Z"
      },
      {
        "duration": 8,
        "start_time": "2023-10-19T12:56:11.922Z"
      },
      {
        "duration": 62,
        "start_time": "2023-10-19T12:56:12.304Z"
      },
      {
        "duration": 8,
        "start_time": "2023-10-19T12:56:12.612Z"
      },
      {
        "duration": 45,
        "start_time": "2023-10-19T12:56:13.511Z"
      },
      {
        "duration": 69,
        "start_time": "2023-10-19T12:56:14.605Z"
      },
      {
        "duration": 331,
        "start_time": "2023-10-19T12:56:15.306Z"
      },
      {
        "duration": 45,
        "start_time": "2023-10-19T12:56:16.057Z"
      },
      {
        "duration": 344,
        "start_time": "2023-10-19T12:56:18.659Z"
      },
      {
        "duration": 349,
        "start_time": "2023-10-19T12:56:29.184Z"
      },
      {
        "duration": 369,
        "start_time": "2023-10-19T12:56:34.844Z"
      },
      {
        "duration": 416,
        "start_time": "2023-10-19T12:56:46.050Z"
      },
      {
        "duration": 198,
        "start_time": "2023-10-19T12:57:01.420Z"
      },
      {
        "duration": 193,
        "start_time": "2023-10-19T12:57:05.763Z"
      },
      {
        "duration": 209,
        "start_time": "2023-10-19T12:57:14.854Z"
      },
      {
        "duration": 201,
        "start_time": "2023-10-19T12:57:21.114Z"
      },
      {
        "duration": 193,
        "start_time": "2023-10-19T12:59:20.303Z"
      },
      {
        "duration": 111,
        "start_time": "2023-10-19T12:59:46.883Z"
      },
      {
        "duration": 41,
        "start_time": "2023-10-19T12:59:47.248Z"
      },
      {
        "duration": 16,
        "start_time": "2023-10-19T12:59:47.602Z"
      },
      {
        "duration": 76,
        "start_time": "2023-10-19T12:59:48.114Z"
      },
      {
        "duration": 2144,
        "start_time": "2023-10-19T12:59:48.681Z"
      },
      {
        "duration": 27,
        "start_time": "2023-10-19T12:59:50.827Z"
      },
      {
        "duration": 18,
        "start_time": "2023-10-19T12:59:50.856Z"
      },
      {
        "duration": 9,
        "start_time": "2023-10-19T12:59:50.971Z"
      },
      {
        "duration": 6,
        "start_time": "2023-10-19T12:59:51.184Z"
      },
      {
        "duration": 7,
        "start_time": "2023-10-19T12:59:51.487Z"
      },
      {
        "duration": 16,
        "start_time": "2023-10-19T12:59:54.614Z"
      },
      {
        "duration": 24,
        "start_time": "2023-10-19T12:59:55.479Z"
      },
      {
        "duration": 7,
        "start_time": "2023-10-19T12:59:55.995Z"
      },
      {
        "duration": 8,
        "start_time": "2023-10-19T12:59:56.249Z"
      },
      {
        "duration": 62,
        "start_time": "2023-10-19T12:59:56.687Z"
      },
      {
        "duration": 8,
        "start_time": "2023-10-19T12:59:57.077Z"
      },
      {
        "duration": 48,
        "start_time": "2023-10-19T12:59:58.262Z"
      },
      {
        "duration": 51,
        "start_time": "2023-10-19T12:59:59.102Z"
      },
      {
        "duration": 342,
        "start_time": "2023-10-19T13:00:00.191Z"
      },
      {
        "duration": 46,
        "start_time": "2023-10-19T13:00:02.497Z"
      },
      {
        "duration": 207,
        "start_time": "2023-10-19T13:00:06.609Z"
      },
      {
        "duration": 44,
        "start_time": "2023-10-19T13:00:07.615Z"
      },
      {
        "duration": 19,
        "start_time": "2023-10-19T13:00:08.269Z"
      },
      {
        "duration": 7,
        "start_time": "2023-10-19T13:00:08.769Z"
      },
      {
        "duration": 20,
        "start_time": "2023-10-19T13:00:09.193Z"
      },
      {
        "duration": 196,
        "start_time": "2023-10-19T13:00:11.027Z"
      },
      {
        "duration": 196,
        "start_time": "2023-10-19T13:00:20.407Z"
      },
      {
        "duration": 217,
        "start_time": "2023-10-19T13:00:29.273Z"
      },
      {
        "duration": 347,
        "start_time": "2023-10-19T13:00:35.387Z"
      },
      {
        "duration": 143,
        "start_time": "2023-10-19T13:00:43.888Z"
      },
      {
        "duration": 262,
        "start_time": "2023-10-19T13:01:14.553Z"
      },
      {
        "duration": 250,
        "start_time": "2023-10-19T13:01:24.625Z"
      },
      {
        "duration": 204,
        "start_time": "2023-10-19T13:01:33.494Z"
      },
      {
        "duration": 130,
        "start_time": "2023-10-19T13:01:41.846Z"
      },
      {
        "duration": 46,
        "start_time": "2023-10-19T13:01:53.275Z"
      },
      {
        "duration": 323,
        "start_time": "2023-10-19T13:02:42.309Z"
      },
      {
        "duration": 37,
        "start_time": "2023-10-19T13:02:49.366Z"
      },
      {
        "duration": 178,
        "start_time": "2023-10-19T13:06:15.625Z"
      },
      {
        "duration": 201,
        "start_time": "2023-10-19T13:06:22.163Z"
      },
      {
        "duration": 131,
        "start_time": "2023-10-19T13:09:16.781Z"
      },
      {
        "duration": 128,
        "start_time": "2023-10-19T13:09:30.770Z"
      },
      {
        "duration": 56,
        "start_time": "2023-10-19T13:09:44.303Z"
      },
      {
        "duration": 40,
        "start_time": "2023-10-19T13:13:17.905Z"
      },
      {
        "duration": 45,
        "start_time": "2023-10-19T13:13:26.896Z"
      },
      {
        "duration": 128,
        "start_time": "2023-10-19T13:15:33.808Z"
      },
      {
        "duration": 7,
        "start_time": "2023-10-19T13:16:35.637Z"
      },
      {
        "duration": 41,
        "start_time": "2023-10-19T13:16:39.786Z"
      },
      {
        "duration": 1711,
        "start_time": "2023-10-19T13:17:24.713Z"
      },
      {
        "duration": 1797,
        "start_time": "2023-10-19T13:17:36.262Z"
      },
      {
        "duration": 22,
        "start_time": "2023-10-19T13:18:45.800Z"
      },
      {
        "duration": 17,
        "start_time": "2023-10-19T13:23:27.749Z"
      },
      {
        "duration": 18,
        "start_time": "2023-10-19T13:27:25.623Z"
      },
      {
        "duration": 7,
        "start_time": "2023-10-19T13:28:07.850Z"
      },
      {
        "duration": 17,
        "start_time": "2023-10-19T13:28:13.361Z"
      },
      {
        "duration": 12,
        "start_time": "2023-10-19T13:28:28.481Z"
      },
      {
        "duration": 18,
        "start_time": "2023-10-19T13:28:34.139Z"
      },
      {
        "duration": 120,
        "start_time": "2023-10-19T13:28:41.202Z"
      },
      {
        "duration": 59,
        "start_time": "2023-10-19T13:28:41.597Z"
      },
      {
        "duration": 23,
        "start_time": "2023-10-19T13:28:41.965Z"
      },
      {
        "duration": 88,
        "start_time": "2023-10-19T13:28:42.557Z"
      },
      {
        "duration": 2411,
        "start_time": "2023-10-19T13:28:43.115Z"
      },
      {
        "duration": 30,
        "start_time": "2023-10-19T13:28:45.529Z"
      },
      {
        "duration": 8,
        "start_time": "2023-10-19T13:28:45.563Z"
      },
      {
        "duration": 32,
        "start_time": "2023-10-19T13:28:45.573Z"
      },
      {
        "duration": 7,
        "start_time": "2023-10-19T13:28:45.613Z"
      },
      {
        "duration": 9,
        "start_time": "2023-10-19T13:28:45.622Z"
      },
      {
        "duration": 20,
        "start_time": "2023-10-19T13:28:45.637Z"
      },
      {
        "duration": 28,
        "start_time": "2023-10-19T13:28:46.837Z"
      },
      {
        "duration": 7,
        "start_time": "2023-10-19T13:28:47.262Z"
      },
      {
        "duration": 8,
        "start_time": "2023-10-19T13:28:47.445Z"
      },
      {
        "duration": 88,
        "start_time": "2023-10-19T13:28:47.623Z"
      },
      {
        "duration": 8,
        "start_time": "2023-10-19T13:28:47.831Z"
      },
      {
        "duration": 53,
        "start_time": "2023-10-19T13:28:48.522Z"
      },
      {
        "duration": 56,
        "start_time": "2023-10-19T13:28:49.281Z"
      },
      {
        "duration": 372,
        "start_time": "2023-10-19T13:28:49.910Z"
      },
      {
        "duration": 47,
        "start_time": "2023-10-19T13:28:50.679Z"
      },
      {
        "duration": 211,
        "start_time": "2023-10-19T13:28:53.174Z"
      },
      {
        "duration": 39,
        "start_time": "2023-10-19T13:28:55.339Z"
      },
      {
        "duration": 21,
        "start_time": "2023-10-19T13:28:56.159Z"
      },
      {
        "duration": 15,
        "start_time": "2023-10-19T13:28:56.599Z"
      },
      {
        "duration": 24,
        "start_time": "2023-10-19T13:28:57.063Z"
      },
      {
        "duration": 241,
        "start_time": "2023-10-19T13:28:58.421Z"
      },
      {
        "duration": 142,
        "start_time": "2023-10-19T13:29:00.273Z"
      },
      {
        "duration": 55,
        "start_time": "2023-10-19T13:29:00.995Z"
      },
      {
        "duration": 324,
        "start_time": "2023-10-19T13:29:02.619Z"
      },
      {
        "duration": 35,
        "start_time": "2023-10-19T13:29:03.932Z"
      },
      {
        "duration": 45,
        "start_time": "2023-10-19T13:29:04.546Z"
      },
      {
        "duration": 405,
        "start_time": "2023-10-19T13:29:06.178Z"
      },
      {
        "duration": 45,
        "start_time": "2023-10-19T13:29:07.923Z"
      },
      {
        "duration": 16,
        "start_time": "2023-10-19T13:29:08.583Z"
      },
      {
        "duration": 47,
        "start_time": "2023-10-19T13:29:14.418Z"
      },
      {
        "duration": 30,
        "start_time": "2023-10-19T13:29:31.790Z"
      },
      {
        "duration": 112,
        "start_time": "2023-10-19T13:29:35.774Z"
      },
      {
        "duration": 41,
        "start_time": "2023-10-19T13:29:36.115Z"
      },
      {
        "duration": 20,
        "start_time": "2023-10-19T13:29:36.504Z"
      },
      {
        "duration": 86,
        "start_time": "2023-10-19T13:29:37.895Z"
      },
      {
        "duration": 2454,
        "start_time": "2023-10-19T13:29:39.087Z"
      },
      {
        "duration": 30,
        "start_time": "2023-10-19T13:29:41.754Z"
      },
      {
        "duration": 10,
        "start_time": "2023-10-19T13:29:42.824Z"
      },
      {
        "duration": 11,
        "start_time": "2023-10-19T13:29:44.118Z"
      },
      {
        "duration": 6,
        "start_time": "2023-10-19T13:29:44.378Z"
      },
      {
        "duration": 6,
        "start_time": "2023-10-19T13:29:44.873Z"
      },
      {
        "duration": 13,
        "start_time": "2023-10-19T13:29:45.336Z"
      },
      {
        "duration": 23,
        "start_time": "2023-10-19T13:29:46.919Z"
      },
      {
        "duration": 8,
        "start_time": "2023-10-19T13:29:48.640Z"
      },
      {
        "duration": 7,
        "start_time": "2023-10-19T13:29:49.121Z"
      },
      {
        "duration": 59,
        "start_time": "2023-10-19T13:29:49.617Z"
      },
      {
        "duration": 8,
        "start_time": "2023-10-19T13:29:50.060Z"
      },
      {
        "duration": 50,
        "start_time": "2023-10-19T13:29:51.674Z"
      },
      {
        "duration": 57,
        "start_time": "2023-10-19T13:29:52.968Z"
      },
      {
        "duration": 412,
        "start_time": "2023-10-19T13:29:54.380Z"
      },
      {
        "duration": 42,
        "start_time": "2023-10-19T13:29:55.555Z"
      },
      {
        "duration": 204,
        "start_time": "2023-10-19T13:29:59.242Z"
      },
      {
        "duration": 50,
        "start_time": "2023-10-19T13:30:00.769Z"
      },
      {
        "duration": 19,
        "start_time": "2023-10-19T13:30:01.173Z"
      },
      {
        "duration": 7,
        "start_time": "2023-10-19T13:30:01.559Z"
      },
      {
        "duration": 18,
        "start_time": "2023-10-19T13:30:02.074Z"
      },
      {
        "duration": 227,
        "start_time": "2023-10-19T13:30:03.715Z"
      },
      {
        "duration": 139,
        "start_time": "2023-10-19T13:30:05.012Z"
      },
      {
        "duration": 46,
        "start_time": "2023-10-19T13:30:05.850Z"
      },
      {
        "duration": 358,
        "start_time": "2023-10-19T13:30:08.388Z"
      },
      {
        "duration": 47,
        "start_time": "2023-10-19T13:30:09.818Z"
      },
      {
        "duration": 46,
        "start_time": "2023-10-19T13:30:12.743Z"
      },
      {
        "duration": 377,
        "start_time": "2023-10-19T13:30:15.074Z"
      },
      {
        "duration": 49,
        "start_time": "2023-10-19T13:30:17.017Z"
      },
      {
        "duration": 51,
        "start_time": "2023-10-19T13:30:17.766Z"
      },
      {
        "duration": 45,
        "start_time": "2023-10-19T13:30:27.355Z"
      },
      {
        "duration": 622,
        "start_time": "2023-10-19T13:32:58.250Z"
      },
      {
        "duration": 343,
        "start_time": "2023-10-19T13:33:12.638Z"
      },
      {
        "duration": 137,
        "start_time": "2023-10-19T13:35:02.659Z"
      },
      {
        "duration": 17,
        "start_time": "2023-10-19T13:35:39.871Z"
      },
      {
        "duration": 387,
        "start_time": "2023-10-19T13:42:04.708Z"
      },
      {
        "duration": 371,
        "start_time": "2023-10-19T13:42:33.716Z"
      },
      {
        "duration": 396,
        "start_time": "2023-10-19T13:42:41.769Z"
      },
      {
        "duration": 9,
        "start_time": "2023-10-19T13:48:44.281Z"
      },
      {
        "duration": 120,
        "start_time": "2023-10-19T13:49:30.377Z"
      },
      {
        "duration": 115,
        "start_time": "2023-10-19T13:50:58.579Z"
      },
      {
        "duration": 317,
        "start_time": "2023-10-19T13:53:12.962Z"
      },
      {
        "duration": 339,
        "start_time": "2023-10-19T13:53:21.051Z"
      },
      {
        "duration": 347,
        "start_time": "2023-10-19T13:53:29.195Z"
      },
      {
        "duration": 176,
        "start_time": "2023-10-19T13:53:46.783Z"
      },
      {
        "duration": 270,
        "start_time": "2023-10-19T13:53:58.135Z"
      },
      {
        "duration": 290,
        "start_time": "2023-10-19T13:54:08.524Z"
      },
      {
        "duration": 256,
        "start_time": "2023-10-19T13:54:20.364Z"
      },
      {
        "duration": 287,
        "start_time": "2023-10-19T13:54:38.142Z"
      },
      {
        "duration": 184,
        "start_time": "2023-10-19T13:55:06.664Z"
      },
      {
        "duration": 202,
        "start_time": "2023-10-19T13:55:13.173Z"
      },
      {
        "duration": 221,
        "start_time": "2023-10-19T13:55:25.486Z"
      },
      {
        "duration": 521,
        "start_time": "2023-10-19T13:56:48.366Z"
      },
      {
        "duration": 233,
        "start_time": "2023-10-19T13:58:39.108Z"
      },
      {
        "duration": 233,
        "start_time": "2023-10-19T14:10:46.695Z"
      },
      {
        "duration": 271,
        "start_time": "2023-10-19T14:15:24.517Z"
      },
      {
        "duration": 218,
        "start_time": "2023-10-19T14:15:33.289Z"
      },
      {
        "duration": 230,
        "start_time": "2023-10-19T14:15:45.552Z"
      },
      {
        "duration": 237,
        "start_time": "2023-10-19T14:15:51.917Z"
      },
      {
        "duration": 235,
        "start_time": "2023-10-19T14:15:59.541Z"
      },
      {
        "duration": 217,
        "start_time": "2023-10-19T14:16:07.828Z"
      },
      {
        "duration": 238,
        "start_time": "2023-10-19T14:16:15.171Z"
      },
      {
        "duration": 255,
        "start_time": "2023-10-19T14:17:09.004Z"
      },
      {
        "duration": 242,
        "start_time": "2023-10-19T14:19:14.914Z"
      },
      {
        "duration": 246,
        "start_time": "2023-10-19T14:19:24.847Z"
      },
      {
        "duration": 262,
        "start_time": "2023-10-19T14:19:29.936Z"
      },
      {
        "duration": 226,
        "start_time": "2023-10-19T14:19:36.962Z"
      },
      {
        "duration": 212,
        "start_time": "2023-10-19T14:25:10.492Z"
      },
      {
        "duration": 13,
        "start_time": "2023-10-19T14:27:34.526Z"
      },
      {
        "duration": 257,
        "start_time": "2023-10-19T14:27:59.326Z"
      },
      {
        "duration": 244,
        "start_time": "2023-10-19T14:28:15.052Z"
      },
      {
        "duration": 272,
        "start_time": "2023-10-19T14:30:51.175Z"
      },
      {
        "duration": 338,
        "start_time": "2023-10-19T14:30:58.181Z"
      },
      {
        "duration": 384,
        "start_time": "2023-10-19T14:45:47.991Z"
      },
      {
        "duration": 2186,
        "start_time": "2023-10-19T14:46:02.883Z"
      },
      {
        "duration": 275,
        "start_time": "2023-10-19T14:46:12.611Z"
      },
      {
        "duration": 78,
        "start_time": "2023-10-19T14:47:01.427Z"
      },
      {
        "duration": 248,
        "start_time": "2023-10-19T14:49:11.105Z"
      },
      {
        "duration": 238,
        "start_time": "2023-10-19T14:49:19.947Z"
      },
      {
        "duration": 185,
        "start_time": "2023-10-19T14:50:41.516Z"
      },
      {
        "duration": 193,
        "start_time": "2023-10-19T14:51:52.587Z"
      },
      {
        "duration": 189,
        "start_time": "2023-10-19T14:52:06.575Z"
      },
      {
        "duration": 217,
        "start_time": "2023-10-19T14:52:41.175Z"
      },
      {
        "duration": 331,
        "start_time": "2023-10-19T14:53:00.628Z"
      },
      {
        "duration": 351,
        "start_time": "2023-10-19T15:06:06.440Z"
      },
      {
        "duration": 338,
        "start_time": "2023-10-19T15:06:19.328Z"
      },
      {
        "duration": 85,
        "start_time": "2023-10-19T15:07:37.708Z"
      },
      {
        "duration": 11,
        "start_time": "2023-10-19T15:16:40.094Z"
      },
      {
        "duration": 14,
        "start_time": "2023-10-19T15:16:47.584Z"
      },
      {
        "duration": 17,
        "start_time": "2023-10-19T15:17:54.595Z"
      },
      {
        "duration": 39,
        "start_time": "2023-10-19T15:18:15.732Z"
      },
      {
        "duration": 17,
        "start_time": "2023-10-19T15:18:37.921Z"
      },
      {
        "duration": 18,
        "start_time": "2023-10-19T15:21:47.186Z"
      },
      {
        "duration": 13,
        "start_time": "2023-10-19T15:22:52.979Z"
      },
      {
        "duration": 669,
        "start_time": "2023-10-19T15:23:22.178Z"
      },
      {
        "duration": 1697,
        "start_time": "2023-10-19T19:31:12.806Z"
      },
      {
        "duration": 77,
        "start_time": "2023-10-19T19:31:14.505Z"
      },
      {
        "duration": 33,
        "start_time": "2023-10-19T19:31:14.585Z"
      },
      {
        "duration": 74,
        "start_time": "2023-10-19T19:31:14.879Z"
      },
      {
        "duration": 2116,
        "start_time": "2023-10-19T19:31:15.570Z"
      },
      {
        "duration": 29,
        "start_time": "2023-10-19T19:31:17.688Z"
      },
      {
        "duration": 10,
        "start_time": "2023-10-19T19:31:17.719Z"
      },
      {
        "duration": 9,
        "start_time": "2023-10-19T19:31:17.927Z"
      },
      {
        "duration": 6,
        "start_time": "2023-10-19T19:31:18.129Z"
      },
      {
        "duration": 6,
        "start_time": "2023-10-19T19:31:18.362Z"
      },
      {
        "duration": 18,
        "start_time": "2023-10-19T19:31:18.574Z"
      },
      {
        "duration": 25,
        "start_time": "2023-10-19T19:31:19.458Z"
      },
      {
        "duration": 7,
        "start_time": "2023-10-19T19:31:19.963Z"
      },
      {
        "duration": 8,
        "start_time": "2023-10-19T19:31:20.161Z"
      },
      {
        "duration": 60,
        "start_time": "2023-10-19T19:31:20.409Z"
      },
      {
        "duration": 9,
        "start_time": "2023-10-19T19:31:20.632Z"
      },
      {
        "duration": 50,
        "start_time": "2023-10-19T19:31:21.278Z"
      },
      {
        "duration": 49,
        "start_time": "2023-10-19T19:31:21.800Z"
      },
      {
        "duration": 315,
        "start_time": "2023-10-19T19:31:22.261Z"
      },
      {
        "duration": 43,
        "start_time": "2023-10-19T19:31:22.826Z"
      },
      {
        "duration": 206,
        "start_time": "2023-10-19T19:31:24.083Z"
      },
      {
        "duration": 52,
        "start_time": "2023-10-19T19:31:24.699Z"
      },
      {
        "duration": 22,
        "start_time": "2023-10-19T19:31:24.964Z"
      },
      {
        "duration": 9,
        "start_time": "2023-10-19T19:31:25.330Z"
      },
      {
        "duration": 19,
        "start_time": "2023-10-19T19:31:25.844Z"
      },
      {
        "duration": 195,
        "start_time": "2023-10-19T19:31:26.937Z"
      },
      {
        "duration": 255,
        "start_time": "2023-10-19T19:31:57.392Z"
      },
      {
        "duration": 251,
        "start_time": "2023-10-19T19:32:07.888Z"
      },
      {
        "duration": 346,
        "start_time": "2023-10-19T19:32:29.179Z"
      },
      {
        "duration": 133,
        "start_time": "2023-10-19T19:32:43.895Z"
      },
      {
        "duration": 57,
        "start_time": "2023-10-19T19:32:44.843Z"
      },
      {
        "duration": 261,
        "start_time": "2023-10-19T19:32:46.529Z"
      },
      {
        "duration": 35,
        "start_time": "2023-10-19T19:32:47.847Z"
      },
      {
        "duration": 43,
        "start_time": "2023-10-19T19:32:48.434Z"
      },
      {
        "duration": 266,
        "start_time": "2023-10-19T19:32:49.688Z"
      },
      {
        "duration": 46,
        "start_time": "2023-10-19T19:32:51.029Z"
      },
      {
        "duration": 58,
        "start_time": "2023-10-19T19:32:51.519Z"
      },
      {
        "duration": 44,
        "start_time": "2023-10-19T19:32:51.920Z"
      },
      {
        "duration": 253,
        "start_time": "2023-10-19T19:32:52.788Z"
      },
      {
        "duration": 28,
        "start_time": "2023-10-19T19:32:53.970Z"
      },
      {
        "duration": 272,
        "start_time": "2023-10-19T19:32:54.920Z"
      },
      {
        "duration": 7,
        "start_time": "2023-10-19T19:32:56.329Z"
      },
      {
        "duration": 111,
        "start_time": "2023-10-19T19:32:56.762Z"
      },
      {
        "duration": 215,
        "start_time": "2023-10-19T19:32:58.475Z"
      },
      {
        "duration": 372,
        "start_time": "2023-10-19T19:33:00.268Z"
      },
      {
        "duration": 227,
        "start_time": "2023-10-19T19:33:02.387Z"
      },
      {
        "duration": 8,
        "start_time": "2023-10-19T19:33:04.171Z"
      },
      {
        "duration": 234,
        "start_time": "2023-10-19T19:33:05.675Z"
      },
      {
        "duration": 2,
        "start_time": "2023-10-19T19:33:10.646Z"
      },
      {
        "duration": 120,
        "start_time": "2023-10-19T19:34:27.929Z"
      },
      {
        "duration": 138,
        "start_time": "2023-10-19T19:34:50.931Z"
      },
      {
        "duration": 136,
        "start_time": "2023-10-19T19:34:57.712Z"
      },
      {
        "duration": 120,
        "start_time": "2023-10-19T19:35:06.376Z"
      },
      {
        "duration": 243,
        "start_time": "2023-10-19T19:35:35.832Z"
      },
      {
        "duration": 174,
        "start_time": "2023-10-19T19:35:40.087Z"
      },
      {
        "duration": 208,
        "start_time": "2023-10-19T19:35:47.783Z"
      },
      {
        "duration": 210,
        "start_time": "2023-10-19T19:39:11.207Z"
      },
      {
        "duration": 238,
        "start_time": "2023-10-19T19:39:23.520Z"
      },
      {
        "duration": 253,
        "start_time": "2023-10-19T19:39:32.286Z"
      },
      {
        "duration": 212,
        "start_time": "2023-10-19T19:39:45.678Z"
      },
      {
        "duration": 199,
        "start_time": "2023-10-19T19:39:52.140Z"
      },
      {
        "duration": 502,
        "start_time": "2023-10-19T19:40:12.058Z"
      },
      {
        "duration": 388,
        "start_time": "2023-10-19T19:40:35.572Z"
      },
      {
        "duration": 362,
        "start_time": "2023-10-19T19:40:57.974Z"
      },
      {
        "duration": 471,
        "start_time": "2023-10-19T19:42:14.014Z"
      },
      {
        "duration": 412,
        "start_time": "2023-10-19T19:42:22.263Z"
      },
      {
        "duration": 547,
        "start_time": "2023-10-19T19:43:01.675Z"
      },
      {
        "duration": 376,
        "start_time": "2023-10-19T19:43:44.918Z"
      },
      {
        "duration": 323,
        "start_time": "2023-10-19T19:46:02.838Z"
      },
      {
        "duration": 127,
        "start_time": "2023-10-19T19:49:03.740Z"
      },
      {
        "duration": 165,
        "start_time": "2023-10-19T19:49:57.670Z"
      },
      {
        "duration": 31,
        "start_time": "2023-10-19T19:50:16.267Z"
      },
      {
        "duration": 37,
        "start_time": "2023-10-19T19:50:28.185Z"
      },
      {
        "duration": 93,
        "start_time": "2023-10-19T19:51:18.043Z"
      },
      {
        "duration": 155,
        "start_time": "2023-10-19T19:51:33.799Z"
      },
      {
        "duration": 4,
        "start_time": "2023-10-19T19:51:42.876Z"
      },
      {
        "duration": 39,
        "start_time": "2023-10-19T19:51:58.788Z"
      },
      {
        "duration": 37,
        "start_time": "2023-10-19T19:52:17.530Z"
      },
      {
        "duration": 33,
        "start_time": "2023-10-19T19:52:32.520Z"
      },
      {
        "duration": 13,
        "start_time": "2023-10-19T19:53:50.679Z"
      },
      {
        "duration": 21,
        "start_time": "2023-10-19T19:53:57.286Z"
      },
      {
        "duration": 904,
        "start_time": "2023-10-19T19:54:14.245Z"
      },
      {
        "duration": 9,
        "start_time": "2023-10-19T20:00:59.387Z"
      },
      {
        "duration": 13,
        "start_time": "2023-10-19T20:03:42.528Z"
      },
      {
        "duration": 23,
        "start_time": "2023-10-19T20:03:51.047Z"
      },
      {
        "duration": 19,
        "start_time": "2023-10-19T20:04:12.397Z"
      },
      {
        "duration": 18,
        "start_time": "2023-10-19T20:04:45.871Z"
      },
      {
        "duration": 98,
        "start_time": "2023-10-19T20:08:21.391Z"
      },
      {
        "duration": 7,
        "start_time": "2023-10-19T20:12:03.791Z"
      },
      {
        "duration": 12,
        "start_time": "2023-10-19T20:13:05.921Z"
      },
      {
        "duration": 170,
        "start_time": "2023-10-19T20:13:15.625Z"
      },
      {
        "duration": 165,
        "start_time": "2023-10-19T20:13:25.622Z"
      },
      {
        "duration": 130,
        "start_time": "2023-10-19T20:14:17.065Z"
      },
      {
        "duration": 19,
        "start_time": "2023-10-19T20:15:18.020Z"
      },
      {
        "duration": 8,
        "start_time": "2023-10-19T20:15:21.432Z"
      },
      {
        "duration": 19,
        "start_time": "2023-10-19T20:42:31.815Z"
      },
      {
        "duration": 964,
        "start_time": "2023-10-19T20:42:43.117Z"
      },
      {
        "duration": 27,
        "start_time": "2023-10-19T20:44:44.194Z"
      },
      {
        "duration": 1002,
        "start_time": "2023-10-19T20:44:45.695Z"
      },
      {
        "duration": 195,
        "start_time": "2023-10-19T20:50:24.664Z"
      },
      {
        "duration": 100,
        "start_time": "2023-10-19T20:54:42.985Z"
      },
      {
        "duration": 42,
        "start_time": "2023-10-19T20:54:43.348Z"
      },
      {
        "duration": 24,
        "start_time": "2023-10-19T20:54:43.701Z"
      },
      {
        "duration": 93,
        "start_time": "2023-10-19T20:54:44.260Z"
      },
      {
        "duration": 2253,
        "start_time": "2023-10-19T20:54:44.831Z"
      },
      {
        "duration": 39,
        "start_time": "2023-10-19T20:54:47.086Z"
      },
      {
        "duration": 10,
        "start_time": "2023-10-19T20:54:47.127Z"
      },
      {
        "duration": 20,
        "start_time": "2023-10-19T20:54:47.139Z"
      },
      {
        "duration": 13,
        "start_time": "2023-10-19T20:54:47.160Z"
      },
      {
        "duration": 6,
        "start_time": "2023-10-19T20:54:47.175Z"
      },
      {
        "duration": 35,
        "start_time": "2023-10-19T20:54:47.182Z"
      },
      {
        "duration": 23,
        "start_time": "2023-10-19T20:54:47.579Z"
      },
      {
        "duration": 8,
        "start_time": "2023-10-19T20:54:47.975Z"
      },
      {
        "duration": 8,
        "start_time": "2023-10-19T20:54:48.182Z"
      },
      {
        "duration": 69,
        "start_time": "2023-10-19T20:54:48.364Z"
      },
      {
        "duration": 8,
        "start_time": "2023-10-19T20:54:48.565Z"
      },
      {
        "duration": 44,
        "start_time": "2023-10-19T20:54:49.136Z"
      },
      {
        "duration": 47,
        "start_time": "2023-10-19T20:54:49.527Z"
      },
      {
        "duration": 322,
        "start_time": "2023-10-19T20:54:49.917Z"
      },
      {
        "duration": 40,
        "start_time": "2023-10-19T20:54:50.319Z"
      },
      {
        "duration": 202,
        "start_time": "2023-10-19T20:54:51.281Z"
      },
      {
        "duration": 40,
        "start_time": "2023-10-19T20:54:51.661Z"
      },
      {
        "duration": 16,
        "start_time": "2023-10-19T20:54:51.845Z"
      },
      {
        "duration": 10,
        "start_time": "2023-10-19T20:54:52.027Z"
      },
      {
        "duration": 17,
        "start_time": "2023-10-19T20:54:52.229Z"
      },
      {
        "duration": 240,
        "start_time": "2023-10-19T20:54:52.639Z"
      },
      {
        "duration": 128,
        "start_time": "2023-10-19T20:54:53.034Z"
      },
      {
        "duration": 44,
        "start_time": "2023-10-19T20:54:53.247Z"
      },
      {
        "duration": 261,
        "start_time": "2023-10-19T20:54:53.882Z"
      },
      {
        "duration": 35,
        "start_time": "2023-10-19T20:54:54.145Z"
      },
      {
        "duration": 44,
        "start_time": "2023-10-19T20:54:54.218Z"
      },
      {
        "duration": 290,
        "start_time": "2023-10-19T20:54:54.603Z"
      },
      {
        "duration": 52,
        "start_time": "2023-10-19T20:54:54.989Z"
      },
      {
        "duration": 47,
        "start_time": "2023-10-19T20:54:55.184Z"
      },
      {
        "duration": 43,
        "start_time": "2023-10-19T20:54:55.414Z"
      },
      {
        "duration": 216,
        "start_time": "2023-10-19T20:54:55.772Z"
      },
      {
        "duration": 17,
        "start_time": "2023-10-19T20:54:56.183Z"
      },
      {
        "duration": 492,
        "start_time": "2023-10-19T20:54:56.571Z"
      },
      {
        "duration": 7,
        "start_time": "2023-10-19T20:54:57.186Z"
      },
      {
        "duration": 128,
        "start_time": "2023-10-19T20:54:57.386Z"
      },
      {
        "duration": 217,
        "start_time": "2023-10-19T20:54:57.984Z"
      },
      {
        "duration": 260,
        "start_time": "2023-10-19T20:54:58.621Z"
      },
      {
        "duration": 216,
        "start_time": "2023-10-19T20:54:59.250Z"
      },
      {
        "duration": 9,
        "start_time": "2023-10-19T20:54:59.844Z"
      },
      {
        "duration": 271,
        "start_time": "2023-10-19T20:55:00.263Z"
      },
      {
        "duration": 3,
        "start_time": "2023-10-19T20:55:00.676Z"
      },
      {
        "duration": 370,
        "start_time": "2023-10-19T20:55:00.890Z"
      },
      {
        "duration": 347,
        "start_time": "2023-10-19T20:55:01.290Z"
      },
      {
        "duration": 46,
        "start_time": "2023-10-19T20:55:01.875Z"
      },
      {
        "duration": 184,
        "start_time": "2023-10-19T20:55:02.078Z"
      },
      {
        "duration": 1140,
        "start_time": "2023-10-19T20:55:02.282Z"
      },
      {
        "duration": 30,
        "start_time": "2023-10-19T20:55:03.424Z"
      },
      {
        "duration": 48,
        "start_time": "2023-10-19T20:55:03.456Z"
      },
      {
        "duration": 35,
        "start_time": "2023-10-19T20:55:03.512Z"
      },
      {
        "duration": 8,
        "start_time": "2023-10-19T20:55:04.151Z"
      },
      {
        "duration": 165,
        "start_time": "2023-10-19T20:55:04.382Z"
      },
      {
        "duration": 1608,
        "start_time": "2023-10-20T19:46:44.768Z"
      },
      {
        "duration": 46,
        "start_time": "2023-10-20T19:46:46.378Z"
      },
      {
        "duration": 23,
        "start_time": "2023-10-20T19:46:46.429Z"
      },
      {
        "duration": 72,
        "start_time": "2023-10-20T19:46:46.454Z"
      },
      {
        "duration": 2007,
        "start_time": "2023-10-20T19:46:46.528Z"
      },
      {
        "duration": 29,
        "start_time": "2023-10-20T19:46:48.537Z"
      },
      {
        "duration": 15,
        "start_time": "2023-10-20T19:46:48.568Z"
      },
      {
        "duration": 15,
        "start_time": "2023-10-20T19:46:48.584Z"
      },
      {
        "duration": 15,
        "start_time": "2023-10-20T19:46:48.602Z"
      },
      {
        "duration": 17,
        "start_time": "2023-10-20T19:46:48.619Z"
      },
      {
        "duration": 18,
        "start_time": "2023-10-20T19:46:48.638Z"
      },
      {
        "duration": 36,
        "start_time": "2023-10-20T19:46:48.657Z"
      },
      {
        "duration": 7,
        "start_time": "2023-10-20T19:46:48.695Z"
      },
      {
        "duration": 8,
        "start_time": "2023-10-20T19:46:48.704Z"
      },
      {
        "duration": 75,
        "start_time": "2023-10-20T19:46:48.714Z"
      },
      {
        "duration": 9,
        "start_time": "2023-10-20T19:46:48.791Z"
      },
      {
        "duration": 60,
        "start_time": "2023-10-20T19:46:48.802Z"
      },
      {
        "duration": 46,
        "start_time": "2023-10-20T19:46:48.864Z"
      },
      {
        "duration": 333,
        "start_time": "2023-10-20T19:46:48.912Z"
      },
      {
        "duration": 38,
        "start_time": "2023-10-20T19:46:49.246Z"
      },
      {
        "duration": 199,
        "start_time": "2023-10-20T19:46:49.286Z"
      },
      {
        "duration": 39,
        "start_time": "2023-10-20T19:46:49.486Z"
      },
      {
        "duration": 34,
        "start_time": "2023-10-20T19:46:49.527Z"
      },
      {
        "duration": 6,
        "start_time": "2023-10-20T19:46:49.563Z"
      },
      {
        "duration": 20,
        "start_time": "2023-10-20T19:46:49.571Z"
      },
      {
        "duration": 253,
        "start_time": "2023-10-20T19:46:49.593Z"
      },
      {
        "duration": 124,
        "start_time": "2023-10-20T19:46:49.850Z"
      },
      {
        "duration": 43,
        "start_time": "2023-10-20T19:46:49.975Z"
      },
      {
        "duration": 253,
        "start_time": "2023-10-20T19:46:50.020Z"
      },
      {
        "duration": 37,
        "start_time": "2023-10-20T19:46:50.275Z"
      },
      {
        "duration": 144,
        "start_time": "2023-10-20T19:46:50.314Z"
      },
      {
        "duration": 240,
        "start_time": "2023-10-20T19:46:50.460Z"
      },
      {
        "duration": 53,
        "start_time": "2023-10-20T19:46:50.702Z"
      },
      {
        "duration": 37,
        "start_time": "2023-10-20T19:46:50.757Z"
      },
      {
        "duration": 62,
        "start_time": "2023-10-20T19:46:50.795Z"
      },
      {
        "duration": 218,
        "start_time": "2023-10-20T19:46:50.859Z"
      },
      {
        "duration": 17,
        "start_time": "2023-10-20T19:46:51.080Z"
      },
      {
        "duration": 266,
        "start_time": "2023-10-20T19:46:51.098Z"
      },
      {
        "duration": 7,
        "start_time": "2023-10-20T19:46:51.366Z"
      },
      {
        "duration": 118,
        "start_time": "2023-10-20T19:46:51.374Z"
      },
      {
        "duration": 205,
        "start_time": "2023-10-20T19:46:51.494Z"
      },
      {
        "duration": 252,
        "start_time": "2023-10-20T19:46:51.701Z"
      },
      {
        "duration": 210,
        "start_time": "2023-10-20T19:46:51.955Z"
      },
      {
        "duration": 8,
        "start_time": "2023-10-20T19:46:52.167Z"
      },
      {
        "duration": 263,
        "start_time": "2023-10-20T19:46:52.176Z"
      },
      {
        "duration": 2,
        "start_time": "2023-10-20T19:46:52.443Z"
      },
      {
        "duration": 450,
        "start_time": "2023-10-20T19:46:52.447Z"
      },
      {
        "duration": 315,
        "start_time": "2023-10-20T19:46:52.899Z"
      },
      {
        "duration": 45,
        "start_time": "2023-10-20T19:46:53.216Z"
      },
      {
        "duration": 21,
        "start_time": "2023-10-20T19:46:53.263Z"
      },
      {
        "duration": 1047,
        "start_time": "2023-10-20T19:46:53.286Z"
      },
      {
        "duration": 32,
        "start_time": "2023-10-20T19:46:54.335Z"
      },
      {
        "duration": 7,
        "start_time": "2023-10-20T19:46:54.369Z"
      },
      {
        "duration": 40,
        "start_time": "2023-10-20T19:46:54.377Z"
      },
      {
        "duration": 7,
        "start_time": "2023-10-20T19:46:54.420Z"
      },
      {
        "duration": 207,
        "start_time": "2023-10-20T19:46:54.443Z"
      },
      {
        "duration": 90,
        "start_time": "2023-10-20T19:47:30.602Z"
      },
      {
        "duration": 2634,
        "start_time": "2023-10-20T19:48:01.404Z"
      },
      {
        "duration": 94,
        "start_time": "2023-10-20T19:48:28.026Z"
      },
      {
        "duration": 71,
        "start_time": "2023-10-20T19:53:59.686Z"
      },
      {
        "duration": 74,
        "start_time": "2023-10-20T19:58:09.071Z"
      },
      {
        "duration": 215,
        "start_time": "2023-10-20T19:58:37.345Z"
      },
      {
        "duration": 238,
        "start_time": "2023-10-20T19:58:52.556Z"
      },
      {
        "duration": 302,
        "start_time": "2023-10-20T19:59:12.341Z"
      },
      {
        "duration": 76,
        "start_time": "2023-10-20T20:00:15.347Z"
      },
      {
        "duration": 77,
        "start_time": "2023-10-20T20:01:15.513Z"
      },
      {
        "duration": 87,
        "start_time": "2023-10-20T20:01:23.816Z"
      },
      {
        "duration": 77,
        "start_time": "2023-10-20T20:03:22.133Z"
      },
      {
        "duration": 1380,
        "start_time": "2023-10-20T20:03:33.321Z"
      },
      {
        "duration": 43,
        "start_time": "2023-10-20T20:03:34.702Z"
      },
      {
        "duration": 15,
        "start_time": "2023-10-20T20:03:34.747Z"
      },
      {
        "duration": 84,
        "start_time": "2023-10-20T20:03:34.764Z"
      },
      {
        "duration": 1966,
        "start_time": "2023-10-20T20:03:34.849Z"
      },
      {
        "duration": 28,
        "start_time": "2023-10-20T20:03:36.817Z"
      },
      {
        "duration": 10,
        "start_time": "2023-10-20T20:03:36.847Z"
      },
      {
        "duration": 16,
        "start_time": "2023-10-20T20:03:36.858Z"
      },
      {
        "duration": 20,
        "start_time": "2023-10-20T20:03:36.876Z"
      },
      {
        "duration": 18,
        "start_time": "2023-10-20T20:03:36.899Z"
      },
      {
        "duration": 20,
        "start_time": "2023-10-20T20:03:36.919Z"
      },
      {
        "duration": 24,
        "start_time": "2023-10-20T20:03:36.940Z"
      },
      {
        "duration": 7,
        "start_time": "2023-10-20T20:03:36.966Z"
      },
      {
        "duration": 7,
        "start_time": "2023-10-20T20:03:36.975Z"
      },
      {
        "duration": 90,
        "start_time": "2023-10-20T20:03:36.983Z"
      },
      {
        "duration": 9,
        "start_time": "2023-10-20T20:03:37.076Z"
      },
      {
        "duration": 71,
        "start_time": "2023-10-20T20:03:37.087Z"
      },
      {
        "duration": 59,
        "start_time": "2023-10-20T20:03:37.160Z"
      },
      {
        "duration": 331,
        "start_time": "2023-10-20T20:03:37.221Z"
      },
      {
        "duration": 42,
        "start_time": "2023-10-20T20:03:37.554Z"
      },
      {
        "duration": 207,
        "start_time": "2023-10-20T20:03:37.598Z"
      },
      {
        "duration": 50,
        "start_time": "2023-10-20T20:03:37.807Z"
      },
      {
        "duration": 16,
        "start_time": "2023-10-20T20:03:37.859Z"
      },
      {
        "duration": 16,
        "start_time": "2023-10-20T20:03:37.877Z"
      },
      {
        "duration": 39,
        "start_time": "2023-10-20T20:03:37.895Z"
      },
      {
        "duration": 226,
        "start_time": "2023-10-20T20:03:37.935Z"
      },
      {
        "duration": 137,
        "start_time": "2023-10-20T20:03:38.163Z"
      },
      {
        "duration": 49,
        "start_time": "2023-10-20T20:03:38.304Z"
      },
      {
        "duration": 251,
        "start_time": "2023-10-20T20:03:38.355Z"
      },
      {
        "duration": 47,
        "start_time": "2023-10-20T20:03:38.607Z"
      },
      {
        "duration": 149,
        "start_time": "2023-10-20T20:03:38.655Z"
      },
      {
        "duration": 235,
        "start_time": "2023-10-20T20:03:38.806Z"
      },
      {
        "duration": 44,
        "start_time": "2023-10-20T20:03:39.043Z"
      },
      {
        "duration": 77,
        "start_time": "2023-10-20T20:03:39.088Z"
      },
      {
        "duration": 40,
        "start_time": "2023-10-20T20:03:39.168Z"
      },
      {
        "duration": 216,
        "start_time": "2023-10-20T20:03:39.209Z"
      },
      {
        "duration": 27,
        "start_time": "2023-10-20T20:03:39.426Z"
      },
      {
        "duration": 249,
        "start_time": "2023-10-20T20:03:39.454Z"
      },
      {
        "duration": 7,
        "start_time": "2023-10-20T20:03:39.704Z"
      },
      {
        "duration": 118,
        "start_time": "2023-10-20T20:03:39.713Z"
      },
      {
        "duration": 204,
        "start_time": "2023-10-20T20:03:39.833Z"
      },
      {
        "duration": 253,
        "start_time": "2023-10-20T20:03:40.039Z"
      },
      {
        "duration": 206,
        "start_time": "2023-10-20T20:03:40.294Z"
      },
      {
        "duration": 8,
        "start_time": "2023-10-20T20:03:40.501Z"
      },
      {
        "duration": 274,
        "start_time": "2023-10-20T20:03:40.511Z"
      },
      {
        "duration": 3,
        "start_time": "2023-10-20T20:03:40.787Z"
      },
      {
        "duration": 427,
        "start_time": "2023-10-20T20:03:40.791Z"
      },
      {
        "duration": 317,
        "start_time": "2023-10-20T20:03:41.220Z"
      },
      {
        "duration": 37,
        "start_time": "2023-10-20T20:03:41.543Z"
      },
      {
        "duration": 21,
        "start_time": "2023-10-20T20:03:41.582Z"
      },
      {
        "duration": 1001,
        "start_time": "2023-10-20T20:03:41.605Z"
      },
      {
        "duration": 37,
        "start_time": "2023-10-20T20:03:42.608Z"
      },
      {
        "duration": 7,
        "start_time": "2023-10-20T20:03:42.646Z"
      },
      {
        "duration": 84,
        "start_time": "2023-10-20T20:03:42.655Z"
      },
      {
        "duration": 0,
        "start_time": "2023-10-20T20:03:42.740Z"
      },
      {
        "duration": 0,
        "start_time": "2023-10-20T20:03:42.742Z"
      },
      {
        "duration": 98,
        "start_time": "2023-10-20T20:05:44.194Z"
      }
    ],
    "kernelspec": {
      "display_name": "Python 3 (ipykernel)",
      "language": "python",
      "name": "python3"
    },
    "language_info": {
      "codemirror_mode": {
        "name": "ipython",
        "version": 3
      },
      "file_extension": ".py",
      "mimetype": "text/x-python",
      "name": "python",
      "nbconvert_exporter": "python",
      "pygments_lexer": "ipython3",
      "version": "3.9.5"
    },
    "toc": {
      "base_numbering": 1,
      "nav_menu": {},
      "number_sections": true,
      "sideBar": true,
      "skip_h1_title": true,
      "title_cell": "Table of Contents",
      "title_sidebar": "Contents",
      "toc_cell": false,
      "toc_position": {},
      "toc_section_display": true,
      "toc_window_display": false
    },
    "colab": {
      "provenance": [],
      "include_colab_link": true
    }
  },
  "nbformat": 4,
  "nbformat_minor": 0
}